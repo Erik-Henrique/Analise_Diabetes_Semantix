{
  "nbformat": 4,
  "nbformat_minor": 0,
  "metadata": {
    "colab": {
      "provenance": [],
      "collapsed_sections": [
        "UtVojsw240WZ",
        "VEUMkNRb5QHh",
        "crJlZ7TI5b84",
        "d1L-2rfGDIdK",
        "E4tHBufiFsEC",
        "vTslMBy-FG_y",
        "12XN7o7_Zjm1",
        "xGJPxW3_KgWy",
        "bgiXKYA6avlc",
        "4eJPx35IazxM",
        "sMmaD1Hva5Jk",
        "-FR_Y6C9asmk",
        "jIzNWu28bcNE",
        "-9Fr5cU6lDjq",
        "Q46exz-OoN45",
        "u2JEgAnmtnbI",
        "36j6mI1CuOpo",
        "h5U-bCNLvDDH",
        "Rzw2220P2GCv"
      ]
    },
    "kernelspec": {
      "name": "python3",
      "display_name": "Python 3"
    },
    "language_info": {
      "name": "python"
    },
    "widgets": {
      "application/vnd.jupyter.widget-state+json": {
        "5a5355709dee4febb6da18e917a6628e": {
          "model_module": "@jupyter-widgets/controls",
          "model_name": "HBoxModel",
          "model_module_version": "1.5.0",
          "state": {
            "_dom_classes": [],
            "_model_module": "@jupyter-widgets/controls",
            "_model_module_version": "1.5.0",
            "_model_name": "HBoxModel",
            "_view_count": null,
            "_view_module": "@jupyter-widgets/controls",
            "_view_module_version": "1.5.0",
            "_view_name": "HBoxView",
            "box_style": "",
            "children": [
              "IPY_MODEL_c4cb8bbb13ec4b08ab8e5cd0520630ad",
              "IPY_MODEL_3fff10f3a3f34ecbb5282a04163b19f6",
              "IPY_MODEL_7a350177141d4866af1af582ff2c0ca6"
            ],
            "layout": "IPY_MODEL_9bfb01c190a248338d208b6a046e1e75"
          }
        },
        "c4cb8bbb13ec4b08ab8e5cd0520630ad": {
          "model_module": "@jupyter-widgets/controls",
          "model_name": "HTMLModel",
          "model_module_version": "1.5.0",
          "state": {
            "_dom_classes": [],
            "_model_module": "@jupyter-widgets/controls",
            "_model_module_version": "1.5.0",
            "_model_name": "HTMLModel",
            "_view_count": null,
            "_view_module": "@jupyter-widgets/controls",
            "_view_module_version": "1.5.0",
            "_view_name": "HTMLView",
            "description": "",
            "description_tooltip": null,
            "layout": "IPY_MODEL_54568539e2034d0896d8333cd4c956af",
            "placeholder": "​",
            "style": "IPY_MODEL_858a48e06b774dfaa8a5d622e4892e3a",
            "value": "Processing: 100%"
          }
        },
        "3fff10f3a3f34ecbb5282a04163b19f6": {
          "model_module": "@jupyter-widgets/controls",
          "model_name": "FloatProgressModel",
          "model_module_version": "1.5.0",
          "state": {
            "_dom_classes": [],
            "_model_module": "@jupyter-widgets/controls",
            "_model_module_version": "1.5.0",
            "_model_name": "FloatProgressModel",
            "_view_count": null,
            "_view_module": "@jupyter-widgets/controls",
            "_view_module_version": "1.5.0",
            "_view_name": "ProgressView",
            "bar_style": "",
            "description": "",
            "description_tooltip": null,
            "layout": "IPY_MODEL_3fa91a76b76c47d8b05cc39be2ce5383",
            "max": 69,
            "min": 0,
            "orientation": "horizontal",
            "style": "IPY_MODEL_c12c6c0598fd442297a77d8632840973",
            "value": 69
          }
        },
        "7a350177141d4866af1af582ff2c0ca6": {
          "model_module": "@jupyter-widgets/controls",
          "model_name": "HTMLModel",
          "model_module_version": "1.5.0",
          "state": {
            "_dom_classes": [],
            "_model_module": "@jupyter-widgets/controls",
            "_model_module_version": "1.5.0",
            "_model_name": "HTMLModel",
            "_view_count": null,
            "_view_module": "@jupyter-widgets/controls",
            "_view_module_version": "1.5.0",
            "_view_name": "HTMLView",
            "description": "",
            "description_tooltip": null,
            "layout": "IPY_MODEL_e4d4a98a21464559be07d825ad9ba249",
            "placeholder": "​",
            "style": "IPY_MODEL_81322edff01a41de83f78873bc436320",
            "value": " 69/69 [02:20&lt;00:00,  3.25s/it]"
          }
        },
        "9bfb01c190a248338d208b6a046e1e75": {
          "model_module": "@jupyter-widgets/base",
          "model_name": "LayoutModel",
          "model_module_version": "1.2.0",
          "state": {
            "_model_module": "@jupyter-widgets/base",
            "_model_module_version": "1.2.0",
            "_model_name": "LayoutModel",
            "_view_count": null,
            "_view_module": "@jupyter-widgets/base",
            "_view_module_version": "1.2.0",
            "_view_name": "LayoutView",
            "align_content": null,
            "align_items": null,
            "align_self": null,
            "border": null,
            "bottom": null,
            "display": null,
            "flex": null,
            "flex_flow": null,
            "grid_area": null,
            "grid_auto_columns": null,
            "grid_auto_flow": null,
            "grid_auto_rows": null,
            "grid_column": null,
            "grid_gap": null,
            "grid_row": null,
            "grid_template_areas": null,
            "grid_template_columns": null,
            "grid_template_rows": null,
            "height": null,
            "justify_content": null,
            "justify_items": null,
            "left": null,
            "margin": null,
            "max_height": null,
            "max_width": null,
            "min_height": null,
            "min_width": null,
            "object_fit": null,
            "object_position": null,
            "order": null,
            "overflow": null,
            "overflow_x": null,
            "overflow_y": null,
            "padding": null,
            "right": null,
            "top": null,
            "visibility": "hidden",
            "width": null
          }
        },
        "54568539e2034d0896d8333cd4c956af": {
          "model_module": "@jupyter-widgets/base",
          "model_name": "LayoutModel",
          "model_module_version": "1.2.0",
          "state": {
            "_model_module": "@jupyter-widgets/base",
            "_model_module_version": "1.2.0",
            "_model_name": "LayoutModel",
            "_view_count": null,
            "_view_module": "@jupyter-widgets/base",
            "_view_module_version": "1.2.0",
            "_view_name": "LayoutView",
            "align_content": null,
            "align_items": null,
            "align_self": null,
            "border": null,
            "bottom": null,
            "display": null,
            "flex": null,
            "flex_flow": null,
            "grid_area": null,
            "grid_auto_columns": null,
            "grid_auto_flow": null,
            "grid_auto_rows": null,
            "grid_column": null,
            "grid_gap": null,
            "grid_row": null,
            "grid_template_areas": null,
            "grid_template_columns": null,
            "grid_template_rows": null,
            "height": null,
            "justify_content": null,
            "justify_items": null,
            "left": null,
            "margin": null,
            "max_height": null,
            "max_width": null,
            "min_height": null,
            "min_width": null,
            "object_fit": null,
            "object_position": null,
            "order": null,
            "overflow": null,
            "overflow_x": null,
            "overflow_y": null,
            "padding": null,
            "right": null,
            "top": null,
            "visibility": null,
            "width": null
          }
        },
        "858a48e06b774dfaa8a5d622e4892e3a": {
          "model_module": "@jupyter-widgets/controls",
          "model_name": "DescriptionStyleModel",
          "model_module_version": "1.5.0",
          "state": {
            "_model_module": "@jupyter-widgets/controls",
            "_model_module_version": "1.5.0",
            "_model_name": "DescriptionStyleModel",
            "_view_count": null,
            "_view_module": "@jupyter-widgets/base",
            "_view_module_version": "1.2.0",
            "_view_name": "StyleView",
            "description_width": ""
          }
        },
        "3fa91a76b76c47d8b05cc39be2ce5383": {
          "model_module": "@jupyter-widgets/base",
          "model_name": "LayoutModel",
          "model_module_version": "1.2.0",
          "state": {
            "_model_module": "@jupyter-widgets/base",
            "_model_module_version": "1.2.0",
            "_model_name": "LayoutModel",
            "_view_count": null,
            "_view_module": "@jupyter-widgets/base",
            "_view_module_version": "1.2.0",
            "_view_name": "LayoutView",
            "align_content": null,
            "align_items": null,
            "align_self": null,
            "border": null,
            "bottom": null,
            "display": null,
            "flex": null,
            "flex_flow": null,
            "grid_area": null,
            "grid_auto_columns": null,
            "grid_auto_flow": null,
            "grid_auto_rows": null,
            "grid_column": null,
            "grid_gap": null,
            "grid_row": null,
            "grid_template_areas": null,
            "grid_template_columns": null,
            "grid_template_rows": null,
            "height": null,
            "justify_content": null,
            "justify_items": null,
            "left": null,
            "margin": null,
            "max_height": null,
            "max_width": null,
            "min_height": null,
            "min_width": null,
            "object_fit": null,
            "object_position": null,
            "order": null,
            "overflow": null,
            "overflow_x": null,
            "overflow_y": null,
            "padding": null,
            "right": null,
            "top": null,
            "visibility": null,
            "width": null
          }
        },
        "c12c6c0598fd442297a77d8632840973": {
          "model_module": "@jupyter-widgets/controls",
          "model_name": "ProgressStyleModel",
          "model_module_version": "1.5.0",
          "state": {
            "_model_module": "@jupyter-widgets/controls",
            "_model_module_version": "1.5.0",
            "_model_name": "ProgressStyleModel",
            "_view_count": null,
            "_view_module": "@jupyter-widgets/base",
            "_view_module_version": "1.2.0",
            "_view_name": "StyleView",
            "bar_color": null,
            "description_width": ""
          }
        },
        "e4d4a98a21464559be07d825ad9ba249": {
          "model_module": "@jupyter-widgets/base",
          "model_name": "LayoutModel",
          "model_module_version": "1.2.0",
          "state": {
            "_model_module": "@jupyter-widgets/base",
            "_model_module_version": "1.2.0",
            "_model_name": "LayoutModel",
            "_view_count": null,
            "_view_module": "@jupyter-widgets/base",
            "_view_module_version": "1.2.0",
            "_view_name": "LayoutView",
            "align_content": null,
            "align_items": null,
            "align_self": null,
            "border": null,
            "bottom": null,
            "display": null,
            "flex": null,
            "flex_flow": null,
            "grid_area": null,
            "grid_auto_columns": null,
            "grid_auto_flow": null,
            "grid_auto_rows": null,
            "grid_column": null,
            "grid_gap": null,
            "grid_row": null,
            "grid_template_areas": null,
            "grid_template_columns": null,
            "grid_template_rows": null,
            "height": null,
            "justify_content": null,
            "justify_items": null,
            "left": null,
            "margin": null,
            "max_height": null,
            "max_width": null,
            "min_height": null,
            "min_width": null,
            "object_fit": null,
            "object_position": null,
            "order": null,
            "overflow": null,
            "overflow_x": null,
            "overflow_y": null,
            "padding": null,
            "right": null,
            "top": null,
            "visibility": null,
            "width": null
          }
        },
        "81322edff01a41de83f78873bc436320": {
          "model_module": "@jupyter-widgets/controls",
          "model_name": "DescriptionStyleModel",
          "model_module_version": "1.5.0",
          "state": {
            "_model_module": "@jupyter-widgets/controls",
            "_model_module_version": "1.5.0",
            "_model_name": "DescriptionStyleModel",
            "_view_count": null,
            "_view_module": "@jupyter-widgets/base",
            "_view_module_version": "1.2.0",
            "_view_name": "StyleView",
            "description_width": ""
          }
        },
        "6fabe2f2cedf4273a3d6559e9bfef61a": {
          "model_module": "@jupyter-widgets/controls",
          "model_name": "HBoxModel",
          "model_module_version": "1.5.0",
          "state": {
            "_dom_classes": [],
            "_model_module": "@jupyter-widgets/controls",
            "_model_module_version": "1.5.0",
            "_model_name": "HBoxModel",
            "_view_count": null,
            "_view_module": "@jupyter-widgets/controls",
            "_view_module_version": "1.5.0",
            "_view_name": "HBoxView",
            "box_style": "",
            "children": [
              "IPY_MODEL_d9ac34d6229f4a0a9dc38a6bc14bf898",
              "IPY_MODEL_e5d3cc38acd749e2845c30bf652a4c40",
              "IPY_MODEL_927020d7d4804609b83768077200e8db"
            ],
            "layout": "IPY_MODEL_56242c6bc34a4bdd97acd945c8f99e72"
          }
        },
        "d9ac34d6229f4a0a9dc38a6bc14bf898": {
          "model_module": "@jupyter-widgets/controls",
          "model_name": "HTMLModel",
          "model_module_version": "1.5.0",
          "state": {
            "_dom_classes": [],
            "_model_module": "@jupyter-widgets/controls",
            "_model_module_version": "1.5.0",
            "_model_name": "HTMLModel",
            "_view_count": null,
            "_view_module": "@jupyter-widgets/controls",
            "_view_module_version": "1.5.0",
            "_view_name": "HTMLView",
            "description": "",
            "description_tooltip": null,
            "layout": "IPY_MODEL_54b63cc652934af1809eeb455639c5ee",
            "placeholder": "​",
            "style": "IPY_MODEL_8cedce6a406d4576ada452393db2757c",
            "value": "Processing: 100%"
          }
        },
        "e5d3cc38acd749e2845c30bf652a4c40": {
          "model_module": "@jupyter-widgets/controls",
          "model_name": "FloatProgressModel",
          "model_module_version": "1.5.0",
          "state": {
            "_dom_classes": [],
            "_model_module": "@jupyter-widgets/controls",
            "_model_module_version": "1.5.0",
            "_model_name": "FloatProgressModel",
            "_view_count": null,
            "_view_module": "@jupyter-widgets/controls",
            "_view_module_version": "1.5.0",
            "_view_name": "ProgressView",
            "bar_style": "",
            "description": "",
            "description_tooltip": null,
            "layout": "IPY_MODEL_d71eb09be9f946fb83c378546b85500e",
            "max": 7,
            "min": 0,
            "orientation": "horizontal",
            "style": "IPY_MODEL_09a7e8c12ca44123b6ab7eac7c24de2b",
            "value": 7
          }
        },
        "927020d7d4804609b83768077200e8db": {
          "model_module": "@jupyter-widgets/controls",
          "model_name": "HTMLModel",
          "model_module_version": "1.5.0",
          "state": {
            "_dom_classes": [],
            "_model_module": "@jupyter-widgets/controls",
            "_model_module_version": "1.5.0",
            "_model_name": "HTMLModel",
            "_view_count": null,
            "_view_module": "@jupyter-widgets/controls",
            "_view_module_version": "1.5.0",
            "_view_name": "HTMLView",
            "description": "",
            "description_tooltip": null,
            "layout": "IPY_MODEL_11294beff3ea4ceca9cf402c41f1e34f",
            "placeholder": "​",
            "style": "IPY_MODEL_da59786dbd3c49fd8031eb933aaa9e3f",
            "value": " 7/7 [04:08&lt;00:00, 26.97s/it]"
          }
        },
        "56242c6bc34a4bdd97acd945c8f99e72": {
          "model_module": "@jupyter-widgets/base",
          "model_name": "LayoutModel",
          "model_module_version": "1.2.0",
          "state": {
            "_model_module": "@jupyter-widgets/base",
            "_model_module_version": "1.2.0",
            "_model_name": "LayoutModel",
            "_view_count": null,
            "_view_module": "@jupyter-widgets/base",
            "_view_module_version": "1.2.0",
            "_view_name": "LayoutView",
            "align_content": null,
            "align_items": null,
            "align_self": null,
            "border": null,
            "bottom": null,
            "display": null,
            "flex": null,
            "flex_flow": null,
            "grid_area": null,
            "grid_auto_columns": null,
            "grid_auto_flow": null,
            "grid_auto_rows": null,
            "grid_column": null,
            "grid_gap": null,
            "grid_row": null,
            "grid_template_areas": null,
            "grid_template_columns": null,
            "grid_template_rows": null,
            "height": null,
            "justify_content": null,
            "justify_items": null,
            "left": null,
            "margin": null,
            "max_height": null,
            "max_width": null,
            "min_height": null,
            "min_width": null,
            "object_fit": null,
            "object_position": null,
            "order": null,
            "overflow": null,
            "overflow_x": null,
            "overflow_y": null,
            "padding": null,
            "right": null,
            "top": null,
            "visibility": "hidden",
            "width": null
          }
        },
        "54b63cc652934af1809eeb455639c5ee": {
          "model_module": "@jupyter-widgets/base",
          "model_name": "LayoutModel",
          "model_module_version": "1.2.0",
          "state": {
            "_model_module": "@jupyter-widgets/base",
            "_model_module_version": "1.2.0",
            "_model_name": "LayoutModel",
            "_view_count": null,
            "_view_module": "@jupyter-widgets/base",
            "_view_module_version": "1.2.0",
            "_view_name": "LayoutView",
            "align_content": null,
            "align_items": null,
            "align_self": null,
            "border": null,
            "bottom": null,
            "display": null,
            "flex": null,
            "flex_flow": null,
            "grid_area": null,
            "grid_auto_columns": null,
            "grid_auto_flow": null,
            "grid_auto_rows": null,
            "grid_column": null,
            "grid_gap": null,
            "grid_row": null,
            "grid_template_areas": null,
            "grid_template_columns": null,
            "grid_template_rows": null,
            "height": null,
            "justify_content": null,
            "justify_items": null,
            "left": null,
            "margin": null,
            "max_height": null,
            "max_width": null,
            "min_height": null,
            "min_width": null,
            "object_fit": null,
            "object_position": null,
            "order": null,
            "overflow": null,
            "overflow_x": null,
            "overflow_y": null,
            "padding": null,
            "right": null,
            "top": null,
            "visibility": null,
            "width": null
          }
        },
        "8cedce6a406d4576ada452393db2757c": {
          "model_module": "@jupyter-widgets/controls",
          "model_name": "DescriptionStyleModel",
          "model_module_version": "1.5.0",
          "state": {
            "_model_module": "@jupyter-widgets/controls",
            "_model_module_version": "1.5.0",
            "_model_name": "DescriptionStyleModel",
            "_view_count": null,
            "_view_module": "@jupyter-widgets/base",
            "_view_module_version": "1.2.0",
            "_view_name": "StyleView",
            "description_width": ""
          }
        },
        "d71eb09be9f946fb83c378546b85500e": {
          "model_module": "@jupyter-widgets/base",
          "model_name": "LayoutModel",
          "model_module_version": "1.2.0",
          "state": {
            "_model_module": "@jupyter-widgets/base",
            "_model_module_version": "1.2.0",
            "_model_name": "LayoutModel",
            "_view_count": null,
            "_view_module": "@jupyter-widgets/base",
            "_view_module_version": "1.2.0",
            "_view_name": "LayoutView",
            "align_content": null,
            "align_items": null,
            "align_self": null,
            "border": null,
            "bottom": null,
            "display": null,
            "flex": null,
            "flex_flow": null,
            "grid_area": null,
            "grid_auto_columns": null,
            "grid_auto_flow": null,
            "grid_auto_rows": null,
            "grid_column": null,
            "grid_gap": null,
            "grid_row": null,
            "grid_template_areas": null,
            "grid_template_columns": null,
            "grid_template_rows": null,
            "height": null,
            "justify_content": null,
            "justify_items": null,
            "left": null,
            "margin": null,
            "max_height": null,
            "max_width": null,
            "min_height": null,
            "min_width": null,
            "object_fit": null,
            "object_position": null,
            "order": null,
            "overflow": null,
            "overflow_x": null,
            "overflow_y": null,
            "padding": null,
            "right": null,
            "top": null,
            "visibility": null,
            "width": null
          }
        },
        "09a7e8c12ca44123b6ab7eac7c24de2b": {
          "model_module": "@jupyter-widgets/controls",
          "model_name": "ProgressStyleModel",
          "model_module_version": "1.5.0",
          "state": {
            "_model_module": "@jupyter-widgets/controls",
            "_model_module_version": "1.5.0",
            "_model_name": "ProgressStyleModel",
            "_view_count": null,
            "_view_module": "@jupyter-widgets/base",
            "_view_module_version": "1.2.0",
            "_view_name": "StyleView",
            "bar_color": null,
            "description_width": ""
          }
        },
        "11294beff3ea4ceca9cf402c41f1e34f": {
          "model_module": "@jupyter-widgets/base",
          "model_name": "LayoutModel",
          "model_module_version": "1.2.0",
          "state": {
            "_model_module": "@jupyter-widgets/base",
            "_model_module_version": "1.2.0",
            "_model_name": "LayoutModel",
            "_view_count": null,
            "_view_module": "@jupyter-widgets/base",
            "_view_module_version": "1.2.0",
            "_view_name": "LayoutView",
            "align_content": null,
            "align_items": null,
            "align_self": null,
            "border": null,
            "bottom": null,
            "display": null,
            "flex": null,
            "flex_flow": null,
            "grid_area": null,
            "grid_auto_columns": null,
            "grid_auto_flow": null,
            "grid_auto_rows": null,
            "grid_column": null,
            "grid_gap": null,
            "grid_row": null,
            "grid_template_areas": null,
            "grid_template_columns": null,
            "grid_template_rows": null,
            "height": null,
            "justify_content": null,
            "justify_items": null,
            "left": null,
            "margin": null,
            "max_height": null,
            "max_width": null,
            "min_height": null,
            "min_width": null,
            "object_fit": null,
            "object_position": null,
            "order": null,
            "overflow": null,
            "overflow_x": null,
            "overflow_y": null,
            "padding": null,
            "right": null,
            "top": null,
            "visibility": null,
            "width": null
          }
        },
        "da59786dbd3c49fd8031eb933aaa9e3f": {
          "model_module": "@jupyter-widgets/controls",
          "model_name": "DescriptionStyleModel",
          "model_module_version": "1.5.0",
          "state": {
            "_model_module": "@jupyter-widgets/controls",
            "_model_module_version": "1.5.0",
            "_model_name": "DescriptionStyleModel",
            "_view_count": null,
            "_view_module": "@jupyter-widgets/base",
            "_view_module_version": "1.2.0",
            "_view_name": "StyleView",
            "description_width": ""
          }
        }
      }
    }
  },
  "cells": [
    {
      "cell_type": "markdown",
      "source": [
        "# Projeto para detecção de diabetes - SEMANTIX\n",
        "### O que é a diabetes?\n",
        "Diabetes é uma síndrome metabólica de origem múltipla, decorrente da falta de insulina e/ou da incapacidade da insulina exercer adequadamente seus efeitos, caracterizando altas taxa de açúcar no sangue (hiperglicemia) de forma permanente. A insulina é produzida pelo pâncreas, sendo responsável pela manutenção do metabolismo (quebra da glicose) para permitir que tenhamos energia para manter o organismo em funcionamento.\n",
        "\n",
        "O tratamento da diabetes envolve mudanças no estilo de vida, como uma dieta saudável e a prática de exercício físico. Dependendo do caso, também podem ser necessários medicamentos, como antidiabéticos orais ou insulina.\n",
        "\n",
        "Para prevenir o diabetes, é importante: Manter o peso adequado, Não fumar, Controlar a pressão arterial, Evitar medicamentos que possam agredir o pâncreas, Praticar atividade física regularmente.\n",
        "\n",
        "![img](https://angioclinicabrasilia.com/wp-content/uploads/2023/09/relacao-entre-diabetes-e-doencas-vasculares.jpg)\n"
      ],
      "metadata": {
        "id": "xGWdNWme7agR"
      }
    },
    {
      "cell_type": "code",
      "execution_count": 83,
      "metadata": {
        "id": "yPgPNE-2zR3f"
      },
      "outputs": [],
      "source": [
        "import pandas as pd\n",
        "import seaborn as sns\n",
        "import matplotlib.pyplot as plt\n",
        "import numpy as np\n",
        "from imblearn.under_sampling import RandomUnderSampler\n",
        "!pip install pycaret[full]"
      ]
    },
    {
      "cell_type": "code",
      "source": [
        "df = pd.read_csv('https://raw.githubusercontent.com/Erik-Henrique/Analise_Diabetes_Semantix/refs/heads/main/diabetes_prediction_dataset.csv')"
      ],
      "metadata": {
        "id": "qmJbQd0Z00Sp"
      },
      "execution_count": 84,
      "outputs": []
    },
    {
      "cell_type": "markdown",
      "source": [
        "### Variável resposta e variáveis explicativas"
      ],
      "metadata": {
        "id": "UtVojsw240WZ"
      }
    },
    {
      "cell_type": "code",
      "source": [
        "df.dtypes"
      ],
      "metadata": {
        "colab": {
          "base_uri": "https://localhost:8080/",
          "height": 367
        },
        "id": "xojca7sf4yuh",
        "outputId": "595bcef1-176a-4edf-98fd-22ebffc1b2c9"
      },
      "execution_count": 85,
      "outputs": [
        {
          "output_type": "execute_result",
          "data": {
            "text/plain": [
              "genero                   object\n",
              "idade                   float64\n",
              "hipertenso                int64\n",
              "problema_coracao          int64\n",
              "fumante                  object\n",
              "imc                     float64\n",
              "nivel_hemoglobinaA1c    float64\n",
              "nivel_glicose_sangue      int64\n",
              "diabete                   int64\n",
              "dtype: object"
            ],
            "text/html": [
              "<div>\n",
              "<style scoped>\n",
              "    .dataframe tbody tr th:only-of-type {\n",
              "        vertical-align: middle;\n",
              "    }\n",
              "\n",
              "    .dataframe tbody tr th {\n",
              "        vertical-align: top;\n",
              "    }\n",
              "\n",
              "    .dataframe thead th {\n",
              "        text-align: right;\n",
              "    }\n",
              "</style>\n",
              "<table border=\"1\" class=\"dataframe\">\n",
              "  <thead>\n",
              "    <tr style=\"text-align: right;\">\n",
              "      <th></th>\n",
              "      <th>0</th>\n",
              "    </tr>\n",
              "  </thead>\n",
              "  <tbody>\n",
              "    <tr>\n",
              "      <th>genero</th>\n",
              "      <td>object</td>\n",
              "    </tr>\n",
              "    <tr>\n",
              "      <th>idade</th>\n",
              "      <td>float64</td>\n",
              "    </tr>\n",
              "    <tr>\n",
              "      <th>hipertenso</th>\n",
              "      <td>int64</td>\n",
              "    </tr>\n",
              "    <tr>\n",
              "      <th>problema_coracao</th>\n",
              "      <td>int64</td>\n",
              "    </tr>\n",
              "    <tr>\n",
              "      <th>fumante</th>\n",
              "      <td>object</td>\n",
              "    </tr>\n",
              "    <tr>\n",
              "      <th>imc</th>\n",
              "      <td>float64</td>\n",
              "    </tr>\n",
              "    <tr>\n",
              "      <th>nivel_hemoglobinaA1c</th>\n",
              "      <td>float64</td>\n",
              "    </tr>\n",
              "    <tr>\n",
              "      <th>nivel_glicose_sangue</th>\n",
              "      <td>int64</td>\n",
              "    </tr>\n",
              "    <tr>\n",
              "      <th>diabete</th>\n",
              "      <td>int64</td>\n",
              "    </tr>\n",
              "  </tbody>\n",
              "</table>\n",
              "</div><br><label><b>dtype:</b> object</label>"
            ]
          },
          "metadata": {},
          "execution_count": 85
        }
      ]
    },
    {
      "cell_type": "markdown",
      "source": [
        "Temos 2 variáveis onde os dados são Strings e 7 onde os dados são Numéricos"
      ],
      "metadata": {
        "id": "nTf3yBTQ6xVR"
      }
    },
    {
      "cell_type": "markdown",
      "source": [
        "#### Verficando valores nulos e duplicados"
      ],
      "metadata": {
        "id": "VEUMkNRb5QHh"
      }
    },
    {
      "cell_type": "code",
      "source": [
        "df.isna().sum()"
      ],
      "metadata": {
        "colab": {
          "base_uri": "https://localhost:8080/",
          "height": 367
        },
        "id": "IjcIsZe74ysZ",
        "outputId": "5cb954e6-8b0d-4386-8711-63e804480c85"
      },
      "execution_count": 86,
      "outputs": [
        {
          "output_type": "execute_result",
          "data": {
            "text/plain": [
              "genero                  0\n",
              "idade                   0\n",
              "hipertenso              0\n",
              "problema_coracao        0\n",
              "fumante                 0\n",
              "imc                     0\n",
              "nivel_hemoglobinaA1c    0\n",
              "nivel_glicose_sangue    0\n",
              "diabete                 0\n",
              "dtype: int64"
            ],
            "text/html": [
              "<div>\n",
              "<style scoped>\n",
              "    .dataframe tbody tr th:only-of-type {\n",
              "        vertical-align: middle;\n",
              "    }\n",
              "\n",
              "    .dataframe tbody tr th {\n",
              "        vertical-align: top;\n",
              "    }\n",
              "\n",
              "    .dataframe thead th {\n",
              "        text-align: right;\n",
              "    }\n",
              "</style>\n",
              "<table border=\"1\" class=\"dataframe\">\n",
              "  <thead>\n",
              "    <tr style=\"text-align: right;\">\n",
              "      <th></th>\n",
              "      <th>0</th>\n",
              "    </tr>\n",
              "  </thead>\n",
              "  <tbody>\n",
              "    <tr>\n",
              "      <th>genero</th>\n",
              "      <td>0</td>\n",
              "    </tr>\n",
              "    <tr>\n",
              "      <th>idade</th>\n",
              "      <td>0</td>\n",
              "    </tr>\n",
              "    <tr>\n",
              "      <th>hipertenso</th>\n",
              "      <td>0</td>\n",
              "    </tr>\n",
              "    <tr>\n",
              "      <th>problema_coracao</th>\n",
              "      <td>0</td>\n",
              "    </tr>\n",
              "    <tr>\n",
              "      <th>fumante</th>\n",
              "      <td>0</td>\n",
              "    </tr>\n",
              "    <tr>\n",
              "      <th>imc</th>\n",
              "      <td>0</td>\n",
              "    </tr>\n",
              "    <tr>\n",
              "      <th>nivel_hemoglobinaA1c</th>\n",
              "      <td>0</td>\n",
              "    </tr>\n",
              "    <tr>\n",
              "      <th>nivel_glicose_sangue</th>\n",
              "      <td>0</td>\n",
              "    </tr>\n",
              "    <tr>\n",
              "      <th>diabete</th>\n",
              "      <td>0</td>\n",
              "    </tr>\n",
              "  </tbody>\n",
              "</table>\n",
              "</div><br><label><b>dtype:</b> int64</label>"
            ]
          },
          "metadata": {},
          "execution_count": 86
        }
      ]
    },
    {
      "cell_type": "markdown",
      "source": [
        "Não há valores nulos no DataFrame"
      ],
      "metadata": {
        "id": "OZK1s3EW5XGJ"
      }
    },
    {
      "cell_type": "code",
      "source": [
        "df.shape"
      ],
      "metadata": {
        "colab": {
          "base_uri": "https://localhost:8080/"
        },
        "id": "z690OumU5ijI",
        "outputId": "e930d4aa-a3c6-440c-aa7e-1d201e8d6d4c"
      },
      "execution_count": 87,
      "outputs": [
        {
          "output_type": "execute_result",
          "data": {
            "text/plain": [
              "(100000, 9)"
            ]
          },
          "metadata": {},
          "execution_count": 87
        }
      ]
    },
    {
      "cell_type": "code",
      "source": [
        "df.drop_duplicates(inplace=True)"
      ],
      "metadata": {
        "id": "MHrv43cx5eno"
      },
      "execution_count": 88,
      "outputs": []
    },
    {
      "cell_type": "code",
      "source": [
        "df.shape"
      ],
      "metadata": {
        "colab": {
          "base_uri": "https://localhost:8080/"
        },
        "id": "hqQquC8z5rO4",
        "outputId": "dfd828ae-945d-48e1-b9bc-98b0e10ddc07"
      },
      "execution_count": 89,
      "outputs": [
        {
          "output_type": "execute_result",
          "data": {
            "text/plain": [
              "(96146, 9)"
            ]
          },
          "metadata": {},
          "execution_count": 89
        }
      ]
    },
    {
      "cell_type": "markdown",
      "source": [
        "Podemos notar que haviam alguns valores duplicados no DataFrame que foram eliminados"
      ],
      "metadata": {
        "id": "59Wpj9hq5tKA"
      }
    },
    {
      "cell_type": "markdown",
      "source": [
        "#### Distribuição das variáveis numéricas"
      ],
      "metadata": {
        "id": "crJlZ7TI5b84"
      }
    },
    {
      "cell_type": "code",
      "source": [
        "df.describe()"
      ],
      "metadata": {
        "colab": {
          "base_uri": "https://localhost:8080/",
          "height": 301
        },
        "id": "H_XmZDve00zR",
        "outputId": "a1dca9ee-8cb4-4beb-df9a-b37a7d82ed5d"
      },
      "execution_count": 90,
      "outputs": [
        {
          "output_type": "execute_result",
          "data": {
            "text/plain": [
              "              idade    hipertenso  problema_coracao           imc  \\\n",
              "count  96146.000000  96146.000000      96146.000000  96146.000000   \n",
              "mean      41.794326      0.077601          0.040803     27.321461   \n",
              "std       22.462948      0.267544          0.197833      6.767716   \n",
              "min        0.080000      0.000000          0.000000     10.010000   \n",
              "25%       24.000000      0.000000          0.000000     23.400000   \n",
              "50%       43.000000      0.000000          0.000000     27.320000   \n",
              "75%       59.000000      0.000000          0.000000     29.860000   \n",
              "max       80.000000      1.000000          1.000000     95.690000   \n",
              "\n",
              "       nivel_hemoglobinaA1c  nivel_glicose_sangue       diabete  \n",
              "count          96146.000000          96146.000000  96146.000000  \n",
              "mean               5.532609            138.218231      0.088220  \n",
              "std                1.073232             40.909771      0.283616  \n",
              "min                3.500000             80.000000      0.000000  \n",
              "25%                4.800000            100.000000      0.000000  \n",
              "50%                5.800000            140.000000      0.000000  \n",
              "75%                6.200000            159.000000      0.000000  \n",
              "max                9.000000            300.000000      1.000000  "
            ],
            "text/html": [
              "\n",
              "  <div id=\"df-7d1b55e3-c317-4177-b218-7fcd9bbcfdc3\" class=\"colab-df-container\">\n",
              "    <div>\n",
              "<style scoped>\n",
              "    .dataframe tbody tr th:only-of-type {\n",
              "        vertical-align: middle;\n",
              "    }\n",
              "\n",
              "    .dataframe tbody tr th {\n",
              "        vertical-align: top;\n",
              "    }\n",
              "\n",
              "    .dataframe thead th {\n",
              "        text-align: right;\n",
              "    }\n",
              "</style>\n",
              "<table border=\"1\" class=\"dataframe\">\n",
              "  <thead>\n",
              "    <tr style=\"text-align: right;\">\n",
              "      <th></th>\n",
              "      <th>idade</th>\n",
              "      <th>hipertenso</th>\n",
              "      <th>problema_coracao</th>\n",
              "      <th>imc</th>\n",
              "      <th>nivel_hemoglobinaA1c</th>\n",
              "      <th>nivel_glicose_sangue</th>\n",
              "      <th>diabete</th>\n",
              "    </tr>\n",
              "  </thead>\n",
              "  <tbody>\n",
              "    <tr>\n",
              "      <th>count</th>\n",
              "      <td>96146.000000</td>\n",
              "      <td>96146.000000</td>\n",
              "      <td>96146.000000</td>\n",
              "      <td>96146.000000</td>\n",
              "      <td>96146.000000</td>\n",
              "      <td>96146.000000</td>\n",
              "      <td>96146.000000</td>\n",
              "    </tr>\n",
              "    <tr>\n",
              "      <th>mean</th>\n",
              "      <td>41.794326</td>\n",
              "      <td>0.077601</td>\n",
              "      <td>0.040803</td>\n",
              "      <td>27.321461</td>\n",
              "      <td>5.532609</td>\n",
              "      <td>138.218231</td>\n",
              "      <td>0.088220</td>\n",
              "    </tr>\n",
              "    <tr>\n",
              "      <th>std</th>\n",
              "      <td>22.462948</td>\n",
              "      <td>0.267544</td>\n",
              "      <td>0.197833</td>\n",
              "      <td>6.767716</td>\n",
              "      <td>1.073232</td>\n",
              "      <td>40.909771</td>\n",
              "      <td>0.283616</td>\n",
              "    </tr>\n",
              "    <tr>\n",
              "      <th>min</th>\n",
              "      <td>0.080000</td>\n",
              "      <td>0.000000</td>\n",
              "      <td>0.000000</td>\n",
              "      <td>10.010000</td>\n",
              "      <td>3.500000</td>\n",
              "      <td>80.000000</td>\n",
              "      <td>0.000000</td>\n",
              "    </tr>\n",
              "    <tr>\n",
              "      <th>25%</th>\n",
              "      <td>24.000000</td>\n",
              "      <td>0.000000</td>\n",
              "      <td>0.000000</td>\n",
              "      <td>23.400000</td>\n",
              "      <td>4.800000</td>\n",
              "      <td>100.000000</td>\n",
              "      <td>0.000000</td>\n",
              "    </tr>\n",
              "    <tr>\n",
              "      <th>50%</th>\n",
              "      <td>43.000000</td>\n",
              "      <td>0.000000</td>\n",
              "      <td>0.000000</td>\n",
              "      <td>27.320000</td>\n",
              "      <td>5.800000</td>\n",
              "      <td>140.000000</td>\n",
              "      <td>0.000000</td>\n",
              "    </tr>\n",
              "    <tr>\n",
              "      <th>75%</th>\n",
              "      <td>59.000000</td>\n",
              "      <td>0.000000</td>\n",
              "      <td>0.000000</td>\n",
              "      <td>29.860000</td>\n",
              "      <td>6.200000</td>\n",
              "      <td>159.000000</td>\n",
              "      <td>0.000000</td>\n",
              "    </tr>\n",
              "    <tr>\n",
              "      <th>max</th>\n",
              "      <td>80.000000</td>\n",
              "      <td>1.000000</td>\n",
              "      <td>1.000000</td>\n",
              "      <td>95.690000</td>\n",
              "      <td>9.000000</td>\n",
              "      <td>300.000000</td>\n",
              "      <td>1.000000</td>\n",
              "    </tr>\n",
              "  </tbody>\n",
              "</table>\n",
              "</div>\n",
              "    <div class=\"colab-df-buttons\">\n",
              "\n",
              "  <div class=\"colab-df-container\">\n",
              "    <button class=\"colab-df-convert\" onclick=\"convertToInteractive('df-7d1b55e3-c317-4177-b218-7fcd9bbcfdc3')\"\n",
              "            title=\"Convert this dataframe to an interactive table.\"\n",
              "            style=\"display:none;\">\n",
              "\n",
              "  <svg xmlns=\"http://www.w3.org/2000/svg\" height=\"24px\" viewBox=\"0 -960 960 960\">\n",
              "    <path d=\"M120-120v-720h720v720H120Zm60-500h600v-160H180v160Zm220 220h160v-160H400v160Zm0 220h160v-160H400v160ZM180-400h160v-160H180v160Zm440 0h160v-160H620v160ZM180-180h160v-160H180v160Zm440 0h160v-160H620v160Z\"/>\n",
              "  </svg>\n",
              "    </button>\n",
              "\n",
              "  <style>\n",
              "    .colab-df-container {\n",
              "      display:flex;\n",
              "      gap: 12px;\n",
              "    }\n",
              "\n",
              "    .colab-df-convert {\n",
              "      background-color: #E8F0FE;\n",
              "      border: none;\n",
              "      border-radius: 50%;\n",
              "      cursor: pointer;\n",
              "      display: none;\n",
              "      fill: #1967D2;\n",
              "      height: 32px;\n",
              "      padding: 0 0 0 0;\n",
              "      width: 32px;\n",
              "    }\n",
              "\n",
              "    .colab-df-convert:hover {\n",
              "      background-color: #E2EBFA;\n",
              "      box-shadow: 0px 1px 2px rgba(60, 64, 67, 0.3), 0px 1px 3px 1px rgba(60, 64, 67, 0.15);\n",
              "      fill: #174EA6;\n",
              "    }\n",
              "\n",
              "    .colab-df-buttons div {\n",
              "      margin-bottom: 4px;\n",
              "    }\n",
              "\n",
              "    [theme=dark] .colab-df-convert {\n",
              "      background-color: #3B4455;\n",
              "      fill: #D2E3FC;\n",
              "    }\n",
              "\n",
              "    [theme=dark] .colab-df-convert:hover {\n",
              "      background-color: #434B5C;\n",
              "      box-shadow: 0px 1px 3px 1px rgba(0, 0, 0, 0.15);\n",
              "      filter: drop-shadow(0px 1px 2px rgba(0, 0, 0, 0.3));\n",
              "      fill: #FFFFFF;\n",
              "    }\n",
              "  </style>\n",
              "\n",
              "    <script>\n",
              "      const buttonEl =\n",
              "        document.querySelector('#df-7d1b55e3-c317-4177-b218-7fcd9bbcfdc3 button.colab-df-convert');\n",
              "      buttonEl.style.display =\n",
              "        google.colab.kernel.accessAllowed ? 'block' : 'none';\n",
              "\n",
              "      async function convertToInteractive(key) {\n",
              "        const element = document.querySelector('#df-7d1b55e3-c317-4177-b218-7fcd9bbcfdc3');\n",
              "        const dataTable =\n",
              "          await google.colab.kernel.invokeFunction('convertToInteractive',\n",
              "                                                    [key], {});\n",
              "        if (!dataTable) return;\n",
              "\n",
              "        const docLinkHtml = 'Like what you see? Visit the ' +\n",
              "          '<a target=\"_blank\" href=https://colab.research.google.com/notebooks/data_table.ipynb>data table notebook</a>'\n",
              "          + ' to learn more about interactive tables.';\n",
              "        element.innerHTML = '';\n",
              "        dataTable['output_type'] = 'display_data';\n",
              "        await google.colab.output.renderOutput(dataTable, element);\n",
              "        const docLink = document.createElement('div');\n",
              "        docLink.innerHTML = docLinkHtml;\n",
              "        element.appendChild(docLink);\n",
              "      }\n",
              "    </script>\n",
              "  </div>\n",
              "\n",
              "\n",
              "<div id=\"df-482a8e36-c0d6-43a8-b85b-c589ce49591d\">\n",
              "  <button class=\"colab-df-quickchart\" onclick=\"quickchart('df-482a8e36-c0d6-43a8-b85b-c589ce49591d')\"\n",
              "            title=\"Suggest charts\"\n",
              "            style=\"display:none;\">\n",
              "\n",
              "<svg xmlns=\"http://www.w3.org/2000/svg\" height=\"24px\"viewBox=\"0 0 24 24\"\n",
              "     width=\"24px\">\n",
              "    <g>\n",
              "        <path d=\"M19 3H5c-1.1 0-2 .9-2 2v14c0 1.1.9 2 2 2h14c1.1 0 2-.9 2-2V5c0-1.1-.9-2-2-2zM9 17H7v-7h2v7zm4 0h-2V7h2v10zm4 0h-2v-4h2v4z\"/>\n",
              "    </g>\n",
              "</svg>\n",
              "  </button>\n",
              "\n",
              "<style>\n",
              "  .colab-df-quickchart {\n",
              "      --bg-color: #E8F0FE;\n",
              "      --fill-color: #1967D2;\n",
              "      --hover-bg-color: #E2EBFA;\n",
              "      --hover-fill-color: #174EA6;\n",
              "      --disabled-fill-color: #AAA;\n",
              "      --disabled-bg-color: #DDD;\n",
              "  }\n",
              "\n",
              "  [theme=dark] .colab-df-quickchart {\n",
              "      --bg-color: #3B4455;\n",
              "      --fill-color: #D2E3FC;\n",
              "      --hover-bg-color: #434B5C;\n",
              "      --hover-fill-color: #FFFFFF;\n",
              "      --disabled-bg-color: #3B4455;\n",
              "      --disabled-fill-color: #666;\n",
              "  }\n",
              "\n",
              "  .colab-df-quickchart {\n",
              "    background-color: var(--bg-color);\n",
              "    border: none;\n",
              "    border-radius: 50%;\n",
              "    cursor: pointer;\n",
              "    display: none;\n",
              "    fill: var(--fill-color);\n",
              "    height: 32px;\n",
              "    padding: 0;\n",
              "    width: 32px;\n",
              "  }\n",
              "\n",
              "  .colab-df-quickchart:hover {\n",
              "    background-color: var(--hover-bg-color);\n",
              "    box-shadow: 0 1px 2px rgba(60, 64, 67, 0.3), 0 1px 3px 1px rgba(60, 64, 67, 0.15);\n",
              "    fill: var(--button-hover-fill-color);\n",
              "  }\n",
              "\n",
              "  .colab-df-quickchart-complete:disabled,\n",
              "  .colab-df-quickchart-complete:disabled:hover {\n",
              "    background-color: var(--disabled-bg-color);\n",
              "    fill: var(--disabled-fill-color);\n",
              "    box-shadow: none;\n",
              "  }\n",
              "\n",
              "  .colab-df-spinner {\n",
              "    border: 2px solid var(--fill-color);\n",
              "    border-color: transparent;\n",
              "    border-bottom-color: var(--fill-color);\n",
              "    animation:\n",
              "      spin 1s steps(1) infinite;\n",
              "  }\n",
              "\n",
              "  @keyframes spin {\n",
              "    0% {\n",
              "      border-color: transparent;\n",
              "      border-bottom-color: var(--fill-color);\n",
              "      border-left-color: var(--fill-color);\n",
              "    }\n",
              "    20% {\n",
              "      border-color: transparent;\n",
              "      border-left-color: var(--fill-color);\n",
              "      border-top-color: var(--fill-color);\n",
              "    }\n",
              "    30% {\n",
              "      border-color: transparent;\n",
              "      border-left-color: var(--fill-color);\n",
              "      border-top-color: var(--fill-color);\n",
              "      border-right-color: var(--fill-color);\n",
              "    }\n",
              "    40% {\n",
              "      border-color: transparent;\n",
              "      border-right-color: var(--fill-color);\n",
              "      border-top-color: var(--fill-color);\n",
              "    }\n",
              "    60% {\n",
              "      border-color: transparent;\n",
              "      border-right-color: var(--fill-color);\n",
              "    }\n",
              "    80% {\n",
              "      border-color: transparent;\n",
              "      border-right-color: var(--fill-color);\n",
              "      border-bottom-color: var(--fill-color);\n",
              "    }\n",
              "    90% {\n",
              "      border-color: transparent;\n",
              "      border-bottom-color: var(--fill-color);\n",
              "    }\n",
              "  }\n",
              "</style>\n",
              "\n",
              "  <script>\n",
              "    async function quickchart(key) {\n",
              "      const quickchartButtonEl =\n",
              "        document.querySelector('#' + key + ' button');\n",
              "      quickchartButtonEl.disabled = true;  // To prevent multiple clicks.\n",
              "      quickchartButtonEl.classList.add('colab-df-spinner');\n",
              "      try {\n",
              "        const charts = await google.colab.kernel.invokeFunction(\n",
              "            'suggestCharts', [key], {});\n",
              "      } catch (error) {\n",
              "        console.error('Error during call to suggestCharts:', error);\n",
              "      }\n",
              "      quickchartButtonEl.classList.remove('colab-df-spinner');\n",
              "      quickchartButtonEl.classList.add('colab-df-quickchart-complete');\n",
              "    }\n",
              "    (() => {\n",
              "      let quickchartButtonEl =\n",
              "        document.querySelector('#df-482a8e36-c0d6-43a8-b85b-c589ce49591d button');\n",
              "      quickchartButtonEl.style.display =\n",
              "        google.colab.kernel.accessAllowed ? 'block' : 'none';\n",
              "    })();\n",
              "  </script>\n",
              "</div>\n",
              "\n",
              "    </div>\n",
              "  </div>\n"
            ],
            "application/vnd.google.colaboratory.intrinsic+json": {
              "type": "dataframe",
              "summary": "{\n  \"name\": \"df\",\n  \"rows\": 8,\n  \"fields\": [\n    {\n      \"column\": \"idade\",\n      \"properties\": {\n        \"dtype\": \"number\",\n        \"std\": 33979.09885231227,\n        \"min\": 0.08,\n        \"max\": 96146.0,\n        \"num_unique_values\": 8,\n        \"samples\": [\n          41.79432571297817,\n          43.0,\n          96146.0\n        ],\n        \"semantic_type\": \"\",\n        \"description\": \"\"\n      }\n    },\n    {\n      \"column\": \"hipertenso\",\n      \"properties\": {\n        \"dtype\": \"number\",\n        \"std\": 33992.67635365122,\n        \"min\": 0.0,\n        \"max\": 96146.0,\n        \"num_unique_values\": 5,\n        \"samples\": [\n          0.07760073221974913,\n          1.0,\n          0.2675436470321302\n        ],\n        \"semantic_type\": \"\",\n        \"description\": \"\"\n      }\n    },\n    {\n      \"column\": \"problema_coracao\",\n      \"properties\": {\n        \"dtype\": \"number\",\n        \"std\": 33992.681733140984,\n        \"min\": 0.0,\n        \"max\": 96146.0,\n        \"num_unique_values\": 5,\n        \"samples\": [\n          0.04080252948640609,\n          1.0,\n          0.197833490954581\n        ],\n        \"semantic_type\": \"\",\n        \"description\": \"\"\n      }\n    },\n    {\n      \"column\": \"imc\",\n      \"properties\": {\n        \"dtype\": \"number\",\n        \"std\": 33981.62510211656,\n        \"min\": 6.7677155604816965,\n        \"max\": 96146.0,\n        \"num_unique_values\": 8,\n        \"samples\": [\n          27.32146111122668,\n          27.32,\n          96146.0\n        ],\n        \"semantic_type\": \"\",\n        \"description\": \"\"\n      }\n    },\n    {\n      \"column\": \"nivel_hemoglobinaA1c\",\n      \"properties\": {\n        \"dtype\": \"number\",\n        \"std\": 33990.93084871805,\n        \"min\": 1.073232025643944,\n        \"max\": 96146.0,\n        \"num_unique_values\": 8,\n        \"samples\": [\n          5.532608740873255,\n          5.8,\n          96146.0\n        ],\n        \"semantic_type\": \"\",\n        \"description\": \"\"\n      }\n    },\n    {\n      \"column\": \"nivel_glicose_sangue\",\n      \"properties\": {\n        \"dtype\": \"number\",\n        \"std\": 33944.437616095056,\n        \"min\": 40.90977136274066,\n        \"max\": 96146.0,\n        \"num_unique_values\": 8,\n        \"samples\": [\n          138.21823060761758,\n          140.0,\n          96146.0\n        ],\n        \"semantic_type\": \"\",\n        \"description\": \"\"\n      }\n    },\n    {\n      \"column\": \"diabete\",\n      \"properties\": {\n        \"dtype\": \"number\",\n        \"std\": 33992.67500551858,\n        \"min\": 0.0,\n        \"max\": 96146.0,\n        \"num_unique_values\": 5,\n        \"samples\": [\n          0.08821999875189815,\n          1.0,\n          0.2836160559565092\n        ],\n        \"semantic_type\": \"\",\n        \"description\": \"\"\n      }\n    }\n  ]\n}"
            }
          },
          "metadata": {},
          "execution_count": 90
        }
      ]
    },
    {
      "cell_type": "markdown",
      "source": [
        "Percepções sobre as variáveis:\n",
        "\n",
        "IDADE:\n",
        "- O valor mínimo me parece um Outlier, já que em condições normais não há porque análisar se um recém nascido tem diabetes.\n",
        "- A média é de quase  42 anos com um desvio padrão de 22, o que mostra uma grande variabilidade nos dados, condizente com as faixas de idade observadas nas análises de Quartis.\n",
        "\n",
        "HIPERTENSO & DIABETES:\n",
        "- Tem média e desvio padrão parecidos (0.7 e 0.8 / 0.26 e 0.28), o que demonstra que grande parte das pessoas da base não são hipertensos e nem possuem diabetes, o que é confirmado pela análise dos Quartis, onde pelo menos 75% das pessoas não se encaixam nesses grupos.\n",
        "\n",
        "PROBLEMAS NO CORAÇÃO:\n",
        "- Segue a mesma logica das variáveis HIPERTENSO & DIABETES, com média 0.4 e desvio padrão 0.19, mostrando que a maior parte das pessoas também não tem problemas no coração.\n",
        "\n",
        "IMC:\n",
        "- Apesar de não ser uma metrica muito confiavel de se análisar sozinha, em conjunto pode ser um bom parâmetro.\n",
        "- Os valores mínimo e máximo estão muito discrepantes do que costuma ser observado, pode indicar algum tipo de erro de coleta, tendo que ser tratado.  \n",
        "- A média está com um valor condizente, mesmo tendo outliers na base, os valores parecem se não afetar tando já que a média é basicamente a mesma do Quartil que representa os valores de metade da base, o desvio padrão mostra que os valores ficam dentro do normal em sua grande maioria (é esperado um valor entre 19 e 40 na maioria das vezes).\n",
        "- A divisão entre Quartis também mostra que os valores estão equilibrados, mesmo tendo outliers\n",
        "\n",
        "HEMOGLOBINA A1c:\n",
        "- Média com valores condizentes aos encontrados na base, desvio padrão que mantem os valores dentro dos níveis esperados, mínimo e máximo também condizentes com os valores reais esperados (entre 4 e 14, sendo acima de 9 já preocupante assim como o 14)\n",
        "- Média também parecida com a análise de Quartis.\n",
        "\n",
        "NIVEL DE GLICOSE NO SANGUE:\n",
        "- Nível médio condizente com a análise de Quartis, e proxímo aos 50% da base.\n",
        "- Mínimo e máximo dentro de valores esperados, desvio padrão também, já que os valores mínimos e máximos se distanciam de forma significativa."
      ],
      "metadata": {
        "id": "R7lC3m6h7FS5"
      }
    },
    {
      "cell_type": "markdown",
      "source": [
        "##### Variável resposta (Diabete)"
      ],
      "metadata": {
        "id": "d1L-2rfGDIdK"
      }
    },
    {
      "cell_type": "code",
      "source": [
        "df.diabete.value_counts(normalize=True)*100"
      ],
      "metadata": {
        "colab": {
          "base_uri": "https://localhost:8080/",
          "height": 0
        },
        "id": "15iXOMSO1NY3",
        "outputId": "6882dec9-4237-4300-d6d7-96ec455301c1"
      },
      "execution_count": 91,
      "outputs": [
        {
          "output_type": "execute_result",
          "data": {
            "text/plain": [
              "diabete\n",
              "0    91.178\n",
              "1     8.822\n",
              "Name: proportion, dtype: float64"
            ],
            "text/html": [
              "<div>\n",
              "<style scoped>\n",
              "    .dataframe tbody tr th:only-of-type {\n",
              "        vertical-align: middle;\n",
              "    }\n",
              "\n",
              "    .dataframe tbody tr th {\n",
              "        vertical-align: top;\n",
              "    }\n",
              "\n",
              "    .dataframe thead th {\n",
              "        text-align: right;\n",
              "    }\n",
              "</style>\n",
              "<table border=\"1\" class=\"dataframe\">\n",
              "  <thead>\n",
              "    <tr style=\"text-align: right;\">\n",
              "      <th></th>\n",
              "      <th>proportion</th>\n",
              "    </tr>\n",
              "    <tr>\n",
              "      <th>diabete</th>\n",
              "      <th></th>\n",
              "    </tr>\n",
              "  </thead>\n",
              "  <tbody>\n",
              "    <tr>\n",
              "      <th>0</th>\n",
              "      <td>91.178</td>\n",
              "    </tr>\n",
              "    <tr>\n",
              "      <th>1</th>\n",
              "      <td>8.822</td>\n",
              "    </tr>\n",
              "  </tbody>\n",
              "</table>\n",
              "</div><br><label><b>dtype:</b> float64</label>"
            ]
          },
          "metadata": {},
          "execution_count": 91
        }
      ]
    },
    {
      "cell_type": "markdown",
      "source": [
        "Vemos que a variável resposta está extremamente desbalanceada, representando apenas 8.5% dos nossos dados, necessitando tratamento."
      ],
      "metadata": {
        "id": "zpU4ouE0DMiR"
      }
    },
    {
      "cell_type": "markdown",
      "source": [
        "#### Distribuição das variáveis qualitativas"
      ],
      "metadata": {
        "id": "OGKSeA6TDaJi"
      }
    },
    {
      "cell_type": "markdown",
      "source": [
        "##### Gênero"
      ],
      "metadata": {
        "id": "E4tHBufiFsEC"
      }
    },
    {
      "cell_type": "code",
      "source": [
        "df.genero.value_counts(normalize=True)*100"
      ],
      "metadata": {
        "colab": {
          "base_uri": "https://localhost:8080/",
          "height": 210
        },
        "id": "BU3_37nfDl4R",
        "outputId": "36ee8868-6b2c-41d3-bf41-69b217938db7"
      },
      "execution_count": 92,
      "outputs": [
        {
          "output_type": "execute_result",
          "data": {
            "text/plain": [
              "genero\n",
              "Female    58.412206\n",
              "Male      41.569072\n",
              "Other      0.018722\n",
              "Name: proportion, dtype: float64"
            ],
            "text/html": [
              "<div>\n",
              "<style scoped>\n",
              "    .dataframe tbody tr th:only-of-type {\n",
              "        vertical-align: middle;\n",
              "    }\n",
              "\n",
              "    .dataframe tbody tr th {\n",
              "        vertical-align: top;\n",
              "    }\n",
              "\n",
              "    .dataframe thead th {\n",
              "        text-align: right;\n",
              "    }\n",
              "</style>\n",
              "<table border=\"1\" class=\"dataframe\">\n",
              "  <thead>\n",
              "    <tr style=\"text-align: right;\">\n",
              "      <th></th>\n",
              "      <th>proportion</th>\n",
              "    </tr>\n",
              "    <tr>\n",
              "      <th>genero</th>\n",
              "      <th></th>\n",
              "    </tr>\n",
              "  </thead>\n",
              "  <tbody>\n",
              "    <tr>\n",
              "      <th>Female</th>\n",
              "      <td>58.412206</td>\n",
              "    </tr>\n",
              "    <tr>\n",
              "      <th>Male</th>\n",
              "      <td>41.569072</td>\n",
              "    </tr>\n",
              "    <tr>\n",
              "      <th>Other</th>\n",
              "      <td>0.018722</td>\n",
              "    </tr>\n",
              "  </tbody>\n",
              "</table>\n",
              "</div><br><label><b>dtype:</b> float64</label>"
            ]
          },
          "metadata": {},
          "execution_count": 92
        }
      ]
    },
    {
      "cell_type": "code",
      "source": [
        "df.genero.value_counts()"
      ],
      "metadata": {
        "colab": {
          "base_uri": "https://localhost:8080/",
          "height": 210
        },
        "id": "mARDPU_jFmWS",
        "outputId": "d24dff96-735e-4816-f3f6-b89044d54ab0"
      },
      "execution_count": 93,
      "outputs": [
        {
          "output_type": "execute_result",
          "data": {
            "text/plain": [
              "genero\n",
              "Female    56161\n",
              "Male      39967\n",
              "Other        18\n",
              "Name: count, dtype: int64"
            ],
            "text/html": [
              "<div>\n",
              "<style scoped>\n",
              "    .dataframe tbody tr th:only-of-type {\n",
              "        vertical-align: middle;\n",
              "    }\n",
              "\n",
              "    .dataframe tbody tr th {\n",
              "        vertical-align: top;\n",
              "    }\n",
              "\n",
              "    .dataframe thead th {\n",
              "        text-align: right;\n",
              "    }\n",
              "</style>\n",
              "<table border=\"1\" class=\"dataframe\">\n",
              "  <thead>\n",
              "    <tr style=\"text-align: right;\">\n",
              "      <th></th>\n",
              "      <th>count</th>\n",
              "    </tr>\n",
              "    <tr>\n",
              "      <th>genero</th>\n",
              "      <th></th>\n",
              "    </tr>\n",
              "  </thead>\n",
              "  <tbody>\n",
              "    <tr>\n",
              "      <th>Female</th>\n",
              "      <td>56161</td>\n",
              "    </tr>\n",
              "    <tr>\n",
              "      <th>Male</th>\n",
              "      <td>39967</td>\n",
              "    </tr>\n",
              "    <tr>\n",
              "      <th>Other</th>\n",
              "      <td>18</td>\n",
              "    </tr>\n",
              "  </tbody>\n",
              "</table>\n",
              "</div><br><label><b>dtype:</b> int64</label>"
            ]
          },
          "metadata": {},
          "execution_count": 93
        }
      ]
    },
    {
      "cell_type": "markdown",
      "source": [
        "Podemos ver que a maior parte dos pacientes do DataFrame é do sexo feminino, com cerca de 58% dos dados. Porém há dados marcados como \"Other\", irei análisar para decidir se retiro ou não esses dados do modelo."
      ],
      "metadata": {
        "id": "ZhvE08DMEC4S"
      }
    },
    {
      "cell_type": "code",
      "source": [
        "df[df['diabete']==1].genero.value_counts(normalize=True)*100"
      ],
      "metadata": {
        "colab": {
          "base_uri": "https://localhost:8080/",
          "height": 178
        },
        "id": "GduTgoDyEEkK",
        "outputId": "db24321b-cd46-4c36-da69-9e9aba0e49ad"
      },
      "execution_count": 94,
      "outputs": [
        {
          "output_type": "execute_result",
          "data": {
            "text/plain": [
              "genero\n",
              "Female    52.428672\n",
              "Male      47.571328\n",
              "Name: proportion, dtype: float64"
            ],
            "text/html": [
              "<div>\n",
              "<style scoped>\n",
              "    .dataframe tbody tr th:only-of-type {\n",
              "        vertical-align: middle;\n",
              "    }\n",
              "\n",
              "    .dataframe tbody tr th {\n",
              "        vertical-align: top;\n",
              "    }\n",
              "\n",
              "    .dataframe thead th {\n",
              "        text-align: right;\n",
              "    }\n",
              "</style>\n",
              "<table border=\"1\" class=\"dataframe\">\n",
              "  <thead>\n",
              "    <tr style=\"text-align: right;\">\n",
              "      <th></th>\n",
              "      <th>proportion</th>\n",
              "    </tr>\n",
              "    <tr>\n",
              "      <th>genero</th>\n",
              "      <th></th>\n",
              "    </tr>\n",
              "  </thead>\n",
              "  <tbody>\n",
              "    <tr>\n",
              "      <th>Female</th>\n",
              "      <td>52.428672</td>\n",
              "    </tr>\n",
              "    <tr>\n",
              "      <th>Male</th>\n",
              "      <td>47.571328</td>\n",
              "    </tr>\n",
              "  </tbody>\n",
              "</table>\n",
              "</div><br><label><b>dtype:</b> float64</label>"
            ]
          },
          "metadata": {},
          "execution_count": 94
        }
      ]
    },
    {
      "cell_type": "code",
      "source": [
        "df[df['diabete']==1].genero.value_counts()"
      ],
      "metadata": {
        "colab": {
          "base_uri": "https://localhost:8080/",
          "height": 178
        },
        "id": "ddJLcoL8FiXq",
        "outputId": "3b765e9f-a0d1-4af6-a2c2-f10f9c230fdb"
      },
      "execution_count": 95,
      "outputs": [
        {
          "output_type": "execute_result",
          "data": {
            "text/plain": [
              "genero\n",
              "Female    4447\n",
              "Male      4035\n",
              "Name: count, dtype: int64"
            ],
            "text/html": [
              "<div>\n",
              "<style scoped>\n",
              "    .dataframe tbody tr th:only-of-type {\n",
              "        vertical-align: middle;\n",
              "    }\n",
              "\n",
              "    .dataframe tbody tr th {\n",
              "        vertical-align: top;\n",
              "    }\n",
              "\n",
              "    .dataframe thead th {\n",
              "        text-align: right;\n",
              "    }\n",
              "</style>\n",
              "<table border=\"1\" class=\"dataframe\">\n",
              "  <thead>\n",
              "    <tr style=\"text-align: right;\">\n",
              "      <th></th>\n",
              "      <th>count</th>\n",
              "    </tr>\n",
              "    <tr>\n",
              "      <th>genero</th>\n",
              "      <th></th>\n",
              "    </tr>\n",
              "  </thead>\n",
              "  <tbody>\n",
              "    <tr>\n",
              "      <th>Female</th>\n",
              "      <td>4447</td>\n",
              "    </tr>\n",
              "    <tr>\n",
              "      <th>Male</th>\n",
              "      <td>4035</td>\n",
              "    </tr>\n",
              "  </tbody>\n",
              "</table>\n",
              "</div><br><label><b>dtype:</b> int64</label>"
            ]
          },
          "metadata": {},
          "execution_count": 95
        }
      ]
    },
    {
      "cell_type": "code",
      "source": [
        "df[df['diabete']==0].genero.value_counts(normalize=True)*100"
      ],
      "metadata": {
        "colab": {
          "base_uri": "https://localhost:8080/",
          "height": 210
        },
        "id": "--REfKhMDzZK",
        "outputId": "f6b7f01f-5c6d-425e-fd92-e893845b8937"
      },
      "execution_count": 96,
      "outputs": [
        {
          "output_type": "execute_result",
          "data": {
            "text/plain": [
              "genero\n",
              "Female    58.991148\n",
              "Male      40.988319\n",
              "Other      0.020533\n",
              "Name: proportion, dtype: float64"
            ],
            "text/html": [
              "<div>\n",
              "<style scoped>\n",
              "    .dataframe tbody tr th:only-of-type {\n",
              "        vertical-align: middle;\n",
              "    }\n",
              "\n",
              "    .dataframe tbody tr th {\n",
              "        vertical-align: top;\n",
              "    }\n",
              "\n",
              "    .dataframe thead th {\n",
              "        text-align: right;\n",
              "    }\n",
              "</style>\n",
              "<table border=\"1\" class=\"dataframe\">\n",
              "  <thead>\n",
              "    <tr style=\"text-align: right;\">\n",
              "      <th></th>\n",
              "      <th>proportion</th>\n",
              "    </tr>\n",
              "    <tr>\n",
              "      <th>genero</th>\n",
              "      <th></th>\n",
              "    </tr>\n",
              "  </thead>\n",
              "  <tbody>\n",
              "    <tr>\n",
              "      <th>Female</th>\n",
              "      <td>58.991148</td>\n",
              "    </tr>\n",
              "    <tr>\n",
              "      <th>Male</th>\n",
              "      <td>40.988319</td>\n",
              "    </tr>\n",
              "    <tr>\n",
              "      <th>Other</th>\n",
              "      <td>0.020533</td>\n",
              "    </tr>\n",
              "  </tbody>\n",
              "</table>\n",
              "</div><br><label><b>dtype:</b> float64</label>"
            ]
          },
          "metadata": {},
          "execution_count": 96
        }
      ]
    },
    {
      "cell_type": "code",
      "source": [
        "df[df['diabete']==0].genero.value_counts()"
      ],
      "metadata": {
        "colab": {
          "base_uri": "https://localhost:8080/",
          "height": 210
        },
        "id": "J-WZTa4PFfb5",
        "outputId": "860b5807-3017-419e-d7df-e7255df0c21d"
      },
      "execution_count": 97,
      "outputs": [
        {
          "output_type": "execute_result",
          "data": {
            "text/plain": [
              "genero\n",
              "Female    51714\n",
              "Male      35932\n",
              "Other        18\n",
              "Name: count, dtype: int64"
            ],
            "text/html": [
              "<div>\n",
              "<style scoped>\n",
              "    .dataframe tbody tr th:only-of-type {\n",
              "        vertical-align: middle;\n",
              "    }\n",
              "\n",
              "    .dataframe tbody tr th {\n",
              "        vertical-align: top;\n",
              "    }\n",
              "\n",
              "    .dataframe thead th {\n",
              "        text-align: right;\n",
              "    }\n",
              "</style>\n",
              "<table border=\"1\" class=\"dataframe\">\n",
              "  <thead>\n",
              "    <tr style=\"text-align: right;\">\n",
              "      <th></th>\n",
              "      <th>count</th>\n",
              "    </tr>\n",
              "    <tr>\n",
              "      <th>genero</th>\n",
              "      <th></th>\n",
              "    </tr>\n",
              "  </thead>\n",
              "  <tbody>\n",
              "    <tr>\n",
              "      <th>Female</th>\n",
              "      <td>51714</td>\n",
              "    </tr>\n",
              "    <tr>\n",
              "      <th>Male</th>\n",
              "      <td>35932</td>\n",
              "    </tr>\n",
              "    <tr>\n",
              "      <th>Other</th>\n",
              "      <td>18</td>\n",
              "    </tr>\n",
              "  </tbody>\n",
              "</table>\n",
              "</div><br><label><b>dtype:</b> int64</label>"
            ]
          },
          "metadata": {},
          "execution_count": 97
        }
      ]
    },
    {
      "cell_type": "markdown",
      "source": [
        "Como o genero classificado como Other está apenas na classe majoritaria do DataFrame onde não há diabetes, irei retirar os dados do DataFrame."
      ],
      "metadata": {
        "id": "AWBF-_MCE6lS"
      }
    },
    {
      "cell_type": "code",
      "source": [
        "sns.histplot(data=df[df['genero']!=\"Other\"], x='genero')"
      ],
      "metadata": {
        "colab": {
          "base_uri": "https://localhost:8080/",
          "height": 520
        },
        "id": "3p9lt7-OFHx7",
        "outputId": "48aacdd5-970c-490c-e999-8c5ee4bb6948"
      },
      "execution_count": 98,
      "outputs": [
        {
          "output_type": "execute_result",
          "data": {
            "text/plain": [
              "<Axes: xlabel='genero', ylabel='Count'>"
            ]
          },
          "metadata": {},
          "execution_count": 98
        },
        {
          "output_type": "display_data",
          "data": {
            "text/plain": [
              "<Figure size 800x550 with 1 Axes>"
            ],
            "image/png": "[encoded data removed]"
          },
          "metadata": {}
        }
      ]
    },
    {
      "cell_type": "code",
      "source": [
        "df.drop(df[df['genero']==\"Other\"].index, inplace=True)"
      ],
      "metadata": {
        "id": "y8tclPDwJl3L"
      },
      "execution_count": 99,
      "outputs": []
    },
    {
      "cell_type": "code",
      "source": [
        "df.genero = df.genero.map({'Female': 0, 'Male': 1})"
      ],
      "metadata": {
        "id": "rti3ZqhoJrZK"
      },
      "execution_count": 100,
      "outputs": []
    },
    {
      "cell_type": "markdown",
      "source": [
        "##### Fumante"
      ],
      "metadata": {
        "id": "vTslMBy-FG_y"
      }
    },
    {
      "cell_type": "code",
      "source": [
        "df.fumante.value_counts(normalize=True)*100"
      ],
      "metadata": {
        "colab": {
          "base_uri": "https://localhost:8080/",
          "height": 304
        },
        "id": "qsidwpafF1Nb",
        "outputId": "41f6ac2c-2f0b-4a8a-ab96-4d9aa6c4f3d5"
      },
      "execution_count": 101,
      "outputs": [
        {
          "output_type": "execute_result",
          "data": {
            "text/plain": [
              "fumante\n",
              "never          35.780418\n",
              "No Info        34.205434\n",
              "former          9.673560\n",
              "current         9.567452\n",
              "not current     6.615138\n",
              "ever            4.157998\n",
              "Name: proportion, dtype: float64"
            ],
            "text/html": [
              "<div>\n",
              "<style scoped>\n",
              "    .dataframe tbody tr th:only-of-type {\n",
              "        vertical-align: middle;\n",
              "    }\n",
              "\n",
              "    .dataframe tbody tr th {\n",
              "        vertical-align: top;\n",
              "    }\n",
              "\n",
              "    .dataframe thead th {\n",
              "        text-align: right;\n",
              "    }\n",
              "</style>\n",
              "<table border=\"1\" class=\"dataframe\">\n",
              "  <thead>\n",
              "    <tr style=\"text-align: right;\">\n",
              "      <th></th>\n",
              "      <th>proportion</th>\n",
              "    </tr>\n",
              "    <tr>\n",
              "      <th>fumante</th>\n",
              "      <th></th>\n",
              "    </tr>\n",
              "  </thead>\n",
              "  <tbody>\n",
              "    <tr>\n",
              "      <th>never</th>\n",
              "      <td>35.780418</td>\n",
              "    </tr>\n",
              "    <tr>\n",
              "      <th>No Info</th>\n",
              "      <td>34.205434</td>\n",
              "    </tr>\n",
              "    <tr>\n",
              "      <th>former</th>\n",
              "      <td>9.673560</td>\n",
              "    </tr>\n",
              "    <tr>\n",
              "      <th>current</th>\n",
              "      <td>9.567452</td>\n",
              "    </tr>\n",
              "    <tr>\n",
              "      <th>not current</th>\n",
              "      <td>6.615138</td>\n",
              "    </tr>\n",
              "    <tr>\n",
              "      <th>ever</th>\n",
              "      <td>4.157998</td>\n",
              "    </tr>\n",
              "  </tbody>\n",
              "</table>\n",
              "</div><br><label><b>dtype:</b> float64</label>"
            ]
          },
          "metadata": {},
          "execution_count": 101
        }
      ]
    },
    {
      "cell_type": "code",
      "source": [
        "df.fumante.value_counts()"
      ],
      "metadata": {
        "colab": {
          "base_uri": "https://localhost:8080/",
          "height": 304
        },
        "id": "uXjnt9hgF5s6",
        "outputId": "ca590626-d48e-4bd0-ad53-5c309970473d"
      },
      "execution_count": 102,
      "outputs": [
        {
          "output_type": "execute_result",
          "data": {
            "text/plain": [
              "fumante\n",
              "never          34395\n",
              "No Info        32881\n",
              "former          9299\n",
              "current         9197\n",
              "not current     6359\n",
              "ever            3997\n",
              "Name: count, dtype: int64"
            ],
            "text/html": [
              "<div>\n",
              "<style scoped>\n",
              "    .dataframe tbody tr th:only-of-type {\n",
              "        vertical-align: middle;\n",
              "    }\n",
              "\n",
              "    .dataframe tbody tr th {\n",
              "        vertical-align: top;\n",
              "    }\n",
              "\n",
              "    .dataframe thead th {\n",
              "        text-align: right;\n",
              "    }\n",
              "</style>\n",
              "<table border=\"1\" class=\"dataframe\">\n",
              "  <thead>\n",
              "    <tr style=\"text-align: right;\">\n",
              "      <th></th>\n",
              "      <th>count</th>\n",
              "    </tr>\n",
              "    <tr>\n",
              "      <th>fumante</th>\n",
              "      <th></th>\n",
              "    </tr>\n",
              "  </thead>\n",
              "  <tbody>\n",
              "    <tr>\n",
              "      <th>never</th>\n",
              "      <td>34395</td>\n",
              "    </tr>\n",
              "    <tr>\n",
              "      <th>No Info</th>\n",
              "      <td>32881</td>\n",
              "    </tr>\n",
              "    <tr>\n",
              "      <th>former</th>\n",
              "      <td>9299</td>\n",
              "    </tr>\n",
              "    <tr>\n",
              "      <th>current</th>\n",
              "      <td>9197</td>\n",
              "    </tr>\n",
              "    <tr>\n",
              "      <th>not current</th>\n",
              "      <td>6359</td>\n",
              "    </tr>\n",
              "    <tr>\n",
              "      <th>ever</th>\n",
              "      <td>3997</td>\n",
              "    </tr>\n",
              "  </tbody>\n",
              "</table>\n",
              "</div><br><label><b>dtype:</b> int64</label>"
            ]
          },
          "metadata": {},
          "execution_count": 102
        }
      ]
    },
    {
      "cell_type": "markdown",
      "source": [
        "A variável categorica Fumante, tem muitas categorias, vou modificar os nomes agrupando de forma que faça sentido.\n",
        "- Já fumou/fuma\n",
        "- Nunca fumou\n",
        "- Sem informações"
      ],
      "metadata": {
        "id": "fMw0mJJfHPei"
      }
    },
    {
      "cell_type": "code",
      "source": [
        "# definir condições e escolhas para pop_category\n",
        "conditions = [\n",
        "    df['fumante'] == 'never',\n",
        "    df['fumante'] == 'No Info',\n",
        "    df['fumante'] == 'former',\n",
        "    df['fumante'] == 'current',\n",
        "    df['fumante'] == 'not current',\n",
        "    df['fumante'] == 'ever'\n",
        "]\n",
        "choices = [\n",
        "           'nunca_fumou',\n",
        "           'sem_info',\n",
        "           'fumou_fuma',\n",
        "           'fumou_fuma',\n",
        "           'fumou_fuma',\n",
        "           'fumou_fuma'\n",
        "           ]\n",
        "\n",
        "# criar nova coluna \"pop_category\" baseada em condições e escolhas\n",
        "df['fumante_cat'] = np.select(conditions, choices)"
      ],
      "metadata": {
        "id": "bjN9nrbnHPUB"
      },
      "execution_count": 103,
      "outputs": []
    },
    {
      "cell_type": "code",
      "source": [
        "df.fumante_cat.value_counts()"
      ],
      "metadata": {
        "colab": {
          "base_uri": "https://localhost:8080/",
          "height": 210
        },
        "id": "NS_XZmGzI5Hr",
        "outputId": "be72db12-9f63-4081-9460-12d29886f0b5"
      },
      "execution_count": 104,
      "outputs": [
        {
          "output_type": "execute_result",
          "data": {
            "text/plain": [
              "fumante_cat\n",
              "nunca_fumou    34395\n",
              "sem_info       32881\n",
              "fumou_fuma     28852\n",
              "Name: count, dtype: int64"
            ],
            "text/html": [
              "<div>\n",
              "<style scoped>\n",
              "    .dataframe tbody tr th:only-of-type {\n",
              "        vertical-align: middle;\n",
              "    }\n",
              "\n",
              "    .dataframe tbody tr th {\n",
              "        vertical-align: top;\n",
              "    }\n",
              "\n",
              "    .dataframe thead th {\n",
              "        text-align: right;\n",
              "    }\n",
              "</style>\n",
              "<table border=\"1\" class=\"dataframe\">\n",
              "  <thead>\n",
              "    <tr style=\"text-align: right;\">\n",
              "      <th></th>\n",
              "      <th>count</th>\n",
              "    </tr>\n",
              "    <tr>\n",
              "      <th>fumante_cat</th>\n",
              "      <th></th>\n",
              "    </tr>\n",
              "  </thead>\n",
              "  <tbody>\n",
              "    <tr>\n",
              "      <th>nunca_fumou</th>\n",
              "      <td>34395</td>\n",
              "    </tr>\n",
              "    <tr>\n",
              "      <th>sem_info</th>\n",
              "      <td>32881</td>\n",
              "    </tr>\n",
              "    <tr>\n",
              "      <th>fumou_fuma</th>\n",
              "      <td>28852</td>\n",
              "    </tr>\n",
              "  </tbody>\n",
              "</table>\n",
              "</div><br><label><b>dtype:</b> int64</label>"
            ]
          },
          "metadata": {},
          "execution_count": 104
        }
      ]
    },
    {
      "cell_type": "markdown",
      "source": [
        "Com as categorias modificadas, teremos menos colunas ao criar Dummies para incluir a variável no modelo"
      ],
      "metadata": {
        "id": "WNM9vePLJdey"
      }
    },
    {
      "cell_type": "markdown",
      "source": [
        "#### Antes de realizar as análises gráficas, irei redimensionar o DataFrame, reduzindo a quantidade de dados de pessoas não diabeticas de forma aleatoria para igualar a quantidade de pessoas diabeticas."
      ],
      "metadata": {
        "id": "12XN7o7_Zjm1"
      }
    },
    {
      "cell_type": "code",
      "source": [
        "under = RandomUnderSampler()\n",
        "x_under, y_under = under.fit_resample(df.drop(columns='diabete'), df['diabete'])\n",
        "df_under = pd.concat([x_under, y_under], axis=1)\n",
        "df_under.diabete.value_counts()"
      ],
      "metadata": {
        "colab": {
          "base_uri": "https://localhost:8080/",
          "height": 0
        },
        "id": "7-Ny9k7JZ5SF",
        "outputId": "e17f3a2a-6dc5-4f8f-d825-05c402e48892"
      },
      "execution_count": 105,
      "outputs": [
        {
          "output_type": "execute_result",
          "data": {
            "text/plain": [
              "diabete\n",
              "0    8482\n",
              "1    8482\n",
              "Name: count, dtype: int64"
            ],
            "text/html": [
              "<div>\n",
              "<style scoped>\n",
              "    .dataframe tbody tr th:only-of-type {\n",
              "        vertical-align: middle;\n",
              "    }\n",
              "\n",
              "    .dataframe tbody tr th {\n",
              "        vertical-align: top;\n",
              "    }\n",
              "\n",
              "    .dataframe thead th {\n",
              "        text-align: right;\n",
              "    }\n",
              "</style>\n",
              "<table border=\"1\" class=\"dataframe\">\n",
              "  <thead>\n",
              "    <tr style=\"text-align: right;\">\n",
              "      <th></th>\n",
              "      <th>count</th>\n",
              "    </tr>\n",
              "    <tr>\n",
              "      <th>diabete</th>\n",
              "      <th></th>\n",
              "    </tr>\n",
              "  </thead>\n",
              "  <tbody>\n",
              "    <tr>\n",
              "      <th>0</th>\n",
              "      <td>8482</td>\n",
              "    </tr>\n",
              "    <tr>\n",
              "      <th>1</th>\n",
              "      <td>8482</td>\n",
              "    </tr>\n",
              "  </tbody>\n",
              "</table>\n",
              "</div><br><label><b>dtype:</b> int64</label>"
            ]
          },
          "metadata": {},
          "execution_count": 105
        }
      ]
    },
    {
      "cell_type": "markdown",
      "source": [
        "#### Análises gráficas"
      ],
      "metadata": {
        "id": "xGJPxW3_KgWy"
      }
    },
    {
      "cell_type": "code",
      "source": [
        "df_under.head()"
      ],
      "metadata": {
        "colab": {
          "base_uri": "https://localhost:8080/",
          "height": 0
        },
        "id": "8f3nJaxvKm8a",
        "outputId": "48fa4ec8-1cff-4432-817d-d5dd132f7b7b"
      },
      "execution_count": 106,
      "outputs": [
        {
          "output_type": "execute_result",
          "data": {
            "text/plain": [
              "       genero  idade  hipertenso  problema_coracao  fumante    imc  \\\n",
              "62494       0   50.0           0                 0    never  28.15   \n",
              "4090        1    8.0           0                 0  No Info  27.32   \n",
              "17652       1   59.0           1                 0   former  43.95   \n",
              "959         1   49.0           0                 0  No Info  28.60   \n",
              "53522       0   51.0           0                 0     ever  37.45   \n",
              "\n",
              "       nivel_hemoglobinaA1c  nivel_glicose_sangue  fumante_cat  diabete  \n",
              "62494                   5.7                   155  nunca_fumou        0  \n",
              "4090                    4.8                   145     sem_info        0  \n",
              "17652                   6.6                    80   fumou_fuma        0  \n",
              "959                     4.5                   130     sem_info        0  \n",
              "53522                   6.2                   160   fumou_fuma        0  "
            ],
            "text/html": [
              "\n",
              "  <div id=\"df-e6908ad1-fd2a-4167-b88d-fd37807ca85c\" class=\"colab-df-container\">\n",
              "    <div>\n",
              "<style scoped>\n",
              "    .dataframe tbody tr th:only-of-type {\n",
              "        vertical-align: middle;\n",
              "    }\n",
              "\n",
              "    .dataframe tbody tr th {\n",
              "        vertical-align: top;\n",
              "    }\n",
              "\n",
              "    .dataframe thead th {\n",
              "        text-align: right;\n",
              "    }\n",
              "</style>\n",
              "<table border=\"1\" class=\"dataframe\">\n",
              "  <thead>\n",
              "    <tr style=\"text-align: right;\">\n",
              "      <th></th>\n",
              "      <th>genero</th>\n",
              "      <th>idade</th>\n",
              "      <th>hipertenso</th>\n",
              "      <th>problema_coracao</th>\n",
              "      <th>fumante</th>\n",
              "      <th>imc</th>\n",
              "      <th>nivel_hemoglobinaA1c</th>\n",
              "      <th>nivel_glicose_sangue</th>\n",
              "      <th>fumante_cat</th>\n",
              "      <th>diabete</th>\n",
              "    </tr>\n",
              "  </thead>\n",
              "  <tbody>\n",
              "    <tr>\n",
              "      <th>62494</th>\n",
              "      <td>0</td>\n",
              "      <td>50.0</td>\n",
              "      <td>0</td>\n",
              "      <td>0</td>\n",
              "      <td>never</td>\n",
              "      <td>28.15</td>\n",
              "      <td>5.7</td>\n",
              "      <td>155</td>\n",
              "      <td>nunca_fumou</td>\n",
              "      <td>0</td>\n",
              "    </tr>\n",
              "    <tr>\n",
              "      <th>4090</th>\n",
              "      <td>1</td>\n",
              "      <td>8.0</td>\n",
              "      <td>0</td>\n",
              "      <td>0</td>\n",
              "      <td>No Info</td>\n",
              "      <td>27.32</td>\n",
              "      <td>4.8</td>\n",
              "      <td>145</td>\n",
              "      <td>sem_info</td>\n",
              "      <td>0</td>\n",
              "    </tr>\n",
              "    <tr>\n",
              "      <th>17652</th>\n",
              "      <td>1</td>\n",
              "      <td>59.0</td>\n",
              "      <td>1</td>\n",
              "      <td>0</td>\n",
              "      <td>former</td>\n",
              "      <td>43.95</td>\n",
              "      <td>6.6</td>\n",
              "      <td>80</td>\n",
              "      <td>fumou_fuma</td>\n",
              "      <td>0</td>\n",
              "    </tr>\n",
              "    <tr>\n",
              "      <th>959</th>\n",
              "      <td>1</td>\n",
              "      <td>49.0</td>\n",
              "      <td>0</td>\n",
              "      <td>0</td>\n",
              "      <td>No Info</td>\n",
              "      <td>28.60</td>\n",
              "      <td>4.5</td>\n",
              "      <td>130</td>\n",
              "      <td>sem_info</td>\n",
              "      <td>0</td>\n",
              "    </tr>\n",
              "    <tr>\n",
              "      <th>53522</th>\n",
              "      <td>0</td>\n",
              "      <td>51.0</td>\n",
              "      <td>0</td>\n",
              "      <td>0</td>\n",
              "      <td>ever</td>\n",
              "      <td>37.45</td>\n",
              "      <td>6.2</td>\n",
              "      <td>160</td>\n",
              "      <td>fumou_fuma</td>\n",
              "      <td>0</td>\n",
              "    </tr>\n",
              "  </tbody>\n",
              "</table>\n",
              "</div>\n",
              "    <div class=\"colab-df-buttons\">\n",
              "\n",
              "  <div class=\"colab-df-container\">\n",
              "    <button class=\"colab-df-convert\" onclick=\"convertToInteractive('df-e6908ad1-fd2a-4167-b88d-fd37807ca85c')\"\n",
              "            title=\"Convert this dataframe to an interactive table.\"\n",
              "            style=\"display:none;\">\n",
              "\n",
              "  <svg xmlns=\"http://www.w3.org/2000/svg\" height=\"24px\" viewBox=\"0 -960 960 960\">\n",
              "    <path d=\"M120-120v-720h720v720H120Zm60-500h600v-160H180v160Zm220 220h160v-160H400v160Zm0 220h160v-160H400v160ZM180-400h160v-160H180v160Zm440 0h160v-160H620v160ZM180-180h160v-160H180v160Zm440 0h160v-160H620v160Z\"/>\n",
              "  </svg>\n",
              "    </button>\n",
              "\n",
              "  <style>\n",
              "    .colab-df-container {\n",
              "      display:flex;\n",
              "      gap: 12px;\n",
              "    }\n",
              "\n",
              "    .colab-df-convert {\n",
              "      background-color: #E8F0FE;\n",
              "      border: none;\n",
              "      border-radius: 50%;\n",
              "      cursor: pointer;\n",
              "      display: none;\n",
              "      fill: #1967D2;\n",
              "      height: 32px;\n",
              "      padding: 0 0 0 0;\n",
              "      width: 32px;\n",
              "    }\n",
              "\n",
              "    .colab-df-convert:hover {\n",
              "      background-color: #E2EBFA;\n",
              "      box-shadow: 0px 1px 2px rgba(60, 64, 67, 0.3), 0px 1px 3px 1px rgba(60, 64, 67, 0.15);\n",
              "      fill: #174EA6;\n",
              "    }\n",
              "\n",
              "    .colab-df-buttons div {\n",
              "      margin-bottom: 4px;\n",
              "    }\n",
              "\n",
              "    [theme=dark] .colab-df-convert {\n",
              "      background-color: #3B4455;\n",
              "      fill: #D2E3FC;\n",
              "    }\n",
              "\n",
              "    [theme=dark] .colab-df-convert:hover {\n",
              "      background-color: #434B5C;\n",
              "      box-shadow: 0px 1px 3px 1px rgba(0, 0, 0, 0.15);\n",
              "      filter: drop-shadow(0px 1px 2px rgba(0, 0, 0, 0.3));\n",
              "      fill: #FFFFFF;\n",
              "    }\n",
              "  </style>\n",
              "\n",
              "    <script>\n",
              "      const buttonEl =\n",
              "        document.querySelector('#df-e6908ad1-fd2a-4167-b88d-fd37807ca85c button.colab-df-convert');\n",
              "      buttonEl.style.display =\n",
              "        google.colab.kernel.accessAllowed ? 'block' : 'none';\n",
              "\n",
              "      async function convertToInteractive(key) {\n",
              "        const element = document.querySelector('#df-e6908ad1-fd2a-4167-b88d-fd37807ca85c');\n",
              "        const dataTable =\n",
              "          await google.colab.kernel.invokeFunction('convertToInteractive',\n",
              "                                                    [key], {});\n",
              "        if (!dataTable) return;\n",
              "\n",
              "        const docLinkHtml = 'Like what you see? Visit the ' +\n",
              "          '<a target=\"_blank\" href=https://colab.research.google.com/notebooks/data_table.ipynb>data table notebook</a>'\n",
              "          + ' to learn more about interactive tables.';\n",
              "        element.innerHTML = '';\n",
              "        dataTable['output_type'] = 'display_data';\n",
              "        await google.colab.output.renderOutput(dataTable, element);\n",
              "        const docLink = document.createElement('div');\n",
              "        docLink.innerHTML = docLinkHtml;\n",
              "        element.appendChild(docLink);\n",
              "      }\n",
              "    </script>\n",
              "  </div>\n",
              "\n",
              "\n",
              "<div id=\"df-4c813a0f-f0e5-4c56-a48f-4ef4ccb2d178\">\n",
              "  <button class=\"colab-df-quickchart\" onclick=\"quickchart('df-4c813a0f-f0e5-4c56-a48f-4ef4ccb2d178')\"\n",
              "            title=\"Suggest charts\"\n",
              "            style=\"display:none;\">\n",
              "\n",
              "<svg xmlns=\"http://www.w3.org/2000/svg\" height=\"24px\"viewBox=\"0 0 24 24\"\n",
              "     width=\"24px\">\n",
              "    <g>\n",
              "        <path d=\"M19 3H5c-1.1 0-2 .9-2 2v14c0 1.1.9 2 2 2h14c1.1 0 2-.9 2-2V5c0-1.1-.9-2-2-2zM9 17H7v-7h2v7zm4 0h-2V7h2v10zm4 0h-2v-4h2v4z\"/>\n",
              "    </g>\n",
              "</svg>\n",
              "  </button>\n",
              "\n",
              "<style>\n",
              "  .colab-df-quickchart {\n",
              "      --bg-color: #E8F0FE;\n",
              "      --fill-color: #1967D2;\n",
              "      --hover-bg-color: #E2EBFA;\n",
              "      --hover-fill-color: #174EA6;\n",
              "      --disabled-fill-color: #AAA;\n",
              "      --disabled-bg-color: #DDD;\n",
              "  }\n",
              "\n",
              "  [theme=dark] .colab-df-quickchart {\n",
              "      --bg-color: #3B4455;\n",
              "      --fill-color: #D2E3FC;\n",
              "      --hover-bg-color: #434B5C;\n",
              "      --hover-fill-color: #FFFFFF;\n",
              "      --disabled-bg-color: #3B4455;\n",
              "      --disabled-fill-color: #666;\n",
              "  }\n",
              "\n",
              "  .colab-df-quickchart {\n",
              "    background-color: var(--bg-color);\n",
              "    border: none;\n",
              "    border-radius: 50%;\n",
              "    cursor: pointer;\n",
              "    display: none;\n",
              "    fill: var(--fill-color);\n",
              "    height: 32px;\n",
              "    padding: 0;\n",
              "    width: 32px;\n",
              "  }\n",
              "\n",
              "  .colab-df-quickchart:hover {\n",
              "    background-color: var(--hover-bg-color);\n",
              "    box-shadow: 0 1px 2px rgba(60, 64, 67, 0.3), 0 1px 3px 1px rgba(60, 64, 67, 0.15);\n",
              "    fill: var(--button-hover-fill-color);\n",
              "  }\n",
              "\n",
              "  .colab-df-quickchart-complete:disabled,\n",
              "  .colab-df-quickchart-complete:disabled:hover {\n",
              "    background-color: var(--disabled-bg-color);\n",
              "    fill: var(--disabled-fill-color);\n",
              "    box-shadow: none;\n",
              "  }\n",
              "\n",
              "  .colab-df-spinner {\n",
              "    border: 2px solid var(--fill-color);\n",
              "    border-color: transparent;\n",
              "    border-bottom-color: var(--fill-color);\n",
              "    animation:\n",
              "      spin 1s steps(1) infinite;\n",
              "  }\n",
              "\n",
              "  @keyframes spin {\n",
              "    0% {\n",
              "      border-color: transparent;\n",
              "      border-bottom-color: var(--fill-color);\n",
              "      border-left-color: var(--fill-color);\n",
              "    }\n",
              "    20% {\n",
              "      border-color: transparent;\n",
              "      border-left-color: var(--fill-color);\n",
              "      border-top-color: var(--fill-color);\n",
              "    }\n",
              "    30% {\n",
              "      border-color: transparent;\n",
              "      border-left-color: var(--fill-color);\n",
              "      border-top-color: var(--fill-color);\n",
              "      border-right-color: var(--fill-color);\n",
              "    }\n",
              "    40% {\n",
              "      border-color: transparent;\n",
              "      border-right-color: var(--fill-color);\n",
              "      border-top-color: var(--fill-color);\n",
              "    }\n",
              "    60% {\n",
              "      border-color: transparent;\n",
              "      border-right-color: var(--fill-color);\n",
              "    }\n",
              "    80% {\n",
              "      border-color: transparent;\n",
              "      border-right-color: var(--fill-color);\n",
              "      border-bottom-color: var(--fill-color);\n",
              "    }\n",
              "    90% {\n",
              "      border-color: transparent;\n",
              "      border-bottom-color: var(--fill-color);\n",
              "    }\n",
              "  }\n",
              "</style>\n",
              "\n",
              "  <script>\n",
              "    async function quickchart(key) {\n",
              "      const quickchartButtonEl =\n",
              "        document.querySelector('#' + key + ' button');\n",
              "      quickchartButtonEl.disabled = true;  // To prevent multiple clicks.\n",
              "      quickchartButtonEl.classList.add('colab-df-spinner');\n",
              "      try {\n",
              "        const charts = await google.colab.kernel.invokeFunction(\n",
              "            'suggestCharts', [key], {});\n",
              "      } catch (error) {\n",
              "        console.error('Error during call to suggestCharts:', error);\n",
              "      }\n",
              "      quickchartButtonEl.classList.remove('colab-df-spinner');\n",
              "      quickchartButtonEl.classList.add('colab-df-quickchart-complete');\n",
              "    }\n",
              "    (() => {\n",
              "      let quickchartButtonEl =\n",
              "        document.querySelector('#df-4c813a0f-f0e5-4c56-a48f-4ef4ccb2d178 button');\n",
              "      quickchartButtonEl.style.display =\n",
              "        google.colab.kernel.accessAllowed ? 'block' : 'none';\n",
              "    })();\n",
              "  </script>\n",
              "</div>\n",
              "\n",
              "    </div>\n",
              "  </div>\n"
            ],
            "application/vnd.google.colaboratory.intrinsic+json": {
              "type": "dataframe",
              "variable_name": "df_under",
              "summary": "{\n  \"name\": \"df_under\",\n  \"rows\": 16964,\n  \"fields\": [\n    {\n      \"column\": \"genero\",\n      \"properties\": {\n        \"dtype\": \"number\",\n        \"std\": 0,\n        \"min\": 0,\n        \"max\": 1,\n        \"num_unique_values\": 2,\n        \"samples\": [\n          1,\n          0\n        ],\n        \"semantic_type\": \"\",\n        \"description\": \"\"\n      }\n    },\n    {\n      \"column\": \"idade\",\n      \"properties\": {\n        \"dtype\": \"number\",\n        \"std\": 21.62643640412092,\n        \"min\": 0.08,\n        \"max\": 80.0,\n        \"num_unique_values\": 102,\n        \"samples\": [\n          62.0,\n          75.0\n        ],\n        \"semantic_type\": \"\",\n        \"description\": \"\"\n      }\n    },\n    {\n      \"column\": \"hipertenso\",\n      \"properties\": {\n        \"dtype\": \"number\",\n        \"std\": 0,\n        \"min\": 0,\n        \"max\": 1,\n        \"num_unique_values\": 2,\n        \"samples\": [\n          1,\n          0\n        ],\n        \"semantic_type\": \"\",\n        \"description\": \"\"\n      }\n    },\n    {\n      \"column\": \"problema_coracao\",\n      \"properties\": {\n        \"dtype\": \"number\",\n        \"std\": 0,\n        \"min\": 0,\n        \"max\": 1,\n        \"num_unique_values\": 2,\n        \"samples\": [\n          1,\n          0\n        ],\n        \"semantic_type\": \"\",\n        \"description\": \"\"\n      }\n    },\n    {\n      \"column\": \"fumante\",\n      \"properties\": {\n        \"dtype\": \"category\",\n        \"num_unique_values\": 6,\n        \"samples\": [\n          \"never\",\n          \"No Info\"\n        ],\n        \"semantic_type\": \"\",\n        \"description\": \"\"\n      }\n    },\n    {\n      \"column\": \"imc\",\n      \"properties\": {\n        \"dtype\": \"number\",\n        \"std\": 7.478652347693073,\n        \"min\": 10.77,\n        \"max\": 88.72,\n        \"num_unique_values\": 3363,\n        \"samples\": [\n          17.96,\n          45.32\n        ],\n        \"semantic_type\": \"\",\n        \"description\": \"\"\n      }\n    },\n    {\n      \"column\": \"nivel_hemoglobinaA1c\",\n      \"properties\": {\n        \"dtype\": \"number\",\n        \"std\": 1.2844764332341194,\n        \"min\": 3.5,\n        \"max\": 9.0,\n        \"num_unique_values\": 18,\n        \"samples\": [\n          5.7,\n          4.8\n        ],\n        \"semantic_type\": \"\",\n        \"description\": \"\"\n      }\n    },\n    {\n      \"column\": \"nivel_glicose_sangue\",\n      \"properties\": {\n        \"dtype\": \"number\",\n        \"std\": 56,\n        \"min\": 80,\n        \"max\": 300,\n        \"num_unique_values\": 18,\n        \"samples\": [\n          155,\n          145\n        ],\n        \"semantic_type\": \"\",\n        \"description\": \"\"\n      }\n    },\n    {\n      \"column\": \"fumante_cat\",\n      \"properties\": {\n        \"dtype\": \"category\",\n        \"num_unique_values\": 3,\n        \"samples\": [\n          \"nunca_fumou\",\n          \"sem_info\"\n        ],\n        \"semantic_type\": \"\",\n        \"description\": \"\"\n      }\n    },\n    {\n      \"column\": \"diabete\",\n      \"properties\": {\n        \"dtype\": \"number\",\n        \"std\": 0,\n        \"min\": 0,\n        \"max\": 1,\n        \"num_unique_values\": 2,\n        \"samples\": [\n          1,\n          0\n        ],\n        \"semantic_type\": \"\",\n        \"description\": \"\"\n      }\n    }\n  ]\n}"
            }
          },
          "metadata": {},
          "execution_count": 106
        }
      ]
    },
    {
      "cell_type": "markdown",
      "source": [
        "##### Idade"
      ],
      "metadata": {
        "id": "idTTbNwaKpO6"
      }
    },
    {
      "cell_type": "code",
      "source": [
        "from scipy.stats import anderson\n",
        "\n",
        "resultado = anderson(df_under.idade)\n",
        "print(f'Estatística: {resultado.statistic}')\n",
        "for i in range(len(resultado.critical_values)):\n",
        "    print(f'Critério {resultado.significance_level[i]}%: {resultado.critical_values[i]}')"
      ],
      "metadata": {
        "colab": {
          "base_uri": "https://localhost:8080/"
        },
        "id": "VTW-5-FFLpfa",
        "outputId": "41edbc5f-e1c9-4390-d803-76b41242167e"
      },
      "execution_count": 107,
      "outputs": [
        {
          "output_type": "stream",
          "name": "stdout",
          "text": [
            "Estatística: 225.57847209886313\n",
            "Critério 15.0%: 0.576\n",
            "Critério 10.0%: 0.656\n",
            "Critério 5.0%: 0.787\n",
            "Critério 2.5%: 0.918\n",
            "Critério 1.0%: 1.092\n"
          ]
        }
      ]
    },
    {
      "cell_type": "code",
      "source": [
        "sns.histplot(data=df_under, x='idade')"
      ],
      "metadata": {
        "colab": {
          "base_uri": "https://localhost:8080/",
          "height": 0
        },
        "id": "-JiYZLXDKr_C",
        "outputId": "bc90ecd1-effa-4c64-b118-553bda6c2183"
      },
      "execution_count": 108,
      "outputs": [
        {
          "output_type": "execute_result",
          "data": {
            "text/plain": [
              "<Axes: xlabel='idade', ylabel='Count'>"
            ]
          },
          "metadata": {},
          "execution_count": 108
        },
        {
          "output_type": "display_data",
          "data": {
            "text/plain": [
              "<Figure size 800x550 with 1 Axes>"
            ],
            "image/png": "[encoded data removed]"
          },
          "metadata": {}
        }
      ]
    },
    {
      "cell_type": "markdown",
      "source": [
        "##### imc"
      ],
      "metadata": {
        "id": "bgiXKYA6avlc"
      }
    },
    {
      "cell_type": "code",
      "source": [
        "resultado = anderson(df_under.imc)\n",
        "print(f'Estatística: {resultado.statistic}')\n",
        "for i in range(len(resultado.critical_values)):\n",
        "    print(f'Critério {resultado.significance_level[i]}%: {resultado.critical_values[i]}')"
      ],
      "metadata": {
        "colab": {
          "base_uri": "https://localhost:8080/"
        },
        "id": "Wiwfj09kMEyz",
        "outputId": "e27c2276-d463-4333-b7f9-b143f5c13b0a"
      },
      "execution_count": 109,
      "outputs": [
        {
          "output_type": "stream",
          "name": "stdout",
          "text": [
            "Estatística: 363.3621405119702\n",
            "Critério 15.0%: 0.576\n",
            "Critério 10.0%: 0.656\n",
            "Critério 5.0%: 0.787\n",
            "Critério 2.5%: 0.918\n",
            "Critério 1.0%: 1.092\n"
          ]
        }
      ]
    },
    {
      "cell_type": "code",
      "source": [
        "sns.histplot(data=df_under, x='imc')"
      ],
      "metadata": {
        "colab": {
          "base_uri": "https://localhost:8080/",
          "height": 0
        },
        "id": "dOdH86szMFL6",
        "outputId": "3de29067-8b08-4693-bae6-b19d323014d5"
      },
      "execution_count": 110,
      "outputs": [
        {
          "output_type": "execute_result",
          "data": {
            "text/plain": [
              "<Axes: xlabel='imc', ylabel='Count'>"
            ]
          },
          "metadata": {},
          "execution_count": 110
        },
        {
          "output_type": "display_data",
          "data": {
            "text/plain": [
              "<Figure size 800x550 with 1 Axes>"
            ],
            "image/png": "[encoded data removed]"
          },
          "metadata": {}
        }
      ]
    },
    {
      "cell_type": "markdown",
      "source": [
        "##### Hemoglobina A1c"
      ],
      "metadata": {
        "id": "4eJPx35IazxM"
      }
    },
    {
      "cell_type": "code",
      "source": [
        "resultado = anderson(df_under.nivel_hemoglobinaA1c)\n",
        "print(f'Estatística: {resultado.statistic}')\n",
        "for i in range(len(resultado.critical_values)):\n",
        "    print(f'Critério {resultado.significance_level[i]}%: {resultado.critical_values[i]}')"
      ],
      "metadata": {
        "colab": {
          "base_uri": "https://localhost:8080/"
        },
        "id": "L9nCnWBnMRyC",
        "outputId": "ec84682e-5267-4c6a-91dd-a9a2421b3692"
      },
      "execution_count": 111,
      "outputs": [
        {
          "output_type": "stream",
          "name": "stdout",
          "text": [
            "Estatística: 358.44058027137\n",
            "Critério 15.0%: 0.576\n",
            "Critério 10.0%: 0.656\n",
            "Critério 5.0%: 0.787\n",
            "Critério 2.5%: 0.918\n",
            "Critério 1.0%: 1.092\n"
          ]
        }
      ]
    },
    {
      "cell_type": "code",
      "source": [
        "sns.histplot(data=df_under, x='nivel_hemoglobinaA1c')"
      ],
      "metadata": {
        "colab": {
          "base_uri": "https://localhost:8080/",
          "height": 0
        },
        "id": "4QoFLv3sMP7K",
        "outputId": "2ccdd443-154e-42eb-efa3-b4a85c23b9dc"
      },
      "execution_count": 112,
      "outputs": [
        {
          "output_type": "execute_result",
          "data": {
            "text/plain": [
              "<Axes: xlabel='nivel_hemoglobinaA1c', ylabel='Count'>"
            ]
          },
          "metadata": {},
          "execution_count": 112
        },
        {
          "output_type": "display_data",
          "data": {
            "text/plain": [
              "<Figure size 800x550 with 1 Axes>"
            ],
            "image/png": "[encoded data removed]"
          },
          "metadata": {}
        }
      ]
    },
    {
      "cell_type": "markdown",
      "source": [
        "##### Glicose no sangue"
      ],
      "metadata": {
        "id": "sMmaD1Hva5Jk"
      }
    },
    {
      "cell_type": "code",
      "source": [
        "resultado = anderson(df_under.nivel_glicose_sangue)\n",
        "print(f'Estatística: {resultado.statistic}')\n",
        "for i in range(len(resultado.critical_values)):\n",
        "    print(f'Critério {resultado.significance_level[i]}%: {resultado.critical_values[i]}')"
      ],
      "metadata": {
        "colab": {
          "base_uri": "https://localhost:8080/"
        },
        "id": "TCteOuYFMWqT",
        "outputId": "d6a8557c-2780-4ac1-a2ee-a900d7430d39"
      },
      "execution_count": 113,
      "outputs": [
        {
          "output_type": "stream",
          "name": "stdout",
          "text": [
            "Estatística: 647.4979537497602\n",
            "Critério 15.0%: 0.576\n",
            "Critério 10.0%: 0.656\n",
            "Critério 5.0%: 0.787\n",
            "Critério 2.5%: 0.918\n",
            "Critério 1.0%: 1.092\n"
          ]
        }
      ]
    },
    {
      "cell_type": "code",
      "source": [
        "sns.histplot(data=df_under, x='nivel_glicose_sangue')"
      ],
      "metadata": {
        "colab": {
          "base_uri": "https://localhost:8080/",
          "height": 0
        },
        "id": "FKG6zgn7MWd7",
        "outputId": "cde5c7b6-15e2-494d-f0ec-b683c10121b1"
      },
      "execution_count": 114,
      "outputs": [
        {
          "output_type": "execute_result",
          "data": {
            "text/plain": [
              "<Axes: xlabel='nivel_glicose_sangue', ylabel='Count'>"
            ]
          },
          "metadata": {},
          "execution_count": 114
        },
        {
          "output_type": "display_data",
          "data": {
            "text/plain": [
              "<Figure size 800x550 with 1 Axes>"
            ],
            "image/png": "[encoded data removed]"
          },
          "metadata": {}
        }
      ]
    },
    {
      "cell_type": "markdown",
      "source": [
        "##### Podemos ver atravez dos testes que nenhuma das variáveis possui distribuição normal"
      ],
      "metadata": {
        "id": "Lh5A1o8RZfsd"
      }
    },
    {
      "cell_type": "markdown",
      "source": [
        "### Testes de Associação"
      ],
      "metadata": {
        "id": "-FR_Y6C9asmk"
      }
    },
    {
      "cell_type": "markdown",
      "source": [
        "#### Hemoglobina A1c\n",
        "A dosagem da hemoglobina glicada, também chamada de hemoglobina glicosilada, hemoglobina A1c ou simplesmente HbA1c, é um exame de sangue muito utilizado para o acompanhamento dos pacientes diabéticos, por ser ele uma forma eficaz de avaliar os níveis médios da glicose sanguínea nos últimos 2 ou 3 meses.\n",
        "## Os valores de referência são:\n",
        "- 4 -> Baixo\n",
        "- 5 & 6 -> Excelentes\n",
        "- 7 & 8 -> Atenção\n",
        "- 9 ou + -> Perigo\n",
        "\n",
        "### O que queremos testar com o teste Qi-Quadrado é se níveis de hemoglobina glicada acima de 6 é um fator que faz diferença para o desenvolvimento do Diabetes no DataFrame"
      ],
      "metadata": {
        "id": "jIzNWu28bcNE"
      }
    },
    {
      "cell_type": "code",
      "source": [
        "df_under['A1c_acima_6'] = df_under['nivel_hemoglobinaA1c'].apply(lambda x: 1 if x > 6 else 0)"
      ],
      "metadata": {
        "id": "2fYbyYa3jxqr"
      },
      "execution_count": 115,
      "outputs": []
    },
    {
      "cell_type": "code",
      "source": [
        "from scipy.stats import chi2_contingency\n",
        "\n",
        "# Tabela de contingência entre A1c > 6 e Diabetes\n",
        "tabela = pd.crosstab(df_under['A1c_acima_6'], df_under['diabete'])\n",
        "\n",
        "# Teste Qui-quadrado\n",
        "chi2, p, dof, expected = chi2_contingency(tabela)\n",
        "\n",
        "print(f\"Estatística Qui-Quadrado: {chi2}, p-valor: {p}\")\n",
        "\n",
        "if p < 0.05:\n",
        "    print(\"Existe associação significativa entre A1c > 6 e diabetes.\")\n",
        "else:\n",
        "    print(\"Não há associação significativa entre A1c > 6 e diabetes.\")\n"
      ],
      "metadata": {
        "colab": {
          "base_uri": "https://localhost:8080/"
        },
        "id": "y3i6TKTAkK3c",
        "outputId": "2d8a9d0a-5c21-4215-aa9c-ceeb81a061a9"
      },
      "execution_count": 116,
      "outputs": [
        {
          "output_type": "stream",
          "name": "stdout",
          "text": [
            "Estatística Qui-Quadrado: 3164.2671705745415, p-valor: 0.0\n",
            "Existe associação significativa entre A1c > 6 e diabetes.\n"
          ]
        }
      ]
    },
    {
      "cell_type": "markdown",
      "source": [
        "O teste confirma o que é esperado pela ciência, que um resultado para o teste de Hemoglobina A1c maior que 6 tem relação com o maior risco de desenvolvimento do diabetes"
      ],
      "metadata": {
        "id": "x8e42jJmkc3y"
      }
    },
    {
      "cell_type": "markdown",
      "source": [
        "#### Nível de glicose no sangue\n",
        "A medição do nível de glicose no sangue é um importante fator de determinação para entender se o paciente é considerado diabetico ou não.\n",
        "## Os valores de referência são:\n",
        "- Menor que 70 -> Baixo\n",
        "- Entre 70 e 100 -> Excelentes\n",
        "- Entre 101 e 125 -> Atenção\n",
        "- Acima de 125 -> Perigo\n",
        "\n",
        "### O que queremos testar com o teste Qi-Quadrado é se níveis de glicose no sangue superiores a 101 pode ser um fator que faz diferença para o desenvolvimento do Diabetes no DataFrame"
      ],
      "metadata": {
        "id": "-9Fr5cU6lDjq"
      }
    },
    {
      "cell_type": "code",
      "source": [
        "df_under['glicose_acima_101'] = df_under['nivel_glicose_sangue'].apply(lambda x: 1 if x > 101 else 0)"
      ],
      "metadata": {
        "id": "_tFBM9ismzLS"
      },
      "execution_count": 117,
      "outputs": []
    },
    {
      "cell_type": "code",
      "source": [
        "from scipy.stats import chi2_contingency\n",
        "\n",
        "# Tabela de contingência entre A1c > 6 e Diabetes\n",
        "tabela = pd.crosstab(df_under['glicose_acima_101'], df_under['diabete'])\n",
        "\n",
        "# Teste Qui-quadrado\n",
        "chi2, p, dof, expected = chi2_contingency(tabela)\n",
        "\n",
        "print(f\"Estatística Qui-Quadrado: {chi2}, p-valor: {p}\")\n",
        "\n",
        "if p < 0.05:\n",
        "    print(\"Existe associação significativa entre Glicose > 101 e diabetes.\")\n",
        "else:\n",
        "    print(\"Não há associação significativa entre Glicose > 101 e diabetes.\")\n"
      ],
      "metadata": {
        "colab": {
          "base_uri": "https://localhost:8080/"
        },
        "id": "DmBlKGqNnA5C",
        "outputId": "0eb13dd7-5450-4425-bef9-305c039006c9"
      },
      "execution_count": 118,
      "outputs": [
        {
          "output_type": "stream",
          "name": "stdout",
          "text": [
            "Estatística Qui-Quadrado: 3039.0152643547663, p-valor: 0.0\n",
            "Existe associação significativa entre Glicose > 101 e diabetes.\n"
          ]
        }
      ]
    },
    {
      "cell_type": "markdown",
      "source": [
        "O teste confirma o que é esperado pela ciência, que um resultado para o teste de Glicose no sangue maior que 101 tem relação com o maior risco de desenvolvimento do diabetes"
      ],
      "metadata": {
        "id": "-2-7hk8dnypy"
      }
    },
    {
      "cell_type": "markdown",
      "source": [
        "#### Hipertensão\n",
        "Segundo os especialistas há uma ligação clara entre as duas doenças, onde o aparecimento de uma pode desencadear ou ser fator de risco para a outra.\n",
        "## Os valores de referência são:\n",
        "- 1 -> Hipertenso\n",
        "- 0 -> Não hipertenso\n",
        "\n",
        "### O que queremos testar com o teste Qi-Quadrado é se pacientes hipertensos tem este fator como uma diferença para o desenvolvimento do Diabetes no DataFrame"
      ],
      "metadata": {
        "id": "Q46exz-OoN45"
      }
    },
    {
      "cell_type": "code",
      "source": [
        "df_under['hiper'] = df_under['hipertenso'].apply(lambda x: 1 if x == 1 else 0)"
      ],
      "metadata": {
        "id": "D9i1xeuuoSUJ"
      },
      "execution_count": 119,
      "outputs": []
    },
    {
      "cell_type": "code",
      "source": [
        "from scipy.stats import chi2_contingency\n",
        "\n",
        "# Tabela de contingência entre IMC > 30 e Diabetes\n",
        "tabela = pd.crosstab(df_under['hiper'], df_under['diabete'])\n",
        "\n",
        "# Teste Qui-quadrado\n",
        "chi2, p, dof, expected = chi2_contingency(tabela)\n",
        "\n",
        "print(f\"Estatística Qui-Quadrado: {chi2}, p-valor: {p}\")\n",
        "\n",
        "if p < 0.05:\n",
        "    print(\"Existe associação significativa entre Hipertensão e diabetes.\")\n",
        "else:\n",
        "    print(\"Não há associação significativa entre Hipertensão e diabetes.\")\n"
      ],
      "metadata": {
        "colab": {
          "base_uri": "https://localhost:8080/"
        },
        "id": "ldmYX5kBoS_5",
        "outputId": "db7b256c-3e8f-4450-ef1e-37c73d695e38"
      },
      "execution_count": 120,
      "outputs": [
        {
          "output_type": "stream",
          "name": "stdout",
          "text": [
            "Estatística Qui-Quadrado: 1103.3686004194967, p-valor: 6.1198347802097526e-242\n",
            "Existe associação significativa entre Hipertensão e diabetes.\n"
          ]
        }
      ]
    },
    {
      "cell_type": "markdown",
      "source": [
        "O teste confirma o esperado, a ligação entre Hipertensão e diabetes"
      ],
      "metadata": {
        "id": "0d3ElqwM2SbG"
      }
    },
    {
      "cell_type": "markdown",
      "source": [
        "#### Problemas no coração\n",
        "Segundo os especialistas há uma ligação clara entre as duas doenças, onde o aparecimento de uma pode desencadear ou ser fator de risco para a outra.\n",
        "## Os valores de referência são:\n",
        "- 1 -> Tem problemas\n",
        "- 0 -> Não tem problemas\n",
        "\n",
        "### O que queremos testar com o teste Qi-Quadrado é se pacientes com problemas no coração tem este fator como uma diferença para o desenvolvimento do Diabetes no DataFrame"
      ],
      "metadata": {
        "id": "u2JEgAnmtnbI"
      }
    },
    {
      "cell_type": "code",
      "source": [
        "df_under['coracao'] = df_under['problema_coracao'].apply(lambda x: 1 if x == 1 else 0)"
      ],
      "metadata": {
        "id": "44vaGE_wt5Jv"
      },
      "execution_count": 121,
      "outputs": []
    },
    {
      "cell_type": "code",
      "source": [
        "from scipy.stats import chi2_contingency\n",
        "\n",
        "# Tabela de contingência entre IMC > 30 e Diabetes\n",
        "tabela = pd.crosstab(df_under['coracao'], df_under['diabete'])\n",
        "\n",
        "# Teste Qui-quadrado\n",
        "chi2, p, dof, expected = chi2_contingency(tabela)\n",
        "\n",
        "print(f\"Estatística Qui-Quadrado: {chi2}, p-valor: {p}\")\n",
        "\n",
        "if p < 0.05:\n",
        "    print(\"Existe associação significativa entre Problemas no coração e diabetes.\")\n",
        "else:\n",
        "    print(\"Não há associação significativa entre Problemas no coração e diabetes.\")\n"
      ],
      "metadata": {
        "colab": {
          "base_uri": "https://localhost:8080/"
        },
        "id": "PKxnfroAt4_Z",
        "outputId": "2b7e76e8-143b-48eb-f17d-ea02f6ec61aa"
      },
      "execution_count": 122,
      "outputs": [
        {
          "output_type": "stream",
          "name": "stdout",
          "text": [
            "Estatística Qui-Quadrado: 802.4239925962172, p-valor: 1.6034022576248457e-176\n",
            "Existe associação significativa entre Problemas no coração e diabetes.\n"
          ]
        }
      ]
    },
    {
      "cell_type": "markdown",
      "source": [
        "O teste confirma o esperado, a ligação entre Problemas no coração e diabetes"
      ],
      "metadata": {
        "id": "bEmmzpEx2X5X"
      }
    },
    {
      "cell_type": "markdown",
      "source": [
        "#### Fumante\n",
        "Segundo os especialistas há uma ligação clara entre fumar e o desenvolvimento de diabetes.\n",
        "## Os valores de referência são:\n",
        "- fumou/fuma -> Já fumou\n",
        "- nunca_fumou -> Não fumou\n",
        "\n",
        "### O que queremos testar com o teste Qi-Quadrado é se pacientes que fumam ou já fumaram tem este fator como uma diferença para o desenvolvimento do Diabetes no DataFrame"
      ],
      "metadata": {
        "id": "36j6mI1CuOpo"
      }
    },
    {
      "cell_type": "code",
      "source": [
        "df_under['fuma'] = df_under['fumante_cat'].apply(lambda x: 1 if x == 'fumou/fuma' else 0)"
      ],
      "metadata": {
        "id": "TnI15Jc0uJjH"
      },
      "execution_count": 123,
      "outputs": []
    },
    {
      "cell_type": "code",
      "source": [
        "from scipy.stats import chi2_contingency\n",
        "\n",
        "# Tabela de contingência entre IMC > 30 e Diabetes\n",
        "tabela = pd.crosstab(df_under['fuma'], df_under['diabete'])\n",
        "\n",
        "# Teste Qui-quadrado\n",
        "chi2, p, dof, expected = chi2_contingency(tabela)\n",
        "\n",
        "print(f\"Estatística Qui-Quadrado: {chi2}, p-valor: {p}\")\n",
        "\n",
        "if p < 0.05:\n",
        "    print(\"Existe associação significativa entre Tabagismo e diabetes.\")\n",
        "else:\n",
        "    print(\"Não há associação significativa entre Tabagismo e diabetes.\")\n"
      ],
      "metadata": {
        "colab": {
          "base_uri": "https://localhost:8080/"
        },
        "id": "12ZsAWPfukQZ",
        "outputId": "f6c02a9a-95ee-4ca0-9371-e88d32346268"
      },
      "execution_count": 124,
      "outputs": [
        {
          "output_type": "stream",
          "name": "stdout",
          "text": [
            "Estatística Qui-Quadrado: 0.0, p-valor: 1.0\n",
            "Não há associação significativa entre Tabagismo e diabetes.\n"
          ]
        }
      ]
    },
    {
      "cell_type": "markdown",
      "source": [
        "O teste confirma o esperado, a ligação entre Tabagismo e diabetes"
      ],
      "metadata": {
        "id": "yU_gxMoy2bcH"
      }
    },
    {
      "cell_type": "markdown",
      "source": [
        "#### IMC\n",
        "Segundo os especialistas há uma ligação clara entre o aumento do peso de forma não saudavel e a diabetes, claro que o IMC não é uma metrica boa de se análisar sozinha pois o ganho de peso pode ser de forma saudavel.\n",
        "## Os valores de referência são:\n",
        "- Entre 18,5 & 24,9 -> IMC normal\n",
        "- Entre 25 & 29,9 -> IMC pouco acima\n",
        "- Maior que 30 -> IMC acima\n",
        "- Maior que 35 -> IMC muito acima\n",
        "\n",
        "### O que queremos testar com o teste Qi-Quadrado é se pacientes com peso corporal pouco acima já tem este fator como uma diferença para o desenvolvimento do Diabetes no DataFrame"
      ],
      "metadata": {
        "id": "h5U-bCNLvDDH"
      }
    },
    {
      "cell_type": "code",
      "source": [
        "df_under['IMC_acima_25'] = df_under['imc'].apply(lambda x: 1 if x > 25 else 0)"
      ],
      "metadata": {
        "id": "c8zjbsZfvDSn"
      },
      "execution_count": 125,
      "outputs": []
    },
    {
      "cell_type": "code",
      "source": [
        "from scipy.stats import chi2_contingency\n",
        "\n",
        "# Tabela de contingência entre IMC > 30 e Diabetes\n",
        "tabela = pd.crosstab(df_under['IMC_acima_25'], df_under['diabete'])\n",
        "\n",
        "# Teste Qui-quadrado\n",
        "chi2, p, dof, expected = chi2_contingency(tabela)\n",
        "\n",
        "print(f\"Estatística Qui-Quadrado: {chi2}, p-valor: {p}\")\n",
        "\n",
        "if p < 0.05:\n",
        "    print(\"Existe associação significativa entre IMC > 25 e diabetes.\")\n",
        "else:\n",
        "    print(\"Não há associação significativa entre IMC > 25 e diabetes.\")\n"
      ],
      "metadata": {
        "colab": {
          "base_uri": "https://localhost:8080/"
        },
        "id": "mQel2aLLvDcv",
        "outputId": "33905403-3713-4c8e-ba58-9312cf964ca0"
      },
      "execution_count": 126,
      "outputs": [
        {
          "output_type": "stream",
          "name": "stdout",
          "text": [
            "Estatística Qui-Quadrado: 1342.9776021732005, p-valor: 5.1725169550073556e-294\n",
            "Existe associação significativa entre IMC > 25 e diabetes.\n"
          ]
        }
      ]
    },
    {
      "cell_type": "markdown",
      "source": [
        "O teste confirma o esperado, a ligação entre IMC acima de 30 e diabetes"
      ],
      "metadata": {
        "id": "o-GAkTrJ2gr-"
      }
    },
    {
      "cell_type": "markdown",
      "source": [
        "### Tratando os dados para o modelo"
      ],
      "metadata": {
        "id": "Rzw2220P2GCv"
      }
    },
    {
      "cell_type": "code",
      "source": [
        "df_under.head()"
      ],
      "metadata": {
        "colab": {
          "base_uri": "https://localhost:8080/",
          "height": 206
        },
        "id": "vGgFvE574U1W",
        "outputId": "890e27e6-5d4a-4297-a802-478486d9823b"
      },
      "execution_count": 127,
      "outputs": [
        {
          "output_type": "execute_result",
          "data": {
            "text/plain": [
              "       genero  idade  hipertenso  problema_coracao  fumante    imc  \\\n",
              "62494       0   50.0           0                 0    never  28.15   \n",
              "4090        1    8.0           0                 0  No Info  27.32   \n",
              "17652       1   59.0           1                 0   former  43.95   \n",
              "959         1   49.0           0                 0  No Info  28.60   \n",
              "53522       0   51.0           0                 0     ever  37.45   \n",
              "\n",
              "       nivel_hemoglobinaA1c  nivel_glicose_sangue  fumante_cat  diabete  \\\n",
              "62494                   5.7                   155  nunca_fumou        0   \n",
              "4090                    4.8                   145     sem_info        0   \n",
              "17652                   6.6                    80   fumou_fuma        0   \n",
              "959                     4.5                   130     sem_info        0   \n",
              "53522                   6.2                   160   fumou_fuma        0   \n",
              "\n",
              "       A1c_acima_6  glicose_acima_101  hiper  coracao  fuma  IMC_acima_25  \n",
              "62494            0                  1      0        0     0             1  \n",
              "4090             0                  1      0        0     0             1  \n",
              "17652            1                  0      1        0     0             1  \n",
              "959              0                  1      0        0     0             1  \n",
              "53522            1                  1      0        0     0             1  "
            ],
            "text/html": [
              "\n",
              "  <div id=\"df-5a12b246-36b7-466b-94f1-ee15f32324f8\" class=\"colab-df-container\">\n",
              "    <div>\n",
              "<style scoped>\n",
              "    .dataframe tbody tr th:only-of-type {\n",
              "        vertical-align: middle;\n",
              "    }\n",
              "\n",
              "    .dataframe tbody tr th {\n",
              "        vertical-align: top;\n",
              "    }\n",
              "\n",
              "    .dataframe thead th {\n",
              "        text-align: right;\n",
              "    }\n",
              "</style>\n",
              "<table border=\"1\" class=\"dataframe\">\n",
              "  <thead>\n",
              "    <tr style=\"text-align: right;\">\n",
              "      <th></th>\n",
              "      <th>genero</th>\n",
              "      <th>idade</th>\n",
              "      <th>hipertenso</th>\n",
              "      <th>problema_coracao</th>\n",
              "      <th>fumante</th>\n",
              "      <th>imc</th>\n",
              "      <th>nivel_hemoglobinaA1c</th>\n",
              "      <th>nivel_glicose_sangue</th>\n",
              "      <th>fumante_cat</th>\n",
              "      <th>diabete</th>\n",
              "      <th>A1c_acima_6</th>\n",
              "      <th>glicose_acima_101</th>\n",
              "      <th>hiper</th>\n",
              "      <th>coracao</th>\n",
              "      <th>fuma</th>\n",
              "      <th>IMC_acima_25</th>\n",
              "    </tr>\n",
              "  </thead>\n",
              "  <tbody>\n",
              "    <tr>\n",
              "      <th>62494</th>\n",
              "      <td>0</td>\n",
              "      <td>50.0</td>\n",
              "      <td>0</td>\n",
              "      <td>0</td>\n",
              "      <td>never</td>\n",
              "      <td>28.15</td>\n",
              "      <td>5.7</td>\n",
              "      <td>155</td>\n",
              "      <td>nunca_fumou</td>\n",
              "      <td>0</td>\n",
              "      <td>0</td>\n",
              "      <td>1</td>\n",
              "      <td>0</td>\n",
              "      <td>0</td>\n",
              "      <td>0</td>\n",
              "      <td>1</td>\n",
              "    </tr>\n",
              "    <tr>\n",
              "      <th>4090</th>\n",
              "      <td>1</td>\n",
              "      <td>8.0</td>\n",
              "      <td>0</td>\n",
              "      <td>0</td>\n",
              "      <td>No Info</td>\n",
              "      <td>27.32</td>\n",
              "      <td>4.8</td>\n",
              "      <td>145</td>\n",
              "      <td>sem_info</td>\n",
              "      <td>0</td>\n",
              "      <td>0</td>\n",
              "      <td>1</td>\n",
              "      <td>0</td>\n",
              "      <td>0</td>\n",
              "      <td>0</td>\n",
              "      <td>1</td>\n",
              "    </tr>\n",
              "    <tr>\n",
              "      <th>17652</th>\n",
              "      <td>1</td>\n",
              "      <td>59.0</td>\n",
              "      <td>1</td>\n",
              "      <td>0</td>\n",
              "      <td>former</td>\n",
              "      <td>43.95</td>\n",
              "      <td>6.6</td>\n",
              "      <td>80</td>\n",
              "      <td>fumou_fuma</td>\n",
              "      <td>0</td>\n",
              "      <td>1</td>\n",
              "      <td>0</td>\n",
              "      <td>1</td>\n",
              "      <td>0</td>\n",
              "      <td>0</td>\n",
              "      <td>1</td>\n",
              "    </tr>\n",
              "    <tr>\n",
              "      <th>959</th>\n",
              "      <td>1</td>\n",
              "      <td>49.0</td>\n",
              "      <td>0</td>\n",
              "      <td>0</td>\n",
              "      <td>No Info</td>\n",
              "      <td>28.60</td>\n",
              "      <td>4.5</td>\n",
              "      <td>130</td>\n",
              "      <td>sem_info</td>\n",
              "      <td>0</td>\n",
              "      <td>0</td>\n",
              "      <td>1</td>\n",
              "      <td>0</td>\n",
              "      <td>0</td>\n",
              "      <td>0</td>\n",
              "      <td>1</td>\n",
              "    </tr>\n",
              "    <tr>\n",
              "      <th>53522</th>\n",
              "      <td>0</td>\n",
              "      <td>51.0</td>\n",
              "      <td>0</td>\n",
              "      <td>0</td>\n",
              "      <td>ever</td>\n",
              "      <td>37.45</td>\n",
              "      <td>6.2</td>\n",
              "      <td>160</td>\n",
              "      <td>fumou_fuma</td>\n",
              "      <td>0</td>\n",
              "      <td>1</td>\n",
              "      <td>1</td>\n",
              "      <td>0</td>\n",
              "      <td>0</td>\n",
              "      <td>0</td>\n",
              "      <td>1</td>\n",
              "    </tr>\n",
              "  </tbody>\n",
              "</table>\n",
              "</div>\n",
              "    <div class=\"colab-df-buttons\">\n",
              "\n",
              "  <div class=\"colab-df-container\">\n",
              "    <button class=\"colab-df-convert\" onclick=\"convertToInteractive('df-5a12b246-36b7-466b-94f1-ee15f32324f8')\"\n",
              "            title=\"Convert this dataframe to an interactive table.\"\n",
              "            style=\"display:none;\">\n",
              "\n",
              "  <svg xmlns=\"http://www.w3.org/2000/svg\" height=\"24px\" viewBox=\"0 -960 960 960\">\n",
              "    <path d=\"M120-120v-720h720v720H120Zm60-500h600v-160H180v160Zm220 220h160v-160H400v160Zm0 220h160v-160H400v160ZM180-400h160v-160H180v160Zm440 0h160v-160H620v160ZM180-180h160v-160H180v160Zm440 0h160v-160H620v160Z\"/>\n",
              "  </svg>\n",
              "    </button>\n",
              "\n",
              "  <style>\n",
              "    .colab-df-container {\n",
              "      display:flex;\n",
              "      gap: 12px;\n",
              "    }\n",
              "\n",
              "    .colab-df-convert {\n",
              "      background-color: #E8F0FE;\n",
              "      border: none;\n",
              "      border-radius: 50%;\n",
              "      cursor: pointer;\n",
              "      display: none;\n",
              "      fill: #1967D2;\n",
              "      height: 32px;\n",
              "      padding: 0 0 0 0;\n",
              "      width: 32px;\n",
              "    }\n",
              "\n",
              "    .colab-df-convert:hover {\n",
              "      background-color: #E2EBFA;\n",
              "      box-shadow: 0px 1px 2px rgba(60, 64, 67, 0.3), 0px 1px 3px 1px rgba(60, 64, 67, 0.15);\n",
              "      fill: #174EA6;\n",
              "    }\n",
              "\n",
              "    .colab-df-buttons div {\n",
              "      margin-bottom: 4px;\n",
              "    }\n",
              "\n",
              "    [theme=dark] .colab-df-convert {\n",
              "      background-color: #3B4455;\n",
              "      fill: #D2E3FC;\n",
              "    }\n",
              "\n",
              "    [theme=dark] .colab-df-convert:hover {\n",
              "      background-color: #434B5C;\n",
              "      box-shadow: 0px 1px 3px 1px rgba(0, 0, 0, 0.15);\n",
              "      filter: drop-shadow(0px 1px 2px rgba(0, 0, 0, 0.3));\n",
              "      fill: #FFFFFF;\n",
              "    }\n",
              "  </style>\n",
              "\n",
              "    <script>\n",
              "      const buttonEl =\n",
              "        document.querySelector('#df-5a12b246-36b7-466b-94f1-ee15f32324f8 button.colab-df-convert');\n",
              "      buttonEl.style.display =\n",
              "        google.colab.kernel.accessAllowed ? 'block' : 'none';\n",
              "\n",
              "      async function convertToInteractive(key) {\n",
              "        const element = document.querySelector('#df-5a12b246-36b7-466b-94f1-ee15f32324f8');\n",
              "        const dataTable =\n",
              "          await google.colab.kernel.invokeFunction('convertToInteractive',\n",
              "                                                    [key], {});\n",
              "        if (!dataTable) return;\n",
              "\n",
              "        const docLinkHtml = 'Like what you see? Visit the ' +\n",
              "          '<a target=\"_blank\" href=https://colab.research.google.com/notebooks/data_table.ipynb>data table notebook</a>'\n",
              "          + ' to learn more about interactive tables.';\n",
              "        element.innerHTML = '';\n",
              "        dataTable['output_type'] = 'display_data';\n",
              "        await google.colab.output.renderOutput(dataTable, element);\n",
              "        const docLink = document.createElement('div');\n",
              "        docLink.innerHTML = docLinkHtml;\n",
              "        element.appendChild(docLink);\n",
              "      }\n",
              "    </script>\n",
              "  </div>\n",
              "\n",
              "\n",
              "<div id=\"df-12dab696-d959-41a6-86c2-bcda0c494ff1\">\n",
              "  <button class=\"colab-df-quickchart\" onclick=\"quickchart('df-12dab696-d959-41a6-86c2-bcda0c494ff1')\"\n",
              "            title=\"Suggest charts\"\n",
              "            style=\"display:none;\">\n",
              "\n",
              "<svg xmlns=\"http://www.w3.org/2000/svg\" height=\"24px\"viewBox=\"0 0 24 24\"\n",
              "     width=\"24px\">\n",
              "    <g>\n",
              "        <path d=\"M19 3H5c-1.1 0-2 .9-2 2v14c0 1.1.9 2 2 2h14c1.1 0 2-.9 2-2V5c0-1.1-.9-2-2-2zM9 17H7v-7h2v7zm4 0h-2V7h2v10zm4 0h-2v-4h2v4z\"/>\n",
              "    </g>\n",
              "</svg>\n",
              "  </button>\n",
              "\n",
              "<style>\n",
              "  .colab-df-quickchart {\n",
              "      --bg-color: #E8F0FE;\n",
              "      --fill-color: #1967D2;\n",
              "      --hover-bg-color: #E2EBFA;\n",
              "      --hover-fill-color: #174EA6;\n",
              "      --disabled-fill-color: #AAA;\n",
              "      --disabled-bg-color: #DDD;\n",
              "  }\n",
              "\n",
              "  [theme=dark] .colab-df-quickchart {\n",
              "      --bg-color: #3B4455;\n",
              "      --fill-color: #D2E3FC;\n",
              "      --hover-bg-color: #434B5C;\n",
              "      --hover-fill-color: #FFFFFF;\n",
              "      --disabled-bg-color: #3B4455;\n",
              "      --disabled-fill-color: #666;\n",
              "  }\n",
              "\n",
              "  .colab-df-quickchart {\n",
              "    background-color: var(--bg-color);\n",
              "    border: none;\n",
              "    border-radius: 50%;\n",
              "    cursor: pointer;\n",
              "    display: none;\n",
              "    fill: var(--fill-color);\n",
              "    height: 32px;\n",
              "    padding: 0;\n",
              "    width: 32px;\n",
              "  }\n",
              "\n",
              "  .colab-df-quickchart:hover {\n",
              "    background-color: var(--hover-bg-color);\n",
              "    box-shadow: 0 1px 2px rgba(60, 64, 67, 0.3), 0 1px 3px 1px rgba(60, 64, 67, 0.15);\n",
              "    fill: var(--button-hover-fill-color);\n",
              "  }\n",
              "\n",
              "  .colab-df-quickchart-complete:disabled,\n",
              "  .colab-df-quickchart-complete:disabled:hover {\n",
              "    background-color: var(--disabled-bg-color);\n",
              "    fill: var(--disabled-fill-color);\n",
              "    box-shadow: none;\n",
              "  }\n",
              "\n",
              "  .colab-df-spinner {\n",
              "    border: 2px solid var(--fill-color);\n",
              "    border-color: transparent;\n",
              "    border-bottom-color: var(--fill-color);\n",
              "    animation:\n",
              "      spin 1s steps(1) infinite;\n",
              "  }\n",
              "\n",
              "  @keyframes spin {\n",
              "    0% {\n",
              "      border-color: transparent;\n",
              "      border-bottom-color: var(--fill-color);\n",
              "      border-left-color: var(--fill-color);\n",
              "    }\n",
              "    20% {\n",
              "      border-color: transparent;\n",
              "      border-left-color: var(--fill-color);\n",
              "      border-top-color: var(--fill-color);\n",
              "    }\n",
              "    30% {\n",
              "      border-color: transparent;\n",
              "      border-left-color: var(--fill-color);\n",
              "      border-top-color: var(--fill-color);\n",
              "      border-right-color: var(--fill-color);\n",
              "    }\n",
              "    40% {\n",
              "      border-color: transparent;\n",
              "      border-right-color: var(--fill-color);\n",
              "      border-top-color: var(--fill-color);\n",
              "    }\n",
              "    60% {\n",
              "      border-color: transparent;\n",
              "      border-right-color: var(--fill-color);\n",
              "    }\n",
              "    80% {\n",
              "      border-color: transparent;\n",
              "      border-right-color: var(--fill-color);\n",
              "      border-bottom-color: var(--fill-color);\n",
              "    }\n",
              "    90% {\n",
              "      border-color: transparent;\n",
              "      border-bottom-color: var(--fill-color);\n",
              "    }\n",
              "  }\n",
              "</style>\n",
              "\n",
              "  <script>\n",
              "    async function quickchart(key) {\n",
              "      const quickchartButtonEl =\n",
              "        document.querySelector('#' + key + ' button');\n",
              "      quickchartButtonEl.disabled = true;  // To prevent multiple clicks.\n",
              "      quickchartButtonEl.classList.add('colab-df-spinner');\n",
              "      try {\n",
              "        const charts = await google.colab.kernel.invokeFunction(\n",
              "            'suggestCharts', [key], {});\n",
              "      } catch (error) {\n",
              "        console.error('Error during call to suggestCharts:', error);\n",
              "      }\n",
              "      quickchartButtonEl.classList.remove('colab-df-spinner');\n",
              "      quickchartButtonEl.classList.add('colab-df-quickchart-complete');\n",
              "    }\n",
              "    (() => {\n",
              "      let quickchartButtonEl =\n",
              "        document.querySelector('#df-12dab696-d959-41a6-86c2-bcda0c494ff1 button');\n",
              "      quickchartButtonEl.style.display =\n",
              "        google.colab.kernel.accessAllowed ? 'block' : 'none';\n",
              "    })();\n",
              "  </script>\n",
              "</div>\n",
              "\n",
              "    </div>\n",
              "  </div>\n"
            ],
            "application/vnd.google.colaboratory.intrinsic+json": {
              "type": "dataframe",
              "variable_name": "df_under",
              "summary": "{\n  \"name\": \"df_under\",\n  \"rows\": 16964,\n  \"fields\": [\n    {\n      \"column\": \"genero\",\n      \"properties\": {\n        \"dtype\": \"number\",\n        \"std\": 0,\n        \"min\": 0,\n        \"max\": 1,\n        \"num_unique_values\": 2,\n        \"samples\": [\n          1,\n          0\n        ],\n        \"semantic_type\": \"\",\n        \"description\": \"\"\n      }\n    },\n    {\n      \"column\": \"idade\",\n      \"properties\": {\n        \"dtype\": \"number\",\n        \"std\": 21.62643640412092,\n        \"min\": 0.08,\n        \"max\": 80.0,\n        \"num_unique_values\": 102,\n        \"samples\": [\n          62.0,\n          75.0\n        ],\n        \"semantic_type\": \"\",\n        \"description\": \"\"\n      }\n    },\n    {\n      \"column\": \"hipertenso\",\n      \"properties\": {\n        \"dtype\": \"number\",\n        \"std\": 0,\n        \"min\": 0,\n        \"max\": 1,\n        \"num_unique_values\": 2,\n        \"samples\": [\n          1,\n          0\n        ],\n        \"semantic_type\": \"\",\n        \"description\": \"\"\n      }\n    },\n    {\n      \"column\": \"problema_coracao\",\n      \"properties\": {\n        \"dtype\": \"number\",\n        \"std\": 0,\n        \"min\": 0,\n        \"max\": 1,\n        \"num_unique_values\": 2,\n        \"samples\": [\n          1,\n          0\n        ],\n        \"semantic_type\": \"\",\n        \"description\": \"\"\n      }\n    },\n    {\n      \"column\": \"fumante\",\n      \"properties\": {\n        \"dtype\": \"category\",\n        \"num_unique_values\": 6,\n        \"samples\": [\n          \"never\",\n          \"No Info\"\n        ],\n        \"semantic_type\": \"\",\n        \"description\": \"\"\n      }\n    },\n    {\n      \"column\": \"imc\",\n      \"properties\": {\n        \"dtype\": \"number\",\n        \"std\": 7.478652347693073,\n        \"min\": 10.77,\n        \"max\": 88.72,\n        \"num_unique_values\": 3363,\n        \"samples\": [\n          17.96,\n          45.32\n        ],\n        \"semantic_type\": \"\",\n        \"description\": \"\"\n      }\n    },\n    {\n      \"column\": \"nivel_hemoglobinaA1c\",\n      \"properties\": {\n        \"dtype\": \"number\",\n        \"std\": 1.2844764332341194,\n        \"min\": 3.5,\n        \"max\": 9.0,\n        \"num_unique_values\": 18,\n        \"samples\": [\n          5.7,\n          4.8\n        ],\n        \"semantic_type\": \"\",\n        \"description\": \"\"\n      }\n    },\n    {\n      \"column\": \"nivel_glicose_sangue\",\n      \"properties\": {\n        \"dtype\": \"number\",\n        \"std\": 56,\n        \"min\": 80,\n        \"max\": 300,\n        \"num_unique_values\": 18,\n        \"samples\": [\n          155,\n          145\n        ],\n        \"semantic_type\": \"\",\n        \"description\": \"\"\n      }\n    },\n    {\n      \"column\": \"fumante_cat\",\n      \"properties\": {\n        \"dtype\": \"category\",\n        \"num_unique_values\": 3,\n        \"samples\": [\n          \"nunca_fumou\",\n          \"sem_info\"\n        ],\n        \"semantic_type\": \"\",\n        \"description\": \"\"\n      }\n    },\n    {\n      \"column\": \"diabete\",\n      \"properties\": {\n        \"dtype\": \"number\",\n        \"std\": 0,\n        \"min\": 0,\n        \"max\": 1,\n        \"num_unique_values\": 2,\n        \"samples\": [\n          1,\n          0\n        ],\n        \"semantic_type\": \"\",\n        \"description\": \"\"\n      }\n    },\n    {\n      \"column\": \"A1c_acima_6\",\n      \"properties\": {\n        \"dtype\": \"number\",\n        \"std\": 0,\n        \"min\": 0,\n        \"max\": 1,\n        \"num_unique_values\": 2,\n        \"samples\": [\n          1,\n          0\n        ],\n        \"semantic_type\": \"\",\n        \"description\": \"\"\n      }\n    },\n    {\n      \"column\": \"glicose_acima_101\",\n      \"properties\": {\n        \"dtype\": \"number\",\n        \"std\": 0,\n        \"min\": 0,\n        \"max\": 1,\n        \"num_unique_values\": 2,\n        \"samples\": [\n          0,\n          1\n        ],\n        \"semantic_type\": \"\",\n        \"description\": \"\"\n      }\n    },\n    {\n      \"column\": \"hiper\",\n      \"properties\": {\n        \"dtype\": \"number\",\n        \"std\": 0,\n        \"min\": 0,\n        \"max\": 1,\n        \"num_unique_values\": 2,\n        \"samples\": [\n          1,\n          0\n        ],\n        \"semantic_type\": \"\",\n        \"description\": \"\"\n      }\n    },\n    {\n      \"column\": \"coracao\",\n      \"properties\": {\n        \"dtype\": \"number\",\n        \"std\": 0,\n        \"min\": 0,\n        \"max\": 1,\n        \"num_unique_values\": 2,\n        \"samples\": [\n          1,\n          0\n        ],\n        \"semantic_type\": \"\",\n        \"description\": \"\"\n      }\n    },\n    {\n      \"column\": \"fuma\",\n      \"properties\": {\n        \"dtype\": \"number\",\n        \"std\": 0,\n        \"min\": 0,\n        \"max\": 0,\n        \"num_unique_values\": 1,\n        \"samples\": [\n          0\n        ],\n        \"semantic_type\": \"\",\n        \"description\": \"\"\n      }\n    },\n    {\n      \"column\": \"IMC_acima_25\",\n      \"properties\": {\n        \"dtype\": \"number\",\n        \"std\": 0,\n        \"min\": 0,\n        \"max\": 1,\n        \"num_unique_values\": 2,\n        \"samples\": [\n          0\n        ],\n        \"semantic_type\": \"\",\n        \"description\": \"\"\n      }\n    }\n  ]\n}"
            }
          },
          "metadata": {},
          "execution_count": 127
        }
      ]
    },
    {
      "cell_type": "code",
      "source": [
        "df_under.drop(['fumante', 'A1c_acima_6', 'glicose_acima_101', 'hiper', 'hipertenso', 'coracao', 'fuma','IMC_acima_25'], axis=1,inplace=True)"
      ],
      "metadata": {
        "id": "zmAOQHhA4X0P"
      },
      "execution_count": 128,
      "outputs": []
    },
    {
      "cell_type": "code",
      "source": [
        "df_modelos = pd.get_dummies(df_under, columns=['fumante_cat'])\n",
        "df_modelos.fumante_cat_nunca_fumou = df_modelos.fumante_cat_nunca_fumou.astype(int)\n",
        "df_modelos.fumante_cat_fumou_fuma = df_modelos.fumante_cat_fumou_fuma.astype(int)\n",
        "df_modelos.fumante_cat_sem_info = df_modelos.fumante_cat_sem_info.astype(int)\n",
        "df_modelos.head(1)"
      ],
      "metadata": {
        "colab": {
          "base_uri": "https://localhost:8080/",
          "height": 81
        },
        "id": "p8t5kimF5fKm",
        "outputId": "1f6b9397-0c5d-4b0d-c615-c7db55150bbe"
      },
      "execution_count": 129,
      "outputs": [
        {
          "output_type": "execute_result",
          "data": {
            "text/plain": [
              "       genero  idade  problema_coracao    imc  nivel_hemoglobinaA1c  \\\n",
              "62494       0   50.0                 0  28.15                   5.7   \n",
              "\n",
              "       nivel_glicose_sangue  diabete  fumante_cat_fumou_fuma  \\\n",
              "62494                   155        0                       0   \n",
              "\n",
              "       fumante_cat_nunca_fumou  fumante_cat_sem_info  \n",
              "62494                        1                     0  "
            ],
            "text/html": [
              "\n",
              "  <div id=\"df-072bd1d7-a221-4a8d-be33-5a62662f908d\" class=\"colab-df-container\">\n",
              "    <div>\n",
              "<style scoped>\n",
              "    .dataframe tbody tr th:only-of-type {\n",
              "        vertical-align: middle;\n",
              "    }\n",
              "\n",
              "    .dataframe tbody tr th {\n",
              "        vertical-align: top;\n",
              "    }\n",
              "\n",
              "    .dataframe thead th {\n",
              "        text-align: right;\n",
              "    }\n",
              "</style>\n",
              "<table border=\"1\" class=\"dataframe\">\n",
              "  <thead>\n",
              "    <tr style=\"text-align: right;\">\n",
              "      <th></th>\n",
              "      <th>genero</th>\n",
              "      <th>idade</th>\n",
              "      <th>problema_coracao</th>\n",
              "      <th>imc</th>\n",
              "      <th>nivel_hemoglobinaA1c</th>\n",
              "      <th>nivel_glicose_sangue</th>\n",
              "      <th>diabete</th>\n",
              "      <th>fumante_cat_fumou_fuma</th>\n",
              "      <th>fumante_cat_nunca_fumou</th>\n",
              "      <th>fumante_cat_sem_info</th>\n",
              "    </tr>\n",
              "  </thead>\n",
              "  <tbody>\n",
              "    <tr>\n",
              "      <th>62494</th>\n",
              "      <td>0</td>\n",
              "      <td>50.0</td>\n",
              "      <td>0</td>\n",
              "      <td>28.15</td>\n",
              "      <td>5.7</td>\n",
              "      <td>155</td>\n",
              "      <td>0</td>\n",
              "      <td>0</td>\n",
              "      <td>1</td>\n",
              "      <td>0</td>\n",
              "    </tr>\n",
              "  </tbody>\n",
              "</table>\n",
              "</div>\n",
              "    <div class=\"colab-df-buttons\">\n",
              "\n",
              "  <div class=\"colab-df-container\">\n",
              "    <button class=\"colab-df-convert\" onclick=\"convertToInteractive('df-072bd1d7-a221-4a8d-be33-5a62662f908d')\"\n",
              "            title=\"Convert this dataframe to an interactive table.\"\n",
              "            style=\"display:none;\">\n",
              "\n",
              "  <svg xmlns=\"http://www.w3.org/2000/svg\" height=\"24px\" viewBox=\"0 -960 960 960\">\n",
              "    <path d=\"M120-120v-720h720v720H120Zm60-500h600v-160H180v160Zm220 220h160v-160H400v160Zm0 220h160v-160H400v160ZM180-400h160v-160H180v160Zm440 0h160v-160H620v160ZM180-180h160v-160H180v160Zm440 0h160v-160H620v160Z\"/>\n",
              "  </svg>\n",
              "    </button>\n",
              "\n",
              "  <style>\n",
              "    .colab-df-container {\n",
              "      display:flex;\n",
              "      gap: 12px;\n",
              "    }\n",
              "\n",
              "    .colab-df-convert {\n",
              "      background-color: #E8F0FE;\n",
              "      border: none;\n",
              "      border-radius: 50%;\n",
              "      cursor: pointer;\n",
              "      display: none;\n",
              "      fill: #1967D2;\n",
              "      height: 32px;\n",
              "      padding: 0 0 0 0;\n",
              "      width: 32px;\n",
              "    }\n",
              "\n",
              "    .colab-df-convert:hover {\n",
              "      background-color: #E2EBFA;\n",
              "      box-shadow: 0px 1px 2px rgba(60, 64, 67, 0.3), 0px 1px 3px 1px rgba(60, 64, 67, 0.15);\n",
              "      fill: #174EA6;\n",
              "    }\n",
              "\n",
              "    .colab-df-buttons div {\n",
              "      margin-bottom: 4px;\n",
              "    }\n",
              "\n",
              "    [theme=dark] .colab-df-convert {\n",
              "      background-color: #3B4455;\n",
              "      fill: #D2E3FC;\n",
              "    }\n",
              "\n",
              "    [theme=dark] .colab-df-convert:hover {\n",
              "      background-color: #434B5C;\n",
              "      box-shadow: 0px 1px 3px 1px rgba(0, 0, 0, 0.15);\n",
              "      filter: drop-shadow(0px 1px 2px rgba(0, 0, 0, 0.3));\n",
              "      fill: #FFFFFF;\n",
              "    }\n",
              "  </style>\n",
              "\n",
              "    <script>\n",
              "      const buttonEl =\n",
              "        document.querySelector('#df-072bd1d7-a221-4a8d-be33-5a62662f908d button.colab-df-convert');\n",
              "      buttonEl.style.display =\n",
              "        google.colab.kernel.accessAllowed ? 'block' : 'none';\n",
              "\n",
              "      async function convertToInteractive(key) {\n",
              "        const element = document.querySelector('#df-072bd1d7-a221-4a8d-be33-5a62662f908d');\n",
              "        const dataTable =\n",
              "          await google.colab.kernel.invokeFunction('convertToInteractive',\n",
              "                                                    [key], {});\n",
              "        if (!dataTable) return;\n",
              "\n",
              "        const docLinkHtml = 'Like what you see? Visit the ' +\n",
              "          '<a target=\"_blank\" href=https://colab.research.google.com/notebooks/data_table.ipynb>data table notebook</a>'\n",
              "          + ' to learn more about interactive tables.';\n",
              "        element.innerHTML = '';\n",
              "        dataTable['output_type'] = 'display_data';\n",
              "        await google.colab.output.renderOutput(dataTable, element);\n",
              "        const docLink = document.createElement('div');\n",
              "        docLink.innerHTML = docLinkHtml;\n",
              "        element.appendChild(docLink);\n",
              "      }\n",
              "    </script>\n",
              "  </div>\n",
              "\n",
              "\n",
              "    </div>\n",
              "  </div>\n"
            ],
            "application/vnd.google.colaboratory.intrinsic+json": {
              "type": "dataframe",
              "variable_name": "df_modelos",
              "summary": "{\n  \"name\": \"df_modelos\",\n  \"rows\": 16964,\n  \"fields\": [\n    {\n      \"column\": \"genero\",\n      \"properties\": {\n        \"dtype\": \"number\",\n        \"std\": 0,\n        \"min\": 0,\n        \"max\": 1,\n        \"num_unique_values\": 2,\n        \"samples\": [\n          1,\n          0\n        ],\n        \"semantic_type\": \"\",\n        \"description\": \"\"\n      }\n    },\n    {\n      \"column\": \"idade\",\n      \"properties\": {\n        \"dtype\": \"number\",\n        \"std\": 21.62643640412092,\n        \"min\": 0.08,\n        \"max\": 80.0,\n        \"num_unique_values\": 102,\n        \"samples\": [\n          62.0,\n          75.0\n        ],\n        \"semantic_type\": \"\",\n        \"description\": \"\"\n      }\n    },\n    {\n      \"column\": \"problema_coracao\",\n      \"properties\": {\n        \"dtype\": \"number\",\n        \"std\": 0,\n        \"min\": 0,\n        \"max\": 1,\n        \"num_unique_values\": 2,\n        \"samples\": [\n          1,\n          0\n        ],\n        \"semantic_type\": \"\",\n        \"description\": \"\"\n      }\n    },\n    {\n      \"column\": \"imc\",\n      \"properties\": {\n        \"dtype\": \"number\",\n        \"std\": 7.478652347693073,\n        \"min\": 10.77,\n        \"max\": 88.72,\n        \"num_unique_values\": 3363,\n        \"samples\": [\n          17.96,\n          45.32\n        ],\n        \"semantic_type\": \"\",\n        \"description\": \"\"\n      }\n    },\n    {\n      \"column\": \"nivel_hemoglobinaA1c\",\n      \"properties\": {\n        \"dtype\": \"number\",\n        \"std\": 1.2844764332341194,\n        \"min\": 3.5,\n        \"max\": 9.0,\n        \"num_unique_values\": 18,\n        \"samples\": [\n          5.7,\n          4.8\n        ],\n        \"semantic_type\": \"\",\n        \"description\": \"\"\n      }\n    },\n    {\n      \"column\": \"nivel_glicose_sangue\",\n      \"properties\": {\n        \"dtype\": \"number\",\n        \"std\": 56,\n        \"min\": 80,\n        \"max\": 300,\n        \"num_unique_values\": 18,\n        \"samples\": [\n          155,\n          145\n        ],\n        \"semantic_type\": \"\",\n        \"description\": \"\"\n      }\n    },\n    {\n      \"column\": \"diabete\",\n      \"properties\": {\n        \"dtype\": \"number\",\n        \"std\": 0,\n        \"min\": 0,\n        \"max\": 1,\n        \"num_unique_values\": 2,\n        \"samples\": [\n          1,\n          0\n        ],\n        \"semantic_type\": \"\",\n        \"description\": \"\"\n      }\n    },\n    {\n      \"column\": \"fumante_cat_fumou_fuma\",\n      \"properties\": {\n        \"dtype\": \"number\",\n        \"std\": 0,\n        \"min\": 0,\n        \"max\": 1,\n        \"num_unique_values\": 2,\n        \"samples\": [\n          1,\n          0\n        ],\n        \"semantic_type\": \"\",\n        \"description\": \"\"\n      }\n    },\n    {\n      \"column\": \"fumante_cat_nunca_fumou\",\n      \"properties\": {\n        \"dtype\": \"number\",\n        \"std\": 0,\n        \"min\": 0,\n        \"max\": 1,\n        \"num_unique_values\": 2,\n        \"samples\": [\n          0,\n          1\n        ],\n        \"semantic_type\": \"\",\n        \"description\": \"\"\n      }\n    },\n    {\n      \"column\": \"fumante_cat_sem_info\",\n      \"properties\": {\n        \"dtype\": \"number\",\n        \"std\": 0,\n        \"min\": 0,\n        \"max\": 1,\n        \"num_unique_values\": 2,\n        \"samples\": [\n          1,\n          0\n        ],\n        \"semantic_type\": \"\",\n        \"description\": \"\"\n      }\n    }\n  ]\n}"
            }
          },
          "metadata": {},
          "execution_count": 129
        }
      ]
    },
    {
      "cell_type": "markdown",
      "source": [
        "### Criando e testando o modelo ideal com Pycaret"
      ],
      "metadata": {
        "id": "9YL4CJhm6VU-"
      }
    },
    {
      "cell_type": "code",
      "source": [
        "df_py = df_modelos.sample(frac=0.95, random_state=0)\n",
        "df_teste = df_modelos.drop(df_py.index)\n",
        "df_py.reset_index(drop=True, inplace=True)\n",
        "df_teste.reset_index(drop=True, inplace=True)"
      ],
      "metadata": {
        "id": "kfE8hCfq92L9"
      },
      "execution_count": 130,
      "outputs": []
    },
    {
      "cell_type": "code",
      "source": [
        "from pycaret.classification import *"
      ],
      "metadata": {
        "id": "vUgeNbpF-Yp8"
      },
      "execution_count": 131,
      "outputs": []
    },
    {
      "cell_type": "code",
      "source": [
        "setup(data=df_py, target='diabete', session_id=0)"
      ],
      "metadata": {
        "colab": {
          "base_uri": "https://localhost:8080/",
          "height": 663
        },
        "id": "iEZHYY7RASME",
        "outputId": "2fb11065-4479-4e72-9000-250a653dbea1"
      },
      "execution_count": 132,
      "outputs": [
        {
          "output_type": "display_data",
          "data": {
            "text/plain": [
              "<pandas.io.formats.style.Styler at 0x7b03379bacb0>"
            ],
            "text/html": [
              "<style type=\"text/css\">\n",
              "#T_7223e_row8_col1 {\n",
              "  background-color: lightgreen;\n",
              "}\n",
              "</style>\n",
              "<table id=\"T_7223e\" class=\"dataframe\">\n",
              "  <thead>\n",
              "    <tr>\n",
              "      <th class=\"blank level0\" >&nbsp;</th>\n",
              "      <th id=\"T_7223e_level0_col0\" class=\"col_heading level0 col0\" >Description</th>\n",
              "      <th id=\"T_7223e_level0_col1\" class=\"col_heading level0 col1\" >Value</th>\n",
              "    </tr>\n",
              "  </thead>\n",
              "  <tbody>\n",
              "    <tr>\n",
              "      <th id=\"T_7223e_level0_row0\" class=\"row_heading level0 row0\" >0</th>\n",
              "      <td id=\"T_7223e_row0_col0\" class=\"data row0 col0\" >Session id</td>\n",
              "      <td id=\"T_7223e_row0_col1\" class=\"data row0 col1\" >0</td>\n",
              "    </tr>\n",
              "    <tr>\n",
              "      <th id=\"T_7223e_level0_row1\" class=\"row_heading level0 row1\" >1</th>\n",
              "      <td id=\"T_7223e_row1_col0\" class=\"data row1 col0\" >Target</td>\n",
              "      <td id=\"T_7223e_row1_col1\" class=\"data row1 col1\" >diabete</td>\n",
              "    </tr>\n",
              "    <tr>\n",
              "      <th id=\"T_7223e_level0_row2\" class=\"row_heading level0 row2\" >2</th>\n",
              "      <td id=\"T_7223e_row2_col0\" class=\"data row2 col0\" >Target type</td>\n",
              "      <td id=\"T_7223e_row2_col1\" class=\"data row2 col1\" >Binary</td>\n",
              "    </tr>\n",
              "    <tr>\n",
              "      <th id=\"T_7223e_level0_row3\" class=\"row_heading level0 row3\" >3</th>\n",
              "      <td id=\"T_7223e_row3_col0\" class=\"data row3 col0\" >Original data shape</td>\n",
              "      <td id=\"T_7223e_row3_col1\" class=\"data row3 col1\" >(16116, 10)</td>\n",
              "    </tr>\n",
              "    <tr>\n",
              "      <th id=\"T_7223e_level0_row4\" class=\"row_heading level0 row4\" >4</th>\n",
              "      <td id=\"T_7223e_row4_col0\" class=\"data row4 col0\" >Transformed data shape</td>\n",
              "      <td id=\"T_7223e_row4_col1\" class=\"data row4 col1\" >(16116, 10)</td>\n",
              "    </tr>\n",
              "    <tr>\n",
              "      <th id=\"T_7223e_level0_row5\" class=\"row_heading level0 row5\" >5</th>\n",
              "      <td id=\"T_7223e_row5_col0\" class=\"data row5 col0\" >Transformed train set shape</td>\n",
              "      <td id=\"T_7223e_row5_col1\" class=\"data row5 col1\" >(11281, 10)</td>\n",
              "    </tr>\n",
              "    <tr>\n",
              "      <th id=\"T_7223e_level0_row6\" class=\"row_heading level0 row6\" >6</th>\n",
              "      <td id=\"T_7223e_row6_col0\" class=\"data row6 col0\" >Transformed test set shape</td>\n",
              "      <td id=\"T_7223e_row6_col1\" class=\"data row6 col1\" >(4835, 10)</td>\n",
              "    </tr>\n",
              "    <tr>\n",
              "      <th id=\"T_7223e_level0_row7\" class=\"row_heading level0 row7\" >7</th>\n",
              "      <td id=\"T_7223e_row7_col0\" class=\"data row7 col0\" >Numeric features</td>\n",
              "      <td id=\"T_7223e_row7_col1\" class=\"data row7 col1\" >9</td>\n",
              "    </tr>\n",
              "    <tr>\n",
              "      <th id=\"T_7223e_level0_row8\" class=\"row_heading level0 row8\" >8</th>\n",
              "      <td id=\"T_7223e_row8_col0\" class=\"data row8 col0\" >Preprocess</td>\n",
              "      <td id=\"T_7223e_row8_col1\" class=\"data row8 col1\" >True</td>\n",
              "    </tr>\n",
              "    <tr>\n",
              "      <th id=\"T_7223e_level0_row9\" class=\"row_heading level0 row9\" >9</th>\n",
              "      <td id=\"T_7223e_row9_col0\" class=\"data row9 col0\" >Imputation type</td>\n",
              "      <td id=\"T_7223e_row9_col1\" class=\"data row9 col1\" >simple</td>\n",
              "    </tr>\n",
              "    <tr>\n",
              "      <th id=\"T_7223e_level0_row10\" class=\"row_heading level0 row10\" >10</th>\n",
              "      <td id=\"T_7223e_row10_col0\" class=\"data row10 col0\" >Numeric imputation</td>\n",
              "      <td id=\"T_7223e_row10_col1\" class=\"data row10 col1\" >mean</td>\n",
              "    </tr>\n",
              "    <tr>\n",
              "      <th id=\"T_7223e_level0_row11\" class=\"row_heading level0 row11\" >11</th>\n",
              "      <td id=\"T_7223e_row11_col0\" class=\"data row11 col0\" >Categorical imputation</td>\n",
              "      <td id=\"T_7223e_row11_col1\" class=\"data row11 col1\" >mode</td>\n",
              "    </tr>\n",
              "    <tr>\n",
              "      <th id=\"T_7223e_level0_row12\" class=\"row_heading level0 row12\" >12</th>\n",
              "      <td id=\"T_7223e_row12_col0\" class=\"data row12 col0\" >Fold Generator</td>\n",
              "      <td id=\"T_7223e_row12_col1\" class=\"data row12 col1\" >StratifiedKFold</td>\n",
              "    </tr>\n",
              "    <tr>\n",
              "      <th id=\"T_7223e_level0_row13\" class=\"row_heading level0 row13\" >13</th>\n",
              "      <td id=\"T_7223e_row13_col0\" class=\"data row13 col0\" >Fold Number</td>\n",
              "      <td id=\"T_7223e_row13_col1\" class=\"data row13 col1\" >10</td>\n",
              "    </tr>\n",
              "    <tr>\n",
              "      <th id=\"T_7223e_level0_row14\" class=\"row_heading level0 row14\" >14</th>\n",
              "      <td id=\"T_7223e_row14_col0\" class=\"data row14 col0\" >CPU Jobs</td>\n",
              "      <td id=\"T_7223e_row14_col1\" class=\"data row14 col1\" >-1</td>\n",
              "    </tr>\n",
              "    <tr>\n",
              "      <th id=\"T_7223e_level0_row15\" class=\"row_heading level0 row15\" >15</th>\n",
              "      <td id=\"T_7223e_row15_col0\" class=\"data row15 col0\" >Use GPU</td>\n",
              "      <td id=\"T_7223e_row15_col1\" class=\"data row15 col1\" >False</td>\n",
              "    </tr>\n",
              "    <tr>\n",
              "      <th id=\"T_7223e_level0_row16\" class=\"row_heading level0 row16\" >16</th>\n",
              "      <td id=\"T_7223e_row16_col0\" class=\"data row16 col0\" >Log Experiment</td>\n",
              "      <td id=\"T_7223e_row16_col1\" class=\"data row16 col1\" >False</td>\n",
              "    </tr>\n",
              "    <tr>\n",
              "      <th id=\"T_7223e_level0_row17\" class=\"row_heading level0 row17\" >17</th>\n",
              "      <td id=\"T_7223e_row17_col0\" class=\"data row17 col0\" >Experiment Name</td>\n",
              "      <td id=\"T_7223e_row17_col1\" class=\"data row17 col1\" >clf-default-name</td>\n",
              "    </tr>\n",
              "    <tr>\n",
              "      <th id=\"T_7223e_level0_row18\" class=\"row_heading level0 row18\" >18</th>\n",
              "      <td id=\"T_7223e_row18_col0\" class=\"data row18 col0\" >USI</td>\n",
              "      <td id=\"T_7223e_row18_col1\" class=\"data row18 col1\" >62f4</td>\n",
              "    </tr>\n",
              "  </tbody>\n",
              "</table>\n"
            ]
          },
          "metadata": {}
        },
        {
          "output_type": "execute_result",
          "data": {
            "text/plain": [
              "<pycaret.classification.oop.ClassificationExperiment at 0x7b0337b3a8f0>"
            ]
          },
          "metadata": {},
          "execution_count": 132
        }
      ]
    },
    {
      "cell_type": "code",
      "source": [
        "best_model = compare_models(fold=10)"
      ],
      "metadata": {
        "colab": {
          "base_uri": "https://localhost:8080/",
          "height": 551,
          "referenced_widgets": [
            "5a5355709dee4febb6da18e917a6628e",
            "c4cb8bbb13ec4b08ab8e5cd0520630ad",
            "3fff10f3a3f34ecbb5282a04163b19f6",
            "7a350177141d4866af1af582ff2c0ca6",
            "9bfb01c190a248338d208b6a046e1e75",
            "54568539e2034d0896d8333cd4c956af",
            "858a48e06b774dfaa8a5d622e4892e3a",
            "3fa91a76b76c47d8b05cc39be2ce5383",
            "c12c6c0598fd442297a77d8632840973",
            "e4d4a98a21464559be07d825ad9ba249",
            "81322edff01a41de83f78873bc436320"
          ]
        },
        "id": "bdzhkuUYiHW_",
        "outputId": "27b7c39e-14cf-4556-a95e-58bc1cab80f2"
      },
      "execution_count": 133,
      "outputs": [
        {
          "output_type": "display_data",
          "data": {
            "text/plain": [
              "<IPython.core.display.HTML object>"
            ],
            "text/html": []
          },
          "metadata": {}
        },
        {
          "output_type": "display_data",
          "data": {
            "text/plain": [
              "<pandas.io.formats.style.Styler at 0x7b0337cef2e0>"
            ],
            "text/html": [
              "<style type=\"text/css\">\n",
              "#T_bb5f4 th {\n",
              "  text-align: left;\n",
              "}\n",
              "#T_bb5f4_row0_col0, #T_bb5f4_row0_col3, #T_bb5f4_row0_col4, #T_bb5f4_row1_col0, #T_bb5f4_row1_col1, #T_bb5f4_row1_col2, #T_bb5f4_row1_col3, #T_bb5f4_row1_col5, #T_bb5f4_row1_col6, #T_bb5f4_row1_col7, #T_bb5f4_row2_col0, #T_bb5f4_row2_col1, #T_bb5f4_row2_col2, #T_bb5f4_row2_col3, #T_bb5f4_row2_col4, #T_bb5f4_row2_col5, #T_bb5f4_row2_col6, #T_bb5f4_row2_col7, #T_bb5f4_row3_col0, #T_bb5f4_row3_col1, #T_bb5f4_row3_col2, #T_bb5f4_row3_col3, #T_bb5f4_row3_col4, #T_bb5f4_row3_col5, #T_bb5f4_row3_col6, #T_bb5f4_row3_col7, #T_bb5f4_row4_col0, #T_bb5f4_row4_col1, #T_bb5f4_row4_col2, #T_bb5f4_row4_col3, #T_bb5f4_row4_col4, #T_bb5f4_row4_col5, #T_bb5f4_row4_col6, #T_bb5f4_row4_col7, #T_bb5f4_row5_col0, #T_bb5f4_row5_col1, #T_bb5f4_row5_col2, #T_bb5f4_row5_col3, #T_bb5f4_row5_col4, #T_bb5f4_row5_col5, #T_bb5f4_row5_col6, #T_bb5f4_row5_col7, #T_bb5f4_row6_col0, #T_bb5f4_row6_col1, #T_bb5f4_row6_col2, #T_bb5f4_row6_col3, #T_bb5f4_row6_col4, #T_bb5f4_row6_col5, #T_bb5f4_row6_col6, #T_bb5f4_row6_col7, #T_bb5f4_row7_col0, #T_bb5f4_row7_col1, #T_bb5f4_row7_col2, #T_bb5f4_row7_col3, #T_bb5f4_row7_col4, #T_bb5f4_row7_col5, #T_bb5f4_row7_col6, #T_bb5f4_row7_col7, #T_bb5f4_row8_col0, #T_bb5f4_row8_col1, #T_bb5f4_row8_col2, #T_bb5f4_row8_col3, #T_bb5f4_row8_col4, #T_bb5f4_row8_col5, #T_bb5f4_row8_col6, #T_bb5f4_row8_col7, #T_bb5f4_row9_col0, #T_bb5f4_row9_col1, #T_bb5f4_row9_col2, #T_bb5f4_row9_col3, #T_bb5f4_row9_col4, #T_bb5f4_row9_col5, #T_bb5f4_row9_col6, #T_bb5f4_row9_col7, #T_bb5f4_row10_col0, #T_bb5f4_row10_col1, #T_bb5f4_row10_col2, #T_bb5f4_row10_col3, #T_bb5f4_row10_col4, #T_bb5f4_row10_col5, #T_bb5f4_row10_col6, #T_bb5f4_row10_col7, #T_bb5f4_row11_col0, #T_bb5f4_row11_col1, #T_bb5f4_row11_col2, #T_bb5f4_row11_col3, #T_bb5f4_row11_col4, #T_bb5f4_row11_col5, #T_bb5f4_row11_col6, #T_bb5f4_row11_col7, #T_bb5f4_row12_col0, #T_bb5f4_row12_col1, #T_bb5f4_row12_col2, #T_bb5f4_row12_col3, #T_bb5f4_row12_col4, #T_bb5f4_row12_col5, #T_bb5f4_row12_col6, #T_bb5f4_row12_col7, #T_bb5f4_row13_col0, #T_bb5f4_row13_col1, #T_bb5f4_row13_col2, #T_bb5f4_row13_col3, #T_bb5f4_row13_col4, #T_bb5f4_row13_col5, #T_bb5f4_row13_col6, #T_bb5f4_row13_col7, #T_bb5f4_row14_col0, #T_bb5f4_row14_col1, #T_bb5f4_row14_col2, #T_bb5f4_row14_col3, #T_bb5f4_row14_col4, #T_bb5f4_row14_col5, #T_bb5f4_row14_col6, #T_bb5f4_row14_col7, #T_bb5f4_row15_col0, #T_bb5f4_row15_col1, #T_bb5f4_row15_col2, #T_bb5f4_row15_col4, #T_bb5f4_row15_col5, #T_bb5f4_row15_col6, #T_bb5f4_row15_col7 {\n",
              "  text-align: left;\n",
              "}\n",
              "#T_bb5f4_row0_col1, #T_bb5f4_row0_col2, #T_bb5f4_row0_col5, #T_bb5f4_row0_col6, #T_bb5f4_row0_col7, #T_bb5f4_row1_col4, #T_bb5f4_row15_col3 {\n",
              "  text-align: left;\n",
              "  background-color: yellow;\n",
              "}\n",
              "#T_bb5f4_row0_col8, #T_bb5f4_row1_col8, #T_bb5f4_row2_col8, #T_bb5f4_row3_col8, #T_bb5f4_row4_col8, #T_bb5f4_row5_col8, #T_bb5f4_row6_col8, #T_bb5f4_row8_col8, #T_bb5f4_row9_col8, #T_bb5f4_row10_col8, #T_bb5f4_row11_col8, #T_bb5f4_row13_col8, #T_bb5f4_row15_col8 {\n",
              "  text-align: left;\n",
              "  background-color: lightgrey;\n",
              "}\n",
              "#T_bb5f4_row7_col8, #T_bb5f4_row12_col8, #T_bb5f4_row14_col8 {\n",
              "  text-align: left;\n",
              "  background-color: yellow;\n",
              "  background-color: lightgrey;\n",
              "}\n",
              "</style>\n",
              "<table id=\"T_bb5f4\" class=\"dataframe\">\n",
              "  <thead>\n",
              "    <tr>\n",
              "      <th class=\"blank level0\" >&nbsp;</th>\n",
              "      <th id=\"T_bb5f4_level0_col0\" class=\"col_heading level0 col0\" >Model</th>\n",
              "      <th id=\"T_bb5f4_level0_col1\" class=\"col_heading level0 col1\" >Accuracy</th>\n",
              "      <th id=\"T_bb5f4_level0_col2\" class=\"col_heading level0 col2\" >AUC</th>\n",
              "      <th id=\"T_bb5f4_level0_col3\" class=\"col_heading level0 col3\" >Recall</th>\n",
              "      <th id=\"T_bb5f4_level0_col4\" class=\"col_heading level0 col4\" >Prec.</th>\n",
              "      <th id=\"T_bb5f4_level0_col5\" class=\"col_heading level0 col5\" >F1</th>\n",
              "      <th id=\"T_bb5f4_level0_col6\" class=\"col_heading level0 col6\" >Kappa</th>\n",
              "      <th id=\"T_bb5f4_level0_col7\" class=\"col_heading level0 col7\" >MCC</th>\n",
              "      <th id=\"T_bb5f4_level0_col8\" class=\"col_heading level0 col8\" >TT (Sec)</th>\n",
              "    </tr>\n",
              "  </thead>\n",
              "  <tbody>\n",
              "    <tr>\n",
              "      <th id=\"T_bb5f4_level0_row0\" class=\"row_heading level0 row0\" >gbc</th>\n",
              "      <td id=\"T_bb5f4_row0_col0\" class=\"data row0 col0\" >Gradient Boosting Classifier</td>\n",
              "      <td id=\"T_bb5f4_row0_col1\" class=\"data row0 col1\" >0.9102</td>\n",
              "      <td id=\"T_bb5f4_row0_col2\" class=\"data row0 col2\" >0.9779</td>\n",
              "      <td id=\"T_bb5f4_row0_col3\" class=\"data row0 col3\" >0.9258</td>\n",
              "      <td id=\"T_bb5f4_row0_col4\" class=\"data row0 col4\" >0.8981</td>\n",
              "      <td id=\"T_bb5f4_row0_col5\" class=\"data row0 col5\" >0.9116</td>\n",
              "      <td id=\"T_bb5f4_row0_col6\" class=\"data row0 col6\" >0.8204</td>\n",
              "      <td id=\"T_bb5f4_row0_col7\" class=\"data row0 col7\" >0.8210</td>\n",
              "      <td id=\"T_bb5f4_row0_col8\" class=\"data row0 col8\" >1.1130</td>\n",
              "    </tr>\n",
              "    <tr>\n",
              "      <th id=\"T_bb5f4_level0_row1\" class=\"row_heading level0 row1\" >ada</th>\n",
              "      <td id=\"T_bb5f4_row1_col0\" class=\"data row1 col0\" >Ada Boost Classifier</td>\n",
              "      <td id=\"T_bb5f4_row1_col1\" class=\"data row1 col1\" >0.9079</td>\n",
              "      <td id=\"T_bb5f4_row1_col2\" class=\"data row1 col2\" >0.9776</td>\n",
              "      <td id=\"T_bb5f4_row1_col3\" class=\"data row1 col3\" >0.9189</td>\n",
              "      <td id=\"T_bb5f4_row1_col4\" class=\"data row1 col4\" >0.8994</td>\n",
              "      <td id=\"T_bb5f4_row1_col5\" class=\"data row1 col5\" >0.9090</td>\n",
              "      <td id=\"T_bb5f4_row1_col6\" class=\"data row1 col6\" >0.8158</td>\n",
              "      <td id=\"T_bb5f4_row1_col7\" class=\"data row1 col7\" >0.8161</td>\n",
              "      <td id=\"T_bb5f4_row1_col8\" class=\"data row1 col8\" >0.3280</td>\n",
              "    </tr>\n",
              "    <tr>\n",
              "      <th id=\"T_bb5f4_level0_row2\" class=\"row_heading level0 row2\" >catboost</th>\n",
              "      <td id=\"T_bb5f4_row2_col0\" class=\"data row2 col0\" >CatBoost Classifier</td>\n",
              "      <td id=\"T_bb5f4_row2_col1\" class=\"data row2 col1\" >0.9050</td>\n",
              "      <td id=\"T_bb5f4_row2_col2\" class=\"data row2 col2\" >0.9761</td>\n",
              "      <td id=\"T_bb5f4_row2_col3\" class=\"data row2 col3\" >0.9189</td>\n",
              "      <td id=\"T_bb5f4_row2_col4\" class=\"data row2 col4\" >0.8943</td>\n",
              "      <td id=\"T_bb5f4_row2_col5\" class=\"data row2 col5\" >0.9064</td>\n",
              "      <td id=\"T_bb5f4_row2_col6\" class=\"data row2 col6\" >0.8099</td>\n",
              "      <td id=\"T_bb5f4_row2_col7\" class=\"data row2 col7\" >0.8104</td>\n",
              "      <td id=\"T_bb5f4_row2_col8\" class=\"data row2 col8\" >7.2070</td>\n",
              "    </tr>\n",
              "    <tr>\n",
              "      <th id=\"T_bb5f4_level0_row3\" class=\"row_heading level0 row3\" >lightgbm</th>\n",
              "      <td id=\"T_bb5f4_row3_col0\" class=\"data row3 col0\" >Light Gradient Boosting Machine</td>\n",
              "      <td id=\"T_bb5f4_row3_col1\" class=\"data row3 col1\" >0.9047</td>\n",
              "      <td id=\"T_bb5f4_row3_col2\" class=\"data row3 col2\" >0.9762</td>\n",
              "      <td id=\"T_bb5f4_row3_col3\" class=\"data row3 col3\" >0.9175</td>\n",
              "      <td id=\"T_bb5f4_row3_col4\" class=\"data row3 col4\" >0.8950</td>\n",
              "      <td id=\"T_bb5f4_row3_col5\" class=\"data row3 col5\" >0.9060</td>\n",
              "      <td id=\"T_bb5f4_row3_col6\" class=\"data row3 col6\" >0.8094</td>\n",
              "      <td id=\"T_bb5f4_row3_col7\" class=\"data row3 col7\" >0.8098</td>\n",
              "      <td id=\"T_bb5f4_row3_col8\" class=\"data row3 col8\" >0.6790</td>\n",
              "    </tr>\n",
              "    <tr>\n",
              "      <th id=\"T_bb5f4_level0_row4\" class=\"row_heading level0 row4\" >xgboost</th>\n",
              "      <td id=\"T_bb5f4_row4_col0\" class=\"data row4 col0\" >Extreme Gradient Boosting</td>\n",
              "      <td id=\"T_bb5f4_row4_col1\" class=\"data row4 col1\" >0.9004</td>\n",
              "      <td id=\"T_bb5f4_row4_col2\" class=\"data row4 col2\" >0.9742</td>\n",
              "      <td id=\"T_bb5f4_row4_col3\" class=\"data row4 col3\" >0.9097</td>\n",
              "      <td id=\"T_bb5f4_row4_col4\" class=\"data row4 col4\" >0.8935</td>\n",
              "      <td id=\"T_bb5f4_row4_col5\" class=\"data row4 col5\" >0.9014</td>\n",
              "      <td id=\"T_bb5f4_row4_col6\" class=\"data row4 col6\" >0.8007</td>\n",
              "      <td id=\"T_bb5f4_row4_col7\" class=\"data row4 col7\" >0.8011</td>\n",
              "      <td id=\"T_bb5f4_row4_col8\" class=\"data row4 col8\" >0.2630</td>\n",
              "    </tr>\n",
              "    <tr>\n",
              "      <th id=\"T_bb5f4_level0_row5\" class=\"row_heading level0 row5\" >rf</th>\n",
              "      <td id=\"T_bb5f4_row5_col0\" class=\"data row5 col0\" >Random Forest Classifier</td>\n",
              "      <td id=\"T_bb5f4_row5_col1\" class=\"data row5 col1\" >0.8979</td>\n",
              "      <td id=\"T_bb5f4_row5_col2\" class=\"data row5 col2\" >0.9717</td>\n",
              "      <td id=\"T_bb5f4_row5_col3\" class=\"data row5 col3\" >0.9045</td>\n",
              "      <td id=\"T_bb5f4_row5_col4\" class=\"data row5 col4\" >0.8931</td>\n",
              "      <td id=\"T_bb5f4_row5_col5\" class=\"data row5 col5\" >0.8987</td>\n",
              "      <td id=\"T_bb5f4_row5_col6\" class=\"data row5 col6\" >0.7958</td>\n",
              "      <td id=\"T_bb5f4_row5_col7\" class=\"data row5 col7\" >0.7960</td>\n",
              "      <td id=\"T_bb5f4_row5_col8\" class=\"data row5 col8\" >1.1090</td>\n",
              "    </tr>\n",
              "    <tr>\n",
              "      <th id=\"T_bb5f4_level0_row6\" class=\"row_heading level0 row6\" >et</th>\n",
              "      <td id=\"T_bb5f4_row6_col0\" class=\"data row6 col0\" >Extra Trees Classifier</td>\n",
              "      <td id=\"T_bb5f4_row6_col1\" class=\"data row6 col1\" >0.8945</td>\n",
              "      <td id=\"T_bb5f4_row6_col2\" class=\"data row6 col2\" >0.9647</td>\n",
              "      <td id=\"T_bb5f4_row6_col3\" class=\"data row6 col3\" >0.8990</td>\n",
              "      <td id=\"T_bb5f4_row6_col4\" class=\"data row6 col4\" >0.8913</td>\n",
              "      <td id=\"T_bb5f4_row6_col5\" class=\"data row6 col5\" >0.8951</td>\n",
              "      <td id=\"T_bb5f4_row6_col6\" class=\"data row6 col6\" >0.7890</td>\n",
              "      <td id=\"T_bb5f4_row6_col7\" class=\"data row6 col7\" >0.7893</td>\n",
              "      <td id=\"T_bb5f4_row6_col8\" class=\"data row6 col8\" >0.7090</td>\n",
              "    </tr>\n",
              "    <tr>\n",
              "      <th id=\"T_bb5f4_level0_row7\" class=\"row_heading level0 row7\" >ridge</th>\n",
              "      <td id=\"T_bb5f4_row7_col0\" class=\"data row7 col0\" >Ridge Classifier</td>\n",
              "      <td id=\"T_bb5f4_row7_col1\" class=\"data row7 col1\" >0.8806</td>\n",
              "      <td id=\"T_bb5f4_row7_col2\" class=\"data row7 col2\" >0.9597</td>\n",
              "      <td id=\"T_bb5f4_row7_col3\" class=\"data row7 col3\" >0.8739</td>\n",
              "      <td id=\"T_bb5f4_row7_col4\" class=\"data row7 col4\" >0.8861</td>\n",
              "      <td id=\"T_bb5f4_row7_col5\" class=\"data row7 col5\" >0.8799</td>\n",
              "      <td id=\"T_bb5f4_row7_col6\" class=\"data row7 col6\" >0.7612</td>\n",
              "      <td id=\"T_bb5f4_row7_col7\" class=\"data row7 col7\" >0.7615</td>\n",
              "      <td id=\"T_bb5f4_row7_col8\" class=\"data row7 col8\" >0.0420</td>\n",
              "    </tr>\n",
              "    <tr>\n",
              "      <th id=\"T_bb5f4_level0_row8\" class=\"row_heading level0 row8\" >lda</th>\n",
              "      <td id=\"T_bb5f4_row8_col0\" class=\"data row8 col0\" >Linear Discriminant Analysis</td>\n",
              "      <td id=\"T_bb5f4_row8_col1\" class=\"data row8 col1\" >0.8806</td>\n",
              "      <td id=\"T_bb5f4_row8_col2\" class=\"data row8 col2\" >0.9597</td>\n",
              "      <td id=\"T_bb5f4_row8_col3\" class=\"data row8 col3\" >0.8739</td>\n",
              "      <td id=\"T_bb5f4_row8_col4\" class=\"data row8 col4\" >0.8861</td>\n",
              "      <td id=\"T_bb5f4_row8_col5\" class=\"data row8 col5\" >0.8799</td>\n",
              "      <td id=\"T_bb5f4_row8_col6\" class=\"data row8 col6\" >0.7612</td>\n",
              "      <td id=\"T_bb5f4_row8_col7\" class=\"data row8 col7\" >0.7615</td>\n",
              "      <td id=\"T_bb5f4_row8_col8\" class=\"data row8 col8\" >0.0470</td>\n",
              "    </tr>\n",
              "    <tr>\n",
              "      <th id=\"T_bb5f4_level0_row9\" class=\"row_heading level0 row9\" >lr</th>\n",
              "      <td id=\"T_bb5f4_row9_col0\" class=\"data row9 col0\" >Logistic Regression</td>\n",
              "      <td id=\"T_bb5f4_row9_col1\" class=\"data row9 col1\" >0.8804</td>\n",
              "      <td id=\"T_bb5f4_row9_col2\" class=\"data row9 col2\" >0.9607</td>\n",
              "      <td id=\"T_bb5f4_row9_col3\" class=\"data row9 col3\" >0.8776</td>\n",
              "      <td id=\"T_bb5f4_row9_col4\" class=\"data row9 col4\" >0.8830</td>\n",
              "      <td id=\"T_bb5f4_row9_col5\" class=\"data row9 col5\" >0.8802</td>\n",
              "      <td id=\"T_bb5f4_row9_col6\" class=\"data row9 col6\" >0.7608</td>\n",
              "      <td id=\"T_bb5f4_row9_col7\" class=\"data row9 col7\" >0.7611</td>\n",
              "      <td id=\"T_bb5f4_row9_col8\" class=\"data row9 col8\" >1.2600</td>\n",
              "    </tr>\n",
              "    <tr>\n",
              "      <th id=\"T_bb5f4_level0_row10\" class=\"row_heading level0 row10\" >dt</th>\n",
              "      <td id=\"T_bb5f4_row10_col0\" class=\"data row10 col0\" >Decision Tree Classifier</td>\n",
              "      <td id=\"T_bb5f4_row10_col1\" class=\"data row10 col1\" >0.8705</td>\n",
              "      <td id=\"T_bb5f4_row10_col2\" class=\"data row10 col2\" >0.8706</td>\n",
              "      <td id=\"T_bb5f4_row10_col3\" class=\"data row10 col3\" >0.8682</td>\n",
              "      <td id=\"T_bb5f4_row10_col4\" class=\"data row10 col4\" >0.8727</td>\n",
              "      <td id=\"T_bb5f4_row10_col5\" class=\"data row10 col5\" >0.8703</td>\n",
              "      <td id=\"T_bb5f4_row10_col6\" class=\"data row10 col6\" >0.7410</td>\n",
              "      <td id=\"T_bb5f4_row10_col7\" class=\"data row10 col7\" >0.7412</td>\n",
              "      <td id=\"T_bb5f4_row10_col8\" class=\"data row10 col8\" >0.0530</td>\n",
              "    </tr>\n",
              "    <tr>\n",
              "      <th id=\"T_bb5f4_level0_row11\" class=\"row_heading level0 row11\" >knn</th>\n",
              "      <td id=\"T_bb5f4_row11_col0\" class=\"data row11 col0\" >K Neighbors Classifier</td>\n",
              "      <td id=\"T_bb5f4_row11_col1\" class=\"data row11 col1\" >0.8591</td>\n",
              "      <td id=\"T_bb5f4_row11_col2\" class=\"data row11 col2\" >0.9299</td>\n",
              "      <td id=\"T_bb5f4_row11_col3\" class=\"data row11 col3\" >0.8688</td>\n",
              "      <td id=\"T_bb5f4_row11_col4\" class=\"data row11 col4\" >0.8528</td>\n",
              "      <td id=\"T_bb5f4_row11_col5\" class=\"data row11 col5\" >0.8606</td>\n",
              "      <td id=\"T_bb5f4_row11_col6\" class=\"data row11 col6\" >0.7183</td>\n",
              "      <td id=\"T_bb5f4_row11_col7\" class=\"data row11 col7\" >0.7186</td>\n",
              "      <td id=\"T_bb5f4_row11_col8\" class=\"data row11 col8\" >0.1260</td>\n",
              "    </tr>\n",
              "    <tr>\n",
              "      <th id=\"T_bb5f4_level0_row12\" class=\"row_heading level0 row12\" >nb</th>\n",
              "      <td id=\"T_bb5f4_row12_col0\" class=\"data row12 col0\" >Naive Bayes</td>\n",
              "      <td id=\"T_bb5f4_row12_col1\" class=\"data row12 col1\" >0.8541</td>\n",
              "      <td id=\"T_bb5f4_row12_col2\" class=\"data row12 col2\" >0.9302</td>\n",
              "      <td id=\"T_bb5f4_row12_col3\" class=\"data row12 col3\" >0.7995</td>\n",
              "      <td id=\"T_bb5f4_row12_col4\" class=\"data row12 col4\" >0.8979</td>\n",
              "      <td id=\"T_bb5f4_row12_col5\" class=\"data row12 col5\" >0.8457</td>\n",
              "      <td id=\"T_bb5f4_row12_col6\" class=\"data row12 col6\" >0.7082</td>\n",
              "      <td id=\"T_bb5f4_row12_col7\" class=\"data row12 col7\" >0.7127</td>\n",
              "      <td id=\"T_bb5f4_row12_col8\" class=\"data row12 col8\" >0.0420</td>\n",
              "    </tr>\n",
              "    <tr>\n",
              "      <th id=\"T_bb5f4_level0_row13\" class=\"row_heading level0 row13\" >svm</th>\n",
              "      <td id=\"T_bb5f4_row13_col0\" class=\"data row13 col0\" >SVM - Linear Kernel</td>\n",
              "      <td id=\"T_bb5f4_row13_col1\" class=\"data row13 col1\" >0.8281</td>\n",
              "      <td id=\"T_bb5f4_row13_col2\" class=\"data row13 col2\" >0.9580</td>\n",
              "      <td id=\"T_bb5f4_row13_col3\" class=\"data row13 col3\" >0.7949</td>\n",
              "      <td id=\"T_bb5f4_row13_col4\" class=\"data row13 col4\" >0.8795</td>\n",
              "      <td id=\"T_bb5f4_row13_col5\" class=\"data row13 col5\" >0.8106</td>\n",
              "      <td id=\"T_bb5f4_row13_col6\" class=\"data row13 col6\" >0.6563</td>\n",
              "      <td id=\"T_bb5f4_row13_col7\" class=\"data row13 col7\" >0.6854</td>\n",
              "      <td id=\"T_bb5f4_row13_col8\" class=\"data row13 col8\" >0.0990</td>\n",
              "    </tr>\n",
              "    <tr>\n",
              "      <th id=\"T_bb5f4_level0_row14\" class=\"row_heading level0 row14\" >qda</th>\n",
              "      <td id=\"T_bb5f4_row14_col0\" class=\"data row14 col0\" >Quadratic Discriminant Analysis</td>\n",
              "      <td id=\"T_bb5f4_row14_col1\" class=\"data row14 col1\" >0.7078</td>\n",
              "      <td id=\"T_bb5f4_row14_col2\" class=\"data row14 col2\" >0.7790</td>\n",
              "      <td id=\"T_bb5f4_row14_col3\" class=\"data row14 col3\" >0.7044</td>\n",
              "      <td id=\"T_bb5f4_row14_col4\" class=\"data row14 col4\" >0.7404</td>\n",
              "      <td id=\"T_bb5f4_row14_col5\" class=\"data row14 col5\" >0.7028</td>\n",
              "      <td id=\"T_bb5f4_row14_col6\" class=\"data row14 col6\" >0.4157</td>\n",
              "      <td id=\"T_bb5f4_row14_col7\" class=\"data row14 col7\" >0.4380</td>\n",
              "      <td id=\"T_bb5f4_row14_col8\" class=\"data row14 col8\" >0.0420</td>\n",
              "    </tr>\n",
              "    <tr>\n",
              "      <th id=\"T_bb5f4_level0_row15\" class=\"row_heading level0 row15\" >dummy</th>\n",
              "      <td id=\"T_bb5f4_row15_col0\" class=\"data row15 col0\" >Dummy Classifier</td>\n",
              "      <td id=\"T_bb5f4_row15_col1\" class=\"data row15 col1\" >0.5005</td>\n",
              "      <td id=\"T_bb5f4_row15_col2\" class=\"data row15 col2\" >0.5000</td>\n",
              "      <td id=\"T_bb5f4_row15_col3\" class=\"data row15 col3\" >1.0000</td>\n",
              "      <td id=\"T_bb5f4_row15_col4\" class=\"data row15 col4\" >0.5005</td>\n",
              "      <td id=\"T_bb5f4_row15_col5\" class=\"data row15 col5\" >0.6671</td>\n",
              "      <td id=\"T_bb5f4_row15_col6\" class=\"data row15 col6\" >0.0000</td>\n",
              "      <td id=\"T_bb5f4_row15_col7\" class=\"data row15 col7\" >0.0000</td>\n",
              "      <td id=\"T_bb5f4_row15_col8\" class=\"data row15 col8\" >0.0570</td>\n",
              "    </tr>\n",
              "  </tbody>\n",
              "</table>\n"
            ]
          },
          "metadata": {}
        },
        {
          "output_type": "display_data",
          "data": {
            "text/plain": [
              "Processing:   0%|          | 0/69 [00:00<?, ?it/s]"
            ],
            "application/vnd.jupyter.widget-view+json": {
              "version_major": 2,
              "version_minor": 0,
              "model_id": "5a5355709dee4febb6da18e917a6628e"
            }
          },
          "metadata": {
            "application/vnd.jupyter.widget-view+json": {
              "colab": {
                "custom_widget_manager": {
                  "url": "https://ssl.gstatic.com/colaboratory-static/widgets/colab-cdn-widget-manager/2b70e893a8ba7c0f/manager.min.js"
                }
              }
            }
          }
        },
        {
          "output_type": "display_data",
          "data": {
            "text/plain": [
              "<IPython.core.display.HTML object>"
            ],
            "text/html": []
          },
          "metadata": {}
        }
      ]
    },
    {
      "cell_type": "code",
      "source": [
        "print(best_model)"
      ],
      "metadata": {
        "colab": {
          "base_uri": "https://localhost:8080/"
        },
        "id": "Pmug8viHiUi3",
        "outputId": "44e4590a-c2bb-4aab-f24e-dda3ad5bbf1f"
      },
      "execution_count": 134,
      "outputs": [
        {
          "output_type": "stream",
          "name": "stdout",
          "text": [
            "GradientBoostingClassifier(ccp_alpha=0.0, criterion='friedman_mse', init=None,\n",
            "                           learning_rate=0.1, loss='log_loss', max_depth=3,\n",
            "                           max_features=None, max_leaf_nodes=None,\n",
            "                           min_impurity_decrease=0.0, min_samples_leaf=1,\n",
            "                           min_samples_split=2, min_weight_fraction_leaf=0.0,\n",
            "                           n_estimators=100, n_iter_no_change=None,\n",
            "                           random_state=0, subsample=1.0, tol=0.0001,\n",
            "                           validation_fraction=0.1, verbose=0,\n",
            "                           warm_start=False)\n"
          ]
        }
      ]
    },
    {
      "cell_type": "code",
      "source": [
        "tuned_model = tune_model(best_model)"
      ],
      "metadata": {
        "colab": {
          "base_uri": "https://localhost:8080/",
          "height": 492,
          "referenced_widgets": [
            "6fabe2f2cedf4273a3d6559e9bfef61a",
            "d9ac34d6229f4a0a9dc38a6bc14bf898",
            "e5d3cc38acd749e2845c30bf652a4c40",
            "927020d7d4804609b83768077200e8db",
            "56242c6bc34a4bdd97acd945c8f99e72",
            "54b63cc652934af1809eeb455639c5ee",
            "8cedce6a406d4576ada452393db2757c",
            "d71eb09be9f946fb83c378546b85500e",
            "09a7e8c12ca44123b6ab7eac7c24de2b",
            "11294beff3ea4ceca9cf402c41f1e34f",
            "da59786dbd3c49fd8031eb933aaa9e3f"
          ]
        },
        "id": "so7veo-yk2ww",
        "outputId": "67a8f271-6e36-4117-dfbd-a7ee2cb4f01c"
      },
      "execution_count": 135,
      "outputs": [
        {
          "output_type": "display_data",
          "data": {
            "text/plain": [
              "<IPython.core.display.HTML object>"
            ],
            "text/html": []
          },
          "metadata": {}
        },
        {
          "output_type": "display_data",
          "data": {
            "text/plain": [
              "<pandas.io.formats.style.Styler at 0x7b0337d447c0>"
            ],
            "text/html": [
              "<style type=\"text/css\">\n",
              "#T_c1c35_row10_col0, #T_c1c35_row10_col1, #T_c1c35_row10_col2, #T_c1c35_row10_col3, #T_c1c35_row10_col4, #T_c1c35_row10_col5, #T_c1c35_row10_col6 {\n",
              "  background: yellow;\n",
              "}\n",
              "</style>\n",
              "<table id=\"T_c1c35\" class=\"dataframe\">\n",
              "  <thead>\n",
              "    <tr>\n",
              "      <th class=\"blank level0\" >&nbsp;</th>\n",
              "      <th id=\"T_c1c35_level0_col0\" class=\"col_heading level0 col0\" >Accuracy</th>\n",
              "      <th id=\"T_c1c35_level0_col1\" class=\"col_heading level0 col1\" >AUC</th>\n",
              "      <th id=\"T_c1c35_level0_col2\" class=\"col_heading level0 col2\" >Recall</th>\n",
              "      <th id=\"T_c1c35_level0_col3\" class=\"col_heading level0 col3\" >Prec.</th>\n",
              "      <th id=\"T_c1c35_level0_col4\" class=\"col_heading level0 col4\" >F1</th>\n",
              "      <th id=\"T_c1c35_level0_col5\" class=\"col_heading level0 col5\" >Kappa</th>\n",
              "      <th id=\"T_c1c35_level0_col6\" class=\"col_heading level0 col6\" >MCC</th>\n",
              "    </tr>\n",
              "    <tr>\n",
              "      <th class=\"index_name level0\" >Fold</th>\n",
              "      <th class=\"blank col0\" >&nbsp;</th>\n",
              "      <th class=\"blank col1\" >&nbsp;</th>\n",
              "      <th class=\"blank col2\" >&nbsp;</th>\n",
              "      <th class=\"blank col3\" >&nbsp;</th>\n",
              "      <th class=\"blank col4\" >&nbsp;</th>\n",
              "      <th class=\"blank col5\" >&nbsp;</th>\n",
              "      <th class=\"blank col6\" >&nbsp;</th>\n",
              "    </tr>\n",
              "  </thead>\n",
              "  <tbody>\n",
              "    <tr>\n",
              "      <th id=\"T_c1c35_level0_row0\" class=\"row_heading level0 row0\" >0</th>\n",
              "      <td id=\"T_c1c35_row0_col0\" class=\"data row0 col0\" >0.9088</td>\n",
              "      <td id=\"T_c1c35_row0_col1\" class=\"data row0 col1\" >0.9790</td>\n",
              "      <td id=\"T_c1c35_row0_col2\" class=\"data row0 col2\" >0.9133</td>\n",
              "      <td id=\"T_c1c35_row0_col3\" class=\"data row0 col3\" >0.9053</td>\n",
              "      <td id=\"T_c1c35_row0_col4\" class=\"data row0 col4\" >0.9093</td>\n",
              "      <td id=\"T_c1c35_row0_col5\" class=\"data row0 col5\" >0.8175</td>\n",
              "      <td id=\"T_c1c35_row0_col6\" class=\"data row0 col6\" >0.8176</td>\n",
              "    </tr>\n",
              "    <tr>\n",
              "      <th id=\"T_c1c35_level0_row1\" class=\"row_heading level0 row1\" >1</th>\n",
              "      <td id=\"T_c1c35_row1_col0\" class=\"data row1 col0\" >0.9131</td>\n",
              "      <td id=\"T_c1c35_row1_col1\" class=\"data row1 col1\" >0.9791</td>\n",
              "      <td id=\"T_c1c35_row1_col2\" class=\"data row1 col2\" >0.9274</td>\n",
              "      <td id=\"T_c1c35_row1_col3\" class=\"data row1 col3\" >0.9019</td>\n",
              "      <td id=\"T_c1c35_row1_col4\" class=\"data row1 col4\" >0.9145</td>\n",
              "      <td id=\"T_c1c35_row1_col5\" class=\"data row1 col5\" >0.8262</td>\n",
              "      <td id=\"T_c1c35_row1_col6\" class=\"data row1 col6\" >0.8266</td>\n",
              "    </tr>\n",
              "    <tr>\n",
              "      <th id=\"T_c1c35_level0_row2\" class=\"row_heading level0 row2\" >2</th>\n",
              "      <td id=\"T_c1c35_row2_col0\" class=\"data row2 col0\" >0.9176</td>\n",
              "      <td id=\"T_c1c35_row2_col1\" class=\"data row2 col1\" >0.9813</td>\n",
              "      <td id=\"T_c1c35_row2_col2\" class=\"data row2 col2\" >0.9292</td>\n",
              "      <td id=\"T_c1c35_row2_col3\" class=\"data row2 col3\" >0.9083</td>\n",
              "      <td id=\"T_c1c35_row2_col4\" class=\"data row2 col4\" >0.9186</td>\n",
              "      <td id=\"T_c1c35_row2_col5\" class=\"data row2 col5\" >0.8351</td>\n",
              "      <td id=\"T_c1c35_row2_col6\" class=\"data row2 col6\" >0.8353</td>\n",
              "    </tr>\n",
              "    <tr>\n",
              "      <th id=\"T_c1c35_level0_row3\" class=\"row_heading level0 row3\" >3</th>\n",
              "      <td id=\"T_c1c35_row3_col0\" class=\"data row3 col0\" >0.9016</td>\n",
              "      <td id=\"T_c1c35_row3_col1\" class=\"data row3 col1\" >0.9758</td>\n",
              "      <td id=\"T_c1c35_row3_col2\" class=\"data row3 col2\" >0.9062</td>\n",
              "      <td id=\"T_c1c35_row3_col3\" class=\"data row3 col3\" >0.8982</td>\n",
              "      <td id=\"T_c1c35_row3_col4\" class=\"data row3 col4\" >0.9022</td>\n",
              "      <td id=\"T_c1c35_row3_col5\" class=\"data row3 col5\" >0.8032</td>\n",
              "      <td id=\"T_c1c35_row3_col6\" class=\"data row3 col6\" >0.8032</td>\n",
              "    </tr>\n",
              "    <tr>\n",
              "      <th id=\"T_c1c35_level0_row4\" class=\"row_heading level0 row4\" >4</th>\n",
              "      <td id=\"T_c1c35_row4_col0\" class=\"data row4 col0\" >0.9051</td>\n",
              "      <td id=\"T_c1c35_row4_col1\" class=\"data row4 col1\" >0.9762</td>\n",
              "      <td id=\"T_c1c35_row4_col2\" class=\"data row4 col2\" >0.9310</td>\n",
              "      <td id=\"T_c1c35_row4_col3\" class=\"data row4 col3\" >0.8855</td>\n",
              "      <td id=\"T_c1c35_row4_col4\" class=\"data row4 col4\" >0.9077</td>\n",
              "      <td id=\"T_c1c35_row4_col5\" class=\"data row4 col5\" >0.8103</td>\n",
              "      <td id=\"T_c1c35_row4_col6\" class=\"data row4 col6\" >0.8113</td>\n",
              "    </tr>\n",
              "    <tr>\n",
              "      <th id=\"T_c1c35_level0_row5\" class=\"row_heading level0 row5\" >5</th>\n",
              "      <td id=\"T_c1c35_row5_col0\" class=\"data row5 col0\" >0.9016</td>\n",
              "      <td id=\"T_c1c35_row5_col1\" class=\"data row5 col1\" >0.9746</td>\n",
              "      <td id=\"T_c1c35_row5_col2\" class=\"data row5 col2\" >0.8867</td>\n",
              "      <td id=\"T_c1c35_row5_col3\" class=\"data row5 col3\" >0.9142</td>\n",
              "      <td id=\"T_c1c35_row5_col4\" class=\"data row5 col4\" >0.9003</td>\n",
              "      <td id=\"T_c1c35_row5_col5\" class=\"data row5 col5\" >0.8032</td>\n",
              "      <td id=\"T_c1c35_row5_col6\" class=\"data row5 col6\" >0.8036</td>\n",
              "    </tr>\n",
              "    <tr>\n",
              "      <th id=\"T_c1c35_level0_row6\" class=\"row_heading level0 row6\" >6</th>\n",
              "      <td id=\"T_c1c35_row6_col0\" class=\"data row6 col0\" >0.8883</td>\n",
              "      <td id=\"T_c1c35_row6_col1\" class=\"data row6 col1\" >0.9744</td>\n",
              "      <td id=\"T_c1c35_row6_col2\" class=\"data row6 col2\" >0.8954</td>\n",
              "      <td id=\"T_c1c35_row6_col3\" class=\"data row6 col3\" >0.8829</td>\n",
              "      <td id=\"T_c1c35_row6_col4\" class=\"data row6 col4\" >0.8891</td>\n",
              "      <td id=\"T_c1c35_row6_col5\" class=\"data row6 col5\" >0.7766</td>\n",
              "      <td id=\"T_c1c35_row6_col6\" class=\"data row6 col6\" >0.7767</td>\n",
              "    </tr>\n",
              "    <tr>\n",
              "      <th id=\"T_c1c35_level0_row7\" class=\"row_heading level0 row7\" >7</th>\n",
              "      <td id=\"T_c1c35_row7_col0\" class=\"data row7 col0\" >0.8963</td>\n",
              "      <td id=\"T_c1c35_row7_col1\" class=\"data row7 col1\" >0.9713</td>\n",
              "      <td id=\"T_c1c35_row7_col2\" class=\"data row7 col2\" >0.9309</td>\n",
              "      <td id=\"T_c1c35_row7_col3\" class=\"data row7 col3\" >0.8706</td>\n",
              "      <td id=\"T_c1c35_row7_col4\" class=\"data row7 col4\" >0.8997</td>\n",
              "      <td id=\"T_c1c35_row7_col5\" class=\"data row7 col5\" >0.7926</td>\n",
              "      <td id=\"T_c1c35_row7_col6\" class=\"data row7 col6\" >0.7945</td>\n",
              "    </tr>\n",
              "    <tr>\n",
              "      <th id=\"T_c1c35_level0_row8\" class=\"row_heading level0 row8\" >8</th>\n",
              "      <td id=\"T_c1c35_row8_col0\" class=\"data row8 col0\" >0.8972</td>\n",
              "      <td id=\"T_c1c35_row8_col1\" class=\"data row8 col1\" >0.9745</td>\n",
              "      <td id=\"T_c1c35_row8_col2\" class=\"data row8 col2\" >0.8883</td>\n",
              "      <td id=\"T_c1c35_row8_col3\" class=\"data row8 col3\" >0.9043</td>\n",
              "      <td id=\"T_c1c35_row8_col4\" class=\"data row8 col4\" >0.8962</td>\n",
              "      <td id=\"T_c1c35_row8_col5\" class=\"data row8 col5\" >0.7943</td>\n",
              "      <td id=\"T_c1c35_row8_col6\" class=\"data row8 col6\" >0.7945</td>\n",
              "    </tr>\n",
              "    <tr>\n",
              "      <th id=\"T_c1c35_level0_row9\" class=\"row_heading level0 row9\" >9</th>\n",
              "      <td id=\"T_c1c35_row9_col0\" class=\"data row9 col0\" >0.9043</td>\n",
              "      <td id=\"T_c1c35_row9_col1\" class=\"data row9 col1\" >0.9777</td>\n",
              "      <td id=\"T_c1c35_row9_col2\" class=\"data row9 col2\" >0.9007</td>\n",
              "      <td id=\"T_c1c35_row9_col3\" class=\"data row9 col3\" >0.9071</td>\n",
              "      <td id=\"T_c1c35_row9_col4\" class=\"data row9 col4\" >0.9039</td>\n",
              "      <td id=\"T_c1c35_row9_col5\" class=\"data row9 col5\" >0.8085</td>\n",
              "      <td id=\"T_c1c35_row9_col6\" class=\"data row9 col6\" >0.8085</td>\n",
              "    </tr>\n",
              "    <tr>\n",
              "      <th id=\"T_c1c35_level0_row10\" class=\"row_heading level0 row10\" >Mean</th>\n",
              "      <td id=\"T_c1c35_row10_col0\" class=\"data row10 col0\" >0.9034</td>\n",
              "      <td id=\"T_c1c35_row10_col1\" class=\"data row10 col1\" >0.9764</td>\n",
              "      <td id=\"T_c1c35_row10_col2\" class=\"data row10 col2\" >0.9109</td>\n",
              "      <td id=\"T_c1c35_row10_col3\" class=\"data row10 col3\" >0.8978</td>\n",
              "      <td id=\"T_c1c35_row10_col4\" class=\"data row10 col4\" >0.9042</td>\n",
              "      <td id=\"T_c1c35_row10_col5\" class=\"data row10 col5\" >0.8068</td>\n",
              "      <td id=\"T_c1c35_row10_col6\" class=\"data row10 col6\" >0.8072</td>\n",
              "    </tr>\n",
              "    <tr>\n",
              "      <th id=\"T_c1c35_level0_row11\" class=\"row_heading level0 row11\" >Std</th>\n",
              "      <td id=\"T_c1c35_row11_col0\" class=\"data row11 col0\" >0.0081</td>\n",
              "      <td id=\"T_c1c35_row11_col1\" class=\"data row11 col1\" >0.0028</td>\n",
              "      <td id=\"T_c1c35_row11_col2\" class=\"data row11 col2\" >0.0170</td>\n",
              "      <td id=\"T_c1c35_row11_col3\" class=\"data row11 col3\" >0.0130</td>\n",
              "      <td id=\"T_c1c35_row11_col4\" class=\"data row11 col4\" >0.0083</td>\n",
              "      <td id=\"T_c1c35_row11_col5\" class=\"data row11 col5\" >0.0161</td>\n",
              "      <td id=\"T_c1c35_row11_col6\" class=\"data row11 col6\" >0.0161</td>\n",
              "    </tr>\n",
              "  </tbody>\n",
              "</table>\n"
            ]
          },
          "metadata": {}
        },
        {
          "output_type": "display_data",
          "data": {
            "text/plain": [
              "Processing:   0%|          | 0/7 [00:00<?, ?it/s]"
            ],
            "application/vnd.jupyter.widget-view+json": {
              "version_major": 2,
              "version_minor": 0,
              "model_id": "6fabe2f2cedf4273a3d6559e9bfef61a"
            }
          },
          "metadata": {
            "application/vnd.jupyter.widget-view+json": {
              "colab": {
                "custom_widget_manager": {
                  "url": "https://ssl.gstatic.com/colaboratory-static/widgets/colab-cdn-widget-manager/2b70e893a8ba7c0f/manager.min.js"
                }
              }
            }
          }
        },
        {
          "output_type": "stream",
          "name": "stdout",
          "text": [
            "Fitting 10 folds for each of 10 candidates, totalling 100 fits\n"
          ]
        },
        {
          "output_type": "display_data",
          "data": {
            "text/plain": [
              "<IPython.core.display.HTML object>"
            ],
            "text/html": []
          },
          "metadata": {}
        },
        {
          "output_type": "stream",
          "name": "stdout",
          "text": [
            "Original model was better than the tuned model, hence it will be returned. NOTE: The display metrics are for the tuned model (not the original one).\n"
          ]
        }
      ]
    },
    {
      "cell_type": "code",
      "source": [
        "print(tuned_model)"
      ],
      "metadata": {
        "colab": {
          "base_uri": "https://localhost:8080/"
        },
        "id": "3WoQrKbfmXnQ",
        "outputId": "e8465980-6765-453a-f561-83b03b1dd82d"
      },
      "execution_count": 136,
      "outputs": [
        {
          "output_type": "stream",
          "name": "stdout",
          "text": [
            "GradientBoostingClassifier(ccp_alpha=0.0, criterion='friedman_mse', init=None,\n",
            "                           learning_rate=0.1, loss='log_loss', max_depth=3,\n",
            "                           max_features=None, max_leaf_nodes=None,\n",
            "                           min_impurity_decrease=0.0, min_samples_leaf=1,\n",
            "                           min_samples_split=2, min_weight_fraction_leaf=0.0,\n",
            "                           n_estimators=100, n_iter_no_change=None,\n",
            "                           random_state=0, subsample=1.0, tol=0.0001,\n",
            "                           validation_fraction=0.1, verbose=0,\n",
            "                           warm_start=False)\n"
          ]
        }
      ]
    },
    {
      "cell_type": "markdown",
      "source": [
        "Como o modelo original(não tunado) obteve um resultado melhor, a saida \"**print(tuned_model)**\" devolveu novamente os parametros do modelo original treinado em \"**print(best_model)**\""
      ],
      "metadata": {
        "id": "81iHeLTXoHDp"
      }
    },
    {
      "cell_type": "markdown",
      "source": [
        "### Criando o modelo final e avaliando as metricas"
      ],
      "metadata": {
        "id": "Iq2gTy8Boc6A"
      }
    },
    {
      "cell_type": "code",
      "source": [
        "from sklearn.ensemble import GradientBoostingClassifier\n",
        "from sklearn.metrics import ConfusionMatrixDisplay\n",
        "from sklearn.metrics import classification_report\n",
        "from sklearn.metrics import roc_auc_score , roc_curve , accuracy_score"
      ],
      "metadata": {
        "id": "2TY9vXOziUg3"
      },
      "execution_count": 137,
      "outputs": []
    },
    {
      "cell_type": "code",
      "source": [
        "X_teste = df_teste.drop(columns='diabete')\n",
        "y_teste = df_teste['diabete']\n",
        "\n",
        "gbm_model = GradientBoostingClassifier(ccp_alpha=0.0, criterion='friedman_mse', init=None,\n",
        "                           learning_rate=0.1, loss='log_loss', max_depth=3,\n",
        "                           max_features=None, max_leaf_nodes=None,\n",
        "                           min_impurity_decrease=0.0, min_samples_leaf=1,\n",
        "                           min_samples_split=2, min_weight_fraction_leaf=0.0,\n",
        "                           n_estimators=100, n_iter_no_change=None,\n",
        "                           random_state=0, subsample=1.0, tol=0.0001,\n",
        "                           validation_fraction=0.1, verbose=0,\n",
        "                           warm_start=False)\n",
        "gbm_model.fit(X_teste, df_teste['diabete'])\n",
        "\n",
        "ConfusionMatrixDisplay.from_estimator(gbm_model, X_teste, y_teste)\n",
        "print(classification_report(y_teste, gbm_model.predict(X_teste)))\n",
        "print(\"AUC: {:.4f}\\n\".format(roc_auc_score(y_teste, gbm_model.predict(X_teste))))"
      ],
      "metadata": {
        "colab": {
          "base_uri": "https://localhost:8080/",
          "height": 694
        },
        "id": "VFQDCX_KiUen",
        "outputId": "732fcaf3-2835-4792-b557-670e66a94189"
      },
      "execution_count": 138,
      "outputs": [
        {
          "output_type": "stream",
          "name": "stdout",
          "text": [
            "              precision    recall  f1-score   support\n",
            "\n",
            "           0       0.96      0.95      0.95       432\n",
            "           1       0.95      0.96      0.95       416\n",
            "\n",
            "    accuracy                           0.95       848\n",
            "   macro avg       0.95      0.95      0.95       848\n",
            "weighted avg       0.95      0.95      0.95       848\n",
            "\n",
            "AUC: 0.9541\n",
            "\n"
          ]
        },
        {
          "output_type": "display_data",
          "data": {
            "text/plain": [
              "<Figure size 800x550 with 2 Axes>"
            ],
            "image/png": "[encoded data removed]"
          },
          "metadata": {}
        }
      ]
    },
    {
      "cell_type": "code",
      "source": [
        "import sklearn.metrics as metrics\n",
        "# calculate the fpr and tpr for all thresholds of the classification\n",
        "probs = gbm_model.predict_proba(X_teste)\n",
        "preds = probs[:,1]\n",
        "fpr, tpr, threshold = metrics.roc_curve(y_teste, preds)\n",
        "roc_auc = metrics.auc(fpr, tpr)\n",
        "\n",
        "# method I: plt\n",
        "import matplotlib.pyplot as plt\n",
        "plt.title('Curva ROC')\n",
        "plt.plot(fpr, tpr, 'b', label = 'AUC = %0.2f' % roc_auc)\n",
        "plt.legend(loc = 'lower right')\n",
        "plt.plot([0, 1], [0, 1],'r--')\n",
        "plt.xlim([0, 1])\n",
        "plt.ylim([0, 1])\n",
        "plt.ylabel('Taxa de Verdadeiros Positivos')\n",
        "plt.xlabel('Taxa de Falsos Positivos')\n",
        "plt.show()"
      ],
      "metadata": {
        "colab": {
          "base_uri": "https://localhost:8080/",
          "height": 524
        },
        "id": "02v0kShmiUcJ",
        "outputId": "9f2b7c5a-39b5-4bec-b943-a14cdf957126"
      },
      "execution_count": 139,
      "outputs": [
        {
          "output_type": "display_data",
          "data": {
            "text/plain": [
              "<Figure size 800x550 with 1 Axes>"
            ],
            "image/png": "[encoded data removed]"
          },
          "metadata": {}
        }
      ]
    },
    {
      "cell_type": "markdown",
      "source": [
        "Percebemos que o modelo está generalizando bem os dados, tivemos um desemprenho muito bom nos dados de treino usados no Pycaret para gerar o melhor modelo inicial e tivemos ainda uma melhora com os novos dados usados para a validação do modelo. Todas as metricas de avaliação estão com valores significativos."
      ],
      "metadata": {
        "id": "GQuyUUMuuf9q"
      }
    },
    {
      "cell_type": "code",
      "source": [
        "plot_model(best_model, plot='feature')"
      ],
      "metadata": {
        "collapsed": true,
        "id": "PDCqT-sR_IGK",
        "colab": {
          "base_uri": "https://localhost:8080/",
          "height": 485
        },
        "outputId": "37ed3bd6-5752-4972-aad4-395dc27bf5b5"
      },
      "execution_count": 140,
      "outputs": [
        {
          "output_type": "display_data",
          "data": {
            "text/plain": [
              "<IPython.core.display.HTML object>"
            ],
            "text/html": []
          },
          "metadata": {}
        },
        {
          "output_type": "display_data",
          "data": {
            "text/plain": [
              "<Figure size 800x500 with 1 Axes>"
            ],
            "image/png": "[encoded data removed]"
          },
          "metadata": {}
        }
      ]
    },
    {
      "cell_type": "markdown",
      "source": [
        "Avaliando a importância das variáveis, percebemos que as variáveis 'problema_coracao', 'fumante_cat_sem_info','genero','fumante_cat_fumou_fuma','fumante_cat_nunca_fumou' não tem tanto importância no modelo, vou retirar e ver se melhora a performance de algum indicador, caso não melhore manterei como está."
      ],
      "metadata": {
        "id": "wXAq3CVXs7fQ"
      }
    },
    {
      "cell_type": "code",
      "source": [
        "X_teste_2 = X_teste.drop(['problema_coracao', 'fumante_cat_sem_info','genero','fumante_cat_fumou_fuma','fumante_cat_nunca_fumou'], axis=1)"
      ],
      "metadata": {
        "id": "77a9mWqTsBe6"
      },
      "execution_count": 141,
      "outputs": []
    },
    {
      "cell_type": "code",
      "source": [
        "gbm_model = GradientBoostingClassifier(ccp_alpha=0.0, criterion='friedman_mse', init=None,\n",
        "                           learning_rate=0.1, loss='log_loss', max_depth=3,\n",
        "                           max_features=None, max_leaf_nodes=None,\n",
        "                           min_impurity_decrease=0.0, min_samples_leaf=1,\n",
        "                           min_samples_split=2, min_weight_fraction_leaf=0.0,\n",
        "                           n_estimators=100, n_iter_no_change=None,\n",
        "                           random_state=0, subsample=1.0, tol=0.0001,\n",
        "                           validation_fraction=0.1, verbose=0,\n",
        "                           warm_start=False)\n",
        "gbm_model.fit(X_teste_2, df_teste['diabete'])\n",
        "\n",
        "ConfusionMatrixDisplay.from_estimator(gbm_model, X_teste_2, y_teste)\n",
        "print(classification_report(y_teste, gbm_model.predict(X_teste_2)))\n",
        "print(\"AUC: {:.4f}\\n\".format(roc_auc_score(y_teste, gbm_model.predict(X_teste_2))))"
      ],
      "metadata": {
        "colab": {
          "base_uri": "https://localhost:8080/",
          "height": 698
        },
        "id": "IWSoeHaLsbrx",
        "outputId": "980ff390-3f1a-4b37-d1e6-d19f3df384d3"
      },
      "execution_count": 142,
      "outputs": [
        {
          "output_type": "stream",
          "name": "stdout",
          "text": [
            "              precision    recall  f1-score   support\n",
            "\n",
            "           0       0.97      0.93      0.95       432\n",
            "           1       0.93      0.97      0.95       416\n",
            "\n",
            "    accuracy                           0.95       848\n",
            "   macro avg       0.95      0.95      0.95       848\n",
            "weighted avg       0.95      0.95      0.95       848\n",
            "\n",
            "AUC: 0.9461\n",
            "\n"
          ]
        },
        {
          "output_type": "display_data",
          "data": {
            "text/plain": [
              "<Figure size 800x550 with 2 Axes>"
            ],
            "image/png": "[encoded data removed]"
          },
          "metadata": {}
        }
      ]
    },
    {
      "cell_type": "markdown",
      "source": [
        "Notamos que as metricas tiveram uma leve queda, o que talves fosse previsivel já que retiramos dados do modelo, porém vemos na matriz de confusão que o modelo perdeu um pouco de Recall, o que é prejudicial para o modelo, se tratando de um modelo preditivo de saúde onde o erro na previsão pode custar a vida de algum paciente. Por isso irei manter as variáveis que aparentemente tem \"menor importância\""
      ],
      "metadata": {
        "id": "KcyfPQtutf6Y"
      }
    }
  ]
}
