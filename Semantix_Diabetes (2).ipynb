{
  "nbformat": 4,
  "nbformat_minor": 0,
  "metadata": {
    "colab": {
      "provenance": [],
      "collapsed_sections": [
        "crJlZ7TI5b84",
        "d1L-2rfGDIdK",
        "idTTbNwaKpO6",
        "bgiXKYA6avlc",
        "4eJPx35IazxM",
        "sMmaD1Hva5Jk",
        "-FR_Y6C9asmk",
        "jIzNWu28bcNE",
        "-9Fr5cU6lDjq",
        "Q46exz-OoN45",
        "u2JEgAnmtnbI",
        "36j6mI1CuOpo",
        "h5U-bCNLvDDH",
        "Rzw2220P2GCv"
      ]
    },
    "kernelspec": {
      "name": "python3",
      "display_name": "Python 3"
    },
    "language_info": {
      "name": "python"
    },
    "widgets": {
      "application/vnd.jupyter.widget-state+json": {
        "85b4b3eb7e8c4ce9b33b95cee2d0f71e": {
          "model_module": "@jupyter-widgets/controls",
          "model_name": "HBoxModel",
          "model_module_version": "1.5.0",
          "state": {
            "_dom_classes": [],
            "_model_module": "@jupyter-widgets/controls",
            "_model_module_version": "1.5.0",
            "_model_name": "HBoxModel",
            "_view_count": null,
            "_view_module": "@jupyter-widgets/controls",
            "_view_module_version": "1.5.0",
            "_view_name": "HBoxView",
            "box_style": "",
            "children": [
              "IPY_MODEL_e0d6707891654616a4329ad1ae75d582",
              "IPY_MODEL_98e5cb175f294ab9a562d61103fca426",
              "IPY_MODEL_869e45bd46634b2fa2610ed918bd81ff"
            ],
            "layout": "IPY_MODEL_caf4e4481d0e45d7b2119a3419c57cb1"
          }
        },
        "e0d6707891654616a4329ad1ae75d582": {
          "model_module": "@jupyter-widgets/controls",
          "model_name": "HTMLModel",
          "model_module_version": "1.5.0",
          "state": {
            "_dom_classes": [],
            "_model_module": "@jupyter-widgets/controls",
            "_model_module_version": "1.5.0",
            "_model_name": "HTMLModel",
            "_view_count": null,
            "_view_module": "@jupyter-widgets/controls",
            "_view_module_version": "1.5.0",
            "_view_name": "HTMLView",
            "description": "",
            "description_tooltip": null,
            "layout": "IPY_MODEL_ad22cb62e84347baa154af5acfd13773",
            "placeholder": "​",
            "style": "IPY_MODEL_2b1cf9aa25d54646a4073ead6ed29cc7",
            "value": "Processing: 100%"
          }
        },
        "98e5cb175f294ab9a562d61103fca426": {
          "model_module": "@jupyter-widgets/controls",
          "model_name": "FloatProgressModel",
          "model_module_version": "1.5.0",
          "state": {
            "_dom_classes": [],
            "_model_module": "@jupyter-widgets/controls",
            "_model_module_version": "1.5.0",
            "_model_name": "FloatProgressModel",
            "_view_count": null,
            "_view_module": "@jupyter-widgets/controls",
            "_view_module_version": "1.5.0",
            "_view_name": "ProgressView",
            "bar_style": "",
            "description": "",
            "description_tooltip": null,
            "layout": "IPY_MODEL_d61b5ffbd6e34148a183c4b6791d6eb7",
            "max": 69,
            "min": 0,
            "orientation": "horizontal",
            "style": "IPY_MODEL_2cf8ae3f58934562a20a01839866c7f1",
            "value": 69
          }
        },
        "869e45bd46634b2fa2610ed918bd81ff": {
          "model_module": "@jupyter-widgets/controls",
          "model_name": "HTMLModel",
          "model_module_version": "1.5.0",
          "state": {
            "_dom_classes": [],
            "_model_module": "@jupyter-widgets/controls",
            "_model_module_version": "1.5.0",
            "_model_name": "HTMLModel",
            "_view_count": null,
            "_view_module": "@jupyter-widgets/controls",
            "_view_module_version": "1.5.0",
            "_view_name": "HTMLView",
            "description": "",
            "description_tooltip": null,
            "layout": "IPY_MODEL_9047c74a00214300a8abaaf8d3f3d8c8",
            "placeholder": "​",
            "style": "IPY_MODEL_d9cdbcccf099407b9c96981b1a01e71c",
            "value": " 69/69 [02:28&lt;00:00,  3.31s/it]"
          }
        },
        "caf4e4481d0e45d7b2119a3419c57cb1": {
          "model_module": "@jupyter-widgets/base",
          "model_name": "LayoutModel",
          "model_module_version": "1.2.0",
          "state": {
            "_model_module": "@jupyter-widgets/base",
            "_model_module_version": "1.2.0",
            "_model_name": "LayoutModel",
            "_view_count": null,
            "_view_module": "@jupyter-widgets/base",
            "_view_module_version": "1.2.0",
            "_view_name": "LayoutView",
            "align_content": null,
            "align_items": null,
            "align_self": null,
            "border": null,
            "bottom": null,
            "display": null,
            "flex": null,
            "flex_flow": null,
            "grid_area": null,
            "grid_auto_columns": null,
            "grid_auto_flow": null,
            "grid_auto_rows": null,
            "grid_column": null,
            "grid_gap": null,
            "grid_row": null,
            "grid_template_areas": null,
            "grid_template_columns": null,
            "grid_template_rows": null,
            "height": null,
            "justify_content": null,
            "justify_items": null,
            "left": null,
            "margin": null,
            "max_height": null,
            "max_width": null,
            "min_height": null,
            "min_width": null,
            "object_fit": null,
            "object_position": null,
            "order": null,
            "overflow": null,
            "overflow_x": null,
            "overflow_y": null,
            "padding": null,
            "right": null,
            "top": null,
            "visibility": "hidden",
            "width": null
          }
        },
        "ad22cb62e84347baa154af5acfd13773": {
          "model_module": "@jupyter-widgets/base",
          "model_name": "LayoutModel",
          "model_module_version": "1.2.0",
          "state": {
            "_model_module": "@jupyter-widgets/base",
            "_model_module_version": "1.2.0",
            "_model_name": "LayoutModel",
            "_view_count": null,
            "_view_module": "@jupyter-widgets/base",
            "_view_module_version": "1.2.0",
            "_view_name": "LayoutView",
            "align_content": null,
            "align_items": null,
            "align_self": null,
            "border": null,
            "bottom": null,
            "display": null,
            "flex": null,
            "flex_flow": null,
            "grid_area": null,
            "grid_auto_columns": null,
            "grid_auto_flow": null,
            "grid_auto_rows": null,
            "grid_column": null,
            "grid_gap": null,
            "grid_row": null,
            "grid_template_areas": null,
            "grid_template_columns": null,
            "grid_template_rows": null,
            "height": null,
            "justify_content": null,
            "justify_items": null,
            "left": null,
            "margin": null,
            "max_height": null,
            "max_width": null,
            "min_height": null,
            "min_width": null,
            "object_fit": null,
            "object_position": null,
            "order": null,
            "overflow": null,
            "overflow_x": null,
            "overflow_y": null,
            "padding": null,
            "right": null,
            "top": null,
            "visibility": null,
            "width": null
          }
        },
        "2b1cf9aa25d54646a4073ead6ed29cc7": {
          "model_module": "@jupyter-widgets/controls",
          "model_name": "DescriptionStyleModel",
          "model_module_version": "1.5.0",
          "state": {
            "_model_module": "@jupyter-widgets/controls",
            "_model_module_version": "1.5.0",
            "_model_name": "DescriptionStyleModel",
            "_view_count": null,
            "_view_module": "@jupyter-widgets/base",
            "_view_module_version": "1.2.0",
            "_view_name": "StyleView",
            "description_width": ""
          }
        },
        "d61b5ffbd6e34148a183c4b6791d6eb7": {
          "model_module": "@jupyter-widgets/base",
          "model_name": "LayoutModel",
          "model_module_version": "1.2.0",
          "state": {
            "_model_module": "@jupyter-widgets/base",
            "_model_module_version": "1.2.0",
            "_model_name": "LayoutModel",
            "_view_count": null,
            "_view_module": "@jupyter-widgets/base",
            "_view_module_version": "1.2.0",
            "_view_name": "LayoutView",
            "align_content": null,
            "align_items": null,
            "align_self": null,
            "border": null,
            "bottom": null,
            "display": null,
            "flex": null,
            "flex_flow": null,
            "grid_area": null,
            "grid_auto_columns": null,
            "grid_auto_flow": null,
            "grid_auto_rows": null,
            "grid_column": null,
            "grid_gap": null,
            "grid_row": null,
            "grid_template_areas": null,
            "grid_template_columns": null,
            "grid_template_rows": null,
            "height": null,
            "justify_content": null,
            "justify_items": null,
            "left": null,
            "margin": null,
            "max_height": null,
            "max_width": null,
            "min_height": null,
            "min_width": null,
            "object_fit": null,
            "object_position": null,
            "order": null,
            "overflow": null,
            "overflow_x": null,
            "overflow_y": null,
            "padding": null,
            "right": null,
            "top": null,
            "visibility": null,
            "width": null
          }
        },
        "2cf8ae3f58934562a20a01839866c7f1": {
          "model_module": "@jupyter-widgets/controls",
          "model_name": "ProgressStyleModel",
          "model_module_version": "1.5.0",
          "state": {
            "_model_module": "@jupyter-widgets/controls",
            "_model_module_version": "1.5.0",
            "_model_name": "ProgressStyleModel",
            "_view_count": null,
            "_view_module": "@jupyter-widgets/base",
            "_view_module_version": "1.2.0",
            "_view_name": "StyleView",
            "bar_color": null,
            "description_width": ""
          }
        },
        "9047c74a00214300a8abaaf8d3f3d8c8": {
          "model_module": "@jupyter-widgets/base",
          "model_name": "LayoutModel",
          "model_module_version": "1.2.0",
          "state": {
            "_model_module": "@jupyter-widgets/base",
            "_model_module_version": "1.2.0",
            "_model_name": "LayoutModel",
            "_view_count": null,
            "_view_module": "@jupyter-widgets/base",
            "_view_module_version": "1.2.0",
            "_view_name": "LayoutView",
            "align_content": null,
            "align_items": null,
            "align_self": null,
            "border": null,
            "bottom": null,
            "display": null,
            "flex": null,
            "flex_flow": null,
            "grid_area": null,
            "grid_auto_columns": null,
            "grid_auto_flow": null,
            "grid_auto_rows": null,
            "grid_column": null,
            "grid_gap": null,
            "grid_row": null,
            "grid_template_areas": null,
            "grid_template_columns": null,
            "grid_template_rows": null,
            "height": null,
            "justify_content": null,
            "justify_items": null,
            "left": null,
            "margin": null,
            "max_height": null,
            "max_width": null,
            "min_height": null,
            "min_width": null,
            "object_fit": null,
            "object_position": null,
            "order": null,
            "overflow": null,
            "overflow_x": null,
            "overflow_y": null,
            "padding": null,
            "right": null,
            "top": null,
            "visibility": null,
            "width": null
          }
        },
        "d9cdbcccf099407b9c96981b1a01e71c": {
          "model_module": "@jupyter-widgets/controls",
          "model_name": "DescriptionStyleModel",
          "model_module_version": "1.5.0",
          "state": {
            "_model_module": "@jupyter-widgets/controls",
            "_model_module_version": "1.5.0",
            "_model_name": "DescriptionStyleModel",
            "_view_count": null,
            "_view_module": "@jupyter-widgets/base",
            "_view_module_version": "1.2.0",
            "_view_name": "StyleView",
            "description_width": ""
          }
        },
        "93f46ee31c764f299873f40580acab6e": {
          "model_module": "@jupyter-widgets/controls",
          "model_name": "HBoxModel",
          "model_module_version": "1.5.0",
          "state": {
            "_dom_classes": [],
            "_model_module": "@jupyter-widgets/controls",
            "_model_module_version": "1.5.0",
            "_model_name": "HBoxModel",
            "_view_count": null,
            "_view_module": "@jupyter-widgets/controls",
            "_view_module_version": "1.5.0",
            "_view_name": "HBoxView",
            "box_style": "",
            "children": [
              "IPY_MODEL_e021967343cf4af99000838af9351875",
              "IPY_MODEL_4e74c712e54844ad9b6e950c91e96ed7",
              "IPY_MODEL_b8d0ded29090419a93f7295c1543311d"
            ],
            "layout": "IPY_MODEL_41d3eb25280e4a7ebfdb6c89bca6b603"
          }
        },
        "e021967343cf4af99000838af9351875": {
          "model_module": "@jupyter-widgets/controls",
          "model_name": "HTMLModel",
          "model_module_version": "1.5.0",
          "state": {
            "_dom_classes": [],
            "_model_module": "@jupyter-widgets/controls",
            "_model_module_version": "1.5.0",
            "_model_name": "HTMLModel",
            "_view_count": null,
            "_view_module": "@jupyter-widgets/controls",
            "_view_module_version": "1.5.0",
            "_view_name": "HTMLView",
            "description": "",
            "description_tooltip": null,
            "layout": "IPY_MODEL_81b6bc4d01264923b99293d81ddb2c2b",
            "placeholder": "​",
            "style": "IPY_MODEL_668efa376f70427fa19c51455233a47b",
            "value": "Processing: 100%"
          }
        },
        "4e74c712e54844ad9b6e950c91e96ed7": {
          "model_module": "@jupyter-widgets/controls",
          "model_name": "FloatProgressModel",
          "model_module_version": "1.5.0",
          "state": {
            "_dom_classes": [],
            "_model_module": "@jupyter-widgets/controls",
            "_model_module_version": "1.5.0",
            "_model_name": "FloatProgressModel",
            "_view_count": null,
            "_view_module": "@jupyter-widgets/controls",
            "_view_module_version": "1.5.0",
            "_view_name": "ProgressView",
            "bar_style": "",
            "description": "",
            "description_tooltip": null,
            "layout": "IPY_MODEL_c541ca3934e9437197ee9f95ad561ad3",
            "max": 7,
            "min": 0,
            "orientation": "horizontal",
            "style": "IPY_MODEL_11948955c7684f7cb28cc26cd1e5c80d",
            "value": 7
          }
        },
        "b8d0ded29090419a93f7295c1543311d": {
          "model_module": "@jupyter-widgets/controls",
          "model_name": "HTMLModel",
          "model_module_version": "1.5.0",
          "state": {
            "_dom_classes": [],
            "_model_module": "@jupyter-widgets/controls",
            "_model_module_version": "1.5.0",
            "_model_name": "HTMLModel",
            "_view_count": null,
            "_view_module": "@jupyter-widgets/controls",
            "_view_module_version": "1.5.0",
            "_view_name": "HTMLView",
            "description": "",
            "description_tooltip": null,
            "layout": "IPY_MODEL_23339ebaa3814fcbae83ac8ba79f100c",
            "placeholder": "​",
            "style": "IPY_MODEL_d5d8228ad4ff475d93116aae1774f530",
            "value": " 7/7 [04:13&lt;00:00, 27.40s/it]"
          }
        },
        "41d3eb25280e4a7ebfdb6c89bca6b603": {
          "model_module": "@jupyter-widgets/base",
          "model_name": "LayoutModel",
          "model_module_version": "1.2.0",
          "state": {
            "_model_module": "@jupyter-widgets/base",
            "_model_module_version": "1.2.0",
            "_model_name": "LayoutModel",
            "_view_count": null,
            "_view_module": "@jupyter-widgets/base",
            "_view_module_version": "1.2.0",
            "_view_name": "LayoutView",
            "align_content": null,
            "align_items": null,
            "align_self": null,
            "border": null,
            "bottom": null,
            "display": null,
            "flex": null,
            "flex_flow": null,
            "grid_area": null,
            "grid_auto_columns": null,
            "grid_auto_flow": null,
            "grid_auto_rows": null,
            "grid_column": null,
            "grid_gap": null,
            "grid_row": null,
            "grid_template_areas": null,
            "grid_template_columns": null,
            "grid_template_rows": null,
            "height": null,
            "justify_content": null,
            "justify_items": null,
            "left": null,
            "margin": null,
            "max_height": null,
            "max_width": null,
            "min_height": null,
            "min_width": null,
            "object_fit": null,
            "object_position": null,
            "order": null,
            "overflow": null,
            "overflow_x": null,
            "overflow_y": null,
            "padding": null,
            "right": null,
            "top": null,
            "visibility": "hidden",
            "width": null
          }
        },
        "81b6bc4d01264923b99293d81ddb2c2b": {
          "model_module": "@jupyter-widgets/base",
          "model_name": "LayoutModel",
          "model_module_version": "1.2.0",
          "state": {
            "_model_module": "@jupyter-widgets/base",
            "_model_module_version": "1.2.0",
            "_model_name": "LayoutModel",
            "_view_count": null,
            "_view_module": "@jupyter-widgets/base",
            "_view_module_version": "1.2.0",
            "_view_name": "LayoutView",
            "align_content": null,
            "align_items": null,
            "align_self": null,
            "border": null,
            "bottom": null,
            "display": null,
            "flex": null,
            "flex_flow": null,
            "grid_area": null,
            "grid_auto_columns": null,
            "grid_auto_flow": null,
            "grid_auto_rows": null,
            "grid_column": null,
            "grid_gap": null,
            "grid_row": null,
            "grid_template_areas": null,
            "grid_template_columns": null,
            "grid_template_rows": null,
            "height": null,
            "justify_content": null,
            "justify_items": null,
            "left": null,
            "margin": null,
            "max_height": null,
            "max_width": null,
            "min_height": null,
            "min_width": null,
            "object_fit": null,
            "object_position": null,
            "order": null,
            "overflow": null,
            "overflow_x": null,
            "overflow_y": null,
            "padding": null,
            "right": null,
            "top": null,
            "visibility": null,
            "width": null
          }
        },
        "668efa376f70427fa19c51455233a47b": {
          "model_module": "@jupyter-widgets/controls",
          "model_name": "DescriptionStyleModel",
          "model_module_version": "1.5.0",
          "state": {
            "_model_module": "@jupyter-widgets/controls",
            "_model_module_version": "1.5.0",
            "_model_name": "DescriptionStyleModel",
            "_view_count": null,
            "_view_module": "@jupyter-widgets/base",
            "_view_module_version": "1.2.0",
            "_view_name": "StyleView",
            "description_width": ""
          }
        },
        "c541ca3934e9437197ee9f95ad561ad3": {
          "model_module": "@jupyter-widgets/base",
          "model_name": "LayoutModel",
          "model_module_version": "1.2.0",
          "state": {
            "_model_module": "@jupyter-widgets/base",
            "_model_module_version": "1.2.0",
            "_model_name": "LayoutModel",
            "_view_count": null,
            "_view_module": "@jupyter-widgets/base",
            "_view_module_version": "1.2.0",
            "_view_name": "LayoutView",
            "align_content": null,
            "align_items": null,
            "align_self": null,
            "border": null,
            "bottom": null,
            "display": null,
            "flex": null,
            "flex_flow": null,
            "grid_area": null,
            "grid_auto_columns": null,
            "grid_auto_flow": null,
            "grid_auto_rows": null,
            "grid_column": null,
            "grid_gap": null,
            "grid_row": null,
            "grid_template_areas": null,
            "grid_template_columns": null,
            "grid_template_rows": null,
            "height": null,
            "justify_content": null,
            "justify_items": null,
            "left": null,
            "margin": null,
            "max_height": null,
            "max_width": null,
            "min_height": null,
            "min_width": null,
            "object_fit": null,
            "object_position": null,
            "order": null,
            "overflow": null,
            "overflow_x": null,
            "overflow_y": null,
            "padding": null,
            "right": null,
            "top": null,
            "visibility": null,
            "width": null
          }
        },
        "11948955c7684f7cb28cc26cd1e5c80d": {
          "model_module": "@jupyter-widgets/controls",
          "model_name": "ProgressStyleModel",
          "model_module_version": "1.5.0",
          "state": {
            "_model_module": "@jupyter-widgets/controls",
            "_model_module_version": "1.5.0",
            "_model_name": "ProgressStyleModel",
            "_view_count": null,
            "_view_module": "@jupyter-widgets/base",
            "_view_module_version": "1.2.0",
            "_view_name": "StyleView",
            "bar_color": null,
            "description_width": ""
          }
        },
        "23339ebaa3814fcbae83ac8ba79f100c": {
          "model_module": "@jupyter-widgets/base",
          "model_name": "LayoutModel",
          "model_module_version": "1.2.0",
          "state": {
            "_model_module": "@jupyter-widgets/base",
            "_model_module_version": "1.2.0",
            "_model_name": "LayoutModel",
            "_view_count": null,
            "_view_module": "@jupyter-widgets/base",
            "_view_module_version": "1.2.0",
            "_view_name": "LayoutView",
            "align_content": null,
            "align_items": null,
            "align_self": null,
            "border": null,
            "bottom": null,
            "display": null,
            "flex": null,
            "flex_flow": null,
            "grid_area": null,
            "grid_auto_columns": null,
            "grid_auto_flow": null,
            "grid_auto_rows": null,
            "grid_column": null,
            "grid_gap": null,
            "grid_row": null,
            "grid_template_areas": null,
            "grid_template_columns": null,
            "grid_template_rows": null,
            "height": null,
            "justify_content": null,
            "justify_items": null,
            "left": null,
            "margin": null,
            "max_height": null,
            "max_width": null,
            "min_height": null,
            "min_width": null,
            "object_fit": null,
            "object_position": null,
            "order": null,
            "overflow": null,
            "overflow_x": null,
            "overflow_y": null,
            "padding": null,
            "right": null,
            "top": null,
            "visibility": null,
            "width": null
          }
        },
        "d5d8228ad4ff475d93116aae1774f530": {
          "model_module": "@jupyter-widgets/controls",
          "model_name": "DescriptionStyleModel",
          "model_module_version": "1.5.0",
          "state": {
            "_model_module": "@jupyter-widgets/controls",
            "_model_module_version": "1.5.0",
            "_model_name": "DescriptionStyleModel",
            "_view_count": null,
            "_view_module": "@jupyter-widgets/base",
            "_view_module_version": "1.2.0",
            "_view_name": "StyleView",
            "description_width": ""
          }
        }
      }
    }
  },
  "cells": [
    {
      "cell_type": "markdown",
      "source": [
        "# Projeto para detecção de diabetes - SEMANTIX\n",
        "### O que é a diabetes?\n",
        "Diabetes é uma síndrome metabólica de origem múltipla, caracterizada pela falta de insulina e/ou pela incapacidade da insulina de exercer adequadamente seus efeitos. Isso resulta em altas taxas de açúcar no sangue (hiperglicemia) de forma permanente. A insulina, produzida pelo pâncreas, é responsável pela manutenção do metabolismo da glicose, permitindo que o organismo tenha energia para funcionar.\n",
        "\n",
        "O tratamento da diabetes envolve mudanças no estilo de vida, como a adoção de uma dieta saudável e a prática de exercícios físicos. Dependendo do caso, também podem ser necessários medicamentos, como antidiabéticos orais ou insulina.\n",
        "\n",
        "Para prevenir o diabetes, é importante:\n",
        "\n",
        "- Manter um peso adequado\n",
        "- Não fumar\n",
        "- Controlar a pressão arterial\n",
        "- Evitar medicamentos que possam prejudicar o pâncreas\n",
        "- Praticar atividade física regularmente\n",
        "\n",
        "\n",
        "![img](https://angioclinicabrasilia.com/wp-content/uploads/2023/09/relacao-entre-diabetes-e-doencas-vasculares.jpg)\n"
      ],
      "metadata": {
        "id": "xGWdNWme7agR"
      }
    },
    {
      "cell_type": "code",
      "execution_count": 2,
      "metadata": {
        "id": "yPgPNE-2zR3f",
        "collapsed": true
      },
      "outputs": [],
      "source": [
        "import pandas as pd\n",
        "import seaborn as sns\n",
        "import matplotlib.pyplot as plt\n",
        "import numpy as np\n",
        "from imblearn.under_sampling import RandomUnderSampler\n",
        "from scipy.stats import anderson\n",
        "from scipy.stats import chi2_contingency\n",
        "!pip install pycaret[full]"
      ]
    },
    {
      "cell_type": "code",
      "source": [
        "df = pd.read_csv('https://raw.githubusercontent.com/Erik-Henrique/Analise_Diabetes_Semantix/refs/heads/main/diabetes_prediction_dataset.csv')"
      ],
      "metadata": {
        "id": "qmJbQd0Z00Sp"
      },
      "execution_count": 3,
      "outputs": []
    },
    {
      "cell_type": "markdown",
      "source": [
        "### Variável resposta e variáveis explicativas"
      ],
      "metadata": {
        "id": "UtVojsw240WZ"
      }
    },
    {
      "cell_type": "code",
      "source": [
        "df.dtypes"
      ],
      "metadata": {
        "colab": {
          "base_uri": "https://localhost:8080/",
          "height": 366
        },
        "id": "xojca7sf4yuh",
        "outputId": "c4b53489-2ecb-4a08-9637-af5a433242c5"
      },
      "execution_count": 4,
      "outputs": [
        {
          "output_type": "execute_result",
          "data": {
            "text/plain": [
              "genero                   object\n",
              "idade                   float64\n",
              "hipertenso                int64\n",
              "problema_coracao          int64\n",
              "fumante                  object\n",
              "imc                     float64\n",
              "nivel_hemoglobinaA1c    float64\n",
              "nivel_glicose_sangue      int64\n",
              "diabete                   int64\n",
              "dtype: object"
            ],
            "text/html": [
              "<div>\n",
              "<style scoped>\n",
              "    .dataframe tbody tr th:only-of-type {\n",
              "        vertical-align: middle;\n",
              "    }\n",
              "\n",
              "    .dataframe tbody tr th {\n",
              "        vertical-align: top;\n",
              "    }\n",
              "\n",
              "    .dataframe thead th {\n",
              "        text-align: right;\n",
              "    }\n",
              "</style>\n",
              "<table border=\"1\" class=\"dataframe\">\n",
              "  <thead>\n",
              "    <tr style=\"text-align: right;\">\n",
              "      <th></th>\n",
              "      <th>0</th>\n",
              "    </tr>\n",
              "  </thead>\n",
              "  <tbody>\n",
              "    <tr>\n",
              "      <th>genero</th>\n",
              "      <td>object</td>\n",
              "    </tr>\n",
              "    <tr>\n",
              "      <th>idade</th>\n",
              "      <td>float64</td>\n",
              "    </tr>\n",
              "    <tr>\n",
              "      <th>hipertenso</th>\n",
              "      <td>int64</td>\n",
              "    </tr>\n",
              "    <tr>\n",
              "      <th>problema_coracao</th>\n",
              "      <td>int64</td>\n",
              "    </tr>\n",
              "    <tr>\n",
              "      <th>fumante</th>\n",
              "      <td>object</td>\n",
              "    </tr>\n",
              "    <tr>\n",
              "      <th>imc</th>\n",
              "      <td>float64</td>\n",
              "    </tr>\n",
              "    <tr>\n",
              "      <th>nivel_hemoglobinaA1c</th>\n",
              "      <td>float64</td>\n",
              "    </tr>\n",
              "    <tr>\n",
              "      <th>nivel_glicose_sangue</th>\n",
              "      <td>int64</td>\n",
              "    </tr>\n",
              "    <tr>\n",
              "      <th>diabete</th>\n",
              "      <td>int64</td>\n",
              "    </tr>\n",
              "  </tbody>\n",
              "</table>\n",
              "</div><br><label><b>dtype:</b> object</label>"
            ]
          },
          "metadata": {},
          "execution_count": 4
        }
      ]
    },
    {
      "cell_type": "markdown",
      "source": [
        "Temos duas variáveis que contêm dados do tipo string e sete variáveis que contêm dados numéricos"
      ],
      "metadata": {
        "id": "nTf3yBTQ6xVR"
      }
    },
    {
      "cell_type": "markdown",
      "source": [
        "#### Verficando valores nulos e duplicados"
      ],
      "metadata": {
        "id": "VEUMkNRb5QHh"
      }
    },
    {
      "cell_type": "code",
      "source": [
        "df.isna().sum()"
      ],
      "metadata": {
        "colab": {
          "base_uri": "https://localhost:8080/",
          "height": 366
        },
        "id": "IjcIsZe74ysZ",
        "outputId": "bd4f84b5-efcd-4075-dd89-4bc85579599d"
      },
      "execution_count": 5,
      "outputs": [
        {
          "output_type": "execute_result",
          "data": {
            "text/plain": [
              "genero                  0\n",
              "idade                   0\n",
              "hipertenso              0\n",
              "problema_coracao        0\n",
              "fumante                 0\n",
              "imc                     0\n",
              "nivel_hemoglobinaA1c    0\n",
              "nivel_glicose_sangue    0\n",
              "diabete                 0\n",
              "dtype: int64"
            ],
            "text/html": [
              "<div>\n",
              "<style scoped>\n",
              "    .dataframe tbody tr th:only-of-type {\n",
              "        vertical-align: middle;\n",
              "    }\n",
              "\n",
              "    .dataframe tbody tr th {\n",
              "        vertical-align: top;\n",
              "    }\n",
              "\n",
              "    .dataframe thead th {\n",
              "        text-align: right;\n",
              "    }\n",
              "</style>\n",
              "<table border=\"1\" class=\"dataframe\">\n",
              "  <thead>\n",
              "    <tr style=\"text-align: right;\">\n",
              "      <th></th>\n",
              "      <th>0</th>\n",
              "    </tr>\n",
              "  </thead>\n",
              "  <tbody>\n",
              "    <tr>\n",
              "      <th>genero</th>\n",
              "      <td>0</td>\n",
              "    </tr>\n",
              "    <tr>\n",
              "      <th>idade</th>\n",
              "      <td>0</td>\n",
              "    </tr>\n",
              "    <tr>\n",
              "      <th>hipertenso</th>\n",
              "      <td>0</td>\n",
              "    </tr>\n",
              "    <tr>\n",
              "      <th>problema_coracao</th>\n",
              "      <td>0</td>\n",
              "    </tr>\n",
              "    <tr>\n",
              "      <th>fumante</th>\n",
              "      <td>0</td>\n",
              "    </tr>\n",
              "    <tr>\n",
              "      <th>imc</th>\n",
              "      <td>0</td>\n",
              "    </tr>\n",
              "    <tr>\n",
              "      <th>nivel_hemoglobinaA1c</th>\n",
              "      <td>0</td>\n",
              "    </tr>\n",
              "    <tr>\n",
              "      <th>nivel_glicose_sangue</th>\n",
              "      <td>0</td>\n",
              "    </tr>\n",
              "    <tr>\n",
              "      <th>diabete</th>\n",
              "      <td>0</td>\n",
              "    </tr>\n",
              "  </tbody>\n",
              "</table>\n",
              "</div><br><label><b>dtype:</b> int64</label>"
            ]
          },
          "metadata": {},
          "execution_count": 5
        }
      ]
    },
    {
      "cell_type": "markdown",
      "source": [
        "Não há valores nulos no DataFrame"
      ],
      "metadata": {
        "id": "OZK1s3EW5XGJ"
      }
    },
    {
      "cell_type": "code",
      "source": [
        "df.shape"
      ],
      "metadata": {
        "colab": {
          "base_uri": "https://localhost:8080/"
        },
        "id": "z690OumU5ijI",
        "outputId": "5e1740a1-30e6-46e3-d94e-b6ba7196b023"
      },
      "execution_count": 6,
      "outputs": [
        {
          "output_type": "execute_result",
          "data": {
            "text/plain": [
              "(100000, 9)"
            ]
          },
          "metadata": {},
          "execution_count": 6
        }
      ]
    },
    {
      "cell_type": "code",
      "source": [
        "df.drop_duplicates(inplace=True)"
      ],
      "metadata": {
        "id": "MHrv43cx5eno"
      },
      "execution_count": 7,
      "outputs": []
    },
    {
      "cell_type": "code",
      "source": [
        "df.shape"
      ],
      "metadata": {
        "colab": {
          "base_uri": "https://localhost:8080/"
        },
        "id": "hqQquC8z5rO4",
        "outputId": "98f6ecec-80ce-4c39-fd5e-a07a13410b35"
      },
      "execution_count": 8,
      "outputs": [
        {
          "output_type": "execute_result",
          "data": {
            "text/plain": [
              "(96146, 9)"
            ]
          },
          "metadata": {},
          "execution_count": 8
        }
      ]
    },
    {
      "cell_type": "markdown",
      "source": [
        "Podemos notar que havia alguns valores duplicados no DataFrame, os quais foram eliminados."
      ],
      "metadata": {
        "id": "59Wpj9hq5tKA"
      }
    },
    {
      "cell_type": "markdown",
      "source": [
        "#### Distribuição das variáveis numéricas"
      ],
      "metadata": {
        "id": "crJlZ7TI5b84"
      }
    },
    {
      "cell_type": "code",
      "source": [
        "df.describe()"
      ],
      "metadata": {
        "colab": {
          "base_uri": "https://localhost:8080/",
          "height": 300
        },
        "id": "H_XmZDve00zR",
        "outputId": "3c7d69b4-4210-43bb-c244-883a80e50bb6"
      },
      "execution_count": 9,
      "outputs": [
        {
          "output_type": "execute_result",
          "data": {
            "text/plain": [
              "              idade    hipertenso  problema_coracao           imc  \\\n",
              "count  96146.000000  96146.000000      96146.000000  96146.000000   \n",
              "mean      41.794326      0.077601          0.040803     27.321461   \n",
              "std       22.462948      0.267544          0.197833      6.767716   \n",
              "min        0.080000      0.000000          0.000000     10.010000   \n",
              "25%       24.000000      0.000000          0.000000     23.400000   \n",
              "50%       43.000000      0.000000          0.000000     27.320000   \n",
              "75%       59.000000      0.000000          0.000000     29.860000   \n",
              "max       80.000000      1.000000          1.000000     95.690000   \n",
              "\n",
              "       nivel_hemoglobinaA1c  nivel_glicose_sangue       diabete  \n",
              "count          96146.000000          96146.000000  96146.000000  \n",
              "mean               5.532609            138.218231      0.088220  \n",
              "std                1.073232             40.909771      0.283616  \n",
              "min                3.500000             80.000000      0.000000  \n",
              "25%                4.800000            100.000000      0.000000  \n",
              "50%                5.800000            140.000000      0.000000  \n",
              "75%                6.200000            159.000000      0.000000  \n",
              "max                9.000000            300.000000      1.000000  "
            ],
            "text/html": [
              "\n",
              "  <div id=\"df-1d558452-9f56-4b62-8460-3149bc486ca1\" class=\"colab-df-container\">\n",
              "    <div>\n",
              "<style scoped>\n",
              "    .dataframe tbody tr th:only-of-type {\n",
              "        vertical-align: middle;\n",
              "    }\n",
              "\n",
              "    .dataframe tbody tr th {\n",
              "        vertical-align: top;\n",
              "    }\n",
              "\n",
              "    .dataframe thead th {\n",
              "        text-align: right;\n",
              "    }\n",
              "</style>\n",
              "<table border=\"1\" class=\"dataframe\">\n",
              "  <thead>\n",
              "    <tr style=\"text-align: right;\">\n",
              "      <th></th>\n",
              "      <th>idade</th>\n",
              "      <th>hipertenso</th>\n",
              "      <th>problema_coracao</th>\n",
              "      <th>imc</th>\n",
              "      <th>nivel_hemoglobinaA1c</th>\n",
              "      <th>nivel_glicose_sangue</th>\n",
              "      <th>diabete</th>\n",
              "    </tr>\n",
              "  </thead>\n",
              "  <tbody>\n",
              "    <tr>\n",
              "      <th>count</th>\n",
              "      <td>96146.000000</td>\n",
              "      <td>96146.000000</td>\n",
              "      <td>96146.000000</td>\n",
              "      <td>96146.000000</td>\n",
              "      <td>96146.000000</td>\n",
              "      <td>96146.000000</td>\n",
              "      <td>96146.000000</td>\n",
              "    </tr>\n",
              "    <tr>\n",
              "      <th>mean</th>\n",
              "      <td>41.794326</td>\n",
              "      <td>0.077601</td>\n",
              "      <td>0.040803</td>\n",
              "      <td>27.321461</td>\n",
              "      <td>5.532609</td>\n",
              "      <td>138.218231</td>\n",
              "      <td>0.088220</td>\n",
              "    </tr>\n",
              "    <tr>\n",
              "      <th>std</th>\n",
              "      <td>22.462948</td>\n",
              "      <td>0.267544</td>\n",
              "      <td>0.197833</td>\n",
              "      <td>6.767716</td>\n",
              "      <td>1.073232</td>\n",
              "      <td>40.909771</td>\n",
              "      <td>0.283616</td>\n",
              "    </tr>\n",
              "    <tr>\n",
              "      <th>min</th>\n",
              "      <td>0.080000</td>\n",
              "      <td>0.000000</td>\n",
              "      <td>0.000000</td>\n",
              "      <td>10.010000</td>\n",
              "      <td>3.500000</td>\n",
              "      <td>80.000000</td>\n",
              "      <td>0.000000</td>\n",
              "    </tr>\n",
              "    <tr>\n",
              "      <th>25%</th>\n",
              "      <td>24.000000</td>\n",
              "      <td>0.000000</td>\n",
              "      <td>0.000000</td>\n",
              "      <td>23.400000</td>\n",
              "      <td>4.800000</td>\n",
              "      <td>100.000000</td>\n",
              "      <td>0.000000</td>\n",
              "    </tr>\n",
              "    <tr>\n",
              "      <th>50%</th>\n",
              "      <td>43.000000</td>\n",
              "      <td>0.000000</td>\n",
              "      <td>0.000000</td>\n",
              "      <td>27.320000</td>\n",
              "      <td>5.800000</td>\n",
              "      <td>140.000000</td>\n",
              "      <td>0.000000</td>\n",
              "    </tr>\n",
              "    <tr>\n",
              "      <th>75%</th>\n",
              "      <td>59.000000</td>\n",
              "      <td>0.000000</td>\n",
              "      <td>0.000000</td>\n",
              "      <td>29.860000</td>\n",
              "      <td>6.200000</td>\n",
              "      <td>159.000000</td>\n",
              "      <td>0.000000</td>\n",
              "    </tr>\n",
              "    <tr>\n",
              "      <th>max</th>\n",
              "      <td>80.000000</td>\n",
              "      <td>1.000000</td>\n",
              "      <td>1.000000</td>\n",
              "      <td>95.690000</td>\n",
              "      <td>9.000000</td>\n",
              "      <td>300.000000</td>\n",
              "      <td>1.000000</td>\n",
              "    </tr>\n",
              "  </tbody>\n",
              "</table>\n",
              "</div>\n",
              "    <div class=\"colab-df-buttons\">\n",
              "\n",
              "  <div class=\"colab-df-container\">\n",
              "    <button class=\"colab-df-convert\" onclick=\"convertToInteractive('df-1d558452-9f56-4b62-8460-3149bc486ca1')\"\n",
              "            title=\"Convert this dataframe to an interactive table.\"\n",
              "            style=\"display:none;\">\n",
              "\n",
              "  <svg xmlns=\"http://www.w3.org/2000/svg\" height=\"24px\" viewBox=\"0 -960 960 960\">\n",
              "    <path d=\"M120-120v-720h720v720H120Zm60-500h600v-160H180v160Zm220 220h160v-160H400v160Zm0 220h160v-160H400v160ZM180-400h160v-160H180v160Zm440 0h160v-160H620v160ZM180-180h160v-160H180v160Zm440 0h160v-160H620v160Z\"/>\n",
              "  </svg>\n",
              "    </button>\n",
              "\n",
              "  <style>\n",
              "    .colab-df-container {\n",
              "      display:flex;\n",
              "      gap: 12px;\n",
              "    }\n",
              "\n",
              "    .colab-df-convert {\n",
              "      background-color: #E8F0FE;\n",
              "      border: none;\n",
              "      border-radius: 50%;\n",
              "      cursor: pointer;\n",
              "      display: none;\n",
              "      fill: #1967D2;\n",
              "      height: 32px;\n",
              "      padding: 0 0 0 0;\n",
              "      width: 32px;\n",
              "    }\n",
              "\n",
              "    .colab-df-convert:hover {\n",
              "      background-color: #E2EBFA;\n",
              "      box-shadow: 0px 1px 2px rgba(60, 64, 67, 0.3), 0px 1px 3px 1px rgba(60, 64, 67, 0.15);\n",
              "      fill: #174EA6;\n",
              "    }\n",
              "\n",
              "    .colab-df-buttons div {\n",
              "      margin-bottom: 4px;\n",
              "    }\n",
              "\n",
              "    [theme=dark] .colab-df-convert {\n",
              "      background-color: #3B4455;\n",
              "      fill: #D2E3FC;\n",
              "    }\n",
              "\n",
              "    [theme=dark] .colab-df-convert:hover {\n",
              "      background-color: #434B5C;\n",
              "      box-shadow: 0px 1px 3px 1px rgba(0, 0, 0, 0.15);\n",
              "      filter: drop-shadow(0px 1px 2px rgba(0, 0, 0, 0.3));\n",
              "      fill: #FFFFFF;\n",
              "    }\n",
              "  </style>\n",
              "\n",
              "    <script>\n",
              "      const buttonEl =\n",
              "        document.querySelector('#df-1d558452-9f56-4b62-8460-3149bc486ca1 button.colab-df-convert');\n",
              "      buttonEl.style.display =\n",
              "        google.colab.kernel.accessAllowed ? 'block' : 'none';\n",
              "\n",
              "      async function convertToInteractive(key) {\n",
              "        const element = document.querySelector('#df-1d558452-9f56-4b62-8460-3149bc486ca1');\n",
              "        const dataTable =\n",
              "          await google.colab.kernel.invokeFunction('convertToInteractive',\n",
              "                                                    [key], {});\n",
              "        if (!dataTable) return;\n",
              "\n",
              "        const docLinkHtml = 'Like what you see? Visit the ' +\n",
              "          '<a target=\"_blank\" href=https://colab.research.google.com/notebooks/data_table.ipynb>data table notebook</a>'\n",
              "          + ' to learn more about interactive tables.';\n",
              "        element.innerHTML = '';\n",
              "        dataTable['output_type'] = 'display_data';\n",
              "        await google.colab.output.renderOutput(dataTable, element);\n",
              "        const docLink = document.createElement('div');\n",
              "        docLink.innerHTML = docLinkHtml;\n",
              "        element.appendChild(docLink);\n",
              "      }\n",
              "    </script>\n",
              "  </div>\n",
              "\n",
              "\n",
              "<div id=\"df-eb777c95-8a98-438f-b59f-c1240b2cfdbc\">\n",
              "  <button class=\"colab-df-quickchart\" onclick=\"quickchart('df-eb777c95-8a98-438f-b59f-c1240b2cfdbc')\"\n",
              "            title=\"Suggest charts\"\n",
              "            style=\"display:none;\">\n",
              "\n",
              "<svg xmlns=\"http://www.w3.org/2000/svg\" height=\"24px\"viewBox=\"0 0 24 24\"\n",
              "     width=\"24px\">\n",
              "    <g>\n",
              "        <path d=\"M19 3H5c-1.1 0-2 .9-2 2v14c0 1.1.9 2 2 2h14c1.1 0 2-.9 2-2V5c0-1.1-.9-2-2-2zM9 17H7v-7h2v7zm4 0h-2V7h2v10zm4 0h-2v-4h2v4z\"/>\n",
              "    </g>\n",
              "</svg>\n",
              "  </button>\n",
              "\n",
              "<style>\n",
              "  .colab-df-quickchart {\n",
              "      --bg-color: #E8F0FE;\n",
              "      --fill-color: #1967D2;\n",
              "      --hover-bg-color: #E2EBFA;\n",
              "      --hover-fill-color: #174EA6;\n",
              "      --disabled-fill-color: #AAA;\n",
              "      --disabled-bg-color: #DDD;\n",
              "  }\n",
              "\n",
              "  [theme=dark] .colab-df-quickchart {\n",
              "      --bg-color: #3B4455;\n",
              "      --fill-color: #D2E3FC;\n",
              "      --hover-bg-color: #434B5C;\n",
              "      --hover-fill-color: #FFFFFF;\n",
              "      --disabled-bg-color: #3B4455;\n",
              "      --disabled-fill-color: #666;\n",
              "  }\n",
              "\n",
              "  .colab-df-quickchart {\n",
              "    background-color: var(--bg-color);\n",
              "    border: none;\n",
              "    border-radius: 50%;\n",
              "    cursor: pointer;\n",
              "    display: none;\n",
              "    fill: var(--fill-color);\n",
              "    height: 32px;\n",
              "    padding: 0;\n",
              "    width: 32px;\n",
              "  }\n",
              "\n",
              "  .colab-df-quickchart:hover {\n",
              "    background-color: var(--hover-bg-color);\n",
              "    box-shadow: 0 1px 2px rgba(60, 64, 67, 0.3), 0 1px 3px 1px rgba(60, 64, 67, 0.15);\n",
              "    fill: var(--button-hover-fill-color);\n",
              "  }\n",
              "\n",
              "  .colab-df-quickchart-complete:disabled,\n",
              "  .colab-df-quickchart-complete:disabled:hover {\n",
              "    background-color: var(--disabled-bg-color);\n",
              "    fill: var(--disabled-fill-color);\n",
              "    box-shadow: none;\n",
              "  }\n",
              "\n",
              "  .colab-df-spinner {\n",
              "    border: 2px solid var(--fill-color);\n",
              "    border-color: transparent;\n",
              "    border-bottom-color: var(--fill-color);\n",
              "    animation:\n",
              "      spin 1s steps(1) infinite;\n",
              "  }\n",
              "\n",
              "  @keyframes spin {\n",
              "    0% {\n",
              "      border-color: transparent;\n",
              "      border-bottom-color: var(--fill-color);\n",
              "      border-left-color: var(--fill-color);\n",
              "    }\n",
              "    20% {\n",
              "      border-color: transparent;\n",
              "      border-left-color: var(--fill-color);\n",
              "      border-top-color: var(--fill-color);\n",
              "    }\n",
              "    30% {\n",
              "      border-color: transparent;\n",
              "      border-left-color: var(--fill-color);\n",
              "      border-top-color: var(--fill-color);\n",
              "      border-right-color: var(--fill-color);\n",
              "    }\n",
              "    40% {\n",
              "      border-color: transparent;\n",
              "      border-right-color: var(--fill-color);\n",
              "      border-top-color: var(--fill-color);\n",
              "    }\n",
              "    60% {\n",
              "      border-color: transparent;\n",
              "      border-right-color: var(--fill-color);\n",
              "    }\n",
              "    80% {\n",
              "      border-color: transparent;\n",
              "      border-right-color: var(--fill-color);\n",
              "      border-bottom-color: var(--fill-color);\n",
              "    }\n",
              "    90% {\n",
              "      border-color: transparent;\n",
              "      border-bottom-color: var(--fill-color);\n",
              "    }\n",
              "  }\n",
              "</style>\n",
              "\n",
              "  <script>\n",
              "    async function quickchart(key) {\n",
              "      const quickchartButtonEl =\n",
              "        document.querySelector('#' + key + ' button');\n",
              "      quickchartButtonEl.disabled = true;  // To prevent multiple clicks.\n",
              "      quickchartButtonEl.classList.add('colab-df-spinner');\n",
              "      try {\n",
              "        const charts = await google.colab.kernel.invokeFunction(\n",
              "            'suggestCharts', [key], {});\n",
              "      } catch (error) {\n",
              "        console.error('Error during call to suggestCharts:', error);\n",
              "      }\n",
              "      quickchartButtonEl.classList.remove('colab-df-spinner');\n",
              "      quickchartButtonEl.classList.add('colab-df-quickchart-complete');\n",
              "    }\n",
              "    (() => {\n",
              "      let quickchartButtonEl =\n",
              "        document.querySelector('#df-eb777c95-8a98-438f-b59f-c1240b2cfdbc button');\n",
              "      quickchartButtonEl.style.display =\n",
              "        google.colab.kernel.accessAllowed ? 'block' : 'none';\n",
              "    })();\n",
              "  </script>\n",
              "</div>\n",
              "\n",
              "    </div>\n",
              "  </div>\n"
            ],
            "application/vnd.google.colaboratory.intrinsic+json": {
              "type": "dataframe",
              "summary": "{\n  \"name\": \"df\",\n  \"rows\": 8,\n  \"fields\": [\n    {\n      \"column\": \"idade\",\n      \"properties\": {\n        \"dtype\": \"number\",\n        \"std\": 33979.09885231227,\n        \"min\": 0.08,\n        \"max\": 96146.0,\n        \"num_unique_values\": 8,\n        \"samples\": [\n          41.79432571297817,\n          43.0,\n          96146.0\n        ],\n        \"semantic_type\": \"\",\n        \"description\": \"\"\n      }\n    },\n    {\n      \"column\": \"hipertenso\",\n      \"properties\": {\n        \"dtype\": \"number\",\n        \"std\": 33992.67635365122,\n        \"min\": 0.0,\n        \"max\": 96146.0,\n        \"num_unique_values\": 5,\n        \"samples\": [\n          0.07760073221974913,\n          1.0,\n          0.2675436470321302\n        ],\n        \"semantic_type\": \"\",\n        \"description\": \"\"\n      }\n    },\n    {\n      \"column\": \"problema_coracao\",\n      \"properties\": {\n        \"dtype\": \"number\",\n        \"std\": 33992.681733140984,\n        \"min\": 0.0,\n        \"max\": 96146.0,\n        \"num_unique_values\": 5,\n        \"samples\": [\n          0.04080252948640609,\n          1.0,\n          0.197833490954581\n        ],\n        \"semantic_type\": \"\",\n        \"description\": \"\"\n      }\n    },\n    {\n      \"column\": \"imc\",\n      \"properties\": {\n        \"dtype\": \"number\",\n        \"std\": 33981.62510211656,\n        \"min\": 6.7677155604816965,\n        \"max\": 96146.0,\n        \"num_unique_values\": 8,\n        \"samples\": [\n          27.32146111122668,\n          27.32,\n          96146.0\n        ],\n        \"semantic_type\": \"\",\n        \"description\": \"\"\n      }\n    },\n    {\n      \"column\": \"nivel_hemoglobinaA1c\",\n      \"properties\": {\n        \"dtype\": \"number\",\n        \"std\": 33990.93084871805,\n        \"min\": 1.073232025643944,\n        \"max\": 96146.0,\n        \"num_unique_values\": 8,\n        \"samples\": [\n          5.532608740873255,\n          5.8,\n          96146.0\n        ],\n        \"semantic_type\": \"\",\n        \"description\": \"\"\n      }\n    },\n    {\n      \"column\": \"nivel_glicose_sangue\",\n      \"properties\": {\n        \"dtype\": \"number\",\n        \"std\": 33944.437616095056,\n        \"min\": 40.90977136274066,\n        \"max\": 96146.0,\n        \"num_unique_values\": 8,\n        \"samples\": [\n          138.21823060761758,\n          140.0,\n          96146.0\n        ],\n        \"semantic_type\": \"\",\n        \"description\": \"\"\n      }\n    },\n    {\n      \"column\": \"diabete\",\n      \"properties\": {\n        \"dtype\": \"number\",\n        \"std\": 33992.67500551858,\n        \"min\": 0.0,\n        \"max\": 96146.0,\n        \"num_unique_values\": 5,\n        \"samples\": [\n          0.08821999875189815,\n          1.0,\n          0.2836160559565092\n        ],\n        \"semantic_type\": \"\",\n        \"description\": \"\"\n      }\n    }\n  ]\n}"
            }
          },
          "metadata": {},
          "execution_count": 9
        }
      ]
    },
    {
      "cell_type": "markdown",
      "source": [
        "Percepções sobre as variáveis:\n",
        "\n",
        "IDADE:\n",
        "\n",
        "- O valor mínimo parece ser um outlier, uma vez que não faz sentido analisar se um recém-nascido tem diabetes.\n",
        "- A média é de quase 42 anos, com um desvio padrão de 22, o que indica uma grande variabilidade nos dados, condizente com as faixas de idade observadas nas análises de quartis.\n",
        "\n",
        "HIPERTENSÃO & DIABETES:\n",
        "\n",
        "- As médias e os desvios padrões são semelhantes (0,7 e 0,8 para hipertensão; 0,26 e 0,28 para diabetes), o que demonstra que a maior parte das pessoas na base não é hipertensa nem possui diabetes. Essa observação é confirmada pela análise dos quartis, onde pelo menos 75% das pessoas não se enquadram nesses grupos.\n",
        "\n",
        "PROBLEMAS NO CORAÇÃO:\n",
        "\n",
        "- Segue a mesma lógica das variáveis de hipertensão e diabetes, com média de 0,4 e desvio padrão de 0,19, indicando que a maior parte das pessoas também não tem problemas cardíacos.\n",
        "\n",
        "IMC:\n",
        "\n",
        "- Apesar de não ser uma métrica muito confiável quando analisada isoladamente, em conjunto pode ser um bom parâmetro.\n",
        "Os valores mínimo e máximo estão muito discrepantes do que costuma ser observado, o que pode indicar algum tipo de erro na coleta de dados, necessitando de tratamento.\n",
        "- A média está em um valor condizente; mesmo com outliers, os valores não parecem afetar significativamente, uma vez que a média é praticamente a mesma do quartil que representa a mediana da base. O desvio padrão mostra que a maioria dos valores está dentro do esperado (geralmente entre 19 e 40).\n",
        "- A divisão entre os quartis também indica que os valores estão equilibrados, apesar da presença de outliers.\n",
        "\n",
        "HEMOGLOBINA A1c:\n",
        "\n",
        "- A média está em valores condizentes com os encontrados na base, e o desvio padrão mantém os valores dentro dos níveis esperados. Os valores mínimo e máximo também estão dentro da faixa esperada (entre 4 e 14), sendo que valores acima de 9 já são preocupantes, assim como o limite de 14.\n",
        "- A média é semelhante à análise dos quartis.\n",
        "\n",
        "NÍVEL DE GLICOSE NO SANGUE:\n",
        "\n",
        "- O nível médio está condizente com a análise dos quartis e próximo aos 50% da base.\n",
        "- Os valores mínimo e máximo estão dentro da faixa esperada, e o desvio padrão é adequado, considerando que os valores extremos se distanciam de forma significativa."
      ],
      "metadata": {
        "id": "R7lC3m6h7FS5"
      }
    },
    {
      "cell_type": "markdown",
      "source": [
        "##### Variável resposta (Diabete)"
      ],
      "metadata": {
        "id": "d1L-2rfGDIdK"
      }
    },
    {
      "cell_type": "code",
      "source": [
        "df.diabete.value_counts(normalize=True)*100"
      ],
      "metadata": {
        "colab": {
          "base_uri": "https://localhost:8080/",
          "height": 178
        },
        "id": "15iXOMSO1NY3",
        "outputId": "605152d0-fa0d-43ec-d0d6-f5d853b5ffef"
      },
      "execution_count": 10,
      "outputs": [
        {
          "output_type": "execute_result",
          "data": {
            "text/plain": [
              "diabete\n",
              "0    91.178\n",
              "1     8.822\n",
              "Name: proportion, dtype: float64"
            ],
            "text/html": [
              "<div>\n",
              "<style scoped>\n",
              "    .dataframe tbody tr th:only-of-type {\n",
              "        vertical-align: middle;\n",
              "    }\n",
              "\n",
              "    .dataframe tbody tr th {\n",
              "        vertical-align: top;\n",
              "    }\n",
              "\n",
              "    .dataframe thead th {\n",
              "        text-align: right;\n",
              "    }\n",
              "</style>\n",
              "<table border=\"1\" class=\"dataframe\">\n",
              "  <thead>\n",
              "    <tr style=\"text-align: right;\">\n",
              "      <th></th>\n",
              "      <th>proportion</th>\n",
              "    </tr>\n",
              "    <tr>\n",
              "      <th>diabete</th>\n",
              "      <th></th>\n",
              "    </tr>\n",
              "  </thead>\n",
              "  <tbody>\n",
              "    <tr>\n",
              "      <th>0</th>\n",
              "      <td>91.178</td>\n",
              "    </tr>\n",
              "    <tr>\n",
              "      <th>1</th>\n",
              "      <td>8.822</td>\n",
              "    </tr>\n",
              "  </tbody>\n",
              "</table>\n",
              "</div><br><label><b>dtype:</b> float64</label>"
            ]
          },
          "metadata": {},
          "execution_count": 10
        }
      ]
    },
    {
      "cell_type": "markdown",
      "source": [
        "Observamos que a variável resposta está extremamente desbalanceada, representando apenas 8,5% dos nossos dados, o que requer tratamento."
      ],
      "metadata": {
        "id": "zpU4ouE0DMiR"
      }
    },
    {
      "cell_type": "markdown",
      "source": [
        "#### Distribuição das variáveis qualitativas"
      ],
      "metadata": {
        "id": "OGKSeA6TDaJi"
      }
    },
    {
      "cell_type": "markdown",
      "source": [
        "##### Gênero"
      ],
      "metadata": {
        "id": "E4tHBufiFsEC"
      }
    },
    {
      "cell_type": "code",
      "source": [
        "df.genero.value_counts(normalize=True)*100"
      ],
      "metadata": {
        "colab": {
          "base_uri": "https://localhost:8080/",
          "height": 210
        },
        "id": "BU3_37nfDl4R",
        "outputId": "2c009d9c-309f-45b7-bfe6-f4ae8df712cd"
      },
      "execution_count": 11,
      "outputs": [
        {
          "output_type": "execute_result",
          "data": {
            "text/plain": [
              "genero\n",
              "Female    58.412206\n",
              "Male      41.569072\n",
              "Other      0.018722\n",
              "Name: proportion, dtype: float64"
            ],
            "text/html": [
              "<div>\n",
              "<style scoped>\n",
              "    .dataframe tbody tr th:only-of-type {\n",
              "        vertical-align: middle;\n",
              "    }\n",
              "\n",
              "    .dataframe tbody tr th {\n",
              "        vertical-align: top;\n",
              "    }\n",
              "\n",
              "    .dataframe thead th {\n",
              "        text-align: right;\n",
              "    }\n",
              "</style>\n",
              "<table border=\"1\" class=\"dataframe\">\n",
              "  <thead>\n",
              "    <tr style=\"text-align: right;\">\n",
              "      <th></th>\n",
              "      <th>proportion</th>\n",
              "    </tr>\n",
              "    <tr>\n",
              "      <th>genero</th>\n",
              "      <th></th>\n",
              "    </tr>\n",
              "  </thead>\n",
              "  <tbody>\n",
              "    <tr>\n",
              "      <th>Female</th>\n",
              "      <td>58.412206</td>\n",
              "    </tr>\n",
              "    <tr>\n",
              "      <th>Male</th>\n",
              "      <td>41.569072</td>\n",
              "    </tr>\n",
              "    <tr>\n",
              "      <th>Other</th>\n",
              "      <td>0.018722</td>\n",
              "    </tr>\n",
              "  </tbody>\n",
              "</table>\n",
              "</div><br><label><b>dtype:</b> float64</label>"
            ]
          },
          "metadata": {},
          "execution_count": 11
        }
      ]
    },
    {
      "cell_type": "code",
      "source": [
        "df.genero.value_counts()"
      ],
      "metadata": {
        "colab": {
          "base_uri": "https://localhost:8080/",
          "height": 210
        },
        "id": "mARDPU_jFmWS",
        "outputId": "22252d68-45b0-4060-8a40-f108df256d34"
      },
      "execution_count": 12,
      "outputs": [
        {
          "output_type": "execute_result",
          "data": {
            "text/plain": [
              "genero\n",
              "Female    56161\n",
              "Male      39967\n",
              "Other        18\n",
              "Name: count, dtype: int64"
            ],
            "text/html": [
              "<div>\n",
              "<style scoped>\n",
              "    .dataframe tbody tr th:only-of-type {\n",
              "        vertical-align: middle;\n",
              "    }\n",
              "\n",
              "    .dataframe tbody tr th {\n",
              "        vertical-align: top;\n",
              "    }\n",
              "\n",
              "    .dataframe thead th {\n",
              "        text-align: right;\n",
              "    }\n",
              "</style>\n",
              "<table border=\"1\" class=\"dataframe\">\n",
              "  <thead>\n",
              "    <tr style=\"text-align: right;\">\n",
              "      <th></th>\n",
              "      <th>count</th>\n",
              "    </tr>\n",
              "    <tr>\n",
              "      <th>genero</th>\n",
              "      <th></th>\n",
              "    </tr>\n",
              "  </thead>\n",
              "  <tbody>\n",
              "    <tr>\n",
              "      <th>Female</th>\n",
              "      <td>56161</td>\n",
              "    </tr>\n",
              "    <tr>\n",
              "      <th>Male</th>\n",
              "      <td>39967</td>\n",
              "    </tr>\n",
              "    <tr>\n",
              "      <th>Other</th>\n",
              "      <td>18</td>\n",
              "    </tr>\n",
              "  </tbody>\n",
              "</table>\n",
              "</div><br><label><b>dtype:</b> int64</label>"
            ]
          },
          "metadata": {},
          "execution_count": 12
        }
      ]
    },
    {
      "cell_type": "markdown",
      "source": [
        "Podemos observar que a maioria dos pacientes no DataFrame é do sexo feminino, representando cerca de 58% dos dados. No entanto, há registros marcados como 'Other'; irei analisar esses dados para decidir se devo removê-los ou não do modelo."
      ],
      "metadata": {
        "id": "ZhvE08DMEC4S"
      }
    },
    {
      "cell_type": "code",
      "source": [
        "df[df['diabete']==1].genero.value_counts(normalize=True)*100"
      ],
      "metadata": {
        "colab": {
          "base_uri": "https://localhost:8080/",
          "height": 178
        },
        "id": "GduTgoDyEEkK",
        "outputId": "400b7bf2-852c-479f-b185-09bedef40c5d"
      },
      "execution_count": 13,
      "outputs": [
        {
          "output_type": "execute_result",
          "data": {
            "text/plain": [
              "genero\n",
              "Female    52.428672\n",
              "Male      47.571328\n",
              "Name: proportion, dtype: float64"
            ],
            "text/html": [
              "<div>\n",
              "<style scoped>\n",
              "    .dataframe tbody tr th:only-of-type {\n",
              "        vertical-align: middle;\n",
              "    }\n",
              "\n",
              "    .dataframe tbody tr th {\n",
              "        vertical-align: top;\n",
              "    }\n",
              "\n",
              "    .dataframe thead th {\n",
              "        text-align: right;\n",
              "    }\n",
              "</style>\n",
              "<table border=\"1\" class=\"dataframe\">\n",
              "  <thead>\n",
              "    <tr style=\"text-align: right;\">\n",
              "      <th></th>\n",
              "      <th>proportion</th>\n",
              "    </tr>\n",
              "    <tr>\n",
              "      <th>genero</th>\n",
              "      <th></th>\n",
              "    </tr>\n",
              "  </thead>\n",
              "  <tbody>\n",
              "    <tr>\n",
              "      <th>Female</th>\n",
              "      <td>52.428672</td>\n",
              "    </tr>\n",
              "    <tr>\n",
              "      <th>Male</th>\n",
              "      <td>47.571328</td>\n",
              "    </tr>\n",
              "  </tbody>\n",
              "</table>\n",
              "</div><br><label><b>dtype:</b> float64</label>"
            ]
          },
          "metadata": {},
          "execution_count": 13
        }
      ]
    },
    {
      "cell_type": "code",
      "source": [
        "df[df['diabete']==1].genero.value_counts()"
      ],
      "metadata": {
        "colab": {
          "base_uri": "https://localhost:8080/",
          "height": 178
        },
        "id": "ddJLcoL8FiXq",
        "outputId": "fca15abf-79a0-4135-de72-e1bef95016f4"
      },
      "execution_count": 14,
      "outputs": [
        {
          "output_type": "execute_result",
          "data": {
            "text/plain": [
              "genero\n",
              "Female    4447\n",
              "Male      4035\n",
              "Name: count, dtype: int64"
            ],
            "text/html": [
              "<div>\n",
              "<style scoped>\n",
              "    .dataframe tbody tr th:only-of-type {\n",
              "        vertical-align: middle;\n",
              "    }\n",
              "\n",
              "    .dataframe tbody tr th {\n",
              "        vertical-align: top;\n",
              "    }\n",
              "\n",
              "    .dataframe thead th {\n",
              "        text-align: right;\n",
              "    }\n",
              "</style>\n",
              "<table border=\"1\" class=\"dataframe\">\n",
              "  <thead>\n",
              "    <tr style=\"text-align: right;\">\n",
              "      <th></th>\n",
              "      <th>count</th>\n",
              "    </tr>\n",
              "    <tr>\n",
              "      <th>genero</th>\n",
              "      <th></th>\n",
              "    </tr>\n",
              "  </thead>\n",
              "  <tbody>\n",
              "    <tr>\n",
              "      <th>Female</th>\n",
              "      <td>4447</td>\n",
              "    </tr>\n",
              "    <tr>\n",
              "      <th>Male</th>\n",
              "      <td>4035</td>\n",
              "    </tr>\n",
              "  </tbody>\n",
              "</table>\n",
              "</div><br><label><b>dtype:</b> int64</label>"
            ]
          },
          "metadata": {},
          "execution_count": 14
        }
      ]
    },
    {
      "cell_type": "code",
      "source": [
        "df[df['diabete']==0].genero.value_counts(normalize=True)*100"
      ],
      "metadata": {
        "colab": {
          "base_uri": "https://localhost:8080/",
          "height": 210
        },
        "id": "--REfKhMDzZK",
        "outputId": "dafb428a-ee2c-45b3-cbcc-df3ef3779342"
      },
      "execution_count": 15,
      "outputs": [
        {
          "output_type": "execute_result",
          "data": {
            "text/plain": [
              "genero\n",
              "Female    58.991148\n",
              "Male      40.988319\n",
              "Other      0.020533\n",
              "Name: proportion, dtype: float64"
            ],
            "text/html": [
              "<div>\n",
              "<style scoped>\n",
              "    .dataframe tbody tr th:only-of-type {\n",
              "        vertical-align: middle;\n",
              "    }\n",
              "\n",
              "    .dataframe tbody tr th {\n",
              "        vertical-align: top;\n",
              "    }\n",
              "\n",
              "    .dataframe thead th {\n",
              "        text-align: right;\n",
              "    }\n",
              "</style>\n",
              "<table border=\"1\" class=\"dataframe\">\n",
              "  <thead>\n",
              "    <tr style=\"text-align: right;\">\n",
              "      <th></th>\n",
              "      <th>proportion</th>\n",
              "    </tr>\n",
              "    <tr>\n",
              "      <th>genero</th>\n",
              "      <th></th>\n",
              "    </tr>\n",
              "  </thead>\n",
              "  <tbody>\n",
              "    <tr>\n",
              "      <th>Female</th>\n",
              "      <td>58.991148</td>\n",
              "    </tr>\n",
              "    <tr>\n",
              "      <th>Male</th>\n",
              "      <td>40.988319</td>\n",
              "    </tr>\n",
              "    <tr>\n",
              "      <th>Other</th>\n",
              "      <td>0.020533</td>\n",
              "    </tr>\n",
              "  </tbody>\n",
              "</table>\n",
              "</div><br><label><b>dtype:</b> float64</label>"
            ]
          },
          "metadata": {},
          "execution_count": 15
        }
      ]
    },
    {
      "cell_type": "code",
      "source": [
        "df[df['diabete']==0].genero.value_counts()"
      ],
      "metadata": {
        "colab": {
          "base_uri": "https://localhost:8080/",
          "height": 210
        },
        "id": "J-WZTa4PFfb5",
        "outputId": "7837f4a0-f69f-495d-df17-54690495c171"
      },
      "execution_count": 16,
      "outputs": [
        {
          "output_type": "execute_result",
          "data": {
            "text/plain": [
              "genero\n",
              "Female    51714\n",
              "Male      35932\n",
              "Other        18\n",
              "Name: count, dtype: int64"
            ],
            "text/html": [
              "<div>\n",
              "<style scoped>\n",
              "    .dataframe tbody tr th:only-of-type {\n",
              "        vertical-align: middle;\n",
              "    }\n",
              "\n",
              "    .dataframe tbody tr th {\n",
              "        vertical-align: top;\n",
              "    }\n",
              "\n",
              "    .dataframe thead th {\n",
              "        text-align: right;\n",
              "    }\n",
              "</style>\n",
              "<table border=\"1\" class=\"dataframe\">\n",
              "  <thead>\n",
              "    <tr style=\"text-align: right;\">\n",
              "      <th></th>\n",
              "      <th>count</th>\n",
              "    </tr>\n",
              "    <tr>\n",
              "      <th>genero</th>\n",
              "      <th></th>\n",
              "    </tr>\n",
              "  </thead>\n",
              "  <tbody>\n",
              "    <tr>\n",
              "      <th>Female</th>\n",
              "      <td>51714</td>\n",
              "    </tr>\n",
              "    <tr>\n",
              "      <th>Male</th>\n",
              "      <td>35932</td>\n",
              "    </tr>\n",
              "    <tr>\n",
              "      <th>Other</th>\n",
              "      <td>18</td>\n",
              "    </tr>\n",
              "  </tbody>\n",
              "</table>\n",
              "</div><br><label><b>dtype:</b> int64</label>"
            ]
          },
          "metadata": {},
          "execution_count": 16
        }
      ]
    },
    {
      "cell_type": "markdown",
      "source": [
        "Como o gênero classificado como 'Other' está presente apenas na classe majoritária do DataFrame, onde não há pacientes com diabetes, decidi remover esses dados do DataFrame."
      ],
      "metadata": {
        "id": "AWBF-_MCE6lS"
      }
    },
    {
      "cell_type": "code",
      "source": [
        "df.drop(df[df['genero']==\"Other\"].index, inplace=True)"
      ],
      "metadata": {
        "id": "-MAZFABG2tQD"
      },
      "execution_count": 17,
      "outputs": []
    },
    {
      "cell_type": "code",
      "source": [
        "df.genero = df.genero.map({'Female': 0, 'Male': 1})"
      ],
      "metadata": {
        "id": "rti3ZqhoJrZK"
      },
      "execution_count": 18,
      "outputs": []
    },
    {
      "cell_type": "markdown",
      "source": [
        "##### Fumante"
      ],
      "metadata": {
        "id": "vTslMBy-FG_y"
      }
    },
    {
      "cell_type": "code",
      "source": [
        "df.fumante.value_counts(normalize=True)*100"
      ],
      "metadata": {
        "colab": {
          "base_uri": "https://localhost:8080/",
          "height": 304
        },
        "id": "qsidwpafF1Nb",
        "outputId": "a56ef0b9-6450-45fd-af96-a8b31fbe6d61"
      },
      "execution_count": 19,
      "outputs": [
        {
          "output_type": "execute_result",
          "data": {
            "text/plain": [
              "fumante\n",
              "never          35.780418\n",
              "No Info        34.205434\n",
              "former          9.673560\n",
              "current         9.567452\n",
              "not current     6.615138\n",
              "ever            4.157998\n",
              "Name: proportion, dtype: float64"
            ],
            "text/html": [
              "<div>\n",
              "<style scoped>\n",
              "    .dataframe tbody tr th:only-of-type {\n",
              "        vertical-align: middle;\n",
              "    }\n",
              "\n",
              "    .dataframe tbody tr th {\n",
              "        vertical-align: top;\n",
              "    }\n",
              "\n",
              "    .dataframe thead th {\n",
              "        text-align: right;\n",
              "    }\n",
              "</style>\n",
              "<table border=\"1\" class=\"dataframe\">\n",
              "  <thead>\n",
              "    <tr style=\"text-align: right;\">\n",
              "      <th></th>\n",
              "      <th>proportion</th>\n",
              "    </tr>\n",
              "    <tr>\n",
              "      <th>fumante</th>\n",
              "      <th></th>\n",
              "    </tr>\n",
              "  </thead>\n",
              "  <tbody>\n",
              "    <tr>\n",
              "      <th>never</th>\n",
              "      <td>35.780418</td>\n",
              "    </tr>\n",
              "    <tr>\n",
              "      <th>No Info</th>\n",
              "      <td>34.205434</td>\n",
              "    </tr>\n",
              "    <tr>\n",
              "      <th>former</th>\n",
              "      <td>9.673560</td>\n",
              "    </tr>\n",
              "    <tr>\n",
              "      <th>current</th>\n",
              "      <td>9.567452</td>\n",
              "    </tr>\n",
              "    <tr>\n",
              "      <th>not current</th>\n",
              "      <td>6.615138</td>\n",
              "    </tr>\n",
              "    <tr>\n",
              "      <th>ever</th>\n",
              "      <td>4.157998</td>\n",
              "    </tr>\n",
              "  </tbody>\n",
              "</table>\n",
              "</div><br><label><b>dtype:</b> float64</label>"
            ]
          },
          "metadata": {},
          "execution_count": 19
        }
      ]
    },
    {
      "cell_type": "code",
      "source": [
        "df.fumante.value_counts()"
      ],
      "metadata": {
        "colab": {
          "base_uri": "https://localhost:8080/",
          "height": 304
        },
        "id": "uXjnt9hgF5s6",
        "outputId": "08953b28-fd3c-4fe7-b1a1-35ecbe764c90"
      },
      "execution_count": 20,
      "outputs": [
        {
          "output_type": "execute_result",
          "data": {
            "text/plain": [
              "fumante\n",
              "never          34395\n",
              "No Info        32881\n",
              "former          9299\n",
              "current         9197\n",
              "not current     6359\n",
              "ever            3997\n",
              "Name: count, dtype: int64"
            ],
            "text/html": [
              "<div>\n",
              "<style scoped>\n",
              "    .dataframe tbody tr th:only-of-type {\n",
              "        vertical-align: middle;\n",
              "    }\n",
              "\n",
              "    .dataframe tbody tr th {\n",
              "        vertical-align: top;\n",
              "    }\n",
              "\n",
              "    .dataframe thead th {\n",
              "        text-align: right;\n",
              "    }\n",
              "</style>\n",
              "<table border=\"1\" class=\"dataframe\">\n",
              "  <thead>\n",
              "    <tr style=\"text-align: right;\">\n",
              "      <th></th>\n",
              "      <th>count</th>\n",
              "    </tr>\n",
              "    <tr>\n",
              "      <th>fumante</th>\n",
              "      <th></th>\n",
              "    </tr>\n",
              "  </thead>\n",
              "  <tbody>\n",
              "    <tr>\n",
              "      <th>never</th>\n",
              "      <td>34395</td>\n",
              "    </tr>\n",
              "    <tr>\n",
              "      <th>No Info</th>\n",
              "      <td>32881</td>\n",
              "    </tr>\n",
              "    <tr>\n",
              "      <th>former</th>\n",
              "      <td>9299</td>\n",
              "    </tr>\n",
              "    <tr>\n",
              "      <th>current</th>\n",
              "      <td>9197</td>\n",
              "    </tr>\n",
              "    <tr>\n",
              "      <th>not current</th>\n",
              "      <td>6359</td>\n",
              "    </tr>\n",
              "    <tr>\n",
              "      <th>ever</th>\n",
              "      <td>3997</td>\n",
              "    </tr>\n",
              "  </tbody>\n",
              "</table>\n",
              "</div><br><label><b>dtype:</b> int64</label>"
            ]
          },
          "metadata": {},
          "execution_count": 20
        }
      ]
    },
    {
      "cell_type": "markdown",
      "source": [
        "#### Antes de realizar as análises gráficas, irei redimensionar o DataFrame, reduzindo a quantidade de dados de pessoas não diabeticas de forma aleatoria para igualar a quantidade de pessoas diabeticas."
      ],
      "metadata": {
        "id": "12XN7o7_Zjm1"
      }
    },
    {
      "cell_type": "code",
      "source": [
        "under = RandomUnderSampler(random_state=0)\n",
        "x_under, y_under = under.fit_resample(df.drop(columns='diabete'), df['diabete'])\n",
        "df_under = pd.concat([x_under, y_under], axis=1)\n",
        "df_under.diabete.value_counts()"
      ],
      "metadata": {
        "colab": {
          "base_uri": "https://localhost:8080/",
          "height": 178
        },
        "id": "7-Ny9k7JZ5SF",
        "outputId": "84b75014-ee4a-4fd9-d047-f646548cd612"
      },
      "execution_count": 21,
      "outputs": [
        {
          "output_type": "execute_result",
          "data": {
            "text/plain": [
              "diabete\n",
              "0    8482\n",
              "1    8482\n",
              "Name: count, dtype: int64"
            ],
            "text/html": [
              "<div>\n",
              "<style scoped>\n",
              "    .dataframe tbody tr th:only-of-type {\n",
              "        vertical-align: middle;\n",
              "    }\n",
              "\n",
              "    .dataframe tbody tr th {\n",
              "        vertical-align: top;\n",
              "    }\n",
              "\n",
              "    .dataframe thead th {\n",
              "        text-align: right;\n",
              "    }\n",
              "</style>\n",
              "<table border=\"1\" class=\"dataframe\">\n",
              "  <thead>\n",
              "    <tr style=\"text-align: right;\">\n",
              "      <th></th>\n",
              "      <th>count</th>\n",
              "    </tr>\n",
              "    <tr>\n",
              "      <th>diabete</th>\n",
              "      <th></th>\n",
              "    </tr>\n",
              "  </thead>\n",
              "  <tbody>\n",
              "    <tr>\n",
              "      <th>0</th>\n",
              "      <td>8482</td>\n",
              "    </tr>\n",
              "    <tr>\n",
              "      <th>1</th>\n",
              "      <td>8482</td>\n",
              "    </tr>\n",
              "  </tbody>\n",
              "</table>\n",
              "</div><br><label><b>dtype:</b> int64</label>"
            ]
          },
          "metadata": {},
          "execution_count": 21
        }
      ]
    },
    {
      "cell_type": "markdown",
      "source": [
        "### Análises gráficas"
      ],
      "metadata": {
        "id": "QIqe1KJrD9H7"
      }
    },
    {
      "cell_type": "markdown",
      "source": [
        "##### Glicose"
      ],
      "metadata": {
        "id": "x9_RYkvsBFf2"
      }
    },
    {
      "cell_type": "code",
      "source": [
        "sns.countplot(data=df_under, x='nivel_glicose_sangue')"
      ],
      "metadata": {
        "colab": {
          "base_uri": "https://localhost:8080/",
          "height": 467
        },
        "id": "MkqAGzgOBHIq",
        "outputId": "5d0fa240-8c67-4c7b-82f0-3801cac420a5"
      },
      "execution_count": 22,
      "outputs": [
        {
          "output_type": "execute_result",
          "data": {
            "text/plain": [
              "<Axes: xlabel='nivel_glicose_sangue', ylabel='count'>"
            ]
          },
          "metadata": {},
          "execution_count": 22
        },
        {
          "output_type": "display_data",
          "data": {
            "text/plain": [
              "<Figure size 640x480 with 1 Axes>"
            ],
            "image/png": "[encoded data removed]"
          },
          "metadata": {}
        }
      ]
    },
    {
      "cell_type": "code",
      "source": [
        "total = df_under.groupby(['nivel_glicose_sangue', 'diabete']).size().reset_index(name='count')\n",
        "total['percent'] = total['count'] / total.groupby('nivel_glicose_sangue')['count'].transform('sum') * 100\n",
        "\n",
        "sns.barplot(data=total, x='nivel_glicose_sangue', y='percent', hue='diabete')\n"
      ],
      "metadata": {
        "colab": {
          "base_uri": "https://localhost:8080/",
          "height": 467
        },
        "id": "alVjwYQpBHGF",
        "outputId": "d94f2370-5e29-480c-9e1a-ccf1ec214fc4"
      },
      "execution_count": 23,
      "outputs": [
        {
          "output_type": "execute_result",
          "data": {
            "text/plain": [
              "<Axes: xlabel='nivel_glicose_sangue', ylabel='percent'>"
            ]
          },
          "metadata": {},
          "execution_count": 23
        },
        {
          "output_type": "display_data",
          "data": {
            "text/plain": [
              "<Figure size 640x480 with 1 Axes>"
            ],
            "image/png": "[encoded data removed]"
          },
          "metadata": {}
        }
      ]
    },
    {
      "cell_type": "markdown",
      "source": [
        "Notamos uma clara concentração dos dados entre 101 e 200, com o restante das ocorrências bem distribuídas entre os outros valores.\n",
        "- Notamos, ao analisar percentualmente, que os valores mais repetidos têm um equilíbrio entre diabéticos e não diabéticos. No entanto, os demais dados são bem discriminados: 100% dos pacientes com Glicose acima de 200 são diabéticos, enquanto todos com Glicose menor que 101 não são.\n",
        "- Notamos que essa variável é altamente discriminante, o que indica que será muito importante para o modelo."
      ],
      "metadata": {
        "id": "yDQdmvCgFUpj"
      }
    },
    {
      "cell_type": "markdown",
      "source": [
        "##### Nivel de Hemoglobina A1c"
      ],
      "metadata": {
        "id": "plzHzmGt_aV9"
      }
    },
    {
      "cell_type": "code",
      "source": [
        "sns.countplot(data=df_under, x='nivel_hemoglobinaA1c')"
      ],
      "metadata": {
        "colab": {
          "base_uri": "https://localhost:8080/",
          "height": 0
        },
        "id": "3MJ6YAXx_bIE",
        "outputId": "aa650050-3b9d-49bc-c082-2332079903c6"
      },
      "execution_count": 24,
      "outputs": [
        {
          "output_type": "execute_result",
          "data": {
            "text/plain": [
              "<Axes: xlabel='nivel_hemoglobinaA1c', ylabel='count'>"
            ]
          },
          "metadata": {},
          "execution_count": 24
        },
        {
          "output_type": "display_data",
          "data": {
            "text/plain": [
              "<Figure size 640x480 with 1 Axes>"
            ],
            "image/png": "[encoded data removed]"
          },
          "metadata": {}
        }
      ]
    },
    {
      "cell_type": "code",
      "source": [
        "total = df_under.groupby(['nivel_hemoglobinaA1c', 'diabete']).size().reset_index(name='count')\n",
        "total['percent'] = total['count'] / total.groupby('nivel_hemoglobinaA1c')['count'].transform('sum') * 100\n",
        "\n",
        "sns.barplot(data=total, x='nivel_hemoglobinaA1c', y='percent', hue='diabete')\n"
      ],
      "metadata": {
        "colab": {
          "base_uri": "https://localhost:8080/",
          "height": 0
        },
        "id": "Qg--kMFE_awl",
        "outputId": "74543fc4-aa0f-4831-ddee-969ddca10870"
      },
      "execution_count": 25,
      "outputs": [
        {
          "output_type": "execute_result",
          "data": {
            "text/plain": [
              "<Axes: xlabel='nivel_hemoglobinaA1c', ylabel='percent'>"
            ]
          },
          "metadata": {},
          "execution_count": 25
        },
        {
          "output_type": "display_data",
          "data": {
            "text/plain": [
              "<Figure size 640x480 with 1 Axes>"
            ],
            "image/png": "[encoded data removed]"
          },
          "metadata": {}
        }
      ]
    },
    {
      "cell_type": "markdown",
      "source": [
        "Notamos uma clara concentração dos dados entre 5,7 e 6,6, com o restante das ocorrências bem distribuídas entre os outros valores.\n",
        "- Notamos, ao analisar percentualmente, que os valores mais repetidos têm um equilíbrio entre diabéticos e não diabéticos. No entanto, os demais dados são bem discriminados: 100% dos pacientes com A1c acima de 6,7 são diabéticos, enquanto todos com A1c menor que 5 não são.\n",
        "- Notamos que essa variável é altamente discriminante, o que indica que será muito importante para o modelo.\n"
      ],
      "metadata": {
        "id": "kSFQXN42Gt26"
      }
    },
    {
      "cell_type": "markdown",
      "source": [
        "##### Problemas no coração"
      ],
      "metadata": {
        "id": "fsm5noQk-XT1"
      }
    },
    {
      "cell_type": "code",
      "source": [
        "sns.countplot(data=df_under, x='problema_coracao')"
      ],
      "metadata": {
        "colab": {
          "base_uri": "https://localhost:8080/",
          "height": 0
        },
        "id": "kuKcZS7J-a5x",
        "outputId": "18f4b610-1d33-4740-fd68-a362358dea19"
      },
      "execution_count": 26,
      "outputs": [
        {
          "output_type": "execute_result",
          "data": {
            "text/plain": [
              "<Axes: xlabel='problema_coracao', ylabel='count'>"
            ]
          },
          "metadata": {},
          "execution_count": 26
        },
        {
          "output_type": "display_data",
          "data": {
            "text/plain": [
              "<Figure size 640x480 with 1 Axes>"
            ],
            "image/png": "[encoded data removed]"
          },
          "metadata": {}
        }
      ]
    },
    {
      "cell_type": "code",
      "source": [
        "total = df_under.groupby(['problema_coracao', 'diabete']).size().reset_index(name='count')\n",
        "total['percent'] = total['count'] / total.groupby('problema_coracao')['count'].transform('sum') * 100\n",
        "\n",
        "sns.barplot(data=total, x='problema_coracao', y='percent', hue='diabete')\n"
      ],
      "metadata": {
        "colab": {
          "base_uri": "https://localhost:8080/",
          "height": 0
        },
        "id": "pRZnceWC-a3d",
        "outputId": "85b35788-6673-463b-c1e6-715a30ea8049"
      },
      "execution_count": 27,
      "outputs": [
        {
          "output_type": "execute_result",
          "data": {
            "text/plain": [
              "<Axes: xlabel='problema_coracao', ylabel='percent'>"
            ]
          },
          "metadata": {},
          "execution_count": 27
        },
        {
          "output_type": "display_data",
          "data": {
            "text/plain": [
              "<Figure size 640x480 with 1 Axes>"
            ],
            "image/png": "[encoded data removed]"
          },
          "metadata": {}
        }
      ]
    },
    {
      "cell_type": "markdown",
      "source": [
        "Notamos uma diferença significativa na quantidade de pacientes com problemas no coração.\n",
        "- Os problemas cardiacos podem ser um agravante para o desenvolvimento do diabetes ou serem causados por ele. Podemos notar a diferença percentual entre os pacientes com problemas cardiacos, onde cerca de 80% são diabéticos.\n"
      ],
      "metadata": {
        "id": "3HX6tKuMG3PM"
      }
    },
    {
      "cell_type": "markdown",
      "source": [
        "##### Hipertenso"
      ],
      "metadata": {
        "id": "Ym4WffVt83rX"
      }
    },
    {
      "cell_type": "code",
      "source": [
        "sns.countplot(data=df_under, x='hipertenso')"
      ],
      "metadata": {
        "colab": {
          "base_uri": "https://localhost:8080/",
          "height": 0
        },
        "id": "SwGY8GBr88IN",
        "outputId": "eb4388fc-2cc7-463d-8769-0489ac05913b"
      },
      "execution_count": 28,
      "outputs": [
        {
          "output_type": "execute_result",
          "data": {
            "text/plain": [
              "<Axes: xlabel='hipertenso', ylabel='count'>"
            ]
          },
          "metadata": {},
          "execution_count": 28
        },
        {
          "output_type": "display_data",
          "data": {
            "text/plain": [
              "<Figure size 640x480 with 1 Axes>"
            ],
            "image/png": "[encoded data removed]"
          },
          "metadata": {}
        }
      ]
    },
    {
      "cell_type": "code",
      "source": [
        "total = df_under.groupby(['hipertenso', 'diabete']).size().reset_index(name='count')\n",
        "total['percent'] = total['count'] / total.groupby('hipertenso')['count'].transform('sum') * 100\n",
        "\n",
        "sns.barplot(data=total, x='hipertenso', y='percent', hue='diabete')\n"
      ],
      "metadata": {
        "colab": {
          "base_uri": "https://localhost:8080/",
          "height": 0
        },
        "id": "Lmja4wlA88GW",
        "outputId": "f54fa2c6-acf1-4406-88a5-06346e7ab22f"
      },
      "execution_count": 29,
      "outputs": [
        {
          "output_type": "execute_result",
          "data": {
            "text/plain": [
              "<Axes: xlabel='hipertenso', ylabel='percent'>"
            ]
          },
          "metadata": {},
          "execution_count": 29
        },
        {
          "output_type": "display_data",
          "data": {
            "text/plain": [
              "<Figure size 640x480 with 1 Axes>"
            ],
            "image/png": "[encoded data removed]"
          },
          "metadata": {}
        }
      ]
    },
    {
      "cell_type": "markdown",
      "source": [
        "Notamos uma diferença significativa na quantidade de pacientes com hipertensão.\n",
        "- A hipertensão pode ser um agravante para o desenvolvimento do diabetes ou ser causada por ele. Podemos notar a diferença percentual entre os pacientes hipertensos, onde cerca de 80% são diabéticos.\n"
      ],
      "metadata": {
        "id": "fGfUskHyG_QK"
      }
    },
    {
      "cell_type": "markdown",
      "source": [
        "##### Gênero"
      ],
      "metadata": {
        "id": "LMnEe2dU7Xsd"
      }
    },
    {
      "cell_type": "code",
      "source": [
        "sns.countplot(data=df_under, x='genero')"
      ],
      "metadata": {
        "colab": {
          "base_uri": "https://localhost:8080/",
          "height": 0
        },
        "id": "2mhQhBu77Y8w",
        "outputId": "77f7dd5d-8bb6-47f6-8f66-91d9ccbac27b"
      },
      "execution_count": 30,
      "outputs": [
        {
          "output_type": "execute_result",
          "data": {
            "text/plain": [
              "<Axes: xlabel='genero', ylabel='count'>"
            ]
          },
          "metadata": {},
          "execution_count": 30
        },
        {
          "output_type": "display_data",
          "data": {
            "text/plain": [
              "<Figure size 640x480 with 1 Axes>"
            ],
            "image/png": "[encoded data removed]"
          },
          "metadata": {}
        }
      ]
    },
    {
      "cell_type": "code",
      "source": [
        "total = df_under.groupby(['genero', 'diabete']).size().reset_index(name='count')\n",
        "total['percent'] = total['count'] / total.groupby('genero')['count'].transform('sum') * 100\n",
        "\n",
        "sns.barplot(data=total, x='genero', y='percent', hue='diabete')"
      ],
      "metadata": {
        "colab": {
          "base_uri": "https://localhost:8080/",
          "height": 0
        },
        "id": "N9bWR-1u7a19",
        "outputId": "cd3ea0d3-4b86-4a13-a2ef-8b9552bd09dd"
      },
      "execution_count": 31,
      "outputs": [
        {
          "output_type": "execute_result",
          "data": {
            "text/plain": [
              "<Axes: xlabel='genero', ylabel='percent'>"
            ]
          },
          "metadata": {},
          "execution_count": 31
        },
        {
          "output_type": "display_data",
          "data": {
            "text/plain": [
              "<Figure size 640x480 with 1 Axes>"
            ],
            "image/png": "[encoded data removed]"
          },
          "metadata": {}
        }
      ]
    },
    {
      "cell_type": "markdown",
      "source": [
        "Notamos que há mais mulheres do que homens no DataFrame.\n",
        "- O gênero não é um fator determinante para o desenvolvimento de diabetes; outros fatores, como percentual de gordura corporal, prática de atividades físicas e alimentação, são mais relevantes.\n",
        "- Neste DataFrame, os homens são, percentualmente, mais propensos a ter diabetes do que as mulheres.\n"
      ],
      "metadata": {
        "id": "wVrLmXMBHFQD"
      }
    },
    {
      "cell_type": "markdown",
      "source": [
        "##### Idade"
      ],
      "metadata": {
        "id": "nmMjZBNnx2W4"
      }
    },
    {
      "cell_type": "code",
      "source": [
        "sns.histplot(data=df_under, x='idade')"
      ],
      "metadata": {
        "colab": {
          "base_uri": "https://localhost:8080/",
          "height": 0
        },
        "id": "L0by0Tlhx304",
        "outputId": "c662309e-ee4a-414b-95d0-bceaecd141c2"
      },
      "execution_count": 32,
      "outputs": [
        {
          "output_type": "execute_result",
          "data": {
            "text/plain": [
              "<Axes: xlabel='idade', ylabel='Count'>"
            ]
          },
          "metadata": {},
          "execution_count": 32
        },
        {
          "output_type": "display_data",
          "data": {
            "text/plain": [
              "<Figure size 640x480 with 1 Axes>"
            ],
            "image/png": "[encoded data removed]"
          },
          "metadata": {}
        }
      ]
    },
    {
      "cell_type": "code",
      "source": [
        "total = df_under.groupby(['idade', 'diabete']).size().reset_index(name='count')\n",
        "total['percent'] = total['count'] / total.groupby('idade')['count'].transform('sum') * 100\n",
        "\n",
        "sns.barplot(data=total, x='idade', y='percent', hue='diabete')\n"
      ],
      "metadata": {
        "colab": {
          "base_uri": "https://localhost:8080/",
          "height": 0
        },
        "id": "GWcm2kPKx43A",
        "outputId": "7f833dc4-fa6d-4c50-d570-d5c58dc751bd"
      },
      "execution_count": 33,
      "outputs": [
        {
          "output_type": "execute_result",
          "data": {
            "text/plain": [
              "<Axes: xlabel='idade', ylabel='percent'>"
            ]
          },
          "metadata": {},
          "execution_count": 33
        },
        {
          "output_type": "display_data",
          "data": {
            "text/plain": [
              "<Figure size 640x480 with 1 Axes>"
            ],
            "image/png": "[encoded data removed]"
          },
          "metadata": {}
        }
      ]
    },
    {
      "cell_type": "markdown",
      "source": [
        "Notamos que a idade dos pacientes analisados apresenta grande variação, concentrando-se mais após os 40 anos.\n",
        "- Podemos ver pela análise percentual que, quanto maior a idade, maior é a quantidade de pacientes com diabetes percentualmente, corroborando o fato de a doença se manifestar com mais frequência após os 40 anos.\n"
      ],
      "metadata": {
        "id": "-4eQZngFHNsL"
      }
    },
    {
      "cell_type": "markdown",
      "source": [
        "##### Fumante"
      ],
      "metadata": {
        "id": "Q9cGjVwXx0AY"
      }
    },
    {
      "cell_type": "code",
      "source": [
        "sns.countplot(data=df_under, x='fumante')"
      ],
      "metadata": {
        "colab": {
          "base_uri": "https://localhost:8080/",
          "height": 0
        },
        "id": "fWbY09BDvj3C",
        "outputId": "8a1e69da-eeaa-481c-d189-4499207a76d7"
      },
      "execution_count": 34,
      "outputs": [
        {
          "output_type": "execute_result",
          "data": {
            "text/plain": [
              "<Axes: xlabel='fumante', ylabel='count'>"
            ]
          },
          "metadata": {},
          "execution_count": 34
        },
        {
          "output_type": "display_data",
          "data": {
            "text/plain": [
              "<Figure size 640x480 with 1 Axes>"
            ],
            "image/png": "[encoded data removed]"
          },
          "metadata": {}
        }
      ]
    },
    {
      "cell_type": "code",
      "source": [
        "total = df_under.groupby(['fumante', 'diabete']).size().reset_index(name='count')\n",
        "total['percent'] = total['count'] / total.groupby('fumante')['count'].transform('sum') * 100\n",
        "\n",
        "sns.barplot(data=total, x='fumante', y='percent', hue='diabete')\n"
      ],
      "metadata": {
        "colab": {
          "base_uri": "https://localhost:8080/",
          "height": 0
        },
        "id": "b12zAxEDvVs5",
        "outputId": "8097d13e-d5a8-46d9-8914-8c04410aac9f"
      },
      "execution_count": 35,
      "outputs": [
        {
          "output_type": "execute_result",
          "data": {
            "text/plain": [
              "<Axes: xlabel='fumante', ylabel='percent'>"
            ]
          },
          "metadata": {},
          "execution_count": 35
        },
        {
          "output_type": "display_data",
          "data": {
            "text/plain": [
              "<Figure size 640x480 with 1 Axes>"
            ],
            "image/png": "[encoded data removed]"
          },
          "metadata": {}
        }
      ]
    },
    {
      "cell_type": "markdown",
      "source": [
        "Notamos que há mais pacientes que nunca fumaram, seguidos por aqueles que não forneceram essa informação de forma precisa.\n",
        "- Percebemos na análise percentual que os pacientes que não informaram seu status de tabagismo (fumante ou não) apresentam o menor percentual de diabéticos.\n",
        "- Percebemos também que todas as categorias de pacientes que fumam ou já fumaram possuem maior percentual de diabéticos, além de apresentarem um percentual maior de diabéticos em comparação com aqueles que nunca fumaram."
      ],
      "metadata": {
        "id": "Xm8S677gHSfr"
      }
    },
    {
      "cell_type": "markdown",
      "source": [
        "##### IMC"
      ],
      "metadata": {
        "id": "D3mEGGFmHhHz"
      }
    },
    {
      "cell_type": "code",
      "source": [
        "plt.hist(data=df_under, x='imc', bins=40)"
      ],
      "metadata": {
        "colab": {
          "base_uri": "https://localhost:8080/",
          "height": 0
        },
        "id": "8CxIlRsWHndc",
        "outputId": "f698e4a8-c531-4a39-9d5d-056ee2cc35ac"
      },
      "execution_count": 36,
      "outputs": [
        {
          "output_type": "execute_result",
          "data": {
            "text/plain": [
              "(array([1.600e+01, 1.000e+02, 3.570e+02, 4.320e+02, 6.020e+02, 8.430e+02,\n",
              "        1.115e+03, 1.353e+03, 4.842e+03, 1.382e+03, 1.275e+03, 1.093e+03,\n",
              "        8.390e+02, 6.980e+02, 5.130e+02, 4.010e+02, 3.100e+02, 2.020e+02,\n",
              "        1.780e+02, 1.310e+02, 7.700e+01, 5.600e+01, 3.500e+01, 3.800e+01,\n",
              "        3.100e+01, 1.500e+01, 7.000e+00, 7.000e+00, 3.000e+00, 3.000e+00,\n",
              "        4.000e+00, 2.000e+00, 0.000e+00, 0.000e+00, 0.000e+00, 1.000e+00,\n",
              "        1.000e+00, 1.000e+00, 0.000e+00, 1.000e+00]),\n",
              " array([10.77   , 12.71875, 14.6675 , 16.61625, 18.565  , 20.51375,\n",
              "        22.4625 , 24.41125, 26.36   , 28.30875, 30.2575 , 32.20625,\n",
              "        34.155  , 36.10375, 38.0525 , 40.00125, 41.95   , 43.89875,\n",
              "        45.8475 , 47.79625, 49.745  , 51.69375, 53.6425 , 55.59125,\n",
              "        57.54   , 59.48875, 61.4375 , 63.38625, 65.335  , 67.28375,\n",
              "        69.2325 , 71.18125, 73.13   , 75.07875, 77.0275 , 78.97625,\n",
              "        80.925  , 82.87375, 84.8225 , 86.77125, 88.72   ]),\n",
              " <BarContainer object of 40 artists>)"
            ]
          },
          "metadata": {},
          "execution_count": 36
        },
        {
          "output_type": "display_data",
          "data": {
            "text/plain": [
              "<Figure size 640x480 with 1 Axes>"
            ],
            "image/png": "[encoded data removed]"
          },
          "metadata": {}
        }
      ]
    },
    {
      "cell_type": "markdown",
      "source": [
        "Notamos uma grande concentração em um único valor próximo de 30; no entanto, o restante dos valores também se concentra entre 25 e 35.\n",
        "- Isso nos mostra que a grande maioria dos pacientes analisados apresenta um valor de IMC que varia entre bom e início de alerta, uma vez que até 27 o valor é considerado normal, enquanto acima de 30 já se torna preocupante.\n"
      ],
      "metadata": {
        "id": "bU3IvWTLHnHD"
      }
    },
    {
      "cell_type": "markdown",
      "source": [
        "### Testes de Associação"
      ],
      "metadata": {
        "id": "-FR_Y6C9asmk"
      }
    },
    {
      "cell_type": "markdown",
      "source": [
        "#### Hemoglobina A1c\n",
        "A dosagem da hemoglobina glicada, também chamada de hemoglobina glicosilada, hemoglobina A1c ou simplesmente HbA1c, é um exame de sangue muito utilizado para o acompanhamento dos pacientes diabéticos, por ser ele uma forma eficaz de avaliar os níveis médios da glicose sanguínea nos últimos 2 ou 3 meses.\n",
        "## Os valores de referência são:\n",
        "- 4 -> Baixo\n",
        "- 5 & 6 -> Excelentes\n",
        "- 7 & 8 -> Atenção\n",
        "- 9 ou + -> Perigo\n",
        "\n",
        "### O que queremos testar com o teste Qi-Quadrado é se níveis de hemoglobina glicada acima de 6 é um fator que faz diferença para o desenvolvimento do Diabetes no DataFrame"
      ],
      "metadata": {
        "id": "jIzNWu28bcNE"
      }
    },
    {
      "cell_type": "code",
      "source": [
        "df_under['A1c_acima_6'] = df_under['nivel_hemoglobinaA1c'].apply(lambda x: 1 if x > 6 else 0)"
      ],
      "metadata": {
        "id": "2fYbyYa3jxqr"
      },
      "execution_count": 37,
      "outputs": []
    },
    {
      "cell_type": "code",
      "source": [
        "# Tabela de contingência entre A1c > 6 e Diabetes\n",
        "tabela = pd.crosstab(df_under['A1c_acima_6'], df_under['diabete'])\n",
        "\n",
        "# Teste Qui-quadrado\n",
        "chi2, p, dof, expected = chi2_contingency(tabela)\n",
        "\n",
        "print(f\"Estatística Qui-Quadrado: {chi2}, p-valor: {p}\")\n",
        "\n",
        "if p < 0.05:\n",
        "    print(\"Existe associação significativa entre A1c > 6 e diabetes.\")\n",
        "else:\n",
        "    print(\"Não há associação significativa entre A1c > 6 e diabetes.\")\n"
      ],
      "metadata": {
        "id": "y3i6TKTAkK3c",
        "colab": {
          "base_uri": "https://localhost:8080/"
        },
        "outputId": "71d3e2f2-97ca-42e2-fa88-64fe217ff7f1"
      },
      "execution_count": 38,
      "outputs": [
        {
          "output_type": "stream",
          "name": "stdout",
          "text": [
            "Estatística Qui-Quadrado: 3164.2671705745415, p-valor: 0.0\n",
            "Existe associação significativa entre A1c > 6 e diabetes.\n"
          ]
        }
      ]
    },
    {
      "cell_type": "markdown",
      "source": [
        "O teste confirma o que é esperado pela ciência, que um resultado para o teste de Hemoglobina A1c maior que 6 tem relação com o maior risco de desenvolvimento do diabetes"
      ],
      "metadata": {
        "id": "x8e42jJmkc3y"
      }
    },
    {
      "cell_type": "markdown",
      "source": [
        "#### Nível de glicose no sangue\n",
        "A medição do nível de glicose no sangue é um importante fator de determinação para entender se o paciente é considerado diabetico ou não.\n",
        "## Os valores de referência são:\n",
        "- Menor que 70 -> Baixo\n",
        "- Entre 70 e 100 -> Excelentes\n",
        "- Entre 101 e 125 -> Atenção\n",
        "- Acima de 125 -> Perigo\n",
        "\n",
        "### O que queremos testar com o teste Qi-Quadrado é se níveis de glicose no sangue superiores a 101 pode ser um fator que faz diferença para o desenvolvimento do Diabetes no DataFrame"
      ],
      "metadata": {
        "id": "-9Fr5cU6lDjq"
      }
    },
    {
      "cell_type": "code",
      "source": [
        "df_under['glicose_acima_101'] = df_under['nivel_glicose_sangue'].apply(lambda x: 1 if x > 101 else 0)"
      ],
      "metadata": {
        "id": "_tFBM9ismzLS"
      },
      "execution_count": 39,
      "outputs": []
    },
    {
      "cell_type": "code",
      "source": [
        "# Tabela de contingência entre A1c > 6 e Diabetes\n",
        "tabela = pd.crosstab(df_under['glicose_acima_101'], df_under['diabete'])\n",
        "\n",
        "# Teste Qui-quadrado\n",
        "chi2, p, dof, expected = chi2_contingency(tabela)\n",
        "\n",
        "print(f\"Estatística Qui-Quadrado: {chi2}, p-valor: {p}\")\n",
        "\n",
        "if p < 0.05:\n",
        "    print(\"Existe associação significativa entre Glicose > 101 e diabetes.\")\n",
        "else:\n",
        "    print(\"Não há associação significativa entre Glicose > 101 e diabetes.\")\n"
      ],
      "metadata": {
        "id": "DmBlKGqNnA5C",
        "colab": {
          "base_uri": "https://localhost:8080/"
        },
        "outputId": "62d8e200-3d0e-4b64-9be1-1b8be5c3928a"
      },
      "execution_count": 40,
      "outputs": [
        {
          "output_type": "stream",
          "name": "stdout",
          "text": [
            "Estatística Qui-Quadrado: 3039.0152643547663, p-valor: 0.0\n",
            "Existe associação significativa entre Glicose > 101 e diabetes.\n"
          ]
        }
      ]
    },
    {
      "cell_type": "markdown",
      "source": [
        "O teste confirma o que é esperado pela ciência, que um resultado para o teste de Glicose no sangue maior que 101 tem relação com o maior risco de desenvolvimento do diabetes"
      ],
      "metadata": {
        "id": "-2-7hk8dnypy"
      }
    },
    {
      "cell_type": "markdown",
      "source": [
        "#### Hipertensão\n",
        "Segundo os especialistas há uma ligação clara entre as duas doenças, onde o aparecimento de uma pode desencadear ou ser fator de risco para a outra.\n",
        "## Os valores de referência são:\n",
        "- 1 -> Hipertenso\n",
        "- 0 -> Não hipertenso\n",
        "\n",
        "### O que queremos testar com o teste Qi-Quadrado é se pacientes hipertensos tem este fator como uma diferença para o desenvolvimento do Diabetes no DataFrame"
      ],
      "metadata": {
        "id": "Q46exz-OoN45"
      }
    },
    {
      "cell_type": "code",
      "source": [
        "df_under['hiper'] = df_under['hipertenso'].apply(lambda x: 1 if x == 1 else 0)"
      ],
      "metadata": {
        "id": "D9i1xeuuoSUJ"
      },
      "execution_count": 41,
      "outputs": []
    },
    {
      "cell_type": "code",
      "source": [
        "# Tabela de contingência entre IMC > 30 e Diabetes\n",
        "tabela = pd.crosstab(df_under['hiper'], df_under['diabete'])\n",
        "\n",
        "# Teste Qui-quadrado\n",
        "chi2, p, dof, expected = chi2_contingency(tabela)\n",
        "\n",
        "print(f\"Estatística Qui-Quadrado: {chi2}, p-valor: {p}\")\n",
        "\n",
        "if p < 0.05:\n",
        "    print(\"Existe associação significativa entre Hipertensão e diabetes.\")\n",
        "else:\n",
        "    print(\"Não há associação significativa entre Hipertensão e diabetes.\")\n"
      ],
      "metadata": {
        "id": "ldmYX5kBoS_5",
        "colab": {
          "base_uri": "https://localhost:8080/"
        },
        "outputId": "3c03b3e4-ec2c-4e23-fda7-825efead12ca"
      },
      "execution_count": 42,
      "outputs": [
        {
          "output_type": "stream",
          "name": "stdout",
          "text": [
            "Estatística Qui-Quadrado: 1103.3686004194967, p-valor: 6.1198347802097526e-242\n",
            "Existe associação significativa entre Hipertensão e diabetes.\n"
          ]
        }
      ]
    },
    {
      "cell_type": "markdown",
      "source": [
        "O teste confirma o esperado, a ligação entre Hipertensão e diabetes"
      ],
      "metadata": {
        "id": "0d3ElqwM2SbG"
      }
    },
    {
      "cell_type": "markdown",
      "source": [
        "#### Problemas no coração\n",
        "Segundo os especialistas há uma ligação clara entre as duas doenças, onde o aparecimento de uma pode desencadear ou ser fator de risco para a outra.\n",
        "## Os valores de referência são:\n",
        "- 1 -> Tem problemas\n",
        "- 0 -> Não tem problemas\n",
        "\n",
        "### O que queremos testar com o teste Qi-Quadrado é se pacientes com problemas no coração tem este fator como uma diferença para o desenvolvimento do Diabetes no DataFrame"
      ],
      "metadata": {
        "id": "u2JEgAnmtnbI"
      }
    },
    {
      "cell_type": "code",
      "source": [
        "df_under['coracao'] = df_under['problema_coracao'].apply(lambda x: 1 if x == 1 else 0)"
      ],
      "metadata": {
        "id": "44vaGE_wt5Jv"
      },
      "execution_count": 43,
      "outputs": []
    },
    {
      "cell_type": "code",
      "source": [
        "# Tabela de contingência entre IMC > 30 e Diabetes\n",
        "tabela = pd.crosstab(df_under['coracao'], df_under['diabete'])\n",
        "\n",
        "# Teste Qui-quadrado\n",
        "chi2, p, dof, expected = chi2_contingency(tabela)\n",
        "\n",
        "print(f\"Estatística Qui-Quadrado: {chi2}, p-valor: {p}\")\n",
        "\n",
        "if p < 0.05:\n",
        "    print(\"Existe associação significativa entre Problemas no coração e diabetes.\")\n",
        "else:\n",
        "    print(\"Não há associação significativa entre Problemas no coração e diabetes.\")\n"
      ],
      "metadata": {
        "id": "PKxnfroAt4_Z",
        "colab": {
          "base_uri": "https://localhost:8080/"
        },
        "outputId": "44c1dc08-02d1-477e-9824-23fb791f9916"
      },
      "execution_count": 44,
      "outputs": [
        {
          "output_type": "stream",
          "name": "stdout",
          "text": [
            "Estatística Qui-Quadrado: 802.4239925962172, p-valor: 1.6034022576248457e-176\n",
            "Existe associação significativa entre Problemas no coração e diabetes.\n"
          ]
        }
      ]
    },
    {
      "cell_type": "markdown",
      "source": [
        "O teste confirma o esperado, a ligação entre Problemas no coração e diabetes"
      ],
      "metadata": {
        "id": "bEmmzpEx2X5X"
      }
    },
    {
      "cell_type": "markdown",
      "source": [
        "#### Fumante\n",
        "Segundo os especialistas há uma ligação clara entre fumar e o desenvolvimento de diabetes.\n",
        "## Os valores de referência são:\n",
        "- fumou/fuma -> Já fumou\n",
        "- nunca_fumou -> Não fumou\n",
        "\n",
        "### O que queremos testar com o teste Qi-Quadrado é se pacientes que fumam ou já fumaram tem este fator como uma diferença para o desenvolvimento do Diabetes no DataFrame"
      ],
      "metadata": {
        "id": "36j6mI1CuOpo"
      }
    },
    {
      "cell_type": "code",
      "source": [
        "conditions = [\n",
        "    df['fumante'] == 'never',\n",
        "    df['fumante'] == 'No Info',\n",
        "    df['fumante'] == 'former',\n",
        "    df['fumante'] == 'current',\n",
        "    df['fumante'] == 'not current',\n",
        "    df['fumante'] == 'ever'\n",
        "]\n",
        "\n",
        "choices = [\n",
        "           'nunca_fumou',\n",
        "           'sem_info',\n",
        "           'fumou_fuma',\n",
        "           'fumou_fuma',\n",
        "           'fumou_fuma',\n",
        "           'fumou_fuma'\n",
        "           ]\n",
        "\n",
        "df_fumante = df.copy()\n",
        "df_fumante['fumante_cat'] = np.select(conditions, choices)"
      ],
      "metadata": {
        "id": "lHLlqJ4c-2qO"
      },
      "execution_count": 45,
      "outputs": []
    },
    {
      "cell_type": "code",
      "source": [
        "df_fumante['fuma'] = df_fumante['fumante'].apply(lambda x: 1 if x == 'former' else 0)\n",
        "df_fumante['fuma'] = df_fumante['fumante'].apply(lambda x: 1 if x == 'current' else 0)\n",
        "df_fumante['fuma'] = df_fumante['fumante'].apply(lambda x: 1 if x == 'ever' else 0)\n",
        "df_fumante['fuma'] = df_fumante['fumante'].apply(lambda x: 1 if x == 'not current' else 0)"
      ],
      "metadata": {
        "id": "TnI15Jc0uJjH"
      },
      "execution_count": 46,
      "outputs": []
    },
    {
      "cell_type": "code",
      "source": [
        "# Tabela de contingência entre IMC > 30 e Diabetes\n",
        "tabela = pd.crosstab(df_fumante['fuma'], df_fumante['diabete'])\n",
        "\n",
        "# Teste Qui-quadrado\n",
        "chi2, p, dof, expected = chi2_contingency(tabela)\n",
        "\n",
        "print(f\"Estatística Qui-Quadrado: {chi2}, p-valor: {p}\")\n",
        "\n",
        "if p < 0.05:\n",
        "    print(\"Existe associação significativa entre Tabagismo e diabetes.\")\n",
        "else:\n",
        "    print(\"Não há associação significativa entre Tabagismo e diabetes.\")\n"
      ],
      "metadata": {
        "id": "12ZsAWPfukQZ",
        "colab": {
          "base_uri": "https://localhost:8080/"
        },
        "outputId": "6c1ae60a-e49e-4db7-f908-928f6fe5fce4"
      },
      "execution_count": 47,
      "outputs": [
        {
          "output_type": "stream",
          "name": "stdout",
          "text": [
            "Estatística Qui-Quadrado: 34.51128454518808, p-valor: 4.237873000269877e-09\n",
            "Existe associação significativa entre Tabagismo e diabetes.\n"
          ]
        }
      ]
    },
    {
      "cell_type": "markdown",
      "source": [
        "O teste confirma o esperado, a ligação entre Tabagismo e diabetes"
      ],
      "metadata": {
        "id": "yU_gxMoy2bcH"
      }
    },
    {
      "cell_type": "markdown",
      "source": [
        "#### IMC\n",
        "Segundo os especialistas há uma ligação clara entre o aumento do peso de forma não saudavel e a diabetes, claro que o IMC não é uma metrica boa de se análisar sozinha pois o ganho de peso pode ser de forma saudavel.\n",
        "## Os valores de referência são:\n",
        "- Entre 18,5 & 24,9 -> IMC normal\n",
        "- Entre 25 & 29,9 -> IMC pouco acima\n",
        "- Maior que 30 -> IMC acima\n",
        "- Maior que 35 -> IMC muito acima\n",
        "\n",
        "### O que queremos testar com o teste Qi-Quadrado é se pacientes com peso corporal pouco acima já tem este fator como uma diferença para o desenvolvimento do Diabetes no DataFrame"
      ],
      "metadata": {
        "id": "h5U-bCNLvDDH"
      }
    },
    {
      "cell_type": "code",
      "source": [
        "df_under['IMC_acima_25'] = df_under['imc'].apply(lambda x: 1 if x > 25 else 0)"
      ],
      "metadata": {
        "id": "c8zjbsZfvDSn"
      },
      "execution_count": 48,
      "outputs": []
    },
    {
      "cell_type": "code",
      "source": [
        "# Tabela de contingência entre IMC > 30 e Diabetes\n",
        "tabela = pd.crosstab(df_under['IMC_acima_25'], df_under['diabete'])\n",
        "\n",
        "# Teste Qui-quadrado\n",
        "chi2, p, dof, expected = chi2_contingency(tabela)\n",
        "\n",
        "print(f\"Estatística Qui-Quadrado: {chi2}, p-valor: {p}\")\n",
        "\n",
        "if p < 0.05:\n",
        "    print(\"Existe associação significativa entre IMC > 25 e diabetes.\")\n",
        "else:\n",
        "    print(\"Não há associação significativa entre IMC > 25 e diabetes.\")\n"
      ],
      "metadata": {
        "id": "mQel2aLLvDcv",
        "colab": {
          "base_uri": "https://localhost:8080/"
        },
        "outputId": "4174ac8b-f49a-46d9-a7c3-463463572331"
      },
      "execution_count": 49,
      "outputs": [
        {
          "output_type": "stream",
          "name": "stdout",
          "text": [
            "Estatística Qui-Quadrado: 1342.9776021732005, p-valor: 5.1725169550073556e-294\n",
            "Existe associação significativa entre IMC > 25 e diabetes.\n"
          ]
        }
      ]
    },
    {
      "cell_type": "markdown",
      "source": [
        "O teste confirma o esperado, a ligação entre IMC acima de 30 e diabetes"
      ],
      "metadata": {
        "id": "o-GAkTrJ2gr-"
      }
    },
    {
      "cell_type": "markdown",
      "source": [
        "### Tratando os dados para o modelo"
      ],
      "metadata": {
        "id": "Rzw2220P2GCv"
      }
    },
    {
      "cell_type": "code",
      "source": [
        "df_under.head()"
      ],
      "metadata": {
        "id": "vGgFvE574U1W",
        "colab": {
          "base_uri": "https://localhost:8080/",
          "height": 206
        },
        "outputId": "0f4fdcbf-e8f4-4e0c-f759-0ff6d9a202f1"
      },
      "execution_count": 50,
      "outputs": [
        {
          "output_type": "execute_result",
          "data": {
            "text/plain": [
              "       genero  idade  hipertenso  problema_coracao  fumante    imc  \\\n",
              "62494       0   50.0           0                 0    never  28.15   \n",
              "4090        1    8.0           0                 0  No Info  27.32   \n",
              "17652       1   59.0           1                 0   former  43.95   \n",
              "959         1   49.0           0                 0  No Info  28.60   \n",
              "53522       0   51.0           0                 0     ever  37.45   \n",
              "\n",
              "       nivel_hemoglobinaA1c  nivel_glicose_sangue  diabete  A1c_acima_6  \\\n",
              "62494                   5.7                   155        0            0   \n",
              "4090                    4.8                   145        0            0   \n",
              "17652                   6.6                    80        0            1   \n",
              "959                     4.5                   130        0            0   \n",
              "53522                   6.2                   160        0            1   \n",
              "\n",
              "       glicose_acima_101  hiper  coracao  IMC_acima_25  \n",
              "62494                  1      0        0             1  \n",
              "4090                   1      0        0             1  \n",
              "17652                  0      1        0             1  \n",
              "959                    1      0        0             1  \n",
              "53522                  1      0        0             1  "
            ],
            "text/html": [
              "\n",
              "  <div id=\"df-0e479817-0a96-4e30-9eb6-751455a6d8c6\" class=\"colab-df-container\">\n",
              "    <div>\n",
              "<style scoped>\n",
              "    .dataframe tbody tr th:only-of-type {\n",
              "        vertical-align: middle;\n",
              "    }\n",
              "\n",
              "    .dataframe tbody tr th {\n",
              "        vertical-align: top;\n",
              "    }\n",
              "\n",
              "    .dataframe thead th {\n",
              "        text-align: right;\n",
              "    }\n",
              "</style>\n",
              "<table border=\"1\" class=\"dataframe\">\n",
              "  <thead>\n",
              "    <tr style=\"text-align: right;\">\n",
              "      <th></th>\n",
              "      <th>genero</th>\n",
              "      <th>idade</th>\n",
              "      <th>hipertenso</th>\n",
              "      <th>problema_coracao</th>\n",
              "      <th>fumante</th>\n",
              "      <th>imc</th>\n",
              "      <th>nivel_hemoglobinaA1c</th>\n",
              "      <th>nivel_glicose_sangue</th>\n",
              "      <th>diabete</th>\n",
              "      <th>A1c_acima_6</th>\n",
              "      <th>glicose_acima_101</th>\n",
              "      <th>hiper</th>\n",
              "      <th>coracao</th>\n",
              "      <th>IMC_acima_25</th>\n",
              "    </tr>\n",
              "  </thead>\n",
              "  <tbody>\n",
              "    <tr>\n",
              "      <th>62494</th>\n",
              "      <td>0</td>\n",
              "      <td>50.0</td>\n",
              "      <td>0</td>\n",
              "      <td>0</td>\n",
              "      <td>never</td>\n",
              "      <td>28.15</td>\n",
              "      <td>5.7</td>\n",
              "      <td>155</td>\n",
              "      <td>0</td>\n",
              "      <td>0</td>\n",
              "      <td>1</td>\n",
              "      <td>0</td>\n",
              "      <td>0</td>\n",
              "      <td>1</td>\n",
              "    </tr>\n",
              "    <tr>\n",
              "      <th>4090</th>\n",
              "      <td>1</td>\n",
              "      <td>8.0</td>\n",
              "      <td>0</td>\n",
              "      <td>0</td>\n",
              "      <td>No Info</td>\n",
              "      <td>27.32</td>\n",
              "      <td>4.8</td>\n",
              "      <td>145</td>\n",
              "      <td>0</td>\n",
              "      <td>0</td>\n",
              "      <td>1</td>\n",
              "      <td>0</td>\n",
              "      <td>0</td>\n",
              "      <td>1</td>\n",
              "    </tr>\n",
              "    <tr>\n",
              "      <th>17652</th>\n",
              "      <td>1</td>\n",
              "      <td>59.0</td>\n",
              "      <td>1</td>\n",
              "      <td>0</td>\n",
              "      <td>former</td>\n",
              "      <td>43.95</td>\n",
              "      <td>6.6</td>\n",
              "      <td>80</td>\n",
              "      <td>0</td>\n",
              "      <td>1</td>\n",
              "      <td>0</td>\n",
              "      <td>1</td>\n",
              "      <td>0</td>\n",
              "      <td>1</td>\n",
              "    </tr>\n",
              "    <tr>\n",
              "      <th>959</th>\n",
              "      <td>1</td>\n",
              "      <td>49.0</td>\n",
              "      <td>0</td>\n",
              "      <td>0</td>\n",
              "      <td>No Info</td>\n",
              "      <td>28.60</td>\n",
              "      <td>4.5</td>\n",
              "      <td>130</td>\n",
              "      <td>0</td>\n",
              "      <td>0</td>\n",
              "      <td>1</td>\n",
              "      <td>0</td>\n",
              "      <td>0</td>\n",
              "      <td>1</td>\n",
              "    </tr>\n",
              "    <tr>\n",
              "      <th>53522</th>\n",
              "      <td>0</td>\n",
              "      <td>51.0</td>\n",
              "      <td>0</td>\n",
              "      <td>0</td>\n",
              "      <td>ever</td>\n",
              "      <td>37.45</td>\n",
              "      <td>6.2</td>\n",
              "      <td>160</td>\n",
              "      <td>0</td>\n",
              "      <td>1</td>\n",
              "      <td>1</td>\n",
              "      <td>0</td>\n",
              "      <td>0</td>\n",
              "      <td>1</td>\n",
              "    </tr>\n",
              "  </tbody>\n",
              "</table>\n",
              "</div>\n",
              "    <div class=\"colab-df-buttons\">\n",
              "\n",
              "  <div class=\"colab-df-container\">\n",
              "    <button class=\"colab-df-convert\" onclick=\"convertToInteractive('df-0e479817-0a96-4e30-9eb6-751455a6d8c6')\"\n",
              "            title=\"Convert this dataframe to an interactive table.\"\n",
              "            style=\"display:none;\">\n",
              "\n",
              "  <svg xmlns=\"http://www.w3.org/2000/svg\" height=\"24px\" viewBox=\"0 -960 960 960\">\n",
              "    <path d=\"M120-120v-720h720v720H120Zm60-500h600v-160H180v160Zm220 220h160v-160H400v160Zm0 220h160v-160H400v160ZM180-400h160v-160H180v160Zm440 0h160v-160H620v160ZM180-180h160v-160H180v160Zm440 0h160v-160H620v160Z\"/>\n",
              "  </svg>\n",
              "    </button>\n",
              "\n",
              "  <style>\n",
              "    .colab-df-container {\n",
              "      display:flex;\n",
              "      gap: 12px;\n",
              "    }\n",
              "\n",
              "    .colab-df-convert {\n",
              "      background-color: #E8F0FE;\n",
              "      border: none;\n",
              "      border-radius: 50%;\n",
              "      cursor: pointer;\n",
              "      display: none;\n",
              "      fill: #1967D2;\n",
              "      height: 32px;\n",
              "      padding: 0 0 0 0;\n",
              "      width: 32px;\n",
              "    }\n",
              "\n",
              "    .colab-df-convert:hover {\n",
              "      background-color: #E2EBFA;\n",
              "      box-shadow: 0px 1px 2px rgba(60, 64, 67, 0.3), 0px 1px 3px 1px rgba(60, 64, 67, 0.15);\n",
              "      fill: #174EA6;\n",
              "    }\n",
              "\n",
              "    .colab-df-buttons div {\n",
              "      margin-bottom: 4px;\n",
              "    }\n",
              "\n",
              "    [theme=dark] .colab-df-convert {\n",
              "      background-color: #3B4455;\n",
              "      fill: #D2E3FC;\n",
              "    }\n",
              "\n",
              "    [theme=dark] .colab-df-convert:hover {\n",
              "      background-color: #434B5C;\n",
              "      box-shadow: 0px 1px 3px 1px rgba(0, 0, 0, 0.15);\n",
              "      filter: drop-shadow(0px 1px 2px rgba(0, 0, 0, 0.3));\n",
              "      fill: #FFFFFF;\n",
              "    }\n",
              "  </style>\n",
              "\n",
              "    <script>\n",
              "      const buttonEl =\n",
              "        document.querySelector('#df-0e479817-0a96-4e30-9eb6-751455a6d8c6 button.colab-df-convert');\n",
              "      buttonEl.style.display =\n",
              "        google.colab.kernel.accessAllowed ? 'block' : 'none';\n",
              "\n",
              "      async function convertToInteractive(key) {\n",
              "        const element = document.querySelector('#df-0e479817-0a96-4e30-9eb6-751455a6d8c6');\n",
              "        const dataTable =\n",
              "          await google.colab.kernel.invokeFunction('convertToInteractive',\n",
              "                                                    [key], {});\n",
              "        if (!dataTable) return;\n",
              "\n",
              "        const docLinkHtml = 'Like what you see? Visit the ' +\n",
              "          '<a target=\"_blank\" href=https://colab.research.google.com/notebooks/data_table.ipynb>data table notebook</a>'\n",
              "          + ' to learn more about interactive tables.';\n",
              "        element.innerHTML = '';\n",
              "        dataTable['output_type'] = 'display_data';\n",
              "        await google.colab.output.renderOutput(dataTable, element);\n",
              "        const docLink = document.createElement('div');\n",
              "        docLink.innerHTML = docLinkHtml;\n",
              "        element.appendChild(docLink);\n",
              "      }\n",
              "    </script>\n",
              "  </div>\n",
              "\n",
              "\n",
              "<div id=\"df-c6e5e6cc-e511-4886-8fdb-25c834a1b7f1\">\n",
              "  <button class=\"colab-df-quickchart\" onclick=\"quickchart('df-c6e5e6cc-e511-4886-8fdb-25c834a1b7f1')\"\n",
              "            title=\"Suggest charts\"\n",
              "            style=\"display:none;\">\n",
              "\n",
              "<svg xmlns=\"http://www.w3.org/2000/svg\" height=\"24px\"viewBox=\"0 0 24 24\"\n",
              "     width=\"24px\">\n",
              "    <g>\n",
              "        <path d=\"M19 3H5c-1.1 0-2 .9-2 2v14c0 1.1.9 2 2 2h14c1.1 0 2-.9 2-2V5c0-1.1-.9-2-2-2zM9 17H7v-7h2v7zm4 0h-2V7h2v10zm4 0h-2v-4h2v4z\"/>\n",
              "    </g>\n",
              "</svg>\n",
              "  </button>\n",
              "\n",
              "<style>\n",
              "  .colab-df-quickchart {\n",
              "      --bg-color: #E8F0FE;\n",
              "      --fill-color: #1967D2;\n",
              "      --hover-bg-color: #E2EBFA;\n",
              "      --hover-fill-color: #174EA6;\n",
              "      --disabled-fill-color: #AAA;\n",
              "      --disabled-bg-color: #DDD;\n",
              "  }\n",
              "\n",
              "  [theme=dark] .colab-df-quickchart {\n",
              "      --bg-color: #3B4455;\n",
              "      --fill-color: #D2E3FC;\n",
              "      --hover-bg-color: #434B5C;\n",
              "      --hover-fill-color: #FFFFFF;\n",
              "      --disabled-bg-color: #3B4455;\n",
              "      --disabled-fill-color: #666;\n",
              "  }\n",
              "\n",
              "  .colab-df-quickchart {\n",
              "    background-color: var(--bg-color);\n",
              "    border: none;\n",
              "    border-radius: 50%;\n",
              "    cursor: pointer;\n",
              "    display: none;\n",
              "    fill: var(--fill-color);\n",
              "    height: 32px;\n",
              "    padding: 0;\n",
              "    width: 32px;\n",
              "  }\n",
              "\n",
              "  .colab-df-quickchart:hover {\n",
              "    background-color: var(--hover-bg-color);\n",
              "    box-shadow: 0 1px 2px rgba(60, 64, 67, 0.3), 0 1px 3px 1px rgba(60, 64, 67, 0.15);\n",
              "    fill: var(--button-hover-fill-color);\n",
              "  }\n",
              "\n",
              "  .colab-df-quickchart-complete:disabled,\n",
              "  .colab-df-quickchart-complete:disabled:hover {\n",
              "    background-color: var(--disabled-bg-color);\n",
              "    fill: var(--disabled-fill-color);\n",
              "    box-shadow: none;\n",
              "  }\n",
              "\n",
              "  .colab-df-spinner {\n",
              "    border: 2px solid var(--fill-color);\n",
              "    border-color: transparent;\n",
              "    border-bottom-color: var(--fill-color);\n",
              "    animation:\n",
              "      spin 1s steps(1) infinite;\n",
              "  }\n",
              "\n",
              "  @keyframes spin {\n",
              "    0% {\n",
              "      border-color: transparent;\n",
              "      border-bottom-color: var(--fill-color);\n",
              "      border-left-color: var(--fill-color);\n",
              "    }\n",
              "    20% {\n",
              "      border-color: transparent;\n",
              "      border-left-color: var(--fill-color);\n",
              "      border-top-color: var(--fill-color);\n",
              "    }\n",
              "    30% {\n",
              "      border-color: transparent;\n",
              "      border-left-color: var(--fill-color);\n",
              "      border-top-color: var(--fill-color);\n",
              "      border-right-color: var(--fill-color);\n",
              "    }\n",
              "    40% {\n",
              "      border-color: transparent;\n",
              "      border-right-color: var(--fill-color);\n",
              "      border-top-color: var(--fill-color);\n",
              "    }\n",
              "    60% {\n",
              "      border-color: transparent;\n",
              "      border-right-color: var(--fill-color);\n",
              "    }\n",
              "    80% {\n",
              "      border-color: transparent;\n",
              "      border-right-color: var(--fill-color);\n",
              "      border-bottom-color: var(--fill-color);\n",
              "    }\n",
              "    90% {\n",
              "      border-color: transparent;\n",
              "      border-bottom-color: var(--fill-color);\n",
              "    }\n",
              "  }\n",
              "</style>\n",
              "\n",
              "  <script>\n",
              "    async function quickchart(key) {\n",
              "      const quickchartButtonEl =\n",
              "        document.querySelector('#' + key + ' button');\n",
              "      quickchartButtonEl.disabled = true;  // To prevent multiple clicks.\n",
              "      quickchartButtonEl.classList.add('colab-df-spinner');\n",
              "      try {\n",
              "        const charts = await google.colab.kernel.invokeFunction(\n",
              "            'suggestCharts', [key], {});\n",
              "      } catch (error) {\n",
              "        console.error('Error during call to suggestCharts:', error);\n",
              "      }\n",
              "      quickchartButtonEl.classList.remove('colab-df-spinner');\n",
              "      quickchartButtonEl.classList.add('colab-df-quickchart-complete');\n",
              "    }\n",
              "    (() => {\n",
              "      let quickchartButtonEl =\n",
              "        document.querySelector('#df-c6e5e6cc-e511-4886-8fdb-25c834a1b7f1 button');\n",
              "      quickchartButtonEl.style.display =\n",
              "        google.colab.kernel.accessAllowed ? 'block' : 'none';\n",
              "    })();\n",
              "  </script>\n",
              "</div>\n",
              "\n",
              "    </div>\n",
              "  </div>\n"
            ],
            "application/vnd.google.colaboratory.intrinsic+json": {
              "type": "dataframe",
              "variable_name": "df_under",
              "summary": "{\n  \"name\": \"df_under\",\n  \"rows\": 16964,\n  \"fields\": [\n    {\n      \"column\": \"genero\",\n      \"properties\": {\n        \"dtype\": \"number\",\n        \"std\": 0,\n        \"min\": 0,\n        \"max\": 1,\n        \"num_unique_values\": 2,\n        \"samples\": [\n          1,\n          0\n        ],\n        \"semantic_type\": \"\",\n        \"description\": \"\"\n      }\n    },\n    {\n      \"column\": \"idade\",\n      \"properties\": {\n        \"dtype\": \"number\",\n        \"std\": 21.62643640412092,\n        \"min\": 0.08,\n        \"max\": 80.0,\n        \"num_unique_values\": 102,\n        \"samples\": [\n          62.0,\n          75.0\n        ],\n        \"semantic_type\": \"\",\n        \"description\": \"\"\n      }\n    },\n    {\n      \"column\": \"hipertenso\",\n      \"properties\": {\n        \"dtype\": \"number\",\n        \"std\": 0,\n        \"min\": 0,\n        \"max\": 1,\n        \"num_unique_values\": 2,\n        \"samples\": [\n          1,\n          0\n        ],\n        \"semantic_type\": \"\",\n        \"description\": \"\"\n      }\n    },\n    {\n      \"column\": \"problema_coracao\",\n      \"properties\": {\n        \"dtype\": \"number\",\n        \"std\": 0,\n        \"min\": 0,\n        \"max\": 1,\n        \"num_unique_values\": 2,\n        \"samples\": [\n          1,\n          0\n        ],\n        \"semantic_type\": \"\",\n        \"description\": \"\"\n      }\n    },\n    {\n      \"column\": \"fumante\",\n      \"properties\": {\n        \"dtype\": \"category\",\n        \"num_unique_values\": 6,\n        \"samples\": [\n          \"never\",\n          \"No Info\"\n        ],\n        \"semantic_type\": \"\",\n        \"description\": \"\"\n      }\n    },\n    {\n      \"column\": \"imc\",\n      \"properties\": {\n        \"dtype\": \"number\",\n        \"std\": 7.478652347693073,\n        \"min\": 10.77,\n        \"max\": 88.72,\n        \"num_unique_values\": 3363,\n        \"samples\": [\n          17.96,\n          45.32\n        ],\n        \"semantic_type\": \"\",\n        \"description\": \"\"\n      }\n    },\n    {\n      \"column\": \"nivel_hemoglobinaA1c\",\n      \"properties\": {\n        \"dtype\": \"number\",\n        \"std\": 1.2844764332341194,\n        \"min\": 3.5,\n        \"max\": 9.0,\n        \"num_unique_values\": 18,\n        \"samples\": [\n          5.7,\n          4.8\n        ],\n        \"semantic_type\": \"\",\n        \"description\": \"\"\n      }\n    },\n    {\n      \"column\": \"nivel_glicose_sangue\",\n      \"properties\": {\n        \"dtype\": \"number\",\n        \"std\": 56,\n        \"min\": 80,\n        \"max\": 300,\n        \"num_unique_values\": 18,\n        \"samples\": [\n          155,\n          145\n        ],\n        \"semantic_type\": \"\",\n        \"description\": \"\"\n      }\n    },\n    {\n      \"column\": \"diabete\",\n      \"properties\": {\n        \"dtype\": \"number\",\n        \"std\": 0,\n        \"min\": 0,\n        \"max\": 1,\n        \"num_unique_values\": 2,\n        \"samples\": [\n          1,\n          0\n        ],\n        \"semantic_type\": \"\",\n        \"description\": \"\"\n      }\n    },\n    {\n      \"column\": \"A1c_acima_6\",\n      \"properties\": {\n        \"dtype\": \"number\",\n        \"std\": 0,\n        \"min\": 0,\n        \"max\": 1,\n        \"num_unique_values\": 2,\n        \"samples\": [\n          1,\n          0\n        ],\n        \"semantic_type\": \"\",\n        \"description\": \"\"\n      }\n    },\n    {\n      \"column\": \"glicose_acima_101\",\n      \"properties\": {\n        \"dtype\": \"number\",\n        \"std\": 0,\n        \"min\": 0,\n        \"max\": 1,\n        \"num_unique_values\": 2,\n        \"samples\": [\n          0,\n          1\n        ],\n        \"semantic_type\": \"\",\n        \"description\": \"\"\n      }\n    },\n    {\n      \"column\": \"hiper\",\n      \"properties\": {\n        \"dtype\": \"number\",\n        \"std\": 0,\n        \"min\": 0,\n        \"max\": 1,\n        \"num_unique_values\": 2,\n        \"samples\": [\n          1,\n          0\n        ],\n        \"semantic_type\": \"\",\n        \"description\": \"\"\n      }\n    },\n    {\n      \"column\": \"coracao\",\n      \"properties\": {\n        \"dtype\": \"number\",\n        \"std\": 0,\n        \"min\": 0,\n        \"max\": 1,\n        \"num_unique_values\": 2,\n        \"samples\": [\n          1,\n          0\n        ],\n        \"semantic_type\": \"\",\n        \"description\": \"\"\n      }\n    },\n    {\n      \"column\": \"IMC_acima_25\",\n      \"properties\": {\n        \"dtype\": \"number\",\n        \"std\": 0,\n        \"min\": 0,\n        \"max\": 1,\n        \"num_unique_values\": 2,\n        \"samples\": [\n          0,\n          1\n        ],\n        \"semantic_type\": \"\",\n        \"description\": \"\"\n      }\n    }\n  ]\n}"
            }
          },
          "metadata": {},
          "execution_count": 50
        }
      ]
    },
    {
      "cell_type": "code",
      "source": [
        "df_under.drop(['A1c_acima_6', 'glicose_acima_101', 'hiper', 'hipertenso', 'coracao','IMC_acima_25'], axis=1,inplace=True)"
      ],
      "metadata": {
        "id": "zmAOQHhA4X0P"
      },
      "execution_count": 51,
      "outputs": []
    },
    {
      "cell_type": "code",
      "source": [
        "df_modelos = pd.get_dummies(df_under, columns=['fumante'])\n",
        "df_modelos.fumante_current = df_modelos.fumante_current.astype(int)\n",
        "df_modelos.fumante_ever = df_modelos.fumante_ever.astype(int)\n",
        "df_modelos.fumante_former = df_modelos.fumante_former.astype(int)\n",
        "df_modelos.fumante_never = df_modelos.fumante_never.astype(int)\n",
        "df_modelos['fumante_not current'] = df_modelos['fumante_not current'].astype(int)\n",
        "df_modelos['fumante_No Info'] = df_modelos['fumante_No Info'].astype(int)\n",
        "df_modelos.head(1)"
      ],
      "metadata": {
        "id": "p8t5kimF5fKm",
        "colab": {
          "base_uri": "https://localhost:8080/",
          "height": 81
        },
        "outputId": "09480824-4660-4283-a689-0a038f242cf8"
      },
      "execution_count": 52,
      "outputs": [
        {
          "output_type": "execute_result",
          "data": {
            "text/plain": [
              "       genero  idade  problema_coracao    imc  nivel_hemoglobinaA1c  \\\n",
              "62494       0   50.0                 0  28.15                   5.7   \n",
              "\n",
              "       nivel_glicose_sangue  diabete  fumante_No Info  fumante_current  \\\n",
              "62494                   155        0                0                0   \n",
              "\n",
              "       fumante_ever  fumante_former  fumante_never  fumante_not current  \n",
              "62494             0               0              1                    0  "
            ],
            "text/html": [
              "\n",
              "  <div id=\"df-15b675d6-8b34-4acc-85fd-509dea4f653e\" class=\"colab-df-container\">\n",
              "    <div>\n",
              "<style scoped>\n",
              "    .dataframe tbody tr th:only-of-type {\n",
              "        vertical-align: middle;\n",
              "    }\n",
              "\n",
              "    .dataframe tbody tr th {\n",
              "        vertical-align: top;\n",
              "    }\n",
              "\n",
              "    .dataframe thead th {\n",
              "        text-align: right;\n",
              "    }\n",
              "</style>\n",
              "<table border=\"1\" class=\"dataframe\">\n",
              "  <thead>\n",
              "    <tr style=\"text-align: right;\">\n",
              "      <th></th>\n",
              "      <th>genero</th>\n",
              "      <th>idade</th>\n",
              "      <th>problema_coracao</th>\n",
              "      <th>imc</th>\n",
              "      <th>nivel_hemoglobinaA1c</th>\n",
              "      <th>nivel_glicose_sangue</th>\n",
              "      <th>diabete</th>\n",
              "      <th>fumante_No Info</th>\n",
              "      <th>fumante_current</th>\n",
              "      <th>fumante_ever</th>\n",
              "      <th>fumante_former</th>\n",
              "      <th>fumante_never</th>\n",
              "      <th>fumante_not current</th>\n",
              "    </tr>\n",
              "  </thead>\n",
              "  <tbody>\n",
              "    <tr>\n",
              "      <th>62494</th>\n",
              "      <td>0</td>\n",
              "      <td>50.0</td>\n",
              "      <td>0</td>\n",
              "      <td>28.15</td>\n",
              "      <td>5.7</td>\n",
              "      <td>155</td>\n",
              "      <td>0</td>\n",
              "      <td>0</td>\n",
              "      <td>0</td>\n",
              "      <td>0</td>\n",
              "      <td>0</td>\n",
              "      <td>1</td>\n",
              "      <td>0</td>\n",
              "    </tr>\n",
              "  </tbody>\n",
              "</table>\n",
              "</div>\n",
              "    <div class=\"colab-df-buttons\">\n",
              "\n",
              "  <div class=\"colab-df-container\">\n",
              "    <button class=\"colab-df-convert\" onclick=\"convertToInteractive('df-15b675d6-8b34-4acc-85fd-509dea4f653e')\"\n",
              "            title=\"Convert this dataframe to an interactive table.\"\n",
              "            style=\"display:none;\">\n",
              "\n",
              "  <svg xmlns=\"http://www.w3.org/2000/svg\" height=\"24px\" viewBox=\"0 -960 960 960\">\n",
              "    <path d=\"M120-120v-720h720v720H120Zm60-500h600v-160H180v160Zm220 220h160v-160H400v160Zm0 220h160v-160H400v160ZM180-400h160v-160H180v160Zm440 0h160v-160H620v160ZM180-180h160v-160H180v160Zm440 0h160v-160H620v160Z\"/>\n",
              "  </svg>\n",
              "    </button>\n",
              "\n",
              "  <style>\n",
              "    .colab-df-container {\n",
              "      display:flex;\n",
              "      gap: 12px;\n",
              "    }\n",
              "\n",
              "    .colab-df-convert {\n",
              "      background-color: #E8F0FE;\n",
              "      border: none;\n",
              "      border-radius: 50%;\n",
              "      cursor: pointer;\n",
              "      display: none;\n",
              "      fill: #1967D2;\n",
              "      height: 32px;\n",
              "      padding: 0 0 0 0;\n",
              "      width: 32px;\n",
              "    }\n",
              "\n",
              "    .colab-df-convert:hover {\n",
              "      background-color: #E2EBFA;\n",
              "      box-shadow: 0px 1px 2px rgba(60, 64, 67, 0.3), 0px 1px 3px 1px rgba(60, 64, 67, 0.15);\n",
              "      fill: #174EA6;\n",
              "    }\n",
              "\n",
              "    .colab-df-buttons div {\n",
              "      margin-bottom: 4px;\n",
              "    }\n",
              "\n",
              "    [theme=dark] .colab-df-convert {\n",
              "      background-color: #3B4455;\n",
              "      fill: #D2E3FC;\n",
              "    }\n",
              "\n",
              "    [theme=dark] .colab-df-convert:hover {\n",
              "      background-color: #434B5C;\n",
              "      box-shadow: 0px 1px 3px 1px rgba(0, 0, 0, 0.15);\n",
              "      filter: drop-shadow(0px 1px 2px rgba(0, 0, 0, 0.3));\n",
              "      fill: #FFFFFF;\n",
              "    }\n",
              "  </style>\n",
              "\n",
              "    <script>\n",
              "      const buttonEl =\n",
              "        document.querySelector('#df-15b675d6-8b34-4acc-85fd-509dea4f653e button.colab-df-convert');\n",
              "      buttonEl.style.display =\n",
              "        google.colab.kernel.accessAllowed ? 'block' : 'none';\n",
              "\n",
              "      async function convertToInteractive(key) {\n",
              "        const element = document.querySelector('#df-15b675d6-8b34-4acc-85fd-509dea4f653e');\n",
              "        const dataTable =\n",
              "          await google.colab.kernel.invokeFunction('convertToInteractive',\n",
              "                                                    [key], {});\n",
              "        if (!dataTable) return;\n",
              "\n",
              "        const docLinkHtml = 'Like what you see? Visit the ' +\n",
              "          '<a target=\"_blank\" href=https://colab.research.google.com/notebooks/data_table.ipynb>data table notebook</a>'\n",
              "          + ' to learn more about interactive tables.';\n",
              "        element.innerHTML = '';\n",
              "        dataTable['output_type'] = 'display_data';\n",
              "        await google.colab.output.renderOutput(dataTable, element);\n",
              "        const docLink = document.createElement('div');\n",
              "        docLink.innerHTML = docLinkHtml;\n",
              "        element.appendChild(docLink);\n",
              "      }\n",
              "    </script>\n",
              "  </div>\n",
              "\n",
              "\n",
              "    </div>\n",
              "  </div>\n"
            ],
            "application/vnd.google.colaboratory.intrinsic+json": {
              "type": "dataframe",
              "variable_name": "df_modelos",
              "summary": "{\n  \"name\": \"df_modelos\",\n  \"rows\": 16964,\n  \"fields\": [\n    {\n      \"column\": \"genero\",\n      \"properties\": {\n        \"dtype\": \"number\",\n        \"std\": 0,\n        \"min\": 0,\n        \"max\": 1,\n        \"num_unique_values\": 2,\n        \"samples\": [\n          1,\n          0\n        ],\n        \"semantic_type\": \"\",\n        \"description\": \"\"\n      }\n    },\n    {\n      \"column\": \"idade\",\n      \"properties\": {\n        \"dtype\": \"number\",\n        \"std\": 21.62643640412092,\n        \"min\": 0.08,\n        \"max\": 80.0,\n        \"num_unique_values\": 102,\n        \"samples\": [\n          62.0,\n          75.0\n        ],\n        \"semantic_type\": \"\",\n        \"description\": \"\"\n      }\n    },\n    {\n      \"column\": \"problema_coracao\",\n      \"properties\": {\n        \"dtype\": \"number\",\n        \"std\": 0,\n        \"min\": 0,\n        \"max\": 1,\n        \"num_unique_values\": 2,\n        \"samples\": [\n          1,\n          0\n        ],\n        \"semantic_type\": \"\",\n        \"description\": \"\"\n      }\n    },\n    {\n      \"column\": \"imc\",\n      \"properties\": {\n        \"dtype\": \"number\",\n        \"std\": 7.478652347693073,\n        \"min\": 10.77,\n        \"max\": 88.72,\n        \"num_unique_values\": 3363,\n        \"samples\": [\n          17.96,\n          45.32\n        ],\n        \"semantic_type\": \"\",\n        \"description\": \"\"\n      }\n    },\n    {\n      \"column\": \"nivel_hemoglobinaA1c\",\n      \"properties\": {\n        \"dtype\": \"number\",\n        \"std\": 1.2844764332341194,\n        \"min\": 3.5,\n        \"max\": 9.0,\n        \"num_unique_values\": 18,\n        \"samples\": [\n          5.7,\n          4.8\n        ],\n        \"semantic_type\": \"\",\n        \"description\": \"\"\n      }\n    },\n    {\n      \"column\": \"nivel_glicose_sangue\",\n      \"properties\": {\n        \"dtype\": \"number\",\n        \"std\": 56,\n        \"min\": 80,\n        \"max\": 300,\n        \"num_unique_values\": 18,\n        \"samples\": [\n          155,\n          145\n        ],\n        \"semantic_type\": \"\",\n        \"description\": \"\"\n      }\n    },\n    {\n      \"column\": \"diabete\",\n      \"properties\": {\n        \"dtype\": \"number\",\n        \"std\": 0,\n        \"min\": 0,\n        \"max\": 1,\n        \"num_unique_values\": 2,\n        \"samples\": [\n          1,\n          0\n        ],\n        \"semantic_type\": \"\",\n        \"description\": \"\"\n      }\n    },\n    {\n      \"column\": \"fumante_No Info\",\n      \"properties\": {\n        \"dtype\": \"number\",\n        \"std\": 0,\n        \"min\": 0,\n        \"max\": 1,\n        \"num_unique_values\": 2,\n        \"samples\": [\n          1,\n          0\n        ],\n        \"semantic_type\": \"\",\n        \"description\": \"\"\n      }\n    },\n    {\n      \"column\": \"fumante_current\",\n      \"properties\": {\n        \"dtype\": \"number\",\n        \"std\": 0,\n        \"min\": 0,\n        \"max\": 1,\n        \"num_unique_values\": 2,\n        \"samples\": [\n          1,\n          0\n        ],\n        \"semantic_type\": \"\",\n        \"description\": \"\"\n      }\n    },\n    {\n      \"column\": \"fumante_ever\",\n      \"properties\": {\n        \"dtype\": \"number\",\n        \"std\": 0,\n        \"min\": 0,\n        \"max\": 1,\n        \"num_unique_values\": 2,\n        \"samples\": [\n          1,\n          0\n        ],\n        \"semantic_type\": \"\",\n        \"description\": \"\"\n      }\n    },\n    {\n      \"column\": \"fumante_former\",\n      \"properties\": {\n        \"dtype\": \"number\",\n        \"std\": 0,\n        \"min\": 0,\n        \"max\": 1,\n        \"num_unique_values\": 2,\n        \"samples\": [\n          1,\n          0\n        ],\n        \"semantic_type\": \"\",\n        \"description\": \"\"\n      }\n    },\n    {\n      \"column\": \"fumante_never\",\n      \"properties\": {\n        \"dtype\": \"number\",\n        \"std\": 0,\n        \"min\": 0,\n        \"max\": 1,\n        \"num_unique_values\": 2,\n        \"samples\": [\n          0,\n          1\n        ],\n        \"semantic_type\": \"\",\n        \"description\": \"\"\n      }\n    },\n    {\n      \"column\": \"fumante_not current\",\n      \"properties\": {\n        \"dtype\": \"number\",\n        \"std\": 0,\n        \"min\": 0,\n        \"max\": 1,\n        \"num_unique_values\": 2,\n        \"samples\": [\n          1,\n          0\n        ],\n        \"semantic_type\": \"\",\n        \"description\": \"\"\n      }\n    }\n  ]\n}"
            }
          },
          "metadata": {},
          "execution_count": 52
        }
      ]
    },
    {
      "cell_type": "markdown",
      "source": [
        "### Criando e testando o modelo ideal com Pycaret"
      ],
      "metadata": {
        "id": "9YL4CJhm6VU-"
      }
    },
    {
      "cell_type": "code",
      "source": [
        "df_py = df_modelos.sample(frac=0.95, random_state=0)\n",
        "df_teste = df_modelos.drop(df_py.index)\n",
        "df_py.reset_index(drop=True, inplace=True)\n",
        "df_teste.reset_index(drop=True, inplace=True)"
      ],
      "metadata": {
        "id": "kfE8hCfq92L9"
      },
      "execution_count": 53,
      "outputs": []
    },
    {
      "cell_type": "code",
      "source": [
        "from pycaret.classification import *"
      ],
      "metadata": {
        "id": "vUgeNbpF-Yp8"
      },
      "execution_count": 55,
      "outputs": []
    },
    {
      "cell_type": "code",
      "source": [
        "setup(data=df_py, target='diabete', session_id=0)"
      ],
      "metadata": {
        "id": "iEZHYY7RASME",
        "colab": {
          "base_uri": "https://localhost:8080/",
          "height": 663
        },
        "outputId": "98eed5b8-ebe0-4d32-dd74-4bb91fc90eb2"
      },
      "execution_count": 56,
      "outputs": [
        {
          "output_type": "display_data",
          "data": {
            "text/plain": [
              "<pandas.io.formats.style.Styler at 0x7e4c326c7d00>"
            ],
            "text/html": [
              "<style type=\"text/css\">\n",
              "#T_74520_row8_col1 {\n",
              "  background-color: lightgreen;\n",
              "}\n",
              "</style>\n",
              "<table id=\"T_74520\" class=\"dataframe\">\n",
              "  <thead>\n",
              "    <tr>\n",
              "      <th class=\"blank level0\" >&nbsp;</th>\n",
              "      <th id=\"T_74520_level0_col0\" class=\"col_heading level0 col0\" >Description</th>\n",
              "      <th id=\"T_74520_level0_col1\" class=\"col_heading level0 col1\" >Value</th>\n",
              "    </tr>\n",
              "  </thead>\n",
              "  <tbody>\n",
              "    <tr>\n",
              "      <th id=\"T_74520_level0_row0\" class=\"row_heading level0 row0\" >0</th>\n",
              "      <td id=\"T_74520_row0_col0\" class=\"data row0 col0\" >Session id</td>\n",
              "      <td id=\"T_74520_row0_col1\" class=\"data row0 col1\" >0</td>\n",
              "    </tr>\n",
              "    <tr>\n",
              "      <th id=\"T_74520_level0_row1\" class=\"row_heading level0 row1\" >1</th>\n",
              "      <td id=\"T_74520_row1_col0\" class=\"data row1 col0\" >Target</td>\n",
              "      <td id=\"T_74520_row1_col1\" class=\"data row1 col1\" >diabete</td>\n",
              "    </tr>\n",
              "    <tr>\n",
              "      <th id=\"T_74520_level0_row2\" class=\"row_heading level0 row2\" >2</th>\n",
              "      <td id=\"T_74520_row2_col0\" class=\"data row2 col0\" >Target type</td>\n",
              "      <td id=\"T_74520_row2_col1\" class=\"data row2 col1\" >Binary</td>\n",
              "    </tr>\n",
              "    <tr>\n",
              "      <th id=\"T_74520_level0_row3\" class=\"row_heading level0 row3\" >3</th>\n",
              "      <td id=\"T_74520_row3_col0\" class=\"data row3 col0\" >Original data shape</td>\n",
              "      <td id=\"T_74520_row3_col1\" class=\"data row3 col1\" >(16116, 13)</td>\n",
              "    </tr>\n",
              "    <tr>\n",
              "      <th id=\"T_74520_level0_row4\" class=\"row_heading level0 row4\" >4</th>\n",
              "      <td id=\"T_74520_row4_col0\" class=\"data row4 col0\" >Transformed data shape</td>\n",
              "      <td id=\"T_74520_row4_col1\" class=\"data row4 col1\" >(16116, 13)</td>\n",
              "    </tr>\n",
              "    <tr>\n",
              "      <th id=\"T_74520_level0_row5\" class=\"row_heading level0 row5\" >5</th>\n",
              "      <td id=\"T_74520_row5_col0\" class=\"data row5 col0\" >Transformed train set shape</td>\n",
              "      <td id=\"T_74520_row5_col1\" class=\"data row5 col1\" >(11281, 13)</td>\n",
              "    </tr>\n",
              "    <tr>\n",
              "      <th id=\"T_74520_level0_row6\" class=\"row_heading level0 row6\" >6</th>\n",
              "      <td id=\"T_74520_row6_col0\" class=\"data row6 col0\" >Transformed test set shape</td>\n",
              "      <td id=\"T_74520_row6_col1\" class=\"data row6 col1\" >(4835, 13)</td>\n",
              "    </tr>\n",
              "    <tr>\n",
              "      <th id=\"T_74520_level0_row7\" class=\"row_heading level0 row7\" >7</th>\n",
              "      <td id=\"T_74520_row7_col0\" class=\"data row7 col0\" >Numeric features</td>\n",
              "      <td id=\"T_74520_row7_col1\" class=\"data row7 col1\" >12</td>\n",
              "    </tr>\n",
              "    <tr>\n",
              "      <th id=\"T_74520_level0_row8\" class=\"row_heading level0 row8\" >8</th>\n",
              "      <td id=\"T_74520_row8_col0\" class=\"data row8 col0\" >Preprocess</td>\n",
              "      <td id=\"T_74520_row8_col1\" class=\"data row8 col1\" >True</td>\n",
              "    </tr>\n",
              "    <tr>\n",
              "      <th id=\"T_74520_level0_row9\" class=\"row_heading level0 row9\" >9</th>\n",
              "      <td id=\"T_74520_row9_col0\" class=\"data row9 col0\" >Imputation type</td>\n",
              "      <td id=\"T_74520_row9_col1\" class=\"data row9 col1\" >simple</td>\n",
              "    </tr>\n",
              "    <tr>\n",
              "      <th id=\"T_74520_level0_row10\" class=\"row_heading level0 row10\" >10</th>\n",
              "      <td id=\"T_74520_row10_col0\" class=\"data row10 col0\" >Numeric imputation</td>\n",
              "      <td id=\"T_74520_row10_col1\" class=\"data row10 col1\" >mean</td>\n",
              "    </tr>\n",
              "    <tr>\n",
              "      <th id=\"T_74520_level0_row11\" class=\"row_heading level0 row11\" >11</th>\n",
              "      <td id=\"T_74520_row11_col0\" class=\"data row11 col0\" >Categorical imputation</td>\n",
              "      <td id=\"T_74520_row11_col1\" class=\"data row11 col1\" >mode</td>\n",
              "    </tr>\n",
              "    <tr>\n",
              "      <th id=\"T_74520_level0_row12\" class=\"row_heading level0 row12\" >12</th>\n",
              "      <td id=\"T_74520_row12_col0\" class=\"data row12 col0\" >Fold Generator</td>\n",
              "      <td id=\"T_74520_row12_col1\" class=\"data row12 col1\" >StratifiedKFold</td>\n",
              "    </tr>\n",
              "    <tr>\n",
              "      <th id=\"T_74520_level0_row13\" class=\"row_heading level0 row13\" >13</th>\n",
              "      <td id=\"T_74520_row13_col0\" class=\"data row13 col0\" >Fold Number</td>\n",
              "      <td id=\"T_74520_row13_col1\" class=\"data row13 col1\" >10</td>\n",
              "    </tr>\n",
              "    <tr>\n",
              "      <th id=\"T_74520_level0_row14\" class=\"row_heading level0 row14\" >14</th>\n",
              "      <td id=\"T_74520_row14_col0\" class=\"data row14 col0\" >CPU Jobs</td>\n",
              "      <td id=\"T_74520_row14_col1\" class=\"data row14 col1\" >-1</td>\n",
              "    </tr>\n",
              "    <tr>\n",
              "      <th id=\"T_74520_level0_row15\" class=\"row_heading level0 row15\" >15</th>\n",
              "      <td id=\"T_74520_row15_col0\" class=\"data row15 col0\" >Use GPU</td>\n",
              "      <td id=\"T_74520_row15_col1\" class=\"data row15 col1\" >False</td>\n",
              "    </tr>\n",
              "    <tr>\n",
              "      <th id=\"T_74520_level0_row16\" class=\"row_heading level0 row16\" >16</th>\n",
              "      <td id=\"T_74520_row16_col0\" class=\"data row16 col0\" >Log Experiment</td>\n",
              "      <td id=\"T_74520_row16_col1\" class=\"data row16 col1\" >False</td>\n",
              "    </tr>\n",
              "    <tr>\n",
              "      <th id=\"T_74520_level0_row17\" class=\"row_heading level0 row17\" >17</th>\n",
              "      <td id=\"T_74520_row17_col0\" class=\"data row17 col0\" >Experiment Name</td>\n",
              "      <td id=\"T_74520_row17_col1\" class=\"data row17 col1\" >clf-default-name</td>\n",
              "    </tr>\n",
              "    <tr>\n",
              "      <th id=\"T_74520_level0_row18\" class=\"row_heading level0 row18\" >18</th>\n",
              "      <td id=\"T_74520_row18_col0\" class=\"data row18 col0\" >USI</td>\n",
              "      <td id=\"T_74520_row18_col1\" class=\"data row18 col1\" >e378</td>\n",
              "    </tr>\n",
              "  </tbody>\n",
              "</table>\n"
            ]
          },
          "metadata": {}
        },
        {
          "output_type": "execute_result",
          "data": {
            "text/plain": [
              "<pycaret.classification.oop.ClassificationExperiment at 0x7e4c462b3af0>"
            ]
          },
          "metadata": {},
          "execution_count": 56
        }
      ]
    },
    {
      "cell_type": "code",
      "source": [
        "best_model = compare_models(fold=10)"
      ],
      "metadata": {
        "id": "bdzhkuUYiHW_",
        "colab": {
          "base_uri": "https://localhost:8080/",
          "height": 551,
          "referenced_widgets": [
            "85b4b3eb7e8c4ce9b33b95cee2d0f71e",
            "e0d6707891654616a4329ad1ae75d582",
            "98e5cb175f294ab9a562d61103fca426",
            "869e45bd46634b2fa2610ed918bd81ff",
            "caf4e4481d0e45d7b2119a3419c57cb1",
            "ad22cb62e84347baa154af5acfd13773",
            "2b1cf9aa25d54646a4073ead6ed29cc7",
            "d61b5ffbd6e34148a183c4b6791d6eb7",
            "2cf8ae3f58934562a20a01839866c7f1",
            "9047c74a00214300a8abaaf8d3f3d8c8",
            "d9cdbcccf099407b9c96981b1a01e71c"
          ]
        },
        "outputId": "7caa61fd-61b0-4874-e51c-421ad22eeb04"
      },
      "execution_count": 57,
      "outputs": [
        {
          "output_type": "display_data",
          "data": {
            "text/plain": [
              "<IPython.core.display.HTML object>"
            ],
            "text/html": []
          },
          "metadata": {}
        },
        {
          "output_type": "display_data",
          "data": {
            "text/plain": [
              "<pandas.io.formats.style.Styler at 0x7e4c325682b0>"
            ],
            "text/html": [
              "<style type=\"text/css\">\n",
              "#T_1ae55 th {\n",
              "  text-align: left;\n",
              "}\n",
              "#T_1ae55_row0_col0, #T_1ae55_row0_col3, #T_1ae55_row0_col4, #T_1ae55_row1_col0, #T_1ae55_row1_col1, #T_1ae55_row1_col2, #T_1ae55_row1_col3, #T_1ae55_row1_col5, #T_1ae55_row1_col6, #T_1ae55_row1_col7, #T_1ae55_row2_col0, #T_1ae55_row2_col1, #T_1ae55_row2_col2, #T_1ae55_row2_col3, #T_1ae55_row2_col4, #T_1ae55_row2_col5, #T_1ae55_row2_col6, #T_1ae55_row2_col7, #T_1ae55_row3_col0, #T_1ae55_row3_col1, #T_1ae55_row3_col2, #T_1ae55_row3_col3, #T_1ae55_row3_col4, #T_1ae55_row3_col5, #T_1ae55_row3_col6, #T_1ae55_row3_col7, #T_1ae55_row4_col0, #T_1ae55_row4_col1, #T_1ae55_row4_col2, #T_1ae55_row4_col3, #T_1ae55_row4_col4, #T_1ae55_row4_col5, #T_1ae55_row4_col6, #T_1ae55_row4_col7, #T_1ae55_row5_col0, #T_1ae55_row5_col1, #T_1ae55_row5_col2, #T_1ae55_row5_col3, #T_1ae55_row5_col4, #T_1ae55_row5_col5, #T_1ae55_row5_col6, #T_1ae55_row5_col7, #T_1ae55_row6_col0, #T_1ae55_row6_col1, #T_1ae55_row6_col2, #T_1ae55_row6_col3, #T_1ae55_row6_col4, #T_1ae55_row6_col5, #T_1ae55_row6_col6, #T_1ae55_row6_col7, #T_1ae55_row7_col0, #T_1ae55_row7_col1, #T_1ae55_row7_col2, #T_1ae55_row7_col3, #T_1ae55_row7_col4, #T_1ae55_row7_col5, #T_1ae55_row7_col6, #T_1ae55_row7_col7, #T_1ae55_row8_col0, #T_1ae55_row8_col1, #T_1ae55_row8_col2, #T_1ae55_row8_col3, #T_1ae55_row8_col4, #T_1ae55_row8_col5, #T_1ae55_row8_col6, #T_1ae55_row8_col7, #T_1ae55_row9_col0, #T_1ae55_row9_col1, #T_1ae55_row9_col2, #T_1ae55_row9_col3, #T_1ae55_row9_col4, #T_1ae55_row9_col5, #T_1ae55_row9_col6, #T_1ae55_row9_col7, #T_1ae55_row10_col0, #T_1ae55_row10_col1, #T_1ae55_row10_col2, #T_1ae55_row10_col3, #T_1ae55_row10_col4, #T_1ae55_row10_col5, #T_1ae55_row10_col6, #T_1ae55_row10_col7, #T_1ae55_row11_col0, #T_1ae55_row11_col1, #T_1ae55_row11_col2, #T_1ae55_row11_col3, #T_1ae55_row11_col4, #T_1ae55_row11_col5, #T_1ae55_row11_col6, #T_1ae55_row11_col7, #T_1ae55_row12_col0, #T_1ae55_row12_col1, #T_1ae55_row12_col2, #T_1ae55_row12_col3, #T_1ae55_row12_col4, #T_1ae55_row12_col5, #T_1ae55_row12_col6, #T_1ae55_row12_col7, #T_1ae55_row13_col0, #T_1ae55_row13_col1, #T_1ae55_row13_col2, #T_1ae55_row13_col3, #T_1ae55_row13_col4, #T_1ae55_row13_col5, #T_1ae55_row13_col6, #T_1ae55_row13_col7, #T_1ae55_row14_col0, #T_1ae55_row14_col1, #T_1ae55_row14_col2, #T_1ae55_row14_col3, #T_1ae55_row14_col4, #T_1ae55_row14_col5, #T_1ae55_row14_col6, #T_1ae55_row14_col7, #T_1ae55_row15_col0, #T_1ae55_row15_col1, #T_1ae55_row15_col2, #T_1ae55_row15_col4, #T_1ae55_row15_col5, #T_1ae55_row15_col6, #T_1ae55_row15_col7 {\n",
              "  text-align: left;\n",
              "}\n",
              "#T_1ae55_row0_col1, #T_1ae55_row0_col2, #T_1ae55_row0_col5, #T_1ae55_row0_col6, #T_1ae55_row0_col7, #T_1ae55_row1_col4, #T_1ae55_row15_col3 {\n",
              "  text-align: left;\n",
              "  background-color: yellow;\n",
              "}\n",
              "#T_1ae55_row0_col8, #T_1ae55_row1_col8, #T_1ae55_row2_col8, #T_1ae55_row3_col8, #T_1ae55_row4_col8, #T_1ae55_row5_col8, #T_1ae55_row6_col8, #T_1ae55_row7_col8, #T_1ae55_row8_col8, #T_1ae55_row10_col8, #T_1ae55_row11_col8, #T_1ae55_row12_col8, #T_1ae55_row13_col8, #T_1ae55_row14_col8, #T_1ae55_row15_col8 {\n",
              "  text-align: left;\n",
              "  background-color: lightgrey;\n",
              "}\n",
              "#T_1ae55_row9_col8 {\n",
              "  text-align: left;\n",
              "  background-color: yellow;\n",
              "  background-color: lightgrey;\n",
              "}\n",
              "</style>\n",
              "<table id=\"T_1ae55\" class=\"dataframe\">\n",
              "  <thead>\n",
              "    <tr>\n",
              "      <th class=\"blank level0\" >&nbsp;</th>\n",
              "      <th id=\"T_1ae55_level0_col0\" class=\"col_heading level0 col0\" >Model</th>\n",
              "      <th id=\"T_1ae55_level0_col1\" class=\"col_heading level0 col1\" >Accuracy</th>\n",
              "      <th id=\"T_1ae55_level0_col2\" class=\"col_heading level0 col2\" >AUC</th>\n",
              "      <th id=\"T_1ae55_level0_col3\" class=\"col_heading level0 col3\" >Recall</th>\n",
              "      <th id=\"T_1ae55_level0_col4\" class=\"col_heading level0 col4\" >Prec.</th>\n",
              "      <th id=\"T_1ae55_level0_col5\" class=\"col_heading level0 col5\" >F1</th>\n",
              "      <th id=\"T_1ae55_level0_col6\" class=\"col_heading level0 col6\" >Kappa</th>\n",
              "      <th id=\"T_1ae55_level0_col7\" class=\"col_heading level0 col7\" >MCC</th>\n",
              "      <th id=\"T_1ae55_level0_col8\" class=\"col_heading level0 col8\" >TT (Sec)</th>\n",
              "    </tr>\n",
              "  </thead>\n",
              "  <tbody>\n",
              "    <tr>\n",
              "      <th id=\"T_1ae55_level0_row0\" class=\"row_heading level0 row0\" >gbc</th>\n",
              "      <td id=\"T_1ae55_row0_col0\" class=\"data row0 col0\" >Gradient Boosting Classifier</td>\n",
              "      <td id=\"T_1ae55_row0_col1\" class=\"data row0 col1\" >0.9098</td>\n",
              "      <td id=\"T_1ae55_row0_col2\" class=\"data row0 col2\" >0.9779</td>\n",
              "      <td id=\"T_1ae55_row0_col3\" class=\"data row0 col3\" >0.9249</td>\n",
              "      <td id=\"T_1ae55_row0_col4\" class=\"data row0 col4\" >0.8980</td>\n",
              "      <td id=\"T_1ae55_row0_col5\" class=\"data row0 col5\" >0.9112</td>\n",
              "      <td id=\"T_1ae55_row0_col6\" class=\"data row0 col6\" >0.8195</td>\n",
              "      <td id=\"T_1ae55_row0_col7\" class=\"data row0 col7\" >0.8200</td>\n",
              "      <td id=\"T_1ae55_row0_col8\" class=\"data row0 col8\" >1.1570</td>\n",
              "    </tr>\n",
              "    <tr>\n",
              "      <th id=\"T_1ae55_level0_row1\" class=\"row_heading level0 row1\" >ada</th>\n",
              "      <td id=\"T_1ae55_row1_col0\" class=\"data row1 col0\" >Ada Boost Classifier</td>\n",
              "      <td id=\"T_1ae55_row1_col1\" class=\"data row1 col1\" >0.9079</td>\n",
              "      <td id=\"T_1ae55_row1_col2\" class=\"data row1 col2\" >0.9776</td>\n",
              "      <td id=\"T_1ae55_row1_col3\" class=\"data row1 col3\" >0.9189</td>\n",
              "      <td id=\"T_1ae55_row1_col4\" class=\"data row1 col4\" >0.8994</td>\n",
              "      <td id=\"T_1ae55_row1_col5\" class=\"data row1 col5\" >0.9090</td>\n",
              "      <td id=\"T_1ae55_row1_col6\" class=\"data row1 col6\" >0.8158</td>\n",
              "      <td id=\"T_1ae55_row1_col7\" class=\"data row1 col7\" >0.8161</td>\n",
              "      <td id=\"T_1ae55_row1_col8\" class=\"data row1 col8\" >0.3440</td>\n",
              "    </tr>\n",
              "    <tr>\n",
              "      <th id=\"T_1ae55_level0_row2\" class=\"row_heading level0 row2\" >lightgbm</th>\n",
              "      <td id=\"T_1ae55_row2_col0\" class=\"data row2 col0\" >Light Gradient Boosting Machine</td>\n",
              "      <td id=\"T_1ae55_row2_col1\" class=\"data row2 col1\" >0.9072</td>\n",
              "      <td id=\"T_1ae55_row2_col2\" class=\"data row2 col2\" >0.9763</td>\n",
              "      <td id=\"T_1ae55_row2_col3\" class=\"data row2 col3\" >0.9192</td>\n",
              "      <td id=\"T_1ae55_row2_col4\" class=\"data row2 col4\" >0.8979</td>\n",
              "      <td id=\"T_1ae55_row2_col5\" class=\"data row2 col5\" >0.9084</td>\n",
              "      <td id=\"T_1ae55_row2_col6\" class=\"data row2 col6\" >0.8144</td>\n",
              "      <td id=\"T_1ae55_row2_col7\" class=\"data row2 col7\" >0.8147</td>\n",
              "      <td id=\"T_1ae55_row2_col8\" class=\"data row2 col8\" >0.4960</td>\n",
              "    </tr>\n",
              "    <tr>\n",
              "      <th id=\"T_1ae55_level0_row3\" class=\"row_heading level0 row3\" >catboost</th>\n",
              "      <td id=\"T_1ae55_row3_col0\" class=\"data row3 col0\" >CatBoost Classifier</td>\n",
              "      <td id=\"T_1ae55_row3_col1\" class=\"data row3 col1\" >0.9047</td>\n",
              "      <td id=\"T_1ae55_row3_col2\" class=\"data row3 col2\" >0.9762</td>\n",
              "      <td id=\"T_1ae55_row3_col3\" class=\"data row3 col3\" >0.9171</td>\n",
              "      <td id=\"T_1ae55_row3_col4\" class=\"data row3 col4\" >0.8953</td>\n",
              "      <td id=\"T_1ae55_row3_col5\" class=\"data row3 col5\" >0.9060</td>\n",
              "      <td id=\"T_1ae55_row3_col6\" class=\"data row3 col6\" >0.8094</td>\n",
              "      <td id=\"T_1ae55_row3_col7\" class=\"data row3 col7\" >0.8098</td>\n",
              "      <td id=\"T_1ae55_row3_col8\" class=\"data row3 col8\" >7.6570</td>\n",
              "    </tr>\n",
              "    <tr>\n",
              "      <th id=\"T_1ae55_level0_row4\" class=\"row_heading level0 row4\" >xgboost</th>\n",
              "      <td id=\"T_1ae55_row4_col0\" class=\"data row4 col0\" >Extreme Gradient Boosting</td>\n",
              "      <td id=\"T_1ae55_row4_col1\" class=\"data row4 col1\" >0.9012</td>\n",
              "      <td id=\"T_1ae55_row4_col2\" class=\"data row4 col2\" >0.9741</td>\n",
              "      <td id=\"T_1ae55_row4_col3\" class=\"data row4 col3\" >0.9106</td>\n",
              "      <td id=\"T_1ae55_row4_col4\" class=\"data row4 col4\" >0.8942</td>\n",
              "      <td id=\"T_1ae55_row4_col5\" class=\"data row4 col5\" >0.9022</td>\n",
              "      <td id=\"T_1ae55_row4_col6\" class=\"data row4 col6\" >0.8025</td>\n",
              "      <td id=\"T_1ae55_row4_col7\" class=\"data row4 col7\" >0.8028</td>\n",
              "      <td id=\"T_1ae55_row4_col8\" class=\"data row4 col8\" >0.1690</td>\n",
              "    </tr>\n",
              "    <tr>\n",
              "      <th id=\"T_1ae55_level0_row5\" class=\"row_heading level0 row5\" >rf</th>\n",
              "      <td id=\"T_1ae55_row5_col0\" class=\"data row5 col0\" >Random Forest Classifier</td>\n",
              "      <td id=\"T_1ae55_row5_col1\" class=\"data row5 col1\" >0.8966</td>\n",
              "      <td id=\"T_1ae55_row5_col2\" class=\"data row5 col2\" >0.9711</td>\n",
              "      <td id=\"T_1ae55_row5_col3\" class=\"data row5 col3\" >0.9012</td>\n",
              "      <td id=\"T_1ae55_row5_col4\" class=\"data row5 col4\" >0.8933</td>\n",
              "      <td id=\"T_1ae55_row5_col5\" class=\"data row5 col5\" >0.8971</td>\n",
              "      <td id=\"T_1ae55_row5_col6\" class=\"data row5 col6\" >0.7931</td>\n",
              "      <td id=\"T_1ae55_row5_col7\" class=\"data row5 col7\" >0.7933</td>\n",
              "      <td id=\"T_1ae55_row5_col8\" class=\"data row5 col8\" >1.0840</td>\n",
              "    </tr>\n",
              "    <tr>\n",
              "      <th id=\"T_1ae55_level0_row6\" class=\"row_heading level0 row6\" >et</th>\n",
              "      <td id=\"T_1ae55_row6_col0\" class=\"data row6 col0\" >Extra Trees Classifier</td>\n",
              "      <td id=\"T_1ae55_row6_col1\" class=\"data row6 col1\" >0.8907</td>\n",
              "      <td id=\"T_1ae55_row6_col2\" class=\"data row6 col2\" >0.9622</td>\n",
              "      <td id=\"T_1ae55_row6_col3\" class=\"data row6 col3\" >0.8974</td>\n",
              "      <td id=\"T_1ae55_row6_col4\" class=\"data row6 col4\" >0.8859</td>\n",
              "      <td id=\"T_1ae55_row6_col5\" class=\"data row6 col5\" >0.8915</td>\n",
              "      <td id=\"T_1ae55_row6_col6\" class=\"data row6 col6\" >0.7814</td>\n",
              "      <td id=\"T_1ae55_row6_col7\" class=\"data row6 col7\" >0.7816</td>\n",
              "      <td id=\"T_1ae55_row6_col8\" class=\"data row6 col8\" >0.9920</td>\n",
              "    </tr>\n",
              "    <tr>\n",
              "      <th id=\"T_1ae55_level0_row7\" class=\"row_heading level0 row7\" >lr</th>\n",
              "      <td id=\"T_1ae55_row7_col0\" class=\"data row7 col0\" >Logistic Regression</td>\n",
              "      <td id=\"T_1ae55_row7_col1\" class=\"data row7 col1\" >0.8812</td>\n",
              "      <td id=\"T_1ae55_row7_col2\" class=\"data row7 col2\" >0.9608</td>\n",
              "      <td id=\"T_1ae55_row7_col3\" class=\"data row7 col3\" >0.8796</td>\n",
              "      <td id=\"T_1ae55_row7_col4\" class=\"data row7 col4\" >0.8830</td>\n",
              "      <td id=\"T_1ae55_row7_col5\" class=\"data row7 col5\" >0.8811</td>\n",
              "      <td id=\"T_1ae55_row7_col6\" class=\"data row7 col6\" >0.7624</td>\n",
              "      <td id=\"T_1ae55_row7_col7\" class=\"data row7 col7\" >0.7627</td>\n",
              "      <td id=\"T_1ae55_row7_col8\" class=\"data row7 col8\" >1.4950</td>\n",
              "    </tr>\n",
              "    <tr>\n",
              "      <th id=\"T_1ae55_level0_row8\" class=\"row_heading level0 row8\" >lda</th>\n",
              "      <td id=\"T_1ae55_row8_col0\" class=\"data row8 col0\" >Linear Discriminant Analysis</td>\n",
              "      <td id=\"T_1ae55_row8_col1\" class=\"data row8 col1\" >0.8811</td>\n",
              "      <td id=\"T_1ae55_row8_col2\" class=\"data row8 col2\" >0.9598</td>\n",
              "      <td id=\"T_1ae55_row8_col3\" class=\"data row8 col3\" >0.8746</td>\n",
              "      <td id=\"T_1ae55_row8_col4\" class=\"data row8 col4\" >0.8866</td>\n",
              "      <td id=\"T_1ae55_row8_col5\" class=\"data row8 col5\" >0.8804</td>\n",
              "      <td id=\"T_1ae55_row8_col6\" class=\"data row8 col6\" >0.7623</td>\n",
              "      <td id=\"T_1ae55_row8_col7\" class=\"data row8 col7\" >0.7625</td>\n",
              "      <td id=\"T_1ae55_row8_col8\" class=\"data row8 col8\" >0.0570</td>\n",
              "    </tr>\n",
              "    <tr>\n",
              "      <th id=\"T_1ae55_level0_row9\" class=\"row_heading level0 row9\" >ridge</th>\n",
              "      <td id=\"T_1ae55_row9_col0\" class=\"data row9 col0\" >Ridge Classifier</td>\n",
              "      <td id=\"T_1ae55_row9_col1\" class=\"data row9 col1\" >0.8810</td>\n",
              "      <td id=\"T_1ae55_row9_col2\" class=\"data row9 col2\" >0.9598</td>\n",
              "      <td id=\"T_1ae55_row9_col3\" class=\"data row9 col3\" >0.8746</td>\n",
              "      <td id=\"T_1ae55_row9_col4\" class=\"data row9 col4\" >0.8864</td>\n",
              "      <td id=\"T_1ae55_row9_col5\" class=\"data row9 col5\" >0.8803</td>\n",
              "      <td id=\"T_1ae55_row9_col6\" class=\"data row9 col6\" >0.7621</td>\n",
              "      <td id=\"T_1ae55_row9_col7\" class=\"data row9 col7\" >0.7623</td>\n",
              "      <td id=\"T_1ae55_row9_col8\" class=\"data row9 col8\" >0.0420</td>\n",
              "    </tr>\n",
              "    <tr>\n",
              "      <th id=\"T_1ae55_level0_row10\" class=\"row_heading level0 row10\" >dt</th>\n",
              "      <td id=\"T_1ae55_row10_col0\" class=\"data row10 col0\" >Decision Tree Classifier</td>\n",
              "      <td id=\"T_1ae55_row10_col1\" class=\"data row10 col1\" >0.8695</td>\n",
              "      <td id=\"T_1ae55_row10_col2\" class=\"data row10 col2\" >0.8696</td>\n",
              "      <td id=\"T_1ae55_row10_col3\" class=\"data row10 col3\" >0.8673</td>\n",
              "      <td id=\"T_1ae55_row10_col4\" class=\"data row10 col4\" >0.8716</td>\n",
              "      <td id=\"T_1ae55_row10_col5\" class=\"data row10 col5\" >0.8694</td>\n",
              "      <td id=\"T_1ae55_row10_col6\" class=\"data row10 col6\" >0.7390</td>\n",
              "      <td id=\"T_1ae55_row10_col7\" class=\"data row10 col7\" >0.7392</td>\n",
              "      <td id=\"T_1ae55_row10_col8\" class=\"data row10 col8\" >0.0630</td>\n",
              "    </tr>\n",
              "    <tr>\n",
              "      <th id=\"T_1ae55_level0_row11\" class=\"row_heading level0 row11\" >knn</th>\n",
              "      <td id=\"T_1ae55_row11_col0\" class=\"data row11 col0\" >K Neighbors Classifier</td>\n",
              "      <td id=\"T_1ae55_row11_col1\" class=\"data row11 col1\" >0.8591</td>\n",
              "      <td id=\"T_1ae55_row11_col2\" class=\"data row11 col2\" >0.9301</td>\n",
              "      <td id=\"T_1ae55_row11_col3\" class=\"data row11 col3\" >0.8680</td>\n",
              "      <td id=\"T_1ae55_row11_col4\" class=\"data row11 col4\" >0.8533</td>\n",
              "      <td id=\"T_1ae55_row11_col5\" class=\"data row11 col5\" >0.8605</td>\n",
              "      <td id=\"T_1ae55_row11_col6\" class=\"data row11 col6\" >0.7183</td>\n",
              "      <td id=\"T_1ae55_row11_col7\" class=\"data row11 col7\" >0.7186</td>\n",
              "      <td id=\"T_1ae55_row11_col8\" class=\"data row11 col8\" >0.1420</td>\n",
              "    </tr>\n",
              "    <tr>\n",
              "      <th id=\"T_1ae55_level0_row12\" class=\"row_heading level0 row12\" >svm</th>\n",
              "      <td id=\"T_1ae55_row12_col0\" class=\"data row12 col0\" >SVM - Linear Kernel</td>\n",
              "      <td id=\"T_1ae55_row12_col1\" class=\"data row12 col1\" >0.8559</td>\n",
              "      <td id=\"T_1ae55_row12_col2\" class=\"data row12 col2\" >0.9594</td>\n",
              "      <td id=\"T_1ae55_row12_col3\" class=\"data row12 col3\" >0.8499</td>\n",
              "      <td id=\"T_1ae55_row12_col4\" class=\"data row12 col4\" >0.8755</td>\n",
              "      <td id=\"T_1ae55_row12_col5\" class=\"data row12 col5\" >0.8519</td>\n",
              "      <td id=\"T_1ae55_row12_col6\" class=\"data row12 col6\" >0.7117</td>\n",
              "      <td id=\"T_1ae55_row12_col7\" class=\"data row12 col7\" >0.7277</td>\n",
              "      <td id=\"T_1ae55_row12_col8\" class=\"data row12 col8\" >0.1270</td>\n",
              "    </tr>\n",
              "    <tr>\n",
              "      <th id=\"T_1ae55_level0_row13\" class=\"row_heading level0 row13\" >nb</th>\n",
              "      <td id=\"T_1ae55_row13_col0\" class=\"data row13 col0\" >Naive Bayes</td>\n",
              "      <td id=\"T_1ae55_row13_col1\" class=\"data row13 col1\" >0.8348</td>\n",
              "      <td id=\"T_1ae55_row13_col2\" class=\"data row13 col2\" >0.9170</td>\n",
              "      <td id=\"T_1ae55_row13_col3\" class=\"data row13 col3\" >0.7961</td>\n",
              "      <td id=\"T_1ae55_row13_col4\" class=\"data row13 col4\" >0.8632</td>\n",
              "      <td id=\"T_1ae55_row13_col5\" class=\"data row13 col5\" >0.8281</td>\n",
              "      <td id=\"T_1ae55_row13_col6\" class=\"data row13 col6\" >0.6696</td>\n",
              "      <td id=\"T_1ae55_row13_col7\" class=\"data row13 col7\" >0.6718</td>\n",
              "      <td id=\"T_1ae55_row13_col8\" class=\"data row13 col8\" >0.0490</td>\n",
              "    </tr>\n",
              "    <tr>\n",
              "      <th id=\"T_1ae55_level0_row14\" class=\"row_heading level0 row14\" >qda</th>\n",
              "      <td id=\"T_1ae55_row14_col0\" class=\"data row14 col0\" >Quadratic Discriminant Analysis</td>\n",
              "      <td id=\"T_1ae55_row14_col1\" class=\"data row14 col1\" >0.7296</td>\n",
              "      <td id=\"T_1ae55_row14_col2\" class=\"data row14 col2\" >0.8119</td>\n",
              "      <td id=\"T_1ae55_row14_col3\" class=\"data row14 col3\" >0.7963</td>\n",
              "      <td id=\"T_1ae55_row14_col4\" class=\"data row14 col4\" >0.7293</td>\n",
              "      <td id=\"T_1ae55_row14_col5\" class=\"data row14 col5\" >0.7508</td>\n",
              "      <td id=\"T_1ae55_row14_col6\" class=\"data row14 col6\" >0.4591</td>\n",
              "      <td id=\"T_1ae55_row14_col7\" class=\"data row14 col7\" >0.4745</td>\n",
              "      <td id=\"T_1ae55_row14_col8\" class=\"data row14 col8\" >0.0480</td>\n",
              "    </tr>\n",
              "    <tr>\n",
              "      <th id=\"T_1ae55_level0_row15\" class=\"row_heading level0 row15\" >dummy</th>\n",
              "      <td id=\"T_1ae55_row15_col0\" class=\"data row15 col0\" >Dummy Classifier</td>\n",
              "      <td id=\"T_1ae55_row15_col1\" class=\"data row15 col1\" >0.5005</td>\n",
              "      <td id=\"T_1ae55_row15_col2\" class=\"data row15 col2\" >0.5000</td>\n",
              "      <td id=\"T_1ae55_row15_col3\" class=\"data row15 col3\" >1.0000</td>\n",
              "      <td id=\"T_1ae55_row15_col4\" class=\"data row15 col4\" >0.5005</td>\n",
              "      <td id=\"T_1ae55_row15_col5\" class=\"data row15 col5\" >0.6671</td>\n",
              "      <td id=\"T_1ae55_row15_col6\" class=\"data row15 col6\" >0.0000</td>\n",
              "      <td id=\"T_1ae55_row15_col7\" class=\"data row15 col7\" >0.0000</td>\n",
              "      <td id=\"T_1ae55_row15_col8\" class=\"data row15 col8\" >0.0660</td>\n",
              "    </tr>\n",
              "  </tbody>\n",
              "</table>\n"
            ]
          },
          "metadata": {}
        },
        {
          "output_type": "display_data",
          "data": {
            "text/plain": [
              "Processing:   0%|          | 0/69 [00:00<?, ?it/s]"
            ],
            "application/vnd.jupyter.widget-view+json": {
              "version_major": 2,
              "version_minor": 0,
              "model_id": "85b4b3eb7e8c4ce9b33b95cee2d0f71e"
            }
          },
          "metadata": {
            "application/vnd.jupyter.widget-view+json": {
              "colab": {
                "custom_widget_manager": {
                  "url": "https://ssl.gstatic.com/colaboratory-static/widgets/colab-cdn-widget-manager/2b70e893a8ba7c0f/manager.min.js"
                }
              }
            }
          }
        },
        {
          "output_type": "display_data",
          "data": {
            "text/plain": [
              "<IPython.core.display.HTML object>"
            ],
            "text/html": []
          },
          "metadata": {}
        }
      ]
    },
    {
      "cell_type": "code",
      "source": [
        "print(best_model)"
      ],
      "metadata": {
        "id": "Pmug8viHiUi3",
        "colab": {
          "base_uri": "https://localhost:8080/"
        },
        "outputId": "770fd2e8-fe87-4fca-9ffc-f721409cff53"
      },
      "execution_count": 58,
      "outputs": [
        {
          "output_type": "stream",
          "name": "stdout",
          "text": [
            "GradientBoostingClassifier(ccp_alpha=0.0, criterion='friedman_mse', init=None,\n",
            "                           learning_rate=0.1, loss='log_loss', max_depth=3,\n",
            "                           max_features=None, max_leaf_nodes=None,\n",
            "                           min_impurity_decrease=0.0, min_samples_leaf=1,\n",
            "                           min_samples_split=2, min_weight_fraction_leaf=0.0,\n",
            "                           n_estimators=100, n_iter_no_change=None,\n",
            "                           random_state=0, subsample=1.0, tol=0.0001,\n",
            "                           validation_fraction=0.1, verbose=0,\n",
            "                           warm_start=False)\n"
          ]
        }
      ]
    },
    {
      "cell_type": "code",
      "source": [
        "tuned_model = tune_model(best_model)"
      ],
      "metadata": {
        "id": "so7veo-yk2ww",
        "colab": {
          "base_uri": "https://localhost:8080/",
          "height": 492,
          "referenced_widgets": [
            "93f46ee31c764f299873f40580acab6e",
            "e021967343cf4af99000838af9351875",
            "4e74c712e54844ad9b6e950c91e96ed7",
            "b8d0ded29090419a93f7295c1543311d",
            "41d3eb25280e4a7ebfdb6c89bca6b603",
            "81b6bc4d01264923b99293d81ddb2c2b",
            "668efa376f70427fa19c51455233a47b",
            "c541ca3934e9437197ee9f95ad561ad3",
            "11948955c7684f7cb28cc26cd1e5c80d",
            "23339ebaa3814fcbae83ac8ba79f100c",
            "d5d8228ad4ff475d93116aae1774f530"
          ]
        },
        "outputId": "4ab67778-d47a-4466-fa2a-1e12f68c0427"
      },
      "execution_count": 78,
      "outputs": [
        {
          "output_type": "display_data",
          "data": {
            "text/plain": [
              "<IPython.core.display.HTML object>"
            ],
            "text/html": []
          },
          "metadata": {}
        },
        {
          "output_type": "display_data",
          "data": {
            "text/plain": [
              "<pandas.io.formats.style.Styler at 0x7e4c53538220>"
            ],
            "text/html": [
              "<style type=\"text/css\">\n",
              "#T_1b475_row10_col0, #T_1b475_row10_col1, #T_1b475_row10_col2, #T_1b475_row10_col3, #T_1b475_row10_col4, #T_1b475_row10_col5, #T_1b475_row10_col6 {\n",
              "  background: yellow;\n",
              "}\n",
              "</style>\n",
              "<table id=\"T_1b475\" class=\"dataframe\">\n",
              "  <thead>\n",
              "    <tr>\n",
              "      <th class=\"blank level0\" >&nbsp;</th>\n",
              "      <th id=\"T_1b475_level0_col0\" class=\"col_heading level0 col0\" >Accuracy</th>\n",
              "      <th id=\"T_1b475_level0_col1\" class=\"col_heading level0 col1\" >AUC</th>\n",
              "      <th id=\"T_1b475_level0_col2\" class=\"col_heading level0 col2\" >Recall</th>\n",
              "      <th id=\"T_1b475_level0_col3\" class=\"col_heading level0 col3\" >Prec.</th>\n",
              "      <th id=\"T_1b475_level0_col4\" class=\"col_heading level0 col4\" >F1</th>\n",
              "      <th id=\"T_1b475_level0_col5\" class=\"col_heading level0 col5\" >Kappa</th>\n",
              "      <th id=\"T_1b475_level0_col6\" class=\"col_heading level0 col6\" >MCC</th>\n",
              "    </tr>\n",
              "    <tr>\n",
              "      <th class=\"index_name level0\" >Fold</th>\n",
              "      <th class=\"blank col0\" >&nbsp;</th>\n",
              "      <th class=\"blank col1\" >&nbsp;</th>\n",
              "      <th class=\"blank col2\" >&nbsp;</th>\n",
              "      <th class=\"blank col3\" >&nbsp;</th>\n",
              "      <th class=\"blank col4\" >&nbsp;</th>\n",
              "      <th class=\"blank col5\" >&nbsp;</th>\n",
              "      <th class=\"blank col6\" >&nbsp;</th>\n",
              "    </tr>\n",
              "  </thead>\n",
              "  <tbody>\n",
              "    <tr>\n",
              "      <th id=\"T_1b475_level0_row0\" class=\"row_heading level0 row0\" >0</th>\n",
              "      <td id=\"T_1b475_row0_col0\" class=\"data row0 col0\" >0.9052</td>\n",
              "      <td id=\"T_1b475_row0_col1\" class=\"data row0 col1\" >0.9778</td>\n",
              "      <td id=\"T_1b475_row0_col2\" class=\"data row0 col2\" >0.9168</td>\n",
              "      <td id=\"T_1b475_row0_col3\" class=\"data row0 col3\" >0.8962</td>\n",
              "      <td id=\"T_1b475_row0_col4\" class=\"data row0 col4\" >0.9064</td>\n",
              "      <td id=\"T_1b475_row0_col5\" class=\"data row0 col5\" >0.8104</td>\n",
              "      <td id=\"T_1b475_row0_col6\" class=\"data row0 col6\" >0.8107</td>\n",
              "    </tr>\n",
              "    <tr>\n",
              "      <th id=\"T_1b475_level0_row1\" class=\"row_heading level0 row1\" >1</th>\n",
              "      <td id=\"T_1b475_row1_col0\" class=\"data row1 col0\" >0.9184</td>\n",
              "      <td id=\"T_1b475_row1_col1\" class=\"data row1 col1\" >0.9789</td>\n",
              "      <td id=\"T_1b475_row1_col2\" class=\"data row1 col2\" >0.9274</td>\n",
              "      <td id=\"T_1b475_row1_col3\" class=\"data row1 col3\" >0.9113</td>\n",
              "      <td id=\"T_1b475_row1_col4\" class=\"data row1 col4\" >0.9193</td>\n",
              "      <td id=\"T_1b475_row1_col5\" class=\"data row1 col5\" >0.8369</td>\n",
              "      <td id=\"T_1b475_row1_col6\" class=\"data row1 col6\" >0.8370</td>\n",
              "    </tr>\n",
              "    <tr>\n",
              "      <th id=\"T_1b475_level0_row2\" class=\"row_heading level0 row2\" >2</th>\n",
              "      <td id=\"T_1b475_row2_col0\" class=\"data row2 col0\" >0.9131</td>\n",
              "      <td id=\"T_1b475_row2_col1\" class=\"data row2 col1\" >0.9813</td>\n",
              "      <td id=\"T_1b475_row2_col2\" class=\"data row2 col2\" >0.9274</td>\n",
              "      <td id=\"T_1b475_row2_col3\" class=\"data row2 col3\" >0.9019</td>\n",
              "      <td id=\"T_1b475_row2_col4\" class=\"data row2 col4\" >0.9145</td>\n",
              "      <td id=\"T_1b475_row2_col5\" class=\"data row2 col5\" >0.8262</td>\n",
              "      <td id=\"T_1b475_row2_col6\" class=\"data row2 col6\" >0.8266</td>\n",
              "    </tr>\n",
              "    <tr>\n",
              "      <th id=\"T_1b475_level0_row3\" class=\"row_heading level0 row3\" >3</th>\n",
              "      <td id=\"T_1b475_row3_col0\" class=\"data row3 col0\" >0.9087</td>\n",
              "      <td id=\"T_1b475_row3_col1\" class=\"data row3 col1\" >0.9764</td>\n",
              "      <td id=\"T_1b475_row3_col2\" class=\"data row3 col2\" >0.9097</td>\n",
              "      <td id=\"T_1b475_row3_col3\" class=\"data row3 col3\" >0.9081</td>\n",
              "      <td id=\"T_1b475_row3_col4\" class=\"data row3 col4\" >0.9089</td>\n",
              "      <td id=\"T_1b475_row3_col5\" class=\"data row3 col5\" >0.8174</td>\n",
              "      <td id=\"T_1b475_row3_col6\" class=\"data row3 col6\" >0.8174</td>\n",
              "    </tr>\n",
              "    <tr>\n",
              "      <th id=\"T_1b475_level0_row4\" class=\"row_heading level0 row4\" >4</th>\n",
              "      <td id=\"T_1b475_row4_col0\" class=\"data row4 col0\" >0.8954</td>\n",
              "      <td id=\"T_1b475_row4_col1\" class=\"data row4 col1\" >0.9751</td>\n",
              "      <td id=\"T_1b475_row4_col2\" class=\"data row4 col2\" >0.9168</td>\n",
              "      <td id=\"T_1b475_row4_col3\" class=\"data row4 col3\" >0.8795</td>\n",
              "      <td id=\"T_1b475_row4_col4\" class=\"data row4 col4\" >0.8977</td>\n",
              "      <td id=\"T_1b475_row4_col5\" class=\"data row4 col5\" >0.7908</td>\n",
              "      <td id=\"T_1b475_row4_col6\" class=\"data row4 col6\" >0.7915</td>\n",
              "    </tr>\n",
              "    <tr>\n",
              "      <th id=\"T_1b475_level0_row5\" class=\"row_heading level0 row5\" >5</th>\n",
              "      <td id=\"T_1b475_row5_col0\" class=\"data row5 col0\" >0.9113</td>\n",
              "      <td id=\"T_1b475_row5_col1\" class=\"data row5 col1\" >0.9759</td>\n",
              "      <td id=\"T_1b475_row5_col2\" class=\"data row5 col2\" >0.9044</td>\n",
              "      <td id=\"T_1b475_row5_col3\" class=\"data row5 col3\" >0.9174</td>\n",
              "      <td id=\"T_1b475_row5_col4\" class=\"data row5 col4\" >0.9109</td>\n",
              "      <td id=\"T_1b475_row5_col5\" class=\"data row5 col5\" >0.8227</td>\n",
              "      <td id=\"T_1b475_row5_col6\" class=\"data row5 col6\" >0.8228</td>\n",
              "    </tr>\n",
              "    <tr>\n",
              "      <th id=\"T_1b475_level0_row6\" class=\"row_heading level0 row6\" >6</th>\n",
              "      <td id=\"T_1b475_row6_col0\" class=\"data row6 col0\" >0.8980</td>\n",
              "      <td id=\"T_1b475_row6_col1\" class=\"data row6 col1\" >0.9739</td>\n",
              "      <td id=\"T_1b475_row6_col2\" class=\"data row6 col2\" >0.9043</td>\n",
              "      <td id=\"T_1b475_row6_col3\" class=\"data row6 col3\" >0.8932</td>\n",
              "      <td id=\"T_1b475_row6_col4\" class=\"data row6 col4\" >0.8987</td>\n",
              "      <td id=\"T_1b475_row6_col5\" class=\"data row6 col5\" >0.7961</td>\n",
              "      <td id=\"T_1b475_row6_col6\" class=\"data row6 col6\" >0.7962</td>\n",
              "    </tr>\n",
              "    <tr>\n",
              "      <th id=\"T_1b475_level0_row7\" class=\"row_heading level0 row7\" >7</th>\n",
              "      <td id=\"T_1b475_row7_col0\" class=\"data row7 col0\" >0.8918</td>\n",
              "      <td id=\"T_1b475_row7_col1\" class=\"data row7 col1\" >0.9694</td>\n",
              "      <td id=\"T_1b475_row7_col2\" class=\"data row7 col2\" >0.9255</td>\n",
              "      <td id=\"T_1b475_row7_col3\" class=\"data row7 col3\" >0.8671</td>\n",
              "      <td id=\"T_1b475_row7_col4\" class=\"data row7 col4\" >0.8954</td>\n",
              "      <td id=\"T_1b475_row7_col5\" class=\"data row7 col5\" >0.7837</td>\n",
              "      <td id=\"T_1b475_row7_col6\" class=\"data row7 col6\" >0.7855</td>\n",
              "    </tr>\n",
              "    <tr>\n",
              "      <th id=\"T_1b475_level0_row8\" class=\"row_heading level0 row8\" >8</th>\n",
              "      <td id=\"T_1b475_row8_col0\" class=\"data row8 col0\" >0.8936</td>\n",
              "      <td id=\"T_1b475_row8_col1\" class=\"data row8 col1\" >0.9721</td>\n",
              "      <td id=\"T_1b475_row8_col2\" class=\"data row8 col2\" >0.8972</td>\n",
              "      <td id=\"T_1b475_row8_col3\" class=\"data row8 col3\" >0.8908</td>\n",
              "      <td id=\"T_1b475_row8_col4\" class=\"data row8 col4\" >0.8940</td>\n",
              "      <td id=\"T_1b475_row8_col5\" class=\"data row8 col5\" >0.7872</td>\n",
              "      <td id=\"T_1b475_row8_col6\" class=\"data row8 col6\" >0.7873</td>\n",
              "    </tr>\n",
              "    <tr>\n",
              "      <th id=\"T_1b475_level0_row9\" class=\"row_heading level0 row9\" >9</th>\n",
              "      <td id=\"T_1b475_row9_col0\" class=\"data row9 col0\" >0.9087</td>\n",
              "      <td id=\"T_1b475_row9_col1\" class=\"data row9 col1\" >0.9796</td>\n",
              "      <td id=\"T_1b475_row9_col2\" class=\"data row9 col2\" >0.9096</td>\n",
              "      <td id=\"T_1b475_row9_col3\" class=\"data row9 col3\" >0.9080</td>\n",
              "      <td id=\"T_1b475_row9_col4\" class=\"data row9 col4\" >0.9088</td>\n",
              "      <td id=\"T_1b475_row9_col5\" class=\"data row9 col5\" >0.8174</td>\n",
              "      <td id=\"T_1b475_row9_col6\" class=\"data row9 col6\" >0.8174</td>\n",
              "    </tr>\n",
              "    <tr>\n",
              "      <th id=\"T_1b475_level0_row10\" class=\"row_heading level0 row10\" >Mean</th>\n",
              "      <td id=\"T_1b475_row10_col0\" class=\"data row10 col0\" >0.9044</td>\n",
              "      <td id=\"T_1b475_row10_col1\" class=\"data row10 col1\" >0.9760</td>\n",
              "      <td id=\"T_1b475_row10_col2\" class=\"data row10 col2\" >0.9139</td>\n",
              "      <td id=\"T_1b475_row10_col3\" class=\"data row10 col3\" >0.8973</td>\n",
              "      <td id=\"T_1b475_row10_col4\" class=\"data row10 col4\" >0.9055</td>\n",
              "      <td id=\"T_1b475_row10_col5\" class=\"data row10 col5\" >0.8089</td>\n",
              "      <td id=\"T_1b475_row10_col6\" class=\"data row10 col6\" >0.8092</td>\n",
              "    </tr>\n",
              "    <tr>\n",
              "      <th id=\"T_1b475_level0_row11\" class=\"row_heading level0 row11\" >Std</th>\n",
              "      <td id=\"T_1b475_row11_col0\" class=\"data row11 col0\" >0.0087</td>\n",
              "      <td id=\"T_1b475_row11_col1\" class=\"data row11 col1\" >0.0034</td>\n",
              "      <td id=\"T_1b475_row11_col2\" class=\"data row11 col2\" >0.0101</td>\n",
              "      <td id=\"T_1b475_row11_col3\" class=\"data row11 col3\" >0.0146</td>\n",
              "      <td id=\"T_1b475_row11_col4\" class=\"data row11 col4\" >0.0082</td>\n",
              "      <td id=\"T_1b475_row11_col5\" class=\"data row11 col5\" >0.0174</td>\n",
              "      <td id=\"T_1b475_row11_col6\" class=\"data row11 col6\" >0.0171</td>\n",
              "    </tr>\n",
              "  </tbody>\n",
              "</table>\n"
            ]
          },
          "metadata": {}
        },
        {
          "output_type": "display_data",
          "data": {
            "text/plain": [
              "Processing:   0%|          | 0/7 [00:00<?, ?it/s]"
            ],
            "application/vnd.jupyter.widget-view+json": {
              "version_major": 2,
              "version_minor": 0,
              "model_id": "93f46ee31c764f299873f40580acab6e"
            }
          },
          "metadata": {
            "application/vnd.jupyter.widget-view+json": {
              "colab": {
                "custom_widget_manager": {
                  "url": "https://ssl.gstatic.com/colaboratory-static/widgets/colab-cdn-widget-manager/2b70e893a8ba7c0f/manager.min.js"
                }
              }
            }
          }
        },
        {
          "output_type": "stream",
          "name": "stdout",
          "text": [
            "Fitting 10 folds for each of 10 candidates, totalling 100 fits\n"
          ]
        },
        {
          "output_type": "display_data",
          "data": {
            "text/plain": [
              "<IPython.core.display.HTML object>"
            ],
            "text/html": []
          },
          "metadata": {}
        },
        {
          "output_type": "stream",
          "name": "stdout",
          "text": [
            "Original model was better than the tuned model, hence it will be returned. NOTE: The display metrics are for the tuned model (not the original one).\n"
          ]
        }
      ]
    },
    {
      "cell_type": "code",
      "source": [
        "print(tuned_model)"
      ],
      "metadata": {
        "id": "3WoQrKbfmXnQ",
        "colab": {
          "base_uri": "https://localhost:8080/"
        },
        "outputId": "e18ec54a-3c08-46bd-d0f0-36ef6824d55b"
      },
      "execution_count": 79,
      "outputs": [
        {
          "output_type": "stream",
          "name": "stdout",
          "text": [
            "GradientBoostingClassifier(ccp_alpha=0.0, criterion='friedman_mse', init=None,\n",
            "                           learning_rate=0.1, loss='log_loss', max_depth=3,\n",
            "                           max_features=None, max_leaf_nodes=None,\n",
            "                           min_impurity_decrease=0.0, min_samples_leaf=1,\n",
            "                           min_samples_split=2, min_weight_fraction_leaf=0.0,\n",
            "                           n_estimators=100, n_iter_no_change=None,\n",
            "                           random_state=0, subsample=1.0, tol=0.0001,\n",
            "                           validation_fraction=0.1, verbose=0,\n",
            "                           warm_start=False)\n"
          ]
        }
      ]
    },
    {
      "cell_type": "markdown",
      "source": [
        "#### Como o modelo original(não tunado) obteve um resultado melhor, a saida \"**print(tuned_model)**\" devolveu novamente os parametros do modelo original treinado em \"**print(best_model)**\""
      ],
      "metadata": {
        "id": "81iHeLTXoHDp"
      }
    },
    {
      "cell_type": "code",
      "source": [
        "plot_model(best_model, plot = 'auc')"
      ],
      "metadata": {
        "colab": {
          "base_uri": "https://localhost:8080/",
          "height": 524
        },
        "id": "IHZo9NIPw9BA",
        "outputId": "9e888313-6bb9-4821-b617-31ee988c7dad"
      },
      "execution_count": 65,
      "outputs": [
        {
          "output_type": "display_data",
          "data": {
            "text/plain": [
              "<IPython.core.display.HTML object>"
            ],
            "text/html": []
          },
          "metadata": {}
        },
        {
          "output_type": "display_data",
          "data": {
            "text/plain": [
              "<Figure size 800x550 with 1 Axes>"
            ],
            "image/png": "[encoded data removed]"
          },
          "metadata": {}
        }
      ]
    },
    {
      "cell_type": "code",
      "source": [
        "plot_model(best_model, plot = 'pr')"
      ],
      "metadata": {
        "colab": {
          "base_uri": "https://localhost:8080/",
          "height": 524
        },
        "id": "29j8fBg6xEeP",
        "outputId": "b2ea94e3-0848-468f-cdbe-69ae39444173"
      },
      "execution_count": 66,
      "outputs": [
        {
          "output_type": "display_data",
          "data": {
            "text/plain": [
              "<IPython.core.display.HTML object>"
            ],
            "text/html": []
          },
          "metadata": {}
        },
        {
          "output_type": "display_data",
          "data": {
            "text/plain": [
              "<Figure size 800x550 with 1 Axes>"
            ],
            "image/png": "[encoded data removed]"
          },
          "metadata": {}
        }
      ]
    },
    {
      "cell_type": "code",
      "source": [
        "plot_model(best_model, plot = 'feature')"
      ],
      "metadata": {
        "colab": {
          "base_uri": "https://localhost:8080/",
          "height": 485
        },
        "id": "LQP9_wxHxKxf",
        "outputId": "77368d00-de3b-44d4-8ecd-42e89d9fc305"
      },
      "execution_count": 67,
      "outputs": [
        {
          "output_type": "display_data",
          "data": {
            "text/plain": [
              "<IPython.core.display.HTML object>"
            ],
            "text/html": []
          },
          "metadata": {}
        },
        {
          "output_type": "display_data",
          "data": {
            "text/plain": [
              "<Figure size 800x500 with 1 Axes>"
            ],
            "image/png": "[encoded data removed]"
          },
          "metadata": {}
        }
      ]
    },
    {
      "cell_type": "code",
      "source": [
        "plot_model(best_model, plot = 'confusion_matrix')"
      ],
      "metadata": {
        "colab": {
          "base_uri": "https://localhost:8080/",
          "height": 551
        },
        "id": "ejIACTrHxKsa",
        "outputId": "f5abe719-630a-4dc4-b72c-316cb5999cad"
      },
      "execution_count": 68,
      "outputs": [
        {
          "output_type": "display_data",
          "data": {
            "text/plain": [
              "<IPython.core.display.HTML object>"
            ],
            "text/html": []
          },
          "metadata": {}
        },
        {
          "output_type": "display_data",
          "data": {
            "text/plain": [
              "<Figure size 800x550 with 1 Axes>"
            ],
            "image/png": "[encoded data removed]"
          },
          "metadata": {}
        }
      ]
    },
    {
      "cell_type": "code",
      "source": [
        "model = predict_model(tuned_model);"
      ],
      "metadata": {
        "colab": {
          "base_uri": "https://localhost:8080/",
          "height": 81
        },
        "id": "AOaJC0YDxiZg",
        "outputId": "da09596d-843a-48ae-99ca-d3495083a247"
      },
      "execution_count": 98,
      "outputs": [
        {
          "output_type": "display_data",
          "data": {
            "text/plain": [
              "<pandas.io.formats.style.Styler at 0x7e4c53535bd0>"
            ],
            "text/html": [
              "<style type=\"text/css\">\n",
              "</style>\n",
              "<table id=\"T_1e1ae\" class=\"dataframe\">\n",
              "  <thead>\n",
              "    <tr>\n",
              "      <th class=\"blank level0\" >&nbsp;</th>\n",
              "      <th id=\"T_1e1ae_level0_col0\" class=\"col_heading level0 col0\" >Model</th>\n",
              "      <th id=\"T_1e1ae_level0_col1\" class=\"col_heading level0 col1\" >Accuracy</th>\n",
              "      <th id=\"T_1e1ae_level0_col2\" class=\"col_heading level0 col2\" >AUC</th>\n",
              "      <th id=\"T_1e1ae_level0_col3\" class=\"col_heading level0 col3\" >Recall</th>\n",
              "      <th id=\"T_1e1ae_level0_col4\" class=\"col_heading level0 col4\" >Prec.</th>\n",
              "      <th id=\"T_1e1ae_level0_col5\" class=\"col_heading level0 col5\" >F1</th>\n",
              "      <th id=\"T_1e1ae_level0_col6\" class=\"col_heading level0 col6\" >Kappa</th>\n",
              "      <th id=\"T_1e1ae_level0_col7\" class=\"col_heading level0 col7\" >MCC</th>\n",
              "    </tr>\n",
              "  </thead>\n",
              "  <tbody>\n",
              "    <tr>\n",
              "      <th id=\"T_1e1ae_level0_row0\" class=\"row_heading level0 row0\" >0</th>\n",
              "      <td id=\"T_1e1ae_row0_col0\" class=\"data row0 col0\" >Gradient Boosting Classifier</td>\n",
              "      <td id=\"T_1e1ae_row0_col1\" class=\"data row0 col1\" >0.9123</td>\n",
              "      <td id=\"T_1e1ae_row0_col2\" class=\"data row0 col2\" >0.9789</td>\n",
              "      <td id=\"T_1e1ae_row0_col3\" class=\"data row0 col3\" >0.9273</td>\n",
              "      <td id=\"T_1e1ae_row0_col4\" class=\"data row0 col4\" >0.9005</td>\n",
              "      <td id=\"T_1e1ae_row0_col5\" class=\"data row0 col5\" >0.9137</td>\n",
              "      <td id=\"T_1e1ae_row0_col6\" class=\"data row0 col6\" >0.8246</td>\n",
              "      <td id=\"T_1e1ae_row0_col7\" class=\"data row0 col7\" >0.8250</td>\n",
              "    </tr>\n",
              "  </tbody>\n",
              "</table>\n"
            ]
          },
          "metadata": {}
        }
      ]
    },
    {
      "cell_type": "markdown",
      "source": [
        "#### O modelo generalizou bem na base de validação interna do Pycaret, mantendo ou até melhorando as métricas. Agora, vou testar o modelo final na base de teste separada antes de iniciar o processo de ajuste no Pycaret."
      ],
      "metadata": {
        "id": "0z-rLUMeytf3"
      }
    },
    {
      "cell_type": "markdown",
      "source": [
        "### Criando o modelo final e avaliando as metricas"
      ],
      "metadata": {
        "id": "Iq2gTy8Boc6A"
      }
    },
    {
      "cell_type": "code",
      "source": [
        "from sklearn.ensemble import GradientBoostingClassifier\n",
        "from sklearn.metrics import ConfusionMatrixDisplay\n",
        "from sklearn.metrics import classification_report\n",
        "from sklearn.metrics import roc_auc_score , roc_curve , accuracy_score"
      ],
      "metadata": {
        "id": "2TY9vXOziUg3"
      },
      "execution_count": 59,
      "outputs": []
    },
    {
      "cell_type": "code",
      "source": [
        "X_teste = df_teste.drop(columns='diabete')\n",
        "y_teste = df_teste['diabete']\n",
        "\n",
        "gbm_model = GradientBoostingClassifier(ccp_alpha=0.0, criterion='friedman_mse', init=None,\n",
        "                           learning_rate=0.1, loss='log_loss', max_depth=3,\n",
        "                           max_features=None, max_leaf_nodes=None,\n",
        "                           min_impurity_decrease=0.0, min_samples_leaf=1,\n",
        "                           min_samples_split=2, min_weight_fraction_leaf=0.0,\n",
        "                           n_estimators=100, n_iter_no_change=None,\n",
        "                           random_state=0, subsample=1.0, tol=0.0001,\n",
        "                           validation_fraction=0.1, verbose=0,\n",
        "                           warm_start=False)\n",
        "gbm_model.fit(X_teste, df_teste['diabete'])\n",
        "\n",
        "ConfusionMatrixDisplay.from_estimator(gbm_model, X_teste, y_teste)\n",
        "print(classification_report(y_teste, gbm_model.predict(X_teste)))\n",
        "print(\"AUC: {:.4f}\\n\".format(roc_auc_score(y_teste, gbm_model.predict(X_teste))))"
      ],
      "metadata": {
        "id": "VFQDCX_KiUen",
        "colab": {
          "base_uri": "https://localhost:8080/",
          "height": 694
        },
        "outputId": "966f6120-7843-4545-9662-491eef7a9cec"
      },
      "execution_count": 96,
      "outputs": [
        {
          "output_type": "stream",
          "name": "stdout",
          "text": [
            "              precision    recall  f1-score   support\n",
            "\n",
            "           0       0.97      0.96      0.96       432\n",
            "           1       0.96      0.97      0.96       416\n",
            "\n",
            "    accuracy                           0.96       848\n",
            "   macro avg       0.96      0.96      0.96       848\n",
            "weighted avg       0.96      0.96      0.96       848\n",
            "\n",
            "AUC: 0.9635\n",
            "\n"
          ]
        },
        {
          "output_type": "display_data",
          "data": {
            "text/plain": [
              "<Figure size 800x550 with 2 Axes>"
            ],
            "image/png": "[encoded data removed]"
          },
          "metadata": {}
        }
      ]
    },
    {
      "cell_type": "code",
      "source": [
        "import sklearn.metrics as metrics\n",
        "# calculate the fpr and tpr for all thresholds of the classification\n",
        "probs = gbm_model.predict_proba(X_teste)\n",
        "preds = probs[:,1]\n",
        "fpr, tpr, threshold = metrics.roc_curve(y_teste, preds)\n",
        "roc_auc = metrics.auc(fpr, tpr)\n",
        "\n",
        "# method I: plt\n",
        "import matplotlib.pyplot as plt\n",
        "plt.title('Curva ROC')\n",
        "plt.plot(fpr, tpr, 'b', label = 'AUC = %0.2f' % roc_auc)\n",
        "plt.legend(loc = 'lower right')\n",
        "plt.plot([0, 1], [0, 1],'r--')\n",
        "plt.xlim([0, 1])\n",
        "plt.ylim([0, 1])\n",
        "plt.ylabel('Taxa de Verdadeiros Positivos')\n",
        "plt.xlabel('Taxa de Falsos Positivos')\n",
        "plt.show()"
      ],
      "metadata": {
        "id": "02v0kShmiUcJ",
        "colab": {
          "base_uri": "https://localhost:8080/",
          "height": 524
        },
        "outputId": "e8c11d4d-3e36-4d42-a56e-6fdf1f2f6d5e"
      },
      "execution_count": 97,
      "outputs": [
        {
          "output_type": "display_data",
          "data": {
            "text/plain": [
              "<Figure size 800x550 with 1 Axes>"
            ],
            "image/png": "[encoded data removed]"
          },
          "metadata": {}
        }
      ]
    },
    {
      "cell_type": "code",
      "source": [
        "from sklearn.metrics import precision_recall_curve, average_precision_score\n",
        "\n",
        "y_scores = gbm_model.predict_proba(X_teste)[:, 1]\n",
        "\n",
        "precision, recall, thresholds = precision_recall_curve(y_teste, y_scores)\n",
        "average_precision = average_precision_score(y_teste, y_scores)\n",
        "\n",
        "plt.plot(recall, precision, label=f'Average Precision = {average_precision:.2f}', color='b')\n",
        "plt.xlabel('Recall')\n",
        "plt.ylabel('Precision')\n",
        "plt.title('Precision-Recall Curve')\n",
        "plt.legend(loc='best')\n",
        "plt.grid()\n",
        "plt.show()"
      ],
      "metadata": {
        "colab": {
          "base_uri": "https://localhost:8080/",
          "height": 524
        },
        "id": "8Y9lZ96m-TYU",
        "outputId": "3c5797de-1184-4ae8-8f61-1eeb85b024ee"
      },
      "execution_count": 102,
      "outputs": [
        {
          "output_type": "display_data",
          "data": {
            "text/plain": [
              "<Figure size 800x550 with 1 Axes>"
            ],
            "image/png": "[encoded data removed]"
          },
          "metadata": {}
        }
      ]
    },
    {
      "cell_type": "code",
      "source": [
        "importances = gbm_model.feature_importances_\n",
        "feature_names = [f'feature_{i}' for i in range(X_teste.shape[1])]  # ou use os nomes reais das colunas\n",
        "\n",
        "# Organizando as importâncias em um DataFrame\n",
        "feature_importances = pd.DataFrame({'feature': X_teste.columns, 'importance': importances})\n",
        "feature_importances = feature_importances.sort_values(by='importance', ascending=False)\n",
        "\n",
        "# Plotando as importâncias\n",
        "plt.figure(figsize=(10, 6))\n",
        "plt.barh(feature_importances['feature'], feature_importances['importance'], color='skyblue')\n",
        "plt.xlabel('Importância')\n",
        "plt.title('Importância das Variáveis - Gradient Boosting')\n",
        "plt.gca().invert_yaxis()  # inverte para mostrar a variável mais importante no topo\n",
        "plt.show()"
      ],
      "metadata": {
        "colab": {
          "base_uri": "https://localhost:8080/",
          "height": 562
        },
        "id": "pxTp6d0P_s1b",
        "outputId": "435ad803-8cde-4cf8-bb30-67d189f7584a"
      },
      "execution_count": 107,
      "outputs": [
        {
          "output_type": "display_data",
          "data": {
            "text/plain": [
              "<Figure size 1000x600 with 1 Axes>"
            ],
            "image/png": "[encoded data removed]"
          },
          "metadata": {}
        }
      ]
    },
    {
      "cell_type": "markdown",
      "source": [
        "Percebemos que o modelo está generalizando bem os dados, apresentando um desempenho muito bom nos dados de treino utilizados no Pycaret para gerar o melhor modelo inicial. Além disso, observamos uma melhora nos resultados com os novos dados utilizados para a validação do modelo. Todas as métricas de avaliação estão apresentando valores significativos."
      ],
      "metadata": {
        "id": "GQuyUUMuuf9q"
      }
    },
    {
      "cell_type": "markdown",
      "source": [
        "## Considerações finais sobre o modelo"
      ],
      "metadata": {
        "id": "iUX1qnllUem_"
      }
    },
    {
      "cell_type": "markdown",
      "source": [
        "Nesta análise, desenvolvemos um modelo de machine learning para prever o risco de diabetes com base em dados clínicos. Os resultados demonstraram que o modelo GradienteBoostingMachine (GBM) apresentou a melhor performance, alcançando uma PRECISÃO de 96% nas previsões, com uma ACURACIA de 96% e um RECALL de 96%.\n",
        "\n",
        "Esses resultados ressaltam a importância de fatores como idade, índice de massa corporal (IMC) e níveis de glicose na determinação do risco de desenvolvimento de diabetes.\n",
        "\n",
        "A interpretação dos resultados indica que a identificação precoce dos indivíduos em risco é fundamental para intervenções preventivas. A utilização desse modelo pode ajudar profissionais de saúde a personalizar estratégias de tratamento e promoção de saúde, abordando não apenas os fatores de risco, mas também implementando programas de educação e conscientização.\n",
        "\n",
        "Entretanto, é importante reconhecer as limitações do estudo. O modelo foi treinado em um conjunto de dados que pode não refletir todas as populações e contextos, o que pode afetar sua generalização. Além disso, variáveis não consideradas, como hábitos de vida e fatores socioeconômicos, podem influenciar o risco de diabetes e devem ser exploradas para um estudo real.\n",
        "\n",
        "Em suma, o modelo desenvolvido não apenas contribui para a compreensão dos determinantes do diabetes, mas também oferece uma ferramenta prática para a identificação de indivíduos em risco. A implementação de tal modelo em ambientes clínicos pode potencialmente reduzir a incidência de diabetes e melhorar a qualidade de vida dos pacientes, sublinhando a importância da análise de dados na saúde pública."
      ],
      "metadata": {
        "id": "la9U-BXVUoZ_"
      }
    }
  ]
}